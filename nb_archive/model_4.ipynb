{
 "cells": [
  {
   "cell_type": "code",
   "execution_count": 38,
   "metadata": {},
   "outputs": [],
   "source": [
    "import numpy as np\n",
    "import pandas as pd\n",
    "from xgboost import XGBRFRegressor, XGBRegressor\n",
    "from sklearn.pipeline import Pipeline\n",
    "from sklearn.preprocessing import StandardScaler, OneHotEncoder\n",
    "from sklearn_pandas import DataFrameMapper\n",
    "from sklearn.compose import ColumnTransformer\n",
    "from sklearn.model_selection import train_test_split\n",
    "from sklearn.linear_model import LinearRegression\n",
    "from sklearn.ensemble import GradientBoostingRegressor, RandomForestRegressor\n",
    "from sklearn.neighbors import KNeighborsRegressor\n",
    "from sklearn.preprocessing import FunctionTransformer\n",
    "from sklearn.metrics import mean_absolute_error, accuracy_score, mean_squared_error"
   ]
  },
  {
   "cell_type": "code",
   "execution_count": 47,
   "metadata": {},
   "outputs": [
    {
     "data": {
      "text/html": [
       "<div>\n",
       "<style scoped>\n",
       "    .dataframe tbody tr th:only-of-type {\n",
       "        vertical-align: middle;\n",
       "    }\n",
       "\n",
       "    .dataframe tbody tr th {\n",
       "        vertical-align: top;\n",
       "    }\n",
       "\n",
       "    .dataframe thead th {\n",
       "        text-align: right;\n",
       "    }\n",
       "</style>\n",
       "<table border=\"1\" class=\"dataframe\">\n",
       "  <thead>\n",
       "    <tr style=\"text-align: right;\">\n",
       "      <th></th>\n",
       "      <th>Date/Time (PST)</th>\n",
       "      <th>Battery Voltage (v)</th>\n",
       "      <th>Temperature (deg F)</th>\n",
       "      <th>Wind Speed Minimum (mph)</th>\n",
       "      <th>Wind Speed Average (mph)</th>\n",
       "      <th>Wind Speed Maximum (mph)</th>\n",
       "      <th>Wind Direction (deg.)</th>\n",
       "      <th>date</th>\n",
       "      <th>24 Hour Snow (in)</th>\n",
       "      <th>Total Snow Depth (in)</th>\n",
       "      <th>Relative Humidity (%)</th>\n",
       "      <th>area</th>\n",
       "      <th>danger_above_treeline</th>\n",
       "      <th>danger_below_treeline</th>\n",
       "      <th>danger_near_treeline</th>\n",
       "      <th>date_tomorrow</th>\n",
       "      <th>month</th>\n",
       "    </tr>\n",
       "  </thead>\n",
       "  <tbody>\n",
       "    <tr>\n",
       "      <th>4</th>\n",
       "      <td>2019-04-30 19:00:00</td>\n",
       "      <td>13.58</td>\n",
       "      <td>37.24</td>\n",
       "      <td>0.088</td>\n",
       "      <td>9.15</td>\n",
       "      <td>20.58</td>\n",
       "      <td>283.8</td>\n",
       "      <td>2019-04-30</td>\n",
       "      <td>58.71</td>\n",
       "      <td>73.74</td>\n",
       "      <td>44.20</td>\n",
       "      <td>None</td>\n",
       "      <td>NaN</td>\n",
       "      <td>NaN</td>\n",
       "      <td>NaN</td>\n",
       "      <td>None</td>\n",
       "      <td>4</td>\n",
       "    </tr>\n",
       "    <tr>\n",
       "      <th>3</th>\n",
       "      <td>2019-04-30 20:00:00</td>\n",
       "      <td>12.93</td>\n",
       "      <td>36.32</td>\n",
       "      <td>5.283</td>\n",
       "      <td>12.32</td>\n",
       "      <td>16.57</td>\n",
       "      <td>276.0</td>\n",
       "      <td>2019-04-30</td>\n",
       "      <td>57.70</td>\n",
       "      <td>73.84</td>\n",
       "      <td>47.01</td>\n",
       "      <td>None</td>\n",
       "      <td>NaN</td>\n",
       "      <td>NaN</td>\n",
       "      <td>NaN</td>\n",
       "      <td>None</td>\n",
       "      <td>4</td>\n",
       "    </tr>\n",
       "    <tr>\n",
       "      <th>2</th>\n",
       "      <td>2019-04-30 21:00:00</td>\n",
       "      <td>12.85</td>\n",
       "      <td>35.28</td>\n",
       "      <td>8.180</td>\n",
       "      <td>12.70</td>\n",
       "      <td>17.65</td>\n",
       "      <td>274.7</td>\n",
       "      <td>2019-04-30</td>\n",
       "      <td>57.03</td>\n",
       "      <td>73.71</td>\n",
       "      <td>44.28</td>\n",
       "      <td>None</td>\n",
       "      <td>NaN</td>\n",
       "      <td>NaN</td>\n",
       "      <td>NaN</td>\n",
       "      <td>None</td>\n",
       "      <td>4</td>\n",
       "    </tr>\n",
       "    <tr>\n",
       "      <th>1</th>\n",
       "      <td>2019-04-30 22:00:00</td>\n",
       "      <td>12.82</td>\n",
       "      <td>34.52</td>\n",
       "      <td>4.910</td>\n",
       "      <td>11.97</td>\n",
       "      <td>16.22</td>\n",
       "      <td>275.2</td>\n",
       "      <td>2019-04-30</td>\n",
       "      <td>56.09</td>\n",
       "      <td>73.82</td>\n",
       "      <td>44.66</td>\n",
       "      <td>None</td>\n",
       "      <td>NaN</td>\n",
       "      <td>NaN</td>\n",
       "      <td>NaN</td>\n",
       "      <td>None</td>\n",
       "      <td>4</td>\n",
       "    </tr>\n",
       "    <tr>\n",
       "      <th>0</th>\n",
       "      <td>2019-04-30 23:00:00</td>\n",
       "      <td>12.80</td>\n",
       "      <td>33.07</td>\n",
       "      <td>5.962</td>\n",
       "      <td>9.23</td>\n",
       "      <td>13.33</td>\n",
       "      <td>267.0</td>\n",
       "      <td>2019-04-30</td>\n",
       "      <td>54.89</td>\n",
       "      <td>74.06</td>\n",
       "      <td>52.35</td>\n",
       "      <td>None</td>\n",
       "      <td>NaN</td>\n",
       "      <td>NaN</td>\n",
       "      <td>NaN</td>\n",
       "      <td>None</td>\n",
       "      <td>4</td>\n",
       "    </tr>\n",
       "  </tbody>\n",
       "</table>\n",
       "</div>"
      ],
      "text/plain": [
       "       Date/Time (PST)  Battery Voltage (v)  Temperature (deg F)  \\\n",
       "4  2019-04-30 19:00:00                13.58                37.24   \n",
       "3  2019-04-30 20:00:00                12.93                36.32   \n",
       "2  2019-04-30 21:00:00                12.85                35.28   \n",
       "1  2019-04-30 22:00:00                12.82                34.52   \n",
       "0  2019-04-30 23:00:00                12.80                33.07   \n",
       "\n",
       "   Wind Speed Minimum (mph)  Wind Speed Average (mph)  \\\n",
       "4                     0.088                      9.15   \n",
       "3                     5.283                     12.32   \n",
       "2                     8.180                     12.70   \n",
       "1                     4.910                     11.97   \n",
       "0                     5.962                      9.23   \n",
       "\n",
       "   Wind Speed Maximum (mph)  Wind Direction (deg.)       date  \\\n",
       "4                     20.58                  283.8 2019-04-30   \n",
       "3                     16.57                  276.0 2019-04-30   \n",
       "2                     17.65                  274.7 2019-04-30   \n",
       "1                     16.22                  275.2 2019-04-30   \n",
       "0                     13.33                  267.0 2019-04-30   \n",
       "\n",
       "   24 Hour Snow (in)  Total Snow Depth (in)  Relative Humidity (%)  area  \\\n",
       "4              58.71                  73.74                  44.20  None   \n",
       "3              57.70                  73.84                  47.01  None   \n",
       "2              57.03                  73.71                  44.28  None   \n",
       "1              56.09                  73.82                  44.66  None   \n",
       "0              54.89                  74.06                  52.35  None   \n",
       "\n",
       "   danger_above_treeline  danger_below_treeline  danger_near_treeline  \\\n",
       "4                    NaN                    NaN                   NaN   \n",
       "3                    NaN                    NaN                   NaN   \n",
       "2                    NaN                    NaN                   NaN   \n",
       "1                    NaN                    NaN                   NaN   \n",
       "0                    NaN                    NaN                   NaN   \n",
       "\n",
       "  date_tomorrow  month  \n",
       "4          None      4  \n",
       "3          None      4  \n",
       "2          None      4  \n",
       "1          None      4  \n",
       "0          None      4  "
      ]
     },
     "execution_count": 47,
     "metadata": {},
     "output_type": "execute_result"
    }
   ],
   "source": [
    "df = pd.read_json('stevens_data_master.json')\n",
    "df = df.sort_values(by='Date/Time (PST)',ascending=True)\n",
    "df.tail()"
   ]
  },
  {
   "cell_type": "code",
   "execution_count": 48,
   "metadata": {},
   "outputs": [
    {
     "name": "stdout",
     "output_type": "stream",
     "text": [
      "<class 'pandas.core.frame.DataFrame'>\n",
      "Int64Index: 21303 entries, 21302 to 0\n",
      "Data columns (total 17 columns):\n",
      "Date/Time (PST)             21303 non-null object\n",
      "Battery Voltage (v)         21296 non-null float64\n",
      "Temperature (deg F)         21295 non-null float64\n",
      "Wind Speed Minimum (mph)    21295 non-null float64\n",
      "Wind Speed Average (mph)    21295 non-null float64\n",
      "Wind Speed Maximum (mph)    21295 non-null float64\n",
      "Wind Direction (deg.)       19429 non-null float64\n",
      "date                        21303 non-null datetime64[ns]\n",
      "24 Hour Snow (in)           17685 non-null float64\n",
      "Total Snow Depth (in)       17685 non-null float64\n",
      "Relative Humidity (%)       178 non-null float64\n",
      "area                        19682 non-null object\n",
      "danger_above_treeline       19346 non-null float64\n",
      "danger_below_treeline       19346 non-null float64\n",
      "danger_near_treeline        19346 non-null float64\n",
      "date_tomorrow               19682 non-null object\n",
      "month                       21303 non-null int64\n",
      "dtypes: datetime64[ns](1), float64(12), int64(1), object(3)\n",
      "memory usage: 2.9+ MB\n"
     ]
    }
   ],
   "source": [
    "df.info()"
   ]
  },
  {
   "cell_type": "markdown",
   "metadata": {},
   "source": [
    "### It appears that the relative humidity column is nearly empty (only 178 columns, bummer)"
   ]
  },
  {
   "cell_type": "code",
   "execution_count": 49,
   "metadata": {},
   "outputs": [],
   "source": [
    "#convert datetime back into datetime format from string\n",
    "df['Date/Time (PST)'] = pd.to_datetime(df['Date/Time (PST)'])"
   ]
  },
  {
   "cell_type": "code",
   "execution_count": 50,
   "metadata": {},
   "outputs": [
    {
     "data": {
      "text/html": [
       "<div>\n",
       "<style scoped>\n",
       "    .dataframe tbody tr th:only-of-type {\n",
       "        vertical-align: middle;\n",
       "    }\n",
       "\n",
       "    .dataframe tbody tr th {\n",
       "        vertical-align: top;\n",
       "    }\n",
       "\n",
       "    .dataframe thead th {\n",
       "        text-align: right;\n",
       "    }\n",
       "</style>\n",
       "<table border=\"1\" class=\"dataframe\">\n",
       "  <thead>\n",
       "    <tr style=\"text-align: right;\">\n",
       "      <th></th>\n",
       "      <th>Date/Time (PST)</th>\n",
       "      <th>Battery Voltage (v)</th>\n",
       "      <th>Temperature (deg F)</th>\n",
       "      <th>Wind Speed Minimum (mph)</th>\n",
       "      <th>Wind Speed Average (mph)</th>\n",
       "      <th>Wind Speed Maximum (mph)</th>\n",
       "      <th>Wind Direction (deg.)</th>\n",
       "      <th>date</th>\n",
       "      <th>24 Hour Snow (in)</th>\n",
       "      <th>Total Snow Depth (in)</th>\n",
       "      <th>Relative Humidity (%)</th>\n",
       "      <th>area</th>\n",
       "      <th>danger_above_treeline</th>\n",
       "      <th>danger_below_treeline</th>\n",
       "      <th>danger_near_treeline</th>\n",
       "      <th>date_tomorrow</th>\n",
       "      <th>month</th>\n",
       "    </tr>\n",
       "  </thead>\n",
       "  <tbody>\n",
       "    <tr>\n",
       "      <th>21302</th>\n",
       "      <td>2014-12-17 13:00:00</td>\n",
       "      <td>0.0</td>\n",
       "      <td>12.89</td>\n",
       "      <td>25.3</td>\n",
       "      <td>0.008</td>\n",
       "      <td>0.81</td>\n",
       "      <td>125.4</td>\n",
       "      <td>2014-12-17</td>\n",
       "      <td>NaN</td>\n",
       "      <td>NaN</td>\n",
       "      <td>NaN</td>\n",
       "      <td>None</td>\n",
       "      <td>NaN</td>\n",
       "      <td>NaN</td>\n",
       "      <td>NaN</td>\n",
       "      <td>None</td>\n",
       "      <td>12</td>\n",
       "    </tr>\n",
       "  </tbody>\n",
       "</table>\n",
       "</div>"
      ],
      "text/plain": [
       "          Date/Time (PST)  Battery Voltage (v)  Temperature (deg F)  \\\n",
       "21302 2014-12-17 13:00:00                  0.0                12.89   \n",
       "\n",
       "       Wind Speed Minimum (mph)  Wind Speed Average (mph)  \\\n",
       "21302                      25.3                     0.008   \n",
       "\n",
       "       Wind Speed Maximum (mph)  Wind Direction (deg.)       date  \\\n",
       "21302                      0.81                  125.4 2014-12-17   \n",
       "\n",
       "       24 Hour Snow (in)  Total Snow Depth (in)  Relative Humidity (%)  area  \\\n",
       "21302                NaN                    NaN                    NaN  None   \n",
       "\n",
       "       danger_above_treeline  danger_below_treeline  danger_near_treeline  \\\n",
       "21302                    NaN                    NaN                   NaN   \n",
       "\n",
       "      date_tomorrow  month  \n",
       "21302          None     12  "
      ]
     },
     "execution_count": 50,
     "metadata": {},
     "output_type": "execute_result"
    }
   ],
   "source": [
    "df.head(1)"
   ]
  },
  {
   "cell_type": "code",
   "execution_count": 51,
   "metadata": {},
   "outputs": [
    {
     "name": "stdout",
     "output_type": "stream",
     "text": [
      "<class 'pandas.core.frame.DataFrame'>\n",
      "Int64Index: 21303 entries, 21302 to 0\n",
      "Data columns (total 17 columns):\n",
      "Date/Time (PST)             21303 non-null datetime64[ns]\n",
      "Battery Voltage (v)         21296 non-null float64\n",
      "Temperature (deg F)         21295 non-null float64\n",
      "Wind Speed Minimum (mph)    21295 non-null float64\n",
      "Wind Speed Average (mph)    21295 non-null float64\n",
      "Wind Speed Maximum (mph)    21295 non-null float64\n",
      "Wind Direction (deg.)       19429 non-null float64\n",
      "date                        21303 non-null datetime64[ns]\n",
      "24 Hour Snow (in)           17685 non-null float64\n",
      "Total Snow Depth (in)       17685 non-null float64\n",
      "Relative Humidity (%)       178 non-null float64\n",
      "area                        19682 non-null object\n",
      "danger_above_treeline       19346 non-null float64\n",
      "danger_below_treeline       19346 non-null float64\n",
      "danger_near_treeline        19346 non-null float64\n",
      "date_tomorrow               19682 non-null object\n",
      "month                       21303 non-null int64\n",
      "dtypes: datetime64[ns](2), float64(12), int64(1), object(2)\n",
      "memory usage: 2.9+ MB\n"
     ]
    }
   ],
   "source": [
    "df.info()"
   ]
  },
  {
   "cell_type": "code",
   "execution_count": 52,
   "metadata": {},
   "outputs": [],
   "source": [
    "df = df.drop('Relative Humidity (%)',axis=1)"
   ]
  },
  {
   "cell_type": "code",
   "execution_count": 53,
   "metadata": {},
   "outputs": [
    {
     "name": "stdout",
     "output_type": "stream",
     "text": [
      "<class 'pandas.core.frame.DataFrame'>\n",
      "Int64Index: 21303 entries, 21302 to 0\n",
      "Data columns (total 16 columns):\n",
      "Date/Time (PST)             21303 non-null datetime64[ns]\n",
      "Battery Voltage (v)         21296 non-null float64\n",
      "Temperature (deg F)         21295 non-null float64\n",
      "Wind Speed Minimum (mph)    21295 non-null float64\n",
      "Wind Speed Average (mph)    21295 non-null float64\n",
      "Wind Speed Maximum (mph)    21295 non-null float64\n",
      "Wind Direction (deg.)       19429 non-null float64\n",
      "date                        21303 non-null datetime64[ns]\n",
      "24 Hour Snow (in)           17685 non-null float64\n",
      "Total Snow Depth (in)       17685 non-null float64\n",
      "area                        19682 non-null object\n",
      "danger_above_treeline       19346 non-null float64\n",
      "danger_below_treeline       19346 non-null float64\n",
      "danger_near_treeline        19346 non-null float64\n",
      "date_tomorrow               19682 non-null object\n",
      "month                       21303 non-null int64\n",
      "dtypes: datetime64[ns](2), float64(11), int64(1), object(2)\n",
      "memory usage: 2.8+ MB\n"
     ]
    }
   ],
   "source": [
    "df.info()"
   ]
  },
  {
   "cell_type": "code",
   "execution_count": 54,
   "metadata": {},
   "outputs": [
    {
     "data": {
      "text/html": [
       "<div>\n",
       "<style scoped>\n",
       "    .dataframe tbody tr th:only-of-type {\n",
       "        vertical-align: middle;\n",
       "    }\n",
       "\n",
       "    .dataframe tbody tr th {\n",
       "        vertical-align: top;\n",
       "    }\n",
       "\n",
       "    .dataframe thead th {\n",
       "        text-align: right;\n",
       "    }\n",
       "</style>\n",
       "<table border=\"1\" class=\"dataframe\">\n",
       "  <thead>\n",
       "    <tr style=\"text-align: right;\">\n",
       "      <th></th>\n",
       "      <th>Battery Voltage (v)</th>\n",
       "      <th>Temperature (deg F)</th>\n",
       "      <th>Wind Speed Minimum (mph)</th>\n",
       "      <th>Wind Speed Average (mph)</th>\n",
       "      <th>Wind Speed Maximum (mph)</th>\n",
       "      <th>Wind Direction (deg.)</th>\n",
       "      <th>24 Hour Snow (in)</th>\n",
       "      <th>Total Snow Depth (in)</th>\n",
       "      <th>danger_above_treeline</th>\n",
       "      <th>danger_below_treeline</th>\n",
       "      <th>danger_near_treeline</th>\n",
       "      <th>month</th>\n",
       "    </tr>\n",
       "  </thead>\n",
       "  <tbody>\n",
       "    <tr>\n",
       "      <th>count</th>\n",
       "      <td>21296.000000</td>\n",
       "      <td>21295.000000</td>\n",
       "      <td>21295.000000</td>\n",
       "      <td>21295.000000</td>\n",
       "      <td>21295.000000</td>\n",
       "      <td>19429.000000</td>\n",
       "      <td>17685.000000</td>\n",
       "      <td>17685.000000</td>\n",
       "      <td>19346.000000</td>\n",
       "      <td>19346.000000</td>\n",
       "      <td>19346.000000</td>\n",
       "      <td>21303.000000</td>\n",
       "    </tr>\n",
       "    <tr>\n",
       "      <th>mean</th>\n",
       "      <td>12.543848</td>\n",
       "      <td>26.028648</td>\n",
       "      <td>2.420495</td>\n",
       "      <td>6.437304</td>\n",
       "      <td>12.053108</td>\n",
       "      <td>179.496993</td>\n",
       "      <td>0.018083</td>\n",
       "      <td>91.418860</td>\n",
       "      <td>2.477618</td>\n",
       "      <td>1.954202</td>\n",
       "      <td>2.301458</td>\n",
       "      <td>4.368399</td>\n",
       "    </tr>\n",
       "    <tr>\n",
       "      <th>std</th>\n",
       "      <td>2.549749</td>\n",
       "      <td>78.319369</td>\n",
       "      <td>5.125817</td>\n",
       "      <td>6.052230</td>\n",
       "      <td>8.402773</td>\n",
       "      <td>99.822767</td>\n",
       "      <td>91.868543</td>\n",
       "      <td>29.605817</td>\n",
       "      <td>0.780573</td>\n",
       "      <td>0.775944</td>\n",
       "      <td>0.771484</td>\n",
       "      <td>3.969149</td>\n",
       "    </tr>\n",
       "    <tr>\n",
       "      <th>min</th>\n",
       "      <td>0.000000</td>\n",
       "      <td>-7999.000000</td>\n",
       "      <td>-7.743000</td>\n",
       "      <td>0.000000</td>\n",
       "      <td>0.000000</td>\n",
       "      <td>0.000000</td>\n",
       "      <td>-7999.000000</td>\n",
       "      <td>-162.700000</td>\n",
       "      <td>1.000000</td>\n",
       "      <td>1.000000</td>\n",
       "      <td>1.000000</td>\n",
       "      <td>1.000000</td>\n",
       "    </tr>\n",
       "    <tr>\n",
       "      <th>25%</th>\n",
       "      <td>12.610000</td>\n",
       "      <td>21.580000</td>\n",
       "      <td>0.000000</td>\n",
       "      <td>2.899000</td>\n",
       "      <td>7.212000</td>\n",
       "      <td>86.300000</td>\n",
       "      <td>0.283000</td>\n",
       "      <td>73.360000</td>\n",
       "      <td>2.000000</td>\n",
       "      <td>1.000000</td>\n",
       "      <td>2.000000</td>\n",
       "      <td>2.000000</td>\n",
       "    </tr>\n",
       "    <tr>\n",
       "      <th>50%</th>\n",
       "      <td>12.660000</td>\n",
       "      <td>26.780000</td>\n",
       "      <td>0.285000</td>\n",
       "      <td>4.654000</td>\n",
       "      <td>10.000000</td>\n",
       "      <td>241.600000</td>\n",
       "      <td>0.512000</td>\n",
       "      <td>91.600000</td>\n",
       "      <td>2.000000</td>\n",
       "      <td>2.000000</td>\n",
       "      <td>2.000000</td>\n",
       "      <td>3.000000</td>\n",
       "    </tr>\n",
       "    <tr>\n",
       "      <th>75%</th>\n",
       "      <td>12.740000</td>\n",
       "      <td>31.870000</td>\n",
       "      <td>2.877000</td>\n",
       "      <td>8.090000</td>\n",
       "      <td>14.250000</td>\n",
       "      <td>270.700000</td>\n",
       "      <td>2.425000</td>\n",
       "      <td>114.000000</td>\n",
       "      <td>3.000000</td>\n",
       "      <td>2.000000</td>\n",
       "      <td>3.000000</td>\n",
       "      <td>4.000000</td>\n",
       "    </tr>\n",
       "    <tr>\n",
       "      <th>max</th>\n",
       "      <td>45.980000</td>\n",
       "      <td>68.510000</td>\n",
       "      <td>53.250000</td>\n",
       "      <td>84.900000</td>\n",
       "      <td>71.790000</td>\n",
       "      <td>359.700000</td>\n",
       "      <td>166.300000</td>\n",
       "      <td>220.500000</td>\n",
       "      <td>4.000000</td>\n",
       "      <td>4.000000</td>\n",
       "      <td>4.000000</td>\n",
       "      <td>12.000000</td>\n",
       "    </tr>\n",
       "  </tbody>\n",
       "</table>\n",
       "</div>"
      ],
      "text/plain": [
       "       Battery Voltage (v)  Temperature (deg F)  Wind Speed Minimum (mph)  \\\n",
       "count         21296.000000         21295.000000              21295.000000   \n",
       "mean             12.543848            26.028648                  2.420495   \n",
       "std               2.549749            78.319369                  5.125817   \n",
       "min               0.000000         -7999.000000                 -7.743000   \n",
       "25%              12.610000            21.580000                  0.000000   \n",
       "50%              12.660000            26.780000                  0.285000   \n",
       "75%              12.740000            31.870000                  2.877000   \n",
       "max              45.980000            68.510000                 53.250000   \n",
       "\n",
       "       Wind Speed Average (mph)  Wind Speed Maximum (mph)  \\\n",
       "count              21295.000000              21295.000000   \n",
       "mean                   6.437304                 12.053108   \n",
       "std                    6.052230                  8.402773   \n",
       "min                    0.000000                  0.000000   \n",
       "25%                    2.899000                  7.212000   \n",
       "50%                    4.654000                 10.000000   \n",
       "75%                    8.090000                 14.250000   \n",
       "max                   84.900000                 71.790000   \n",
       "\n",
       "       Wind Direction (deg.)  24 Hour Snow (in)  Total Snow Depth (in)  \\\n",
       "count           19429.000000       17685.000000           17685.000000   \n",
       "mean              179.496993           0.018083              91.418860   \n",
       "std                99.822767          91.868543              29.605817   \n",
       "min                 0.000000       -7999.000000            -162.700000   \n",
       "25%                86.300000           0.283000              73.360000   \n",
       "50%               241.600000           0.512000              91.600000   \n",
       "75%               270.700000           2.425000             114.000000   \n",
       "max               359.700000         166.300000             220.500000   \n",
       "\n",
       "       danger_above_treeline  danger_below_treeline  danger_near_treeline  \\\n",
       "count           19346.000000           19346.000000          19346.000000   \n",
       "mean                2.477618               1.954202              2.301458   \n",
       "std                 0.780573               0.775944              0.771484   \n",
       "min                 1.000000               1.000000              1.000000   \n",
       "25%                 2.000000               1.000000              2.000000   \n",
       "50%                 2.000000               2.000000              2.000000   \n",
       "75%                 3.000000               2.000000              3.000000   \n",
       "max                 4.000000               4.000000              4.000000   \n",
       "\n",
       "              month  \n",
       "count  21303.000000  \n",
       "mean       4.368399  \n",
       "std        3.969149  \n",
       "min        1.000000  \n",
       "25%        2.000000  \n",
       "50%        3.000000  \n",
       "75%        4.000000  \n",
       "max       12.000000  "
      ]
     },
     "execution_count": 54,
     "metadata": {},
     "output_type": "execute_result"
    }
   ],
   "source": [
    "df.describe()"
   ]
  },
  {
   "cell_type": "code",
   "execution_count": 55,
   "metadata": {},
   "outputs": [
    {
     "data": {
      "text/plain": [
       "(21303, 16)"
      ]
     },
     "execution_count": 55,
     "metadata": {},
     "output_type": "execute_result"
    }
   ],
   "source": [
    "df.shape"
   ]
  },
  {
   "cell_type": "code",
   "execution_count": 57,
   "metadata": {},
   "outputs": [],
   "source": [
    "#df.clip changes all values below the number provided, gets rid of negatives in my case\n",
    "#wind_index = df.loc[df['Wind Speed Minimum (mph)'] <= 0].index\n",
    "#change all of these to zeros"
   ]
  },
  {
   "cell_type": "markdown",
   "metadata": {},
   "source": [
    "## whats the max amount of snow ever recored in a day?\n",
    "\n",
    "There are two contenders for this title. The most commonly accepted figure is the 75.8” of snow that fell in 24 hours at Silver Lake, Colorado on April 14-15, 1921. The other option is a 78.0” total measured at Mile 47 Camp, Alaska on February 7, 1963.Dec 20, 2016\n",
    "\n",
    "This being said, lets cut if off at 75\". rather than delete and lose info, lets assume machine was working and correct it to this cap we establishing\n",
    "\n",
    "likewise for the lowest 24 hour snow period. Melting events can occur, so lets set this limit to a foot"
   ]
  },
  {
   "cell_type": "code",
   "execution_count": 60,
   "metadata": {},
   "outputs": [],
   "source": [
    "df['24 Hour Snow (in)'] = df['24 Hour Snow (in)'].clip(upper=75)\n",
    "df['24 Hour Snow (in)'] = df['24 Hour Snow (in)'].clip(lower=-12)\n",
    "df['Total Snow Depth (in)'] = df['Total Snow Depth (in)'].clip(lower=0)\n",
    "df['Temperature (deg F)'] = df['Temperature (deg F)'].clip(lower=-10)\n",
    "df['Wind Speed Minimum (mph)'] = df['Wind Speed Minimum (mph)'].clip(lower=0)"
   ]
  },
  {
   "cell_type": "code",
   "execution_count": 61,
   "metadata": {},
   "outputs": [
    {
     "data": {
      "text/plain": [
       "(21303, 16)"
      ]
     },
     "execution_count": 61,
     "metadata": {},
     "output_type": "execute_result"
    }
   ],
   "source": [
    "df.shape"
   ]
  },
  {
   "cell_type": "code",
   "execution_count": null,
   "metadata": {},
   "outputs": [],
   "source": []
  },
  {
   "cell_type": "code",
   "execution_count": 62,
   "metadata": {},
   "outputs": [],
   "source": [
    "## I Need to create my boundaries of possible readings before making my rolling columns\n",
    "#-24 hour min/max temp\n",
    "\n",
    "#-48 hour min/max temp\n",
    "\n",
    "#-24/48h/72h 24 hour snow max\n",
    "\n",
    "#-24/48 H max wind\n",
    "\n",
    "df['max_1_day_temp']= df['Temperature (deg F)'].rolling(24).max()\n",
    "df['min_1_day_temp']= df['Temperature (deg F)'].rolling(24).min()\n",
    "df['max_2_day_temp']= df['Temperature (deg F)'].rolling(48).max()\n",
    "df['min_2_day_temp']= df['Temperature (deg F)'].rolling(48).min()\n",
    "\n",
    "df['max_1_day_wind']= df['Wind Speed Maximum (mph)'].rolling(24).max()\n",
    "df['max_2_day_wind']= df['Wind Speed Maximum (mph)'].rolling(48).max()\n",
    "\n",
    "df['max_1_day_snow']= df['24 Hour Snow (in)'].rolling(24).max()\n",
    "df['max_2_day_snow']= df['24 Hour Snow (in)'].rolling(48).max()\n",
    "df['max_3_day_snow']= df['24 Hour Snow (in)'].rolling(72).max()"
   ]
  },
  {
   "cell_type": "code",
   "execution_count": 63,
   "metadata": {},
   "outputs": [
    {
     "data": {
      "text/plain": [
       "(21303, 25)"
      ]
     },
     "execution_count": 63,
     "metadata": {},
     "output_type": "execute_result"
    }
   ],
   "source": [
    "df.shape"
   ]
  },
  {
   "cell_type": "code",
   "execution_count": 64,
   "metadata": {},
   "outputs": [
    {
     "data": {
      "text/html": [
       "<div>\n",
       "<style scoped>\n",
       "    .dataframe tbody tr th:only-of-type {\n",
       "        vertical-align: middle;\n",
       "    }\n",
       "\n",
       "    .dataframe tbody tr th {\n",
       "        vertical-align: top;\n",
       "    }\n",
       "\n",
       "    .dataframe thead th {\n",
       "        text-align: right;\n",
       "    }\n",
       "</style>\n",
       "<table border=\"1\" class=\"dataframe\">\n",
       "  <thead>\n",
       "    <tr style=\"text-align: right;\">\n",
       "      <th></th>\n",
       "      <th>Date/Time (PST)</th>\n",
       "      <th>Battery Voltage (v)</th>\n",
       "      <th>Temperature (deg F)</th>\n",
       "      <th>Wind Speed Minimum (mph)</th>\n",
       "      <th>Wind Speed Average (mph)</th>\n",
       "      <th>Wind Speed Maximum (mph)</th>\n",
       "      <th>Wind Direction (deg.)</th>\n",
       "      <th>date</th>\n",
       "      <th>24 Hour Snow (in)</th>\n",
       "      <th>Total Snow Depth (in)</th>\n",
       "      <th>...</th>\n",
       "      <th>month</th>\n",
       "      <th>max_1_day_temp</th>\n",
       "      <th>min_1_day_temp</th>\n",
       "      <th>max_2_day_temp</th>\n",
       "      <th>min_2_day_temp</th>\n",
       "      <th>max_1_day_wind</th>\n",
       "      <th>max_2_day_wind</th>\n",
       "      <th>max_1_day_snow</th>\n",
       "      <th>max_2_day_snow</th>\n",
       "      <th>max_3_day_snow</th>\n",
       "    </tr>\n",
       "  </thead>\n",
       "  <tbody>\n",
       "    <tr>\n",
       "      <th>21302</th>\n",
       "      <td>2014-12-17 13:00:00</td>\n",
       "      <td>0.00</td>\n",
       "      <td>12.89</td>\n",
       "      <td>25.300</td>\n",
       "      <td>0.008</td>\n",
       "      <td>0.81</td>\n",
       "      <td>125.4</td>\n",
       "      <td>2014-12-17</td>\n",
       "      <td>NaN</td>\n",
       "      <td>NaN</td>\n",
       "      <td>...</td>\n",
       "      <td>12</td>\n",
       "      <td>NaN</td>\n",
       "      <td>NaN</td>\n",
       "      <td>NaN</td>\n",
       "      <td>NaN</td>\n",
       "      <td>NaN</td>\n",
       "      <td>NaN</td>\n",
       "      <td>NaN</td>\n",
       "      <td>NaN</td>\n",
       "      <td>NaN</td>\n",
       "    </tr>\n",
       "    <tr>\n",
       "      <th>21301</th>\n",
       "      <td>2014-12-17 14:00:00</td>\n",
       "      <td>12.79</td>\n",
       "      <td>25.97</td>\n",
       "      <td>0.004</td>\n",
       "      <td>0.101</td>\n",
       "      <td>10.00</td>\n",
       "      <td>NaN</td>\n",
       "      <td>2014-12-17</td>\n",
       "      <td>NaN</td>\n",
       "      <td>NaN</td>\n",
       "      <td>...</td>\n",
       "      <td>12</td>\n",
       "      <td>NaN</td>\n",
       "      <td>NaN</td>\n",
       "      <td>NaN</td>\n",
       "      <td>NaN</td>\n",
       "      <td>NaN</td>\n",
       "      <td>NaN</td>\n",
       "      <td>NaN</td>\n",
       "      <td>NaN</td>\n",
       "      <td>NaN</td>\n",
       "    </tr>\n",
       "    <tr>\n",
       "      <th>21300</th>\n",
       "      <td>2014-12-17 15:00:00</td>\n",
       "      <td>12.76</td>\n",
       "      <td>25.30</td>\n",
       "      <td>0.003</td>\n",
       "      <td>0.439</td>\n",
       "      <td>10.00</td>\n",
       "      <td>NaN</td>\n",
       "      <td>2014-12-17</td>\n",
       "      <td>NaN</td>\n",
       "      <td>NaN</td>\n",
       "      <td>...</td>\n",
       "      <td>12</td>\n",
       "      <td>NaN</td>\n",
       "      <td>NaN</td>\n",
       "      <td>NaN</td>\n",
       "      <td>NaN</td>\n",
       "      <td>NaN</td>\n",
       "      <td>NaN</td>\n",
       "      <td>NaN</td>\n",
       "      <td>NaN</td>\n",
       "      <td>NaN</td>\n",
       "    </tr>\n",
       "  </tbody>\n",
       "</table>\n",
       "<p>3 rows × 25 columns</p>\n",
       "</div>"
      ],
      "text/plain": [
       "          Date/Time (PST)  Battery Voltage (v)  Temperature (deg F)  \\\n",
       "21302 2014-12-17 13:00:00                 0.00                12.89   \n",
       "21301 2014-12-17 14:00:00                12.79                25.97   \n",
       "21300 2014-12-17 15:00:00                12.76                25.30   \n",
       "\n",
       "       Wind Speed Minimum (mph)  Wind Speed Average (mph)  \\\n",
       "21302                    25.300                     0.008   \n",
       "21301                     0.004                     0.101   \n",
       "21300                     0.003                     0.439   \n",
       "\n",
       "       Wind Speed Maximum (mph)  Wind Direction (deg.)       date  \\\n",
       "21302                      0.81                  125.4 2014-12-17   \n",
       "21301                     10.00                    NaN 2014-12-17   \n",
       "21300                     10.00                    NaN 2014-12-17   \n",
       "\n",
       "       24 Hour Snow (in)  Total Snow Depth (in)       ...       month  \\\n",
       "21302                NaN                    NaN       ...          12   \n",
       "21301                NaN                    NaN       ...          12   \n",
       "21300                NaN                    NaN       ...          12   \n",
       "\n",
       "       max_1_day_temp  min_1_day_temp  max_2_day_temp min_2_day_temp  \\\n",
       "21302             NaN             NaN             NaN            NaN   \n",
       "21301             NaN             NaN             NaN            NaN   \n",
       "21300             NaN             NaN             NaN            NaN   \n",
       "\n",
       "       max_1_day_wind  max_2_day_wind  max_1_day_snow  max_2_day_snow  \\\n",
       "21302             NaN             NaN             NaN             NaN   \n",
       "21301             NaN             NaN             NaN             NaN   \n",
       "21300             NaN             NaN             NaN             NaN   \n",
       "\n",
       "       max_3_day_snow  \n",
       "21302             NaN  \n",
       "21301             NaN  \n",
       "21300             NaN  \n",
       "\n",
       "[3 rows x 25 columns]"
      ]
     },
     "execution_count": 64,
     "metadata": {},
     "output_type": "execute_result"
    }
   ],
   "source": [
    "df.head(3)"
   ]
  },
  {
   "cell_type": "code",
   "execution_count": 65,
   "metadata": {},
   "outputs": [
    {
     "data": {
      "text/html": [
       "<div>\n",
       "<style scoped>\n",
       "    .dataframe tbody tr th:only-of-type {\n",
       "        vertical-align: middle;\n",
       "    }\n",
       "\n",
       "    .dataframe tbody tr th {\n",
       "        vertical-align: top;\n",
       "    }\n",
       "\n",
       "    .dataframe thead th {\n",
       "        text-align: right;\n",
       "    }\n",
       "</style>\n",
       "<table border=\"1\" class=\"dataframe\">\n",
       "  <thead>\n",
       "    <tr style=\"text-align: right;\">\n",
       "      <th></th>\n",
       "      <th>Battery Voltage (v)</th>\n",
       "      <th>Temperature (deg F)</th>\n",
       "      <th>Wind Speed Minimum (mph)</th>\n",
       "      <th>Wind Speed Average (mph)</th>\n",
       "      <th>Wind Speed Maximum (mph)</th>\n",
       "      <th>Wind Direction (deg.)</th>\n",
       "      <th>24 Hour Snow (in)</th>\n",
       "      <th>Total Snow Depth (in)</th>\n",
       "      <th>danger_above_treeline</th>\n",
       "      <th>danger_below_treeline</th>\n",
       "      <th>...</th>\n",
       "      <th>month</th>\n",
       "      <th>max_1_day_temp</th>\n",
       "      <th>min_1_day_temp</th>\n",
       "      <th>max_2_day_temp</th>\n",
       "      <th>min_2_day_temp</th>\n",
       "      <th>max_1_day_wind</th>\n",
       "      <th>max_2_day_wind</th>\n",
       "      <th>max_1_day_snow</th>\n",
       "      <th>max_2_day_snow</th>\n",
       "      <th>max_3_day_snow</th>\n",
       "    </tr>\n",
       "  </thead>\n",
       "  <tbody>\n",
       "    <tr>\n",
       "      <th>count</th>\n",
       "      <td>21296.000000</td>\n",
       "      <td>21295.000000</td>\n",
       "      <td>21295.000000</td>\n",
       "      <td>21295.000000</td>\n",
       "      <td>21295.000000</td>\n",
       "      <td>19429.000000</td>\n",
       "      <td>17685.000000</td>\n",
       "      <td>17685.000000</td>\n",
       "      <td>19346.000000</td>\n",
       "      <td>19346.000000</td>\n",
       "      <td>...</td>\n",
       "      <td>21303.000000</td>\n",
       "      <td>21088.000000</td>\n",
       "      <td>21088.000000</td>\n",
       "      <td>20872.00000</td>\n",
       "      <td>20872.000000</td>\n",
       "      <td>21088.000000</td>\n",
       "      <td>20872.000000</td>\n",
       "      <td>17478.000000</td>\n",
       "      <td>17262.000000</td>\n",
       "      <td>17046.000000</td>\n",
       "    </tr>\n",
       "    <tr>\n",
       "      <th>mean</th>\n",
       "      <td>12.543848</td>\n",
       "      <td>26.780736</td>\n",
       "      <td>2.420865</td>\n",
       "      <td>6.437304</td>\n",
       "      <td>12.053108</td>\n",
       "      <td>179.496993</td>\n",
       "      <td>4.609215</td>\n",
       "      <td>91.431192</td>\n",
       "      <td>2.477618</td>\n",
       "      <td>1.954202</td>\n",
       "      <td>...</td>\n",
       "      <td>4.368399</td>\n",
       "      <td>31.771706</td>\n",
       "      <td>22.944213</td>\n",
       "      <td>34.07113</td>\n",
       "      <td>21.324983</td>\n",
       "      <td>20.646100</td>\n",
       "      <td>24.834413</td>\n",
       "      <td>14.036090</td>\n",
       "      <td>19.478129</td>\n",
       "      <td>23.689635</td>\n",
       "    </tr>\n",
       "    <tr>\n",
       "      <th>std</th>\n",
       "      <td>2.549749</td>\n",
       "      <td>9.194085</td>\n",
       "      <td>5.125367</td>\n",
       "      <td>6.052230</td>\n",
       "      <td>8.402773</td>\n",
       "      <td>99.822767</td>\n",
       "      <td>13.874658</td>\n",
       "      <td>29.539448</td>\n",
       "      <td>0.780573</td>\n",
       "      <td>0.775944</td>\n",
       "      <td>...</td>\n",
       "      <td>3.969149</td>\n",
       "      <td>9.829899</td>\n",
       "      <td>8.194052</td>\n",
       "      <td>9.72274</td>\n",
       "      <td>7.982558</td>\n",
       "      <td>11.564135</td>\n",
       "      <td>12.607514</td>\n",
       "      <td>20.977083</td>\n",
       "      <td>22.588715</td>\n",
       "      <td>22.962622</td>\n",
       "    </tr>\n",
       "    <tr>\n",
       "      <th>min</th>\n",
       "      <td>0.000000</td>\n",
       "      <td>-10.000000</td>\n",
       "      <td>0.000000</td>\n",
       "      <td>0.000000</td>\n",
       "      <td>0.000000</td>\n",
       "      <td>0.000000</td>\n",
       "      <td>-12.000000</td>\n",
       "      <td>0.000000</td>\n",
       "      <td>1.000000</td>\n",
       "      <td>1.000000</td>\n",
       "      <td>...</td>\n",
       "      <td>1.000000</td>\n",
       "      <td>0.066000</td>\n",
       "      <td>-10.000000</td>\n",
       "      <td>1.00800</td>\n",
       "      <td>-10.000000</td>\n",
       "      <td>0.000000</td>\n",
       "      <td>0.000000</td>\n",
       "      <td>-12.000000</td>\n",
       "      <td>-12.000000</td>\n",
       "      <td>-12.000000</td>\n",
       "    </tr>\n",
       "    <tr>\n",
       "      <th>25%</th>\n",
       "      <td>12.610000</td>\n",
       "      <td>21.580000</td>\n",
       "      <td>0.000000</td>\n",
       "      <td>2.899000</td>\n",
       "      <td>7.212000</td>\n",
       "      <td>86.300000</td>\n",
       "      <td>0.283000</td>\n",
       "      <td>73.360000</td>\n",
       "      <td>2.000000</td>\n",
       "      <td>1.000000</td>\n",
       "      <td>...</td>\n",
       "      <td>2.000000</td>\n",
       "      <td>25.640000</td>\n",
       "      <td>18.420000</td>\n",
       "      <td>27.72000</td>\n",
       "      <td>16.920000</td>\n",
       "      <td>11.750000</td>\n",
       "      <td>14.875000</td>\n",
       "      <td>0.614000</td>\n",
       "      <td>1.215000</td>\n",
       "      <td>2.796000</td>\n",
       "    </tr>\n",
       "    <tr>\n",
       "      <th>50%</th>\n",
       "      <td>12.660000</td>\n",
       "      <td>26.780000</td>\n",
       "      <td>0.285000</td>\n",
       "      <td>4.654000</td>\n",
       "      <td>10.000000</td>\n",
       "      <td>241.600000</td>\n",
       "      <td>0.512000</td>\n",
       "      <td>91.600000</td>\n",
       "      <td>2.000000</td>\n",
       "      <td>2.000000</td>\n",
       "      <td>...</td>\n",
       "      <td>3.000000</td>\n",
       "      <td>31.290000</td>\n",
       "      <td>23.630000</td>\n",
       "      <td>33.18000</td>\n",
       "      <td>22.540000</td>\n",
       "      <td>17.340000</td>\n",
       "      <td>22.930000</td>\n",
       "      <td>2.787000</td>\n",
       "      <td>5.388000</td>\n",
       "      <td>10.730000</td>\n",
       "    </tr>\n",
       "    <tr>\n",
       "      <th>75%</th>\n",
       "      <td>12.740000</td>\n",
       "      <td>31.870000</td>\n",
       "      <td>2.877000</td>\n",
       "      <td>8.090000</td>\n",
       "      <td>14.250000</td>\n",
       "      <td>270.700000</td>\n",
       "      <td>2.425000</td>\n",
       "      <td>114.000000</td>\n",
       "      <td>3.000000</td>\n",
       "      <td>2.000000</td>\n",
       "      <td>...</td>\n",
       "      <td>4.000000</td>\n",
       "      <td>37.530000</td>\n",
       "      <td>28.130000</td>\n",
       "      <td>40.14000</td>\n",
       "      <td>26.340000</td>\n",
       "      <td>27.160000</td>\n",
       "      <td>32.405000</td>\n",
       "      <td>14.110000</td>\n",
       "      <td>46.490000</td>\n",
       "      <td>46.490000</td>\n",
       "    </tr>\n",
       "    <tr>\n",
       "      <th>max</th>\n",
       "      <td>45.980000</td>\n",
       "      <td>68.510000</td>\n",
       "      <td>53.250000</td>\n",
       "      <td>84.900000</td>\n",
       "      <td>71.790000</td>\n",
       "      <td>359.700000</td>\n",
       "      <td>75.000000</td>\n",
       "      <td>220.500000</td>\n",
       "      <td>4.000000</td>\n",
       "      <td>4.000000</td>\n",
       "      <td>...</td>\n",
       "      <td>12.000000</td>\n",
       "      <td>68.510000</td>\n",
       "      <td>53.960000</td>\n",
       "      <td>68.51000</td>\n",
       "      <td>49.480000</td>\n",
       "      <td>71.790000</td>\n",
       "      <td>71.790000</td>\n",
       "      <td>75.000000</td>\n",
       "      <td>75.000000</td>\n",
       "      <td>75.000000</td>\n",
       "    </tr>\n",
       "  </tbody>\n",
       "</table>\n",
       "<p>8 rows × 21 columns</p>\n",
       "</div>"
      ],
      "text/plain": [
       "       Battery Voltage (v)  Temperature (deg F)  Wind Speed Minimum (mph)  \\\n",
       "count         21296.000000         21295.000000              21295.000000   \n",
       "mean             12.543848            26.780736                  2.420865   \n",
       "std               2.549749             9.194085                  5.125367   \n",
       "min               0.000000           -10.000000                  0.000000   \n",
       "25%              12.610000            21.580000                  0.000000   \n",
       "50%              12.660000            26.780000                  0.285000   \n",
       "75%              12.740000            31.870000                  2.877000   \n",
       "max              45.980000            68.510000                 53.250000   \n",
       "\n",
       "       Wind Speed Average (mph)  Wind Speed Maximum (mph)  \\\n",
       "count              21295.000000              21295.000000   \n",
       "mean                   6.437304                 12.053108   \n",
       "std                    6.052230                  8.402773   \n",
       "min                    0.000000                  0.000000   \n",
       "25%                    2.899000                  7.212000   \n",
       "50%                    4.654000                 10.000000   \n",
       "75%                    8.090000                 14.250000   \n",
       "max                   84.900000                 71.790000   \n",
       "\n",
       "       Wind Direction (deg.)  24 Hour Snow (in)  Total Snow Depth (in)  \\\n",
       "count           19429.000000       17685.000000           17685.000000   \n",
       "mean              179.496993           4.609215              91.431192   \n",
       "std                99.822767          13.874658              29.539448   \n",
       "min                 0.000000         -12.000000               0.000000   \n",
       "25%                86.300000           0.283000              73.360000   \n",
       "50%               241.600000           0.512000              91.600000   \n",
       "75%               270.700000           2.425000             114.000000   \n",
       "max               359.700000          75.000000             220.500000   \n",
       "\n",
       "       danger_above_treeline  danger_below_treeline       ...        \\\n",
       "count           19346.000000           19346.000000       ...         \n",
       "mean                2.477618               1.954202       ...         \n",
       "std                 0.780573               0.775944       ...         \n",
       "min                 1.000000               1.000000       ...         \n",
       "25%                 2.000000               1.000000       ...         \n",
       "50%                 2.000000               2.000000       ...         \n",
       "75%                 3.000000               2.000000       ...         \n",
       "max                 4.000000               4.000000       ...         \n",
       "\n",
       "              month  max_1_day_temp  min_1_day_temp  max_2_day_temp  \\\n",
       "count  21303.000000    21088.000000    21088.000000     20872.00000   \n",
       "mean       4.368399       31.771706       22.944213        34.07113   \n",
       "std        3.969149        9.829899        8.194052         9.72274   \n",
       "min        1.000000        0.066000      -10.000000         1.00800   \n",
       "25%        2.000000       25.640000       18.420000        27.72000   \n",
       "50%        3.000000       31.290000       23.630000        33.18000   \n",
       "75%        4.000000       37.530000       28.130000        40.14000   \n",
       "max       12.000000       68.510000       53.960000        68.51000   \n",
       "\n",
       "       min_2_day_temp  max_1_day_wind  max_2_day_wind  max_1_day_snow  \\\n",
       "count    20872.000000    21088.000000    20872.000000    17478.000000   \n",
       "mean        21.324983       20.646100       24.834413       14.036090   \n",
       "std          7.982558       11.564135       12.607514       20.977083   \n",
       "min        -10.000000        0.000000        0.000000      -12.000000   \n",
       "25%         16.920000       11.750000       14.875000        0.614000   \n",
       "50%         22.540000       17.340000       22.930000        2.787000   \n",
       "75%         26.340000       27.160000       32.405000       14.110000   \n",
       "max         49.480000       71.790000       71.790000       75.000000   \n",
       "\n",
       "       max_2_day_snow  max_3_day_snow  \n",
       "count    17262.000000    17046.000000  \n",
       "mean        19.478129       23.689635  \n",
       "std         22.588715       22.962622  \n",
       "min        -12.000000      -12.000000  \n",
       "25%          1.215000        2.796000  \n",
       "50%          5.388000       10.730000  \n",
       "75%         46.490000       46.490000  \n",
       "max         75.000000       75.000000  \n",
       "\n",
       "[8 rows x 21 columns]"
      ]
     },
     "execution_count": 65,
     "metadata": {},
     "output_type": "execute_result"
    }
   ],
   "source": [
    "df.describe() #looks a lot better!"
   ]
  },
  {
   "cell_type": "code",
   "execution_count": 66,
   "metadata": {},
   "outputs": [
    {
     "data": {
      "text/plain": [
       "Index(['Date/Time (PST)', 'Battery Voltage (v)', 'Temperature (deg F)',\n",
       "       'Wind Speed Minimum (mph)', 'Wind Speed Average (mph)',\n",
       "       'Wind Speed Maximum (mph)', 'Wind Direction (deg.)', 'date',\n",
       "       '24 Hour Snow (in)', 'Total Snow Depth (in)', 'area',\n",
       "       'danger_above_treeline', 'danger_below_treeline',\n",
       "       'danger_near_treeline', 'date_tomorrow', 'month', 'max_1_day_temp',\n",
       "       'min_1_day_temp', 'max_2_day_temp', 'min_2_day_temp', 'max_1_day_wind',\n",
       "       'max_2_day_wind', 'max_1_day_snow', 'max_2_day_snow', 'max_3_day_snow'],\n",
       "      dtype='object')"
      ]
     },
     "execution_count": 66,
     "metadata": {},
     "output_type": "execute_result"
    }
   ],
   "source": [
    "df.columns"
   ]
  },
  {
   "cell_type": "code",
   "execution_count": 67,
   "metadata": {},
   "outputs": [
    {
     "data": {
      "text/plain": [
       "Date/Time (PST)                0\n",
       "Battery Voltage (v)            7\n",
       "Temperature (deg F)            8\n",
       "Wind Speed Minimum (mph)       8\n",
       "Wind Speed Average (mph)       8\n",
       "Wind Speed Maximum (mph)       8\n",
       "Wind Direction (deg.)       1874\n",
       "date                           0\n",
       "24 Hour Snow (in)           3618\n",
       "Total Snow Depth (in)       3618\n",
       "area                        1621\n",
       "danger_above_treeline       1957\n",
       "danger_below_treeline       1957\n",
       "danger_near_treeline        1957\n",
       "date_tomorrow               1621\n",
       "month                          0\n",
       "max_1_day_temp               215\n",
       "min_1_day_temp               215\n",
       "max_2_day_temp               431\n",
       "min_2_day_temp               431\n",
       "max_1_day_wind               215\n",
       "max_2_day_wind               431\n",
       "max_1_day_snow              3825\n",
       "max_2_day_snow              4041\n",
       "max_3_day_snow              4257\n",
       "dtype: int64"
      ]
     },
     "execution_count": 67,
     "metadata": {},
     "output_type": "execute_result"
    }
   ],
   "source": [
    "df.isna().sum()"
   ]
  },
  {
   "cell_type": "code",
   "execution_count": 68,
   "metadata": {},
   "outputs": [],
   "source": [
    "no_avy_index = df.loc[df['danger_above_treeline'].isna()].index\n",
    "df = df.drop(index=no_avy_index,axis=0)"
   ]
  },
  {
   "cell_type": "code",
   "execution_count": 69,
   "metadata": {},
   "outputs": [
    {
     "data": {
      "text/plain": [
       "Date/Time (PST)                0\n",
       "Battery Voltage (v)            5\n",
       "Temperature (deg F)            6\n",
       "Wind Speed Minimum (mph)       6\n",
       "Wind Speed Average (mph)       6\n",
       "Wind Speed Maximum (mph)       6\n",
       "Wind Direction (deg.)       1838\n",
       "date                           0\n",
       "24 Hour Snow (in)           3220\n",
       "Total Snow Depth (in)       3220\n",
       "area                           0\n",
       "danger_above_treeline          0\n",
       "danger_below_treeline          0\n",
       "danger_near_treeline           0\n",
       "date_tomorrow                  0\n",
       "month                          0\n",
       "max_1_day_temp               144\n",
       "min_1_day_temp               144\n",
       "max_2_day_temp               300\n",
       "min_2_day_temp               300\n",
       "max_1_day_wind               144\n",
       "max_2_day_wind               300\n",
       "max_1_day_snow              3335\n",
       "max_2_day_snow              3455\n",
       "max_3_day_snow              3575\n",
       "dtype: int64"
      ]
     },
     "execution_count": 69,
     "metadata": {},
     "output_type": "execute_result"
    }
   ],
   "source": [
    "df.isna().sum()\n",
    "\n",
    "#wind direction and 23 hour snow depth must also be removed\n"
   ]
  },
  {
   "cell_type": "code",
   "execution_count": 70,
   "metadata": {},
   "outputs": [],
   "source": [
    "no_snow_depth = df.loc[df['Total Snow Depth (in)'].isna()].index"
   ]
  },
  {
   "cell_type": "code",
   "execution_count": 71,
   "metadata": {},
   "outputs": [
    {
     "data": {
      "text/plain": [
       "3220"
      ]
     },
     "execution_count": 71,
     "metadata": {},
     "output_type": "execute_result"
    }
   ],
   "source": [
    "df.loc[df['Total Snow Depth (in)'].isna()].shape[0]"
   ]
  },
  {
   "cell_type": "code",
   "execution_count": 72,
   "metadata": {},
   "outputs": [
    {
     "data": {
      "text/plain": [
       "3220"
      ]
     },
     "execution_count": 72,
     "metadata": {},
     "output_type": "execute_result"
    }
   ],
   "source": [
    "df.shape[0] - df.drop(index=no_snow_depth).shape[0]"
   ]
  },
  {
   "cell_type": "code",
   "execution_count": 73,
   "metadata": {},
   "outputs": [],
   "source": [
    "df = df.drop(index=no_snow_depth)"
   ]
  },
  {
   "cell_type": "code",
   "execution_count": 74,
   "metadata": {},
   "outputs": [
    {
     "data": {
      "text/plain": [
       "Date/Time (PST)               0\n",
       "Battery Voltage (v)           0\n",
       "Temperature (deg F)           1\n",
       "Wind Speed Minimum (mph)      1\n",
       "Wind Speed Average (mph)      1\n",
       "Wind Speed Maximum (mph)      1\n",
       "Wind Direction (deg.)         1\n",
       "date                          0\n",
       "24 Hour Snow (in)             0\n",
       "Total Snow Depth (in)         0\n",
       "area                          0\n",
       "danger_above_treeline         0\n",
       "danger_below_treeline         0\n",
       "danger_near_treeline          0\n",
       "date_tomorrow                 0\n",
       "month                         0\n",
       "max_1_day_temp              139\n",
       "min_1_day_temp              139\n",
       "max_2_day_temp              283\n",
       "min_2_day_temp              283\n",
       "max_1_day_wind              139\n",
       "max_2_day_wind              283\n",
       "max_1_day_snow              115\n",
       "max_2_day_snow              235\n",
       "max_3_day_snow              355\n",
       "dtype: int64"
      ]
     },
     "execution_count": 74,
     "metadata": {},
     "output_type": "execute_result"
    }
   ],
   "source": [
    "df.isna().sum()\n"
   ]
  },
  {
   "cell_type": "code",
   "execution_count": 75,
   "metadata": {},
   "outputs": [],
   "source": [
    "df_clean = df.dropna()"
   ]
  },
  {
   "cell_type": "markdown",
   "metadata": {},
   "source": [
    "## Now, what do i want my X's to be?? \n",
    "\n",
    "X: temp, wind speed average, 24 hour snow (in), max/min 24 and 48 H temp \n",
    "\n",
    "Y: danger_near_treeline"
   ]
  },
  {
   "cell_type": "code",
   "execution_count": 76,
   "metadata": {},
   "outputs": [],
   "source": [
    "df_clean = df_clean.reset_index(drop=True)"
   ]
  },
  {
   "cell_type": "code",
   "execution_count": 77,
   "metadata": {},
   "outputs": [
    {
     "data": {
      "text/plain": [
       "Index(['Date/Time (PST)', 'Battery Voltage (v)', 'Temperature (deg F)',\n",
       "       'Wind Speed Minimum (mph)', 'Wind Speed Average (mph)',\n",
       "       'Wind Speed Maximum (mph)', 'Wind Direction (deg.)', 'date',\n",
       "       '24 Hour Snow (in)', 'Total Snow Depth (in)', 'area',\n",
       "       'danger_above_treeline', 'danger_below_treeline',\n",
       "       'danger_near_treeline', 'date_tomorrow', 'month', 'max_1_day_temp',\n",
       "       'min_1_day_temp', 'max_2_day_temp', 'min_2_day_temp', 'max_1_day_wind',\n",
       "       'max_2_day_wind', 'max_1_day_snow', 'max_2_day_snow', 'max_3_day_snow'],\n",
       "      dtype='object')"
      ]
     },
     "execution_count": 77,
     "metadata": {},
     "output_type": "execute_result"
    }
   ],
   "source": [
    "df_clean.columns"
   ]
  },
  {
   "cell_type": "code",
   "execution_count": 78,
   "metadata": {},
   "outputs": [
    {
     "data": {
      "text/plain": [
       "12578.400000000001"
      ]
     },
     "execution_count": 78,
     "metadata": {},
     "output_type": "execute_result"
    }
   ],
   "source": [
    "df_clean.shape[0]*.80\n"
   ]
  },
  {
   "cell_type": "code",
   "execution_count": 90,
   "metadata": {},
   "outputs": [],
   "source": [
    "X = df_clean[[\n",
    "            'Battery Voltage (v)', 'Temperature (deg F)',\n",
    "            'Wind Speed Minimum (mph)', 'Wind Speed Average (mph)',\n",
    "            'Wind Speed Maximum (mph)', 'Wind Direction (deg.)',\n",
    "            '24 Hour Snow (in)', 'Total Snow Depth (in)','max_1_day_temp',\n",
    "            'min_1_day_temp', 'max_2_day_temp', 'min_2_day_temp',\n",
    "            'max_1_day_snow', 'max_2_day_snow', 'max_3_day_snow']]\n",
    "\n",
    "y = df_clean['danger_near_treeline']"
   ]
  },
  {
   "cell_type": "code",
   "execution_count": 92,
   "metadata": {},
   "outputs": [],
   "source": [
    "X_train, X_test, y_train, y_test = X[:12578], X[12578:], y[:12578], y[12578:]"
   ]
  },
  {
   "cell_type": "code",
   "execution_count": null,
   "metadata": {},
   "outputs": [],
   "source": []
  },
  {
   "cell_type": "markdown",
   "metadata": {},
   "source": [
    "DO A CHRONOLIGCAL SPLIT, because its a time series problem\n"
   ]
  },
  {
   "cell_type": "code",
   "execution_count": 93,
   "metadata": {},
   "outputs": [
    {
     "data": {
      "text/plain": [
       "Battery Voltage (v)         0\n",
       "Temperature (deg F)         0\n",
       "Wind Speed Minimum (mph)    0\n",
       "Wind Speed Average (mph)    0\n",
       "Wind Speed Maximum (mph)    0\n",
       "Wind Direction (deg.)       0\n",
       "24 Hour Snow (in)           0\n",
       "Total Snow Depth (in)       0\n",
       "max_1_day_temp              0\n",
       "min_1_day_temp              0\n",
       "max_2_day_temp              0\n",
       "min_2_day_temp              0\n",
       "max_1_day_snow              0\n",
       "max_2_day_snow              0\n",
       "max_3_day_snow              0\n",
       "dtype: int64"
      ]
     },
     "execution_count": 93,
     "metadata": {},
     "output_type": "execute_result"
    }
   ],
   "source": [
    "X_train.isna().sum()"
   ]
  },
  {
   "cell_type": "code",
   "execution_count": 94,
   "metadata": {},
   "outputs": [],
   "source": [
    "ss = StandardScaler()"
   ]
  },
  {
   "cell_type": "code",
   "execution_count": 99,
   "metadata": {},
   "outputs": [],
   "source": [
    "mapper = DataFrameMapper([\n",
    "    ([   'Battery Voltage (v)', 'Temperature (deg F)',\n",
    "            'Wind Speed Minimum (mph)', 'Wind Speed Average (mph)',\n",
    "            'Wind Speed Maximum (mph)', 'Wind Direction (deg.)',\n",
    "            '24 Hour Snow (in)', 'Total Snow Depth (in)','max_1_day_temp',\n",
    "            'min_1_day_temp', 'max_2_day_temp', 'min_2_day_temp',\n",
    "            'max_1_day_snow', 'max_2_day_snow', 'max_3_day_snow'], ss)\n",
    "    ])"
   ]
  },
  {
   "cell_type": "code",
   "execution_count": 100,
   "metadata": {},
   "outputs": [],
   "source": [
    "lr = LinearRegression()\n",
    "rfr = RandomForestRegressor(n_estimators=100)\n",
    "gbr = GradientBoostingRegressor(n_estimators=100)\n",
    "knnr = KNeighborsRegressor()\n",
    "xgbr = XGBRegressor(objective='reg:squarederror')\n",
    "xgbrfr = XGBRFRegressor(objective='reg:squarederror')\n",
    "regressors = [lr, rfr, gbr, knnr, xgbr,xgbrfr ]"
   ]
  },
  {
   "cell_type": "code",
   "execution_count": 101,
   "metadata": {},
   "outputs": [],
   "source": [
    "reg_names = ['LinearRegression',\n",
    "             'RandomForestRegressor',\n",
    "             'GradientBoostingRegressor',\n",
    "             'KNeighborsRegressor',\n",
    "             'XGBRegressor',\n",
    "             'XGBRFRegressor'\n",
    "            ]"
   ]
  },
  {
   "cell_type": "code",
   "execution_count": 138,
   "metadata": {},
   "outputs": [
    {
     "data": {
      "text/plain": [
       "2.4501510574018126"
      ]
     },
     "execution_count": 138,
     "metadata": {},
     "output_type": "execute_result"
    }
   ],
   "source": [
    "baseline_pred"
   ]
  },
  {
   "cell_type": "code",
   "execution_count": 102,
   "metadata": {},
   "outputs": [
    {
     "name": "stdout",
     "output_type": "stream",
     "text": [
      "0.5498489425981874 0.8711822606461803\n",
      "The MAE of just predicting the mean is: 0.5498489425981874\n",
      "The RMSE just predicting the mean is: 0.8711822606461803\n",
      "==================================================================\n",
      "========================\n",
      "\n",
      "The MAE of the LinearRegression is: 0.6993660636487984\n",
      "The RMSE of the LinearRegression is: 0.6606762784265351\n",
      "==================================================================\n",
      "========================\n",
      "\n",
      "The MAE of the RandomForestRegressor is: 0.6701109754139166\n",
      "The RMSE of the RandomForestRegressor is: 0.6397837293429061\n",
      "==================================================================\n",
      "========================\n",
      "\n",
      "The MAE of the GradientBoostingRegressor is: 0.6500092786526636\n",
      "The RMSE of the GradientBoostingRegressor is: 0.5943602053289719\n",
      "==================================================================\n",
      "========================\n",
      "\n",
      "The MAE of the KNeighborsRegressor is: 0.7732909379968204\n",
      "The RMSE of the KNeighborsRegressor is: 0.9019268680445153\n",
      "==================================================================\n",
      "========================\n",
      "\n"
     ]
    },
    {
     "name": "stderr",
     "output_type": "stream",
     "text": [
      "/Users/krex/anaconda3/lib/python3.7/site-packages/xgboost/core.py:587: FutureWarning: Series.base is deprecated and will be removed in a future version\n",
      "  if getattr(data, 'base', None) is not None and \\\n",
      "/Users/krex/anaconda3/lib/python3.7/site-packages/xgboost/core.py:588: FutureWarning: Series.base is deprecated and will be removed in a future version\n",
      "  data.base is not None and isinstance(data, np.ndarray) \\\n"
     ]
    },
    {
     "name": "stdout",
     "output_type": "stream",
     "text": [
      "The MAE of the XGBRegressor is: 0.6520154909412887\n",
      "The RMSE of the XGBRegressor is: 0.6025043157302086\n",
      "==================================================================\n",
      "========================\n",
      "\n"
     ]
    },
    {
     "name": "stderr",
     "output_type": "stream",
     "text": [
      "/Users/krex/anaconda3/lib/python3.7/site-packages/xgboost/core.py:587: FutureWarning: Series.base is deprecated and will be removed in a future version\n",
      "  if getattr(data, 'base', None) is not None and \\\n",
      "/Users/krex/anaconda3/lib/python3.7/site-packages/xgboost/core.py:588: FutureWarning: Series.base is deprecated and will be removed in a future version\n",
      "  data.base is not None and isinstance(data, np.ndarray) \\\n"
     ]
    },
    {
     "name": "stdout",
     "output_type": "stream",
     "text": [
      "The MAE of the XGBRFRegressor is: 0.6779243150841451\n",
      "The RMSE of the XGBRFRegressor is: 0.6110299710068424\n",
      "==================================================================\n",
      "========================\n",
      "\n"
     ]
    }
   ],
   "source": [
    "baseline_pred = np.mean(y_train)\n",
    "residuals = (y_test - baseline_pred)\n",
    "median_absolute_error = np.median(np.abs(residuals))\n",
    "rmse=np.sqrt(np.mean(residuals**2))\n",
    "\n",
    "print(median_absolute_error,rmse)\n",
    "\n",
    "print(f'The MAE of just predicting the mean'\n",
    "          f' is: {median_absolute_error}\\n'\n",
    "          f'The RMSE just predicting the mean'\n",
    "          f' is: {rmse}\\n'\n",
    "      '==================================================================\\n'\n",
    "          '========================\\n')\n",
    "\n",
    "for regressor,name in zip(regressors,reg_names): #zip returns a tuple for each pair it is given\n",
    "    pipe = Pipeline(steps=[\n",
    "        ('scaler',mapper),\n",
    "        ('regressor', regressor)\n",
    "    ])\n",
    "    pipe.fit(X_train, y_train)\n",
    "    preds = pipe.predict(X_test)\n",
    "    print(f'The MAE of the {name}'\n",
    "          f' is: {mean_absolute_error((y_test),preds)}\\n'\n",
    "          f'The RMSE of the {name}'\n",
    "          f' is: {mean_squared_error((y_test),preds)}\\n'\n",
    "          '==================================================================\\n'\n",
    "          '========================\\n'\n",
    "         )\n",
    "    \n"
   ]
  },
  {
   "cell_type": "code",
   "execution_count": 105,
   "metadata": {},
   "outputs": [
    {
     "name": "stdout",
     "output_type": "stream",
     "text": [
      "The MAE of the XGBRFRegressor is: 0.6500895531829036\n",
      "The RMSE of the XGBRFRegressor is: 0.594399504533469\n",
      "==================================================================\n",
      "========================\n",
      "\n"
     ]
    }
   ],
   "source": [
    "pipe2 = Pipeline(steps=[\n",
    "    ('scaler',mapper),\n",
    "    ('regressor', gbr)\n",
    "])\n",
    "pipe2.fit(X_train, y_train)\n",
    "preds = pipe2.predict(X_test)\n",
    "print(f'The MAE of the {name}'\n",
    "      f' is: {mean_absolute_error((y_test),preds)}\\n'\n",
    "      f'The RMSE of the {name}'\n",
    "      f' is: {mean_squared_error((y_test),preds)}\\n'\n",
    "      '==================================================================\\n'\n",
    "      '========================\\n'\n",
    "     )\n",
    "\n"
   ]
  },
  {
   "cell_type": "code",
   "execution_count": 103,
   "metadata": {},
   "outputs": [
    {
     "data": {
      "text/plain": [
       "12578    3.0\n",
       "12579    2.0\n",
       "12580    2.0\n",
       "12581    2.0\n",
       "12582    2.0\n",
       "12583    2.0\n",
       "12584    2.0\n",
       "12585    2.0\n",
       "12586    2.0\n",
       "12587    2.0\n",
       "12588    2.0\n",
       "12589    2.0\n",
       "12590    2.0\n",
       "12591    2.0\n",
       "12592    2.0\n",
       "12593    2.0\n",
       "12594    2.0\n",
       "12595    2.0\n",
       "12596    2.0\n",
       "12597    2.0\n",
       "Name: danger_near_treeline, dtype: float64"
      ]
     },
     "execution_count": 103,
     "metadata": {},
     "output_type": "execute_result"
    }
   ],
   "source": [
    "y_test[0:20]"
   ]
  },
  {
   "cell_type": "code",
   "execution_count": 106,
   "metadata": {},
   "outputs": [
    {
     "data": {
      "text/plain": [
       "array([2.92932684, 3.00455071, 3.02375077, 3.07914031, 2.99488675,\n",
       "       2.80481734, 2.63387034, 2.65692345, 2.64566369, 2.75802418,\n",
       "       2.75170707, 2.74559618, 2.63973064, 2.69374685, 2.69564583,\n",
       "       2.74558946, 2.74558946, 2.7077744 , 2.64901942, 2.66334031])"
      ]
     },
     "execution_count": 106,
     "metadata": {},
     "output_type": "execute_result"
    }
   ],
   "source": [
    "pipe2.predict(X_test)[0:20]"
   ]
  },
  {
   "cell_type": "markdown",
   "metadata": {},
   "source": [
    "## Model 4 \n",
    "Gradient Boosting RMSE is better than guessing the mean!\n",
    "\n",
    "Also my model is predicting hourly avalanche forecasts, which is super granular. \n",
    "\n",
    "The forecasts are given daily, and thus my Y im predicting and basing my scoring on isn't as granular."
   ]
  },
  {
   "cell_type": "code",
   "execution_count": 107,
   "metadata": {},
   "outputs": [],
   "source": [
    "bar_p = pd.read_csv('csv_files/stevens_pass_barometric_pressure_2014_now.csv')"
   ]
  },
  {
   "cell_type": "code",
   "execution_count": 108,
   "metadata": {},
   "outputs": [
    {
     "data": {
      "text/html": [
       "<div>\n",
       "<style scoped>\n",
       "    .dataframe tbody tr th:only-of-type {\n",
       "        vertical-align: middle;\n",
       "    }\n",
       "\n",
       "    .dataframe tbody tr th {\n",
       "        vertical-align: top;\n",
       "    }\n",
       "\n",
       "    .dataframe thead th {\n",
       "        text-align: right;\n",
       "    }\n",
       "</style>\n",
       "<table border=\"1\" class=\"dataframe\">\n",
       "  <thead>\n",
       "    <tr style=\"text-align: right;\">\n",
       "      <th></th>\n",
       "      <th>Date/Time (PST)</th>\n",
       "      <th>mb - 2700' - Berne</th>\n",
       "      <th>mb - 3950' - Stevens Pass - Schmidt Haus</th>\n",
       "    </tr>\n",
       "  </thead>\n",
       "  <tbody>\n",
       "    <tr>\n",
       "      <th>0</th>\n",
       "      <td>2019-06-28 12:00</td>\n",
       "      <td>1017.0</td>\n",
       "      <td>1018.0</td>\n",
       "    </tr>\n",
       "    <tr>\n",
       "      <th>1</th>\n",
       "      <td>2019-06-28 11:00</td>\n",
       "      <td>1016.7</td>\n",
       "      <td>1018.0</td>\n",
       "    </tr>\n",
       "    <tr>\n",
       "      <th>2</th>\n",
       "      <td>2019-06-28 10:00</td>\n",
       "      <td>1016.6</td>\n",
       "      <td>1019.0</td>\n",
       "    </tr>\n",
       "    <tr>\n",
       "      <th>3</th>\n",
       "      <td>2019-06-28 09:00</td>\n",
       "      <td>1016.9</td>\n",
       "      <td>1018.0</td>\n",
       "    </tr>\n",
       "    <tr>\n",
       "      <th>4</th>\n",
       "      <td>2019-06-28 08:00</td>\n",
       "      <td>1017.1</td>\n",
       "      <td>1018.0</td>\n",
       "    </tr>\n",
       "  </tbody>\n",
       "</table>\n",
       "</div>"
      ],
      "text/plain": [
       "    Date/Time (PST)  mb - 2700' - Berne  \\\n",
       "0  2019-06-28 12:00              1017.0   \n",
       "1  2019-06-28 11:00              1016.7   \n",
       "2  2019-06-28 10:00              1016.6   \n",
       "3  2019-06-28 09:00              1016.9   \n",
       "4  2019-06-28 08:00              1017.1   \n",
       "\n",
       "   mb - 3950' - Stevens Pass - Schmidt Haus  \n",
       "0                                    1018.0  \n",
       "1                                    1018.0  \n",
       "2                                    1019.0  \n",
       "3                                    1018.0  \n",
       "4                                    1018.0  "
      ]
     },
     "execution_count": 108,
     "metadata": {},
     "output_type": "execute_result"
    }
   ],
   "source": [
    "bar_p.head()"
   ]
  },
  {
   "cell_type": "code",
   "execution_count": 109,
   "metadata": {},
   "outputs": [
    {
     "data": {
      "text/html": [
       "<div>\n",
       "<style scoped>\n",
       "    .dataframe tbody tr th:only-of-type {\n",
       "        vertical-align: middle;\n",
       "    }\n",
       "\n",
       "    .dataframe tbody tr th {\n",
       "        vertical-align: top;\n",
       "    }\n",
       "\n",
       "    .dataframe thead th {\n",
       "        text-align: right;\n",
       "    }\n",
       "</style>\n",
       "<table border=\"1\" class=\"dataframe\">\n",
       "  <thead>\n",
       "    <tr style=\"text-align: right;\">\n",
       "      <th></th>\n",
       "      <th>mb - 2700' - Berne</th>\n",
       "      <th>mb - 3950' - Stevens Pass - Schmidt Haus</th>\n",
       "    </tr>\n",
       "  </thead>\n",
       "  <tbody>\n",
       "    <tr>\n",
       "      <th>count</th>\n",
       "      <td>39901.000000</td>\n",
       "      <td>40818.000000</td>\n",
       "    </tr>\n",
       "    <tr>\n",
       "      <th>mean</th>\n",
       "      <td>1014.581390</td>\n",
       "      <td>1015.308593</td>\n",
       "    </tr>\n",
       "    <tr>\n",
       "      <th>std</th>\n",
       "      <td>6.507781</td>\n",
       "      <td>6.392107</td>\n",
       "    </tr>\n",
       "    <tr>\n",
       "      <th>min</th>\n",
       "      <td>986.310000</td>\n",
       "      <td>987.000000</td>\n",
       "    </tr>\n",
       "    <tr>\n",
       "      <th>25%</th>\n",
       "      <td>1011.300000</td>\n",
       "      <td>1012.000000</td>\n",
       "    </tr>\n",
       "    <tr>\n",
       "      <th>50%</th>\n",
       "      <td>1015.100000</td>\n",
       "      <td>1016.000000</td>\n",
       "    </tr>\n",
       "    <tr>\n",
       "      <th>75%</th>\n",
       "      <td>1018.500000</td>\n",
       "      <td>1019.000000</td>\n",
       "    </tr>\n",
       "    <tr>\n",
       "      <th>max</th>\n",
       "      <td>1037.300000</td>\n",
       "      <td>1036.000000</td>\n",
       "    </tr>\n",
       "  </tbody>\n",
       "</table>\n",
       "</div>"
      ],
      "text/plain": [
       "       mb - 2700' - Berne  mb - 3950' - Stevens Pass - Schmidt Haus\n",
       "count        39901.000000                              40818.000000\n",
       "mean          1014.581390                               1015.308593\n",
       "std              6.507781                                  6.392107\n",
       "min            986.310000                                987.000000\n",
       "25%           1011.300000                               1012.000000\n",
       "50%           1015.100000                               1016.000000\n",
       "75%           1018.500000                               1019.000000\n",
       "max           1037.300000                               1036.000000"
      ]
     },
     "execution_count": 109,
     "metadata": {},
     "output_type": "execute_result"
    }
   ],
   "source": [
    "bar_p.describe()"
   ]
  },
  {
   "cell_type": "code",
   "execution_count": 110,
   "metadata": {},
   "outputs": [
    {
     "name": "stdout",
     "output_type": "stream",
     "text": [
      "<class 'pandas.core.frame.DataFrame'>\n",
      "RangeIndex: 41700 entries, 0 to 41699\n",
      "Data columns (total 3 columns):\n",
      "Date/Time (PST)                             41700 non-null object\n",
      "mb - 2700' - Berne                          39901 non-null float64\n",
      "mb - 3950' - Stevens Pass - Schmidt Haus    40818 non-null float64\n",
      "dtypes: float64(2), object(1)\n",
      "memory usage: 977.4+ KB\n"
     ]
    }
   ],
   "source": [
    "bar_p.info()"
   ]
  },
  {
   "cell_type": "code",
   "execution_count": 111,
   "metadata": {},
   "outputs": [],
   "source": [
    "bar_p['Date/Time (PST)'] = pd.to_datetime(bar_p[\"Date/Time (PST)\"])"
   ]
  },
  {
   "cell_type": "code",
   "execution_count": 112,
   "metadata": {},
   "outputs": [
    {
     "name": "stdout",
     "output_type": "stream",
     "text": [
      "<class 'pandas.core.frame.DataFrame'>\n",
      "RangeIndex: 41700 entries, 0 to 41699\n",
      "Data columns (total 3 columns):\n",
      "Date/Time (PST)                             41700 non-null datetime64[ns]\n",
      "mb - 2700' - Berne                          39901 non-null float64\n",
      "mb - 3950' - Stevens Pass - Schmidt Haus    40818 non-null float64\n",
      "dtypes: datetime64[ns](1), float64(2)\n",
      "memory usage: 977.4 KB\n"
     ]
    }
   ],
   "source": [
    "bar_p.info()"
   ]
  },
  {
   "cell_type": "code",
   "execution_count": 113,
   "metadata": {},
   "outputs": [],
   "source": [
    "bar_p = bar_p[[\"Date/Time (PST)\",\"mb - 3950\\' - Stevens Pass - Schmidt Haus\"]]"
   ]
  },
  {
   "cell_type": "code",
   "execution_count": 114,
   "metadata": {},
   "outputs": [],
   "source": [
    "df_merge = pd.merge(df_clean,bar_p,how='left',on='Date/Time (PST)')"
   ]
  },
  {
   "cell_type": "code",
   "execution_count": 115,
   "metadata": {},
   "outputs": [],
   "source": [
    "df_merge = df_merge.dropna()"
   ]
  },
  {
   "cell_type": "code",
   "execution_count": 116,
   "metadata": {},
   "outputs": [
    {
     "name": "stdout",
     "output_type": "stream",
     "text": [
      "<class 'pandas.core.frame.DataFrame'>\n",
      "Int64Index: 15717 entries, 0 to 15722\n",
      "Data columns (total 26 columns):\n",
      "Date/Time (PST)                             15717 non-null datetime64[ns]\n",
      "Battery Voltage (v)                         15717 non-null float64\n",
      "Temperature (deg F)                         15717 non-null float64\n",
      "Wind Speed Minimum (mph)                    15717 non-null float64\n",
      "Wind Speed Average (mph)                    15717 non-null float64\n",
      "Wind Speed Maximum (mph)                    15717 non-null float64\n",
      "Wind Direction (deg.)                       15717 non-null float64\n",
      "date                                        15717 non-null datetime64[ns]\n",
      "24 Hour Snow (in)                           15717 non-null float64\n",
      "Total Snow Depth (in)                       15717 non-null float64\n",
      "area                                        15717 non-null object\n",
      "danger_above_treeline                       15717 non-null float64\n",
      "danger_below_treeline                       15717 non-null float64\n",
      "danger_near_treeline                        15717 non-null float64\n",
      "date_tomorrow                               15717 non-null object\n",
      "month                                       15717 non-null int64\n",
      "max_1_day_temp                              15717 non-null float64\n",
      "min_1_day_temp                              15717 non-null float64\n",
      "max_2_day_temp                              15717 non-null float64\n",
      "min_2_day_temp                              15717 non-null float64\n",
      "max_1_day_wind                              15717 non-null float64\n",
      "max_2_day_wind                              15717 non-null float64\n",
      "max_1_day_snow                              15717 non-null float64\n",
      "max_2_day_snow                              15717 non-null float64\n",
      "max_3_day_snow                              15717 non-null float64\n",
      "mb - 3950' - Stevens Pass - Schmidt Haus    15717 non-null float64\n",
      "dtypes: datetime64[ns](2), float64(21), int64(1), object(2)\n",
      "memory usage: 3.2+ MB\n"
     ]
    }
   ],
   "source": [
    "df_merge.info()"
   ]
  },
  {
   "cell_type": "code",
   "execution_count": 117,
   "metadata": {},
   "outputs": [],
   "source": [
    "precip = pd.read_csv('csv_files/stevens_pass_precipitation_2014_now.csv')\n",
    "precip['Date/Time (PST)'] = pd.to_datetime(precip[\"Date/Time (PST)\"])"
   ]
  },
  {
   "cell_type": "code",
   "execution_count": 118,
   "metadata": {},
   "outputs": [],
   "source": [
    "precip.columns = ['Date/Time (PST)', '2700ft_Berne','3950ft_SchmidtHaus','4800ft_Brooks_precip']"
   ]
  },
  {
   "cell_type": "code",
   "execution_count": 119,
   "metadata": {},
   "outputs": [
    {
     "data": {
      "text/html": [
       "<div>\n",
       "<style scoped>\n",
       "    .dataframe tbody tr th:only-of-type {\n",
       "        vertical-align: middle;\n",
       "    }\n",
       "\n",
       "    .dataframe tbody tr th {\n",
       "        vertical-align: top;\n",
       "    }\n",
       "\n",
       "    .dataframe thead th {\n",
       "        text-align: right;\n",
       "    }\n",
       "</style>\n",
       "<table border=\"1\" class=\"dataframe\">\n",
       "  <thead>\n",
       "    <tr style=\"text-align: right;\">\n",
       "      <th></th>\n",
       "      <th>Date/Time (PST)</th>\n",
       "      <th>2700ft_Berne</th>\n",
       "      <th>3950ft_SchmidtHaus</th>\n",
       "      <th>4800ft_Brooks_precip</th>\n",
       "    </tr>\n",
       "  </thead>\n",
       "  <tbody>\n",
       "    <tr>\n",
       "      <th>0</th>\n",
       "      <td>2019-06-28 12:00:00</td>\n",
       "      <td>0.0</td>\n",
       "      <td>0.0</td>\n",
       "      <td>NaN</td>\n",
       "    </tr>\n",
       "    <tr>\n",
       "      <th>1</th>\n",
       "      <td>2019-06-28 11:00:00</td>\n",
       "      <td>0.0</td>\n",
       "      <td>0.0</td>\n",
       "      <td>NaN</td>\n",
       "    </tr>\n",
       "    <tr>\n",
       "      <th>2</th>\n",
       "      <td>2019-06-28 10:00:00</td>\n",
       "      <td>0.0</td>\n",
       "      <td>0.0</td>\n",
       "      <td>NaN</td>\n",
       "    </tr>\n",
       "    <tr>\n",
       "      <th>3</th>\n",
       "      <td>2019-06-28 09:00:00</td>\n",
       "      <td>0.0</td>\n",
       "      <td>0.0</td>\n",
       "      <td>NaN</td>\n",
       "    </tr>\n",
       "    <tr>\n",
       "      <th>4</th>\n",
       "      <td>2019-06-28 08:00:00</td>\n",
       "      <td>0.0</td>\n",
       "      <td>0.0</td>\n",
       "      <td>NaN</td>\n",
       "    </tr>\n",
       "  </tbody>\n",
       "</table>\n",
       "</div>"
      ],
      "text/plain": [
       "      Date/Time (PST)  2700ft_Berne  3950ft_SchmidtHaus  4800ft_Brooks_precip\n",
       "0 2019-06-28 12:00:00           0.0                 0.0                   NaN\n",
       "1 2019-06-28 11:00:00           0.0                 0.0                   NaN\n",
       "2 2019-06-28 10:00:00           0.0                 0.0                   NaN\n",
       "3 2019-06-28 09:00:00           0.0                 0.0                   NaN\n",
       "4 2019-06-28 08:00:00           0.0                 0.0                   NaN"
      ]
     },
     "execution_count": 119,
     "metadata": {},
     "output_type": "execute_result"
    }
   ],
   "source": [
    "precip.head()"
   ]
  },
  {
   "cell_type": "code",
   "execution_count": 120,
   "metadata": {},
   "outputs": [
    {
     "data": {
      "text/plain": [
       "Index(['Date/Time (PST)', '2700ft_Berne', '3950ft_SchmidtHaus',\n",
       "       '4800ft_Brooks_precip'],\n",
       "      dtype='object')"
      ]
     },
     "execution_count": 120,
     "metadata": {},
     "output_type": "execute_result"
    }
   ],
   "source": [
    "precip.columns"
   ]
  },
  {
   "cell_type": "code",
   "execution_count": 121,
   "metadata": {},
   "outputs": [],
   "source": [
    "precip_brooks = precip[['Date/Time (PST)','4800ft_Brooks_precip']]"
   ]
  },
  {
   "cell_type": "code",
   "execution_count": 122,
   "metadata": {},
   "outputs": [
    {
     "data": {
      "text/html": [
       "<div>\n",
       "<style scoped>\n",
       "    .dataframe tbody tr th:only-of-type {\n",
       "        vertical-align: middle;\n",
       "    }\n",
       "\n",
       "    .dataframe tbody tr th {\n",
       "        vertical-align: top;\n",
       "    }\n",
       "\n",
       "    .dataframe thead th {\n",
       "        text-align: right;\n",
       "    }\n",
       "</style>\n",
       "<table border=\"1\" class=\"dataframe\">\n",
       "  <thead>\n",
       "    <tr style=\"text-align: right;\">\n",
       "      <th></th>\n",
       "      <th>Date/Time (PST)</th>\n",
       "      <th>\" - 4790' - Stevens Pass - Grace Lakes</th>\n",
       "    </tr>\n",
       "  </thead>\n",
       "  <tbody>\n",
       "    <tr>\n",
       "      <th>0</th>\n",
       "      <td>2019-06-28 12:00</td>\n",
       "      <td>-7999.0</td>\n",
       "    </tr>\n",
       "    <tr>\n",
       "      <th>1</th>\n",
       "      <td>2019-06-28 11:00</td>\n",
       "      <td>-7999.0</td>\n",
       "    </tr>\n",
       "    <tr>\n",
       "      <th>2</th>\n",
       "      <td>2019-06-28 10:00</td>\n",
       "      <td>-7999.0</td>\n",
       "    </tr>\n",
       "    <tr>\n",
       "      <th>3</th>\n",
       "      <td>2019-06-28 09:00</td>\n",
       "      <td>-7999.0</td>\n",
       "    </tr>\n",
       "    <tr>\n",
       "      <th>4</th>\n",
       "      <td>2019-06-28 08:00</td>\n",
       "      <td>-7999.0</td>\n",
       "    </tr>\n",
       "  </tbody>\n",
       "</table>\n",
       "</div>"
      ],
      "text/plain": [
       "    Date/Time (PST)  \" - 4790' - Stevens Pass - Grace Lakes\n",
       "0  2019-06-28 12:00                                 -7999.0\n",
       "1  2019-06-28 11:00                                 -7999.0\n",
       "2  2019-06-28 10:00                                 -7999.0\n",
       "3  2019-06-28 09:00                                 -7999.0\n",
       "4  2019-06-28 08:00                                 -7999.0"
      ]
     },
     "execution_count": 122,
     "metadata": {},
     "output_type": "execute_result"
    }
   ],
   "source": [
    "shot_snow = pd.read_csv('csv_files/stevens-pass_intermittent_snow.csv')\n",
    "shot_snow.head()"
   ]
  },
  {
   "cell_type": "code",
   "execution_count": 123,
   "metadata": {},
   "outputs": [],
   "source": [
    "shot_snow[\"Date/Time (PST)\"] = pd.to_datetime(shot_snow[\"Date/Time (PST)\"])"
   ]
  },
  {
   "cell_type": "code",
   "execution_count": 126,
   "metadata": {},
   "outputs": [],
   "source": [
    "df_merge2 = pd.merge(df_merge,shot_snow,on=\"Date/Time (PST)\")"
   ]
  },
  {
   "cell_type": "code",
   "execution_count": 127,
   "metadata": {},
   "outputs": [],
   "source": [
    "merge_final = pd.merge(df_merge2,precip_brooks,on=\"Date/Time (PST)\")"
   ]
  },
  {
   "cell_type": "code",
   "execution_count": 128,
   "metadata": {},
   "outputs": [
    {
     "data": {
      "text/plain": [
       "Date/Time (PST)                                0\n",
       "Battery Voltage (v)                            0\n",
       "Temperature (deg F)                            0\n",
       "Wind Speed Minimum (mph)                       0\n",
       "Wind Speed Average (mph)                       0\n",
       "Wind Speed Maximum (mph)                       0\n",
       "Wind Direction (deg.)                          0\n",
       "date                                           0\n",
       "24 Hour Snow (in)                              0\n",
       "Total Snow Depth (in)                          0\n",
       "area                                           0\n",
       "danger_above_treeline                          0\n",
       "danger_below_treeline                          0\n",
       "danger_near_treeline                           0\n",
       "date_tomorrow                                  0\n",
       "month                                          0\n",
       "max_1_day_temp                                 0\n",
       "min_1_day_temp                                 0\n",
       "max_2_day_temp                                 0\n",
       "min_2_day_temp                                 0\n",
       "max_1_day_wind                                 0\n",
       "max_2_day_wind                                 0\n",
       "max_1_day_snow                                 0\n",
       "max_2_day_snow                                 0\n",
       "max_3_day_snow                                 0\n",
       "mb - 3950' - Stevens Pass - Schmidt Haus       0\n",
       "\" - 4790' - Stevens Pass - Grace Lakes      1416\n",
       "4800ft_Brooks_precip                           0\n",
       "dtype: int64"
      ]
     },
     "execution_count": 128,
     "metadata": {},
     "output_type": "execute_result"
    }
   ],
   "source": [
    "merge_final.isna().sum()"
   ]
  },
  {
   "cell_type": "code",
   "execution_count": 129,
   "metadata": {},
   "outputs": [
    {
     "data": {
      "text/html": [
       "<div>\n",
       "<style scoped>\n",
       "    .dataframe tbody tr th:only-of-type {\n",
       "        vertical-align: middle;\n",
       "    }\n",
       "\n",
       "    .dataframe tbody tr th {\n",
       "        vertical-align: top;\n",
       "    }\n",
       "\n",
       "    .dataframe thead th {\n",
       "        text-align: right;\n",
       "    }\n",
       "</style>\n",
       "<table border=\"1\" class=\"dataframe\">\n",
       "  <thead>\n",
       "    <tr style=\"text-align: right;\">\n",
       "      <th></th>\n",
       "      <th>Battery Voltage (v)</th>\n",
       "      <th>Temperature (deg F)</th>\n",
       "      <th>Wind Speed Minimum (mph)</th>\n",
       "      <th>Wind Speed Average (mph)</th>\n",
       "      <th>Wind Speed Maximum (mph)</th>\n",
       "      <th>Wind Direction (deg.)</th>\n",
       "      <th>24 Hour Snow (in)</th>\n",
       "      <th>Total Snow Depth (in)</th>\n",
       "      <th>danger_above_treeline</th>\n",
       "      <th>danger_below_treeline</th>\n",
       "      <th>...</th>\n",
       "      <th>max_2_day_temp</th>\n",
       "      <th>min_2_day_temp</th>\n",
       "      <th>max_1_day_wind</th>\n",
       "      <th>max_2_day_wind</th>\n",
       "      <th>max_1_day_snow</th>\n",
       "      <th>max_2_day_snow</th>\n",
       "      <th>max_3_day_snow</th>\n",
       "      <th>mb - 3950' - Stevens Pass - Schmidt Haus</th>\n",
       "      <th>\" - 4790' - Stevens Pass - Grace Lakes</th>\n",
       "      <th>4800ft_Brooks_precip</th>\n",
       "    </tr>\n",
       "  </thead>\n",
       "  <tbody>\n",
       "    <tr>\n",
       "      <th>count</th>\n",
       "      <td>14824.000000</td>\n",
       "      <td>14824.000000</td>\n",
       "      <td>14824.000000</td>\n",
       "      <td>14824.000000</td>\n",
       "      <td>14824.000000</td>\n",
       "      <td>14824.000000</td>\n",
       "      <td>14824.000000</td>\n",
       "      <td>14824.000000</td>\n",
       "      <td>14824.000000</td>\n",
       "      <td>14824.000000</td>\n",
       "      <td>...</td>\n",
       "      <td>14824.000000</td>\n",
       "      <td>14824.000000</td>\n",
       "      <td>14824.000000</td>\n",
       "      <td>14824.000000</td>\n",
       "      <td>14824.000000</td>\n",
       "      <td>14824.000000</td>\n",
       "      <td>14824.000000</td>\n",
       "      <td>14824.000000</td>\n",
       "      <td>13408.000000</td>\n",
       "      <td>14824.000000</td>\n",
       "    </tr>\n",
       "    <tr>\n",
       "      <th>mean</th>\n",
       "      <td>12.710436</td>\n",
       "      <td>25.514694</td>\n",
       "      <td>1.545698</td>\n",
       "      <td>5.787864</td>\n",
       "      <td>11.984340</td>\n",
       "      <td>179.211941</td>\n",
       "      <td>3.332867</td>\n",
       "      <td>92.447801</td>\n",
       "      <td>2.548907</td>\n",
       "      <td>2.059431</td>\n",
       "      <td>...</td>\n",
       "      <td>32.345657</td>\n",
       "      <td>20.373483</td>\n",
       "      <td>21.031461</td>\n",
       "      <td>25.368218</td>\n",
       "      <td>12.729316</td>\n",
       "      <td>18.198232</td>\n",
       "      <td>22.275397</td>\n",
       "      <td>1012.733675</td>\n",
       "      <td>-78.421844</td>\n",
       "      <td>0.013131</td>\n",
       "    </tr>\n",
       "    <tr>\n",
       "      <th>std</th>\n",
       "      <td>0.221036</td>\n",
       "      <td>8.317783</td>\n",
       "      <td>2.501591</td>\n",
       "      <td>4.832151</td>\n",
       "      <td>8.405024</td>\n",
       "      <td>97.980723</td>\n",
       "      <td>10.035249</td>\n",
       "      <td>28.541649</td>\n",
       "      <td>0.766487</td>\n",
       "      <td>0.769302</td>\n",
       "      <td>...</td>\n",
       "      <td>8.893586</td>\n",
       "      <td>7.500582</td>\n",
       "      <td>11.244975</td>\n",
       "      <td>12.016986</td>\n",
       "      <td>18.715538</td>\n",
       "      <td>20.847514</td>\n",
       "      <td>21.516754</td>\n",
       "      <td>8.184510</td>\n",
       "      <td>855.590527</td>\n",
       "      <td>0.175066</td>\n",
       "    </tr>\n",
       "    <tr>\n",
       "      <th>min</th>\n",
       "      <td>12.430000</td>\n",
       "      <td>-2.007000</td>\n",
       "      <td>0.000000</td>\n",
       "      <td>0.000000</td>\n",
       "      <td>0.000000</td>\n",
       "      <td>0.000000</td>\n",
       "      <td>-12.000000</td>\n",
       "      <td>0.000000</td>\n",
       "      <td>1.000000</td>\n",
       "      <td>1.000000</td>\n",
       "      <td>...</td>\n",
       "      <td>6.934000</td>\n",
       "      <td>-2.007000</td>\n",
       "      <td>0.000000</td>\n",
       "      <td>0.000000</td>\n",
       "      <td>-2.916000</td>\n",
       "      <td>-1.043000</td>\n",
       "      <td>0.386000</td>\n",
       "      <td>987.000000</td>\n",
       "      <td>-7999.000000</td>\n",
       "      <td>0.000000</td>\n",
       "    </tr>\n",
       "    <tr>\n",
       "      <th>25%</th>\n",
       "      <td>12.600000</td>\n",
       "      <td>20.790000</td>\n",
       "      <td>0.000000</td>\n",
       "      <td>2.862000</td>\n",
       "      <td>6.905000</td>\n",
       "      <td>86.400000</td>\n",
       "      <td>0.291000</td>\n",
       "      <td>74.140000</td>\n",
       "      <td>2.000000</td>\n",
       "      <td>2.000000</td>\n",
       "      <td>...</td>\n",
       "      <td>26.562500</td>\n",
       "      <td>16.230000</td>\n",
       "      <td>12.580000</td>\n",
       "      <td>15.780000</td>\n",
       "      <td>0.614000</td>\n",
       "      <td>1.154000</td>\n",
       "      <td>2.628000</td>\n",
       "      <td>1008.000000</td>\n",
       "      <td>2.528000</td>\n",
       "      <td>0.000000</td>\n",
       "    </tr>\n",
       "    <tr>\n",
       "      <th>50%</th>\n",
       "      <td>12.660000</td>\n",
       "      <td>25.560000</td>\n",
       "      <td>0.088000</td>\n",
       "      <td>4.361000</td>\n",
       "      <td>9.820000</td>\n",
       "      <td>233.200000</td>\n",
       "      <td>0.507000</td>\n",
       "      <td>92.400000</td>\n",
       "      <td>3.000000</td>\n",
       "      <td>2.000000</td>\n",
       "      <td>...</td>\n",
       "      <td>31.690000</td>\n",
       "      <td>21.150000</td>\n",
       "      <td>17.710000</td>\n",
       "      <td>23.370000</td>\n",
       "      <td>2.670000</td>\n",
       "      <td>5.253000</td>\n",
       "      <td>9.010000</td>\n",
       "      <td>1014.000000</td>\n",
       "      <td>6.709000</td>\n",
       "      <td>0.000000</td>\n",
       "    </tr>\n",
       "    <tr>\n",
       "      <th>75%</th>\n",
       "      <td>12.730000</td>\n",
       "      <td>30.450000</td>\n",
       "      <td>2.280000</td>\n",
       "      <td>7.221250</td>\n",
       "      <td>14.345000</td>\n",
       "      <td>270.100000</td>\n",
       "      <td>2.290000</td>\n",
       "      <td>114.100000</td>\n",
       "      <td>3.000000</td>\n",
       "      <td>3.000000</td>\n",
       "      <td>...</td>\n",
       "      <td>37.430000</td>\n",
       "      <td>25.140000</td>\n",
       "      <td>27.290000</td>\n",
       "      <td>32.700000</td>\n",
       "      <td>12.090000</td>\n",
       "      <td>46.490000</td>\n",
       "      <td>46.490000</td>\n",
       "      <td>1018.000000</td>\n",
       "      <td>14.580000</td>\n",
       "      <td>0.010000</td>\n",
       "    </tr>\n",
       "    <tr>\n",
       "      <th>max</th>\n",
       "      <td>14.670000</td>\n",
       "      <td>67.010000</td>\n",
       "      <td>21.240000</td>\n",
       "      <td>35.030000</td>\n",
       "      <td>71.790000</td>\n",
       "      <td>358.600000</td>\n",
       "      <td>75.000000</td>\n",
       "      <td>220.500000</td>\n",
       "      <td>4.000000</td>\n",
       "      <td>4.000000</td>\n",
       "      <td>...</td>\n",
       "      <td>68.510000</td>\n",
       "      <td>48.340000</td>\n",
       "      <td>71.790000</td>\n",
       "      <td>71.790000</td>\n",
       "      <td>75.000000</td>\n",
       "      <td>75.000000</td>\n",
       "      <td>75.000000</td>\n",
       "      <td>1036.000000</td>\n",
       "      <td>511.400000</td>\n",
       "      <td>21.090000</td>\n",
       "    </tr>\n",
       "  </tbody>\n",
       "</table>\n",
       "<p>8 rows × 24 columns</p>\n",
       "</div>"
      ],
      "text/plain": [
       "       Battery Voltage (v)  Temperature (deg F)  Wind Speed Minimum (mph)  \\\n",
       "count         14824.000000         14824.000000              14824.000000   \n",
       "mean             12.710436            25.514694                  1.545698   \n",
       "std               0.221036             8.317783                  2.501591   \n",
       "min              12.430000            -2.007000                  0.000000   \n",
       "25%              12.600000            20.790000                  0.000000   \n",
       "50%              12.660000            25.560000                  0.088000   \n",
       "75%              12.730000            30.450000                  2.280000   \n",
       "max              14.670000            67.010000                 21.240000   \n",
       "\n",
       "       Wind Speed Average (mph)  Wind Speed Maximum (mph)  \\\n",
       "count              14824.000000              14824.000000   \n",
       "mean                   5.787864                 11.984340   \n",
       "std                    4.832151                  8.405024   \n",
       "min                    0.000000                  0.000000   \n",
       "25%                    2.862000                  6.905000   \n",
       "50%                    4.361000                  9.820000   \n",
       "75%                    7.221250                 14.345000   \n",
       "max                   35.030000                 71.790000   \n",
       "\n",
       "       Wind Direction (deg.)  24 Hour Snow (in)  Total Snow Depth (in)  \\\n",
       "count           14824.000000       14824.000000           14824.000000   \n",
       "mean              179.211941           3.332867              92.447801   \n",
       "std                97.980723          10.035249              28.541649   \n",
       "min                 0.000000         -12.000000               0.000000   \n",
       "25%                86.400000           0.291000              74.140000   \n",
       "50%               233.200000           0.507000              92.400000   \n",
       "75%               270.100000           2.290000             114.100000   \n",
       "max               358.600000          75.000000             220.500000   \n",
       "\n",
       "       danger_above_treeline  danger_below_treeline          ...           \\\n",
       "count           14824.000000           14824.000000          ...            \n",
       "mean                2.548907               2.059431          ...            \n",
       "std                 0.766487               0.769302          ...            \n",
       "min                 1.000000               1.000000          ...            \n",
       "25%                 2.000000               2.000000          ...            \n",
       "50%                 3.000000               2.000000          ...            \n",
       "75%                 3.000000               3.000000          ...            \n",
       "max                 4.000000               4.000000          ...            \n",
       "\n",
       "       max_2_day_temp  min_2_day_temp  max_1_day_wind  max_2_day_wind  \\\n",
       "count    14824.000000    14824.000000    14824.000000    14824.000000   \n",
       "mean        32.345657       20.373483       21.031461       25.368218   \n",
       "std          8.893586        7.500582       11.244975       12.016986   \n",
       "min          6.934000       -2.007000        0.000000        0.000000   \n",
       "25%         26.562500       16.230000       12.580000       15.780000   \n",
       "50%         31.690000       21.150000       17.710000       23.370000   \n",
       "75%         37.430000       25.140000       27.290000       32.700000   \n",
       "max         68.510000       48.340000       71.790000       71.790000   \n",
       "\n",
       "       max_1_day_snow  max_2_day_snow  max_3_day_snow  \\\n",
       "count    14824.000000    14824.000000    14824.000000   \n",
       "mean        12.729316       18.198232       22.275397   \n",
       "std         18.715538       20.847514       21.516754   \n",
       "min         -2.916000       -1.043000        0.386000   \n",
       "25%          0.614000        1.154000        2.628000   \n",
       "50%          2.670000        5.253000        9.010000   \n",
       "75%         12.090000       46.490000       46.490000   \n",
       "max         75.000000       75.000000       75.000000   \n",
       "\n",
       "       mb - 3950' - Stevens Pass - Schmidt Haus  \\\n",
       "count                              14824.000000   \n",
       "mean                                1012.733675   \n",
       "std                                    8.184510   \n",
       "min                                  987.000000   \n",
       "25%                                 1008.000000   \n",
       "50%                                 1014.000000   \n",
       "75%                                 1018.000000   \n",
       "max                                 1036.000000   \n",
       "\n",
       "       \" - 4790' - Stevens Pass - Grace Lakes  4800ft_Brooks_precip  \n",
       "count                            13408.000000          14824.000000  \n",
       "mean                               -78.421844              0.013131  \n",
       "std                                855.590527              0.175066  \n",
       "min                              -7999.000000              0.000000  \n",
       "25%                                  2.528000              0.000000  \n",
       "50%                                  6.709000              0.000000  \n",
       "75%                                 14.580000              0.010000  \n",
       "max                                511.400000             21.090000  \n",
       "\n",
       "[8 rows x 24 columns]"
      ]
     },
     "execution_count": 129,
     "metadata": {},
     "output_type": "execute_result"
    }
   ],
   "source": [
    "merge_final.describe()"
   ]
  },
  {
   "cell_type": "code",
   "execution_count": 130,
   "metadata": {},
   "outputs": [],
   "source": [
    "merge_final['24 Hour Snow (in)'].plot();"
   ]
  },
  {
   "cell_type": "code",
   "execution_count": 131,
   "metadata": {},
   "outputs": [
    {
     "name": "stdout",
     "output_type": "stream",
     "text": [
      "<class 'pandas.core.frame.DataFrame'>\n",
      "Int64Index: 14824 entries, 0 to 14823\n",
      "Data columns (total 28 columns):\n",
      "Date/Time (PST)                             14824 non-null datetime64[ns]\n",
      "Battery Voltage (v)                         14824 non-null float64\n",
      "Temperature (deg F)                         14824 non-null float64\n",
      "Wind Speed Minimum (mph)                    14824 non-null float64\n",
      "Wind Speed Average (mph)                    14824 non-null float64\n",
      "Wind Speed Maximum (mph)                    14824 non-null float64\n",
      "Wind Direction (deg.)                       14824 non-null float64\n",
      "date                                        14824 non-null datetime64[ns]\n",
      "24 Hour Snow (in)                           14824 non-null float64\n",
      "Total Snow Depth (in)                       14824 non-null float64\n",
      "area                                        14824 non-null object\n",
      "danger_above_treeline                       14824 non-null float64\n",
      "danger_below_treeline                       14824 non-null float64\n",
      "danger_near_treeline                        14824 non-null float64\n",
      "date_tomorrow                               14824 non-null object\n",
      "month                                       14824 non-null int64\n",
      "max_1_day_temp                              14824 non-null float64\n",
      "min_1_day_temp                              14824 non-null float64\n",
      "max_2_day_temp                              14824 non-null float64\n",
      "min_2_day_temp                              14824 non-null float64\n",
      "max_1_day_wind                              14824 non-null float64\n",
      "max_2_day_wind                              14824 non-null float64\n",
      "max_1_day_snow                              14824 non-null float64\n",
      "max_2_day_snow                              14824 non-null float64\n",
      "max_3_day_snow                              14824 non-null float64\n",
      "mb - 3950' - Stevens Pass - Schmidt Haus    14824 non-null float64\n",
      "\" - 4790' - Stevens Pass - Grace Lakes      13408 non-null float64\n",
      "4800ft_Brooks_precip                        14824 non-null float64\n",
      "dtypes: datetime64[ns](2), float64(23), int64(1), object(2)\n",
      "memory usage: 3.3+ MB\n"
     ]
    }
   ],
   "source": [
    "merge_final.info()"
   ]
  },
  {
   "cell_type": "code",
   "execution_count": 133,
   "metadata": {},
   "outputs": [],
   "source": [
    "mapper = DataFrameMapper([\n",
    "        ([   \n",
    "            'Battery Voltage (v)', 'Temperature (deg F)',\n",
    "            'Wind Speed Minimum (mph)', 'Wind Speed Average (mph)',\n",
    "            'Wind Speed Maximum (mph)', 'Wind Direction (deg.)',\n",
    "            '24 Hour Snow (in)', 'Total Snow Depth (in)','max_1_day_temp',\n",
    "            'min_1_day_temp', 'max_2_day_temp', 'min_2_day_temp',\n",
    "            'max_1_day_snow', 'max_2_day_snow', 'max_3_day_snow',\n",
    "            \"mb - 3950' - Stevens Pass - Schmidt Haus\",\n",
    "            '4800ft_Brooks_precip'], ss)\n",
    "    ])"
   ]
  },
  {
   "cell_type": "code",
   "execution_count": 134,
   "metadata": {},
   "outputs": [],
   "source": [
    "X = merge_final[[\n",
    "        'Battery Voltage (v)', 'Temperature (deg F)',\n",
    "            'Wind Speed Minimum (mph)', 'Wind Speed Average (mph)',\n",
    "            'Wind Speed Maximum (mph)', 'Wind Direction (deg.)',\n",
    "            '24 Hour Snow (in)', 'Total Snow Depth (in)','max_1_day_temp',\n",
    "            'min_1_day_temp', 'max_2_day_temp', 'min_2_day_temp',\n",
    "            'max_1_day_snow', 'max_2_day_snow', 'max_3_day_snow',\n",
    "            \"mb - 3950' - Stevens Pass - Schmidt Haus\",\n",
    "            '4800ft_Brooks_precip']]\n",
    "\n",
    "y = merge_final['danger_near_treeline']"
   ]
  },
  {
   "cell_type": "code",
   "execution_count": 135,
   "metadata": {},
   "outputs": [],
   "source": [
    "X_train, X_test, y_train, y_test = X[:12553], X[12553:], y[:12553], y[12553:]"
   ]
  },
  {
   "cell_type": "code",
   "execution_count": 137,
   "metadata": {},
   "outputs": [
    {
     "name": "stdout",
     "output_type": "stream",
     "text": [
      "The MAE of the XGBRFRegressor is: 0.7295585019837179\n",
      "The RMSE of the XGBRFRegressor is: 0.7324887753676314\n",
      "==================================================================\n",
      "========================\n",
      "\n"
     ]
    }
   ],
   "source": [
    "pipe3 = Pipeline(steps=[\n",
    "    ('scaler',mapper),\n",
    "    ('regressor', gbr)\n",
    "])\n",
    "pipe3.fit(X_train, y_train)\n",
    "preds = pipe3.predict(X_test)\n",
    "print(f'The MAE of the {name}'\n",
    "      f' is: {mean_absolute_error((y_test),preds)}\\n'\n",
    "      f'The RMSE of the {name}'\n",
    "      f' is: {mean_squared_error((y_test),preds)}\\n'\n",
    "      '==================================================================\\n'\n",
    "      '========================\\n'\n",
    "     )\n"
   ]
  },
  {
   "cell_type": "markdown",
   "metadata": {},
   "source": [
    "## Conclusion\n",
    "-adding precipitation and the barometric pressure makes my model worse, ha"
   ]
  },
  {
   "cell_type": "code",
   "execution_count": null,
   "metadata": {},
   "outputs": [],
   "source": []
  }
 ],
 "metadata": {
  "kernelspec": {
   "display_name": "learn-env",
   "language": "python",
   "name": "learn-env"
  },
  "language_info": {
   "codemirror_mode": {
    "name": "ipython",
    "version": 3
   },
   "file_extension": ".py",
   "mimetype": "text/x-python",
   "name": "python",
   "nbconvert_exporter": "python",
   "pygments_lexer": "ipython3",
   "version": "3.7.1"
  }
 },
 "nbformat": 4,
 "nbformat_minor": 2
}
