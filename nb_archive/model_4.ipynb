{
 "cells": [
  {
   "cell_type": "code",
   "execution_count": 2,
   "metadata": {},
   "outputs": [],
   "source": [
    "import numpy as np\n",
    "import pandas as pd\n",
    "from xgboost import XGBRFRegressor, XGBRegressor\n",
    "from sklearn.pipeline import Pipeline\n",
    "from sklearn.preprocessing import StandardScaler, OneHotEncoder\n",
    "from sklearn_pandas import DataFrameMapper\n",
    "from sklearn.compose import ColumnTransformer\n",
    "from sklearn.model_selection import train_test_split\n",
    "from sklearn.linear_model import LinearRegression\n",
    "from sklearn.ensemble import GradientBoostingRegressor, RandomForestRegressor\n",
    "from sklearn.neighbors import KNeighborsRegressor\n",
    "from sklearn.preprocessing import FunctionTransformer\n",
    "from sklearn.metrics import mean_absolute_error, accuracy_score, mean_squared_error"
   ]
  },
  {
   "cell_type": "code",
   "execution_count": 3,
   "metadata": {},
   "outputs": [],
   "source": [
    "df = pd.read_json('json_archive/stevens_data_master.json')"
   ]
  },
  {
   "cell_type": "code",
   "execution_count": 4,
   "metadata": {},
   "outputs": [
    {
     "data": {
      "text/html": [
       "<div>\n",
       "<style scoped>\n",
       "    .dataframe tbody tr th:only-of-type {\n",
       "        vertical-align: middle;\n",
       "    }\n",
       "\n",
       "    .dataframe tbody tr th {\n",
       "        vertical-align: top;\n",
       "    }\n",
       "\n",
       "    .dataframe thead th {\n",
       "        text-align: right;\n",
       "    }\n",
       "</style>\n",
       "<table border=\"1\" class=\"dataframe\">\n",
       "  <thead>\n",
       "    <tr style=\"text-align: right;\">\n",
       "      <th></th>\n",
       "      <th>Date/Time (PST)</th>\n",
       "      <th>Battery Voltage (v)</th>\n",
       "      <th>Temperature (deg F)</th>\n",
       "      <th>Wind Speed Minimum (mph)</th>\n",
       "      <th>Wind Speed Average (mph)</th>\n",
       "      <th>Wind Speed Maximum (mph)</th>\n",
       "      <th>Wind Direction (deg.)</th>\n",
       "      <th>date</th>\n",
       "      <th>24 Hour Snow (in)</th>\n",
       "      <th>Total Snow Depth (in)</th>\n",
       "      <th>Relative Humidity (%)</th>\n",
       "      <th>area</th>\n",
       "      <th>danger_above_treeline</th>\n",
       "      <th>danger_below_treeline</th>\n",
       "      <th>danger_near_treeline</th>\n",
       "      <th>date_tomorrow</th>\n",
       "      <th>month</th>\n",
       "    </tr>\n",
       "  </thead>\n",
       "  <tbody>\n",
       "    <tr>\n",
       "      <th>4</th>\n",
       "      <td>2019-04-30 19:00:00</td>\n",
       "      <td>13.58</td>\n",
       "      <td>37.24</td>\n",
       "      <td>0.088</td>\n",
       "      <td>9.15</td>\n",
       "      <td>20.58</td>\n",
       "      <td>283.8</td>\n",
       "      <td>2019-04-30</td>\n",
       "      <td>58.71</td>\n",
       "      <td>73.74</td>\n",
       "      <td>44.20</td>\n",
       "      <td>None</td>\n",
       "      <td>NaN</td>\n",
       "      <td>NaN</td>\n",
       "      <td>NaN</td>\n",
       "      <td>None</td>\n",
       "      <td>4</td>\n",
       "    </tr>\n",
       "    <tr>\n",
       "      <th>3</th>\n",
       "      <td>2019-04-30 20:00:00</td>\n",
       "      <td>12.93</td>\n",
       "      <td>36.32</td>\n",
       "      <td>5.283</td>\n",
       "      <td>12.32</td>\n",
       "      <td>16.57</td>\n",
       "      <td>276.0</td>\n",
       "      <td>2019-04-30</td>\n",
       "      <td>57.70</td>\n",
       "      <td>73.84</td>\n",
       "      <td>47.01</td>\n",
       "      <td>None</td>\n",
       "      <td>NaN</td>\n",
       "      <td>NaN</td>\n",
       "      <td>NaN</td>\n",
       "      <td>None</td>\n",
       "      <td>4</td>\n",
       "    </tr>\n",
       "    <tr>\n",
       "      <th>2</th>\n",
       "      <td>2019-04-30 21:00:00</td>\n",
       "      <td>12.85</td>\n",
       "      <td>35.28</td>\n",
       "      <td>8.180</td>\n",
       "      <td>12.70</td>\n",
       "      <td>17.65</td>\n",
       "      <td>274.7</td>\n",
       "      <td>2019-04-30</td>\n",
       "      <td>57.03</td>\n",
       "      <td>73.71</td>\n",
       "      <td>44.28</td>\n",
       "      <td>None</td>\n",
       "      <td>NaN</td>\n",
       "      <td>NaN</td>\n",
       "      <td>NaN</td>\n",
       "      <td>None</td>\n",
       "      <td>4</td>\n",
       "    </tr>\n",
       "    <tr>\n",
       "      <th>1</th>\n",
       "      <td>2019-04-30 22:00:00</td>\n",
       "      <td>12.82</td>\n",
       "      <td>34.52</td>\n",
       "      <td>4.910</td>\n",
       "      <td>11.97</td>\n",
       "      <td>16.22</td>\n",
       "      <td>275.2</td>\n",
       "      <td>2019-04-30</td>\n",
       "      <td>56.09</td>\n",
       "      <td>73.82</td>\n",
       "      <td>44.66</td>\n",
       "      <td>None</td>\n",
       "      <td>NaN</td>\n",
       "      <td>NaN</td>\n",
       "      <td>NaN</td>\n",
       "      <td>None</td>\n",
       "      <td>4</td>\n",
       "    </tr>\n",
       "    <tr>\n",
       "      <th>0</th>\n",
       "      <td>2019-04-30 23:00:00</td>\n",
       "      <td>12.80</td>\n",
       "      <td>33.07</td>\n",
       "      <td>5.962</td>\n",
       "      <td>9.23</td>\n",
       "      <td>13.33</td>\n",
       "      <td>267.0</td>\n",
       "      <td>2019-04-30</td>\n",
       "      <td>54.89</td>\n",
       "      <td>74.06</td>\n",
       "      <td>52.35</td>\n",
       "      <td>None</td>\n",
       "      <td>NaN</td>\n",
       "      <td>NaN</td>\n",
       "      <td>NaN</td>\n",
       "      <td>None</td>\n",
       "      <td>4</td>\n",
       "    </tr>\n",
       "  </tbody>\n",
       "</table>\n",
       "</div>"
      ],
      "text/plain": [
       "       Date/Time (PST)  Battery Voltage (v)  Temperature (deg F)  \\\n",
       "4  2019-04-30 19:00:00                13.58                37.24   \n",
       "3  2019-04-30 20:00:00                12.93                36.32   \n",
       "2  2019-04-30 21:00:00                12.85                35.28   \n",
       "1  2019-04-30 22:00:00                12.82                34.52   \n",
       "0  2019-04-30 23:00:00                12.80                33.07   \n",
       "\n",
       "   Wind Speed Minimum (mph)  Wind Speed Average (mph)  \\\n",
       "4                     0.088                      9.15   \n",
       "3                     5.283                     12.32   \n",
       "2                     8.180                     12.70   \n",
       "1                     4.910                     11.97   \n",
       "0                     5.962                      9.23   \n",
       "\n",
       "   Wind Speed Maximum (mph)  Wind Direction (deg.)       date  \\\n",
       "4                     20.58                  283.8 2019-04-30   \n",
       "3                     16.57                  276.0 2019-04-30   \n",
       "2                     17.65                  274.7 2019-04-30   \n",
       "1                     16.22                  275.2 2019-04-30   \n",
       "0                     13.33                  267.0 2019-04-30   \n",
       "\n",
       "   24 Hour Snow (in)  Total Snow Depth (in)  Relative Humidity (%)  area  \\\n",
       "4              58.71                  73.74                  44.20  None   \n",
       "3              57.70                  73.84                  47.01  None   \n",
       "2              57.03                  73.71                  44.28  None   \n",
       "1              56.09                  73.82                  44.66  None   \n",
       "0              54.89                  74.06                  52.35  None   \n",
       "\n",
       "   danger_above_treeline  danger_below_treeline  danger_near_treeline  \\\n",
       "4                    NaN                    NaN                   NaN   \n",
       "3                    NaN                    NaN                   NaN   \n",
       "2                    NaN                    NaN                   NaN   \n",
       "1                    NaN                    NaN                   NaN   \n",
       "0                    NaN                    NaN                   NaN   \n",
       "\n",
       "  date_tomorrow  month  \n",
       "4          None      4  \n",
       "3          None      4  \n",
       "2          None      4  \n",
       "1          None      4  \n",
       "0          None      4  "
      ]
     },
     "execution_count": 4,
     "metadata": {},
     "output_type": "execute_result"
    }
   ],
   "source": [
    "df = df.sort_values(by='Date/Time (PST)',ascending=True)\n",
    "df.tail()"
   ]
  },
  {
   "cell_type": "code",
   "execution_count": 5,
   "metadata": {},
   "outputs": [
    {
     "name": "stdout",
     "output_type": "stream",
     "text": [
      "<class 'pandas.core.frame.DataFrame'>\n",
      "Int64Index: 21303 entries, 21302 to 0\n",
      "Data columns (total 17 columns):\n",
      "Date/Time (PST)             21303 non-null object\n",
      "Battery Voltage (v)         21296 non-null float64\n",
      "Temperature (deg F)         21295 non-null float64\n",
      "Wind Speed Minimum (mph)    21295 non-null float64\n",
      "Wind Speed Average (mph)    21295 non-null float64\n",
      "Wind Speed Maximum (mph)    21295 non-null float64\n",
      "Wind Direction (deg.)       19429 non-null float64\n",
      "date                        21303 non-null datetime64[ns]\n",
      "24 Hour Snow (in)           17685 non-null float64\n",
      "Total Snow Depth (in)       17685 non-null float64\n",
      "Relative Humidity (%)       178 non-null float64\n",
      "area                        19682 non-null object\n",
      "danger_above_treeline       19346 non-null float64\n",
      "danger_below_treeline       19346 non-null float64\n",
      "danger_near_treeline        19346 non-null float64\n",
      "date_tomorrow               19682 non-null object\n",
      "month                       21303 non-null int64\n",
      "dtypes: datetime64[ns](1), float64(12), int64(1), object(3)\n",
      "memory usage: 2.9+ MB\n"
     ]
    }
   ],
   "source": [
    "df.info()"
   ]
  },
  {
   "cell_type": "markdown",
   "metadata": {},
   "source": [
    "### It appears that the relative humidity column is nearly empty (only 178 columns, bummer)"
   ]
  },
  {
   "cell_type": "code",
   "execution_count": 6,
   "metadata": {},
   "outputs": [],
   "source": [
    "#convert datetime back into datetime format from string\n",
    "df['Date/Time (PST)'] = pd.to_datetime(df['Date/Time (PST)'])"
   ]
  },
  {
   "cell_type": "code",
   "execution_count": 7,
   "metadata": {},
   "outputs": [
    {
     "data": {
      "text/html": [
       "<div>\n",
       "<style scoped>\n",
       "    .dataframe tbody tr th:only-of-type {\n",
       "        vertical-align: middle;\n",
       "    }\n",
       "\n",
       "    .dataframe tbody tr th {\n",
       "        vertical-align: top;\n",
       "    }\n",
       "\n",
       "    .dataframe thead th {\n",
       "        text-align: right;\n",
       "    }\n",
       "</style>\n",
       "<table border=\"1\" class=\"dataframe\">\n",
       "  <thead>\n",
       "    <tr style=\"text-align: right;\">\n",
       "      <th></th>\n",
       "      <th>Date/Time (PST)</th>\n",
       "      <th>Battery Voltage (v)</th>\n",
       "      <th>Temperature (deg F)</th>\n",
       "      <th>Wind Speed Minimum (mph)</th>\n",
       "      <th>Wind Speed Average (mph)</th>\n",
       "      <th>Wind Speed Maximum (mph)</th>\n",
       "      <th>Wind Direction (deg.)</th>\n",
       "      <th>date</th>\n",
       "      <th>24 Hour Snow (in)</th>\n",
       "      <th>Total Snow Depth (in)</th>\n",
       "      <th>Relative Humidity (%)</th>\n",
       "      <th>area</th>\n",
       "      <th>danger_above_treeline</th>\n",
       "      <th>danger_below_treeline</th>\n",
       "      <th>danger_near_treeline</th>\n",
       "      <th>date_tomorrow</th>\n",
       "      <th>month</th>\n",
       "    </tr>\n",
       "  </thead>\n",
       "  <tbody>\n",
       "    <tr>\n",
       "      <th>21302</th>\n",
       "      <td>2014-12-17 13:00:00</td>\n",
       "      <td>0.0</td>\n",
       "      <td>12.89</td>\n",
       "      <td>25.3</td>\n",
       "      <td>0.008</td>\n",
       "      <td>0.81</td>\n",
       "      <td>125.4</td>\n",
       "      <td>2014-12-17</td>\n",
       "      <td>NaN</td>\n",
       "      <td>NaN</td>\n",
       "      <td>NaN</td>\n",
       "      <td>None</td>\n",
       "      <td>NaN</td>\n",
       "      <td>NaN</td>\n",
       "      <td>NaN</td>\n",
       "      <td>None</td>\n",
       "      <td>12</td>\n",
       "    </tr>\n",
       "  </tbody>\n",
       "</table>\n",
       "</div>"
      ],
      "text/plain": [
       "          Date/Time (PST)  Battery Voltage (v)  Temperature (deg F)  \\\n",
       "21302 2014-12-17 13:00:00                  0.0                12.89   \n",
       "\n",
       "       Wind Speed Minimum (mph)  Wind Speed Average (mph)  \\\n",
       "21302                      25.3                     0.008   \n",
       "\n",
       "       Wind Speed Maximum (mph)  Wind Direction (deg.)       date  \\\n",
       "21302                      0.81                  125.4 2014-12-17   \n",
       "\n",
       "       24 Hour Snow (in)  Total Snow Depth (in)  Relative Humidity (%)  area  \\\n",
       "21302                NaN                    NaN                    NaN  None   \n",
       "\n",
       "       danger_above_treeline  danger_below_treeline  danger_near_treeline  \\\n",
       "21302                    NaN                    NaN                   NaN   \n",
       "\n",
       "      date_tomorrow  month  \n",
       "21302          None     12  "
      ]
     },
     "execution_count": 7,
     "metadata": {},
     "output_type": "execute_result"
    }
   ],
   "source": [
    "df.head(1)"
   ]
  },
  {
   "cell_type": "code",
   "execution_count": 8,
   "metadata": {},
   "outputs": [
    {
     "name": "stdout",
     "output_type": "stream",
     "text": [
      "<class 'pandas.core.frame.DataFrame'>\n",
      "Int64Index: 21303 entries, 21302 to 0\n",
      "Data columns (total 17 columns):\n",
      "Date/Time (PST)             21303 non-null datetime64[ns]\n",
      "Battery Voltage (v)         21296 non-null float64\n",
      "Temperature (deg F)         21295 non-null float64\n",
      "Wind Speed Minimum (mph)    21295 non-null float64\n",
      "Wind Speed Average (mph)    21295 non-null float64\n",
      "Wind Speed Maximum (mph)    21295 non-null float64\n",
      "Wind Direction (deg.)       19429 non-null float64\n",
      "date                        21303 non-null datetime64[ns]\n",
      "24 Hour Snow (in)           17685 non-null float64\n",
      "Total Snow Depth (in)       17685 non-null float64\n",
      "Relative Humidity (%)       178 non-null float64\n",
      "area                        19682 non-null object\n",
      "danger_above_treeline       19346 non-null float64\n",
      "danger_below_treeline       19346 non-null float64\n",
      "danger_near_treeline        19346 non-null float64\n",
      "date_tomorrow               19682 non-null object\n",
      "month                       21303 non-null int64\n",
      "dtypes: datetime64[ns](2), float64(12), int64(1), object(2)\n",
      "memory usage: 2.9+ MB\n"
     ]
    }
   ],
   "source": [
    "df.info()"
   ]
  },
  {
   "cell_type": "code",
   "execution_count": 9,
   "metadata": {},
   "outputs": [],
   "source": [
    "df = df.drop('Relative Humidity (%)',axis=1)"
   ]
  },
  {
   "cell_type": "code",
   "execution_count": 10,
   "metadata": {},
   "outputs": [
    {
     "name": "stdout",
     "output_type": "stream",
     "text": [
      "<class 'pandas.core.frame.DataFrame'>\n",
      "Int64Index: 21303 entries, 21302 to 0\n",
      "Data columns (total 16 columns):\n",
      "Date/Time (PST)             21303 non-null datetime64[ns]\n",
      "Battery Voltage (v)         21296 non-null float64\n",
      "Temperature (deg F)         21295 non-null float64\n",
      "Wind Speed Minimum (mph)    21295 non-null float64\n",
      "Wind Speed Average (mph)    21295 non-null float64\n",
      "Wind Speed Maximum (mph)    21295 non-null float64\n",
      "Wind Direction (deg.)       19429 non-null float64\n",
      "date                        21303 non-null datetime64[ns]\n",
      "24 Hour Snow (in)           17685 non-null float64\n",
      "Total Snow Depth (in)       17685 non-null float64\n",
      "area                        19682 non-null object\n",
      "danger_above_treeline       19346 non-null float64\n",
      "danger_below_treeline       19346 non-null float64\n",
      "danger_near_treeline        19346 non-null float64\n",
      "date_tomorrow               19682 non-null object\n",
      "month                       21303 non-null int64\n",
      "dtypes: datetime64[ns](2), float64(11), int64(1), object(2)\n",
      "memory usage: 2.8+ MB\n"
     ]
    }
   ],
   "source": [
    "df.info()"
   ]
  },
  {
   "cell_type": "code",
   "execution_count": 11,
   "metadata": {},
   "outputs": [
    {
     "data": {
      "text/html": [
       "<div>\n",
       "<style scoped>\n",
       "    .dataframe tbody tr th:only-of-type {\n",
       "        vertical-align: middle;\n",
       "    }\n",
       "\n",
       "    .dataframe tbody tr th {\n",
       "        vertical-align: top;\n",
       "    }\n",
       "\n",
       "    .dataframe thead th {\n",
       "        text-align: right;\n",
       "    }\n",
       "</style>\n",
       "<table border=\"1\" class=\"dataframe\">\n",
       "  <thead>\n",
       "    <tr style=\"text-align: right;\">\n",
       "      <th></th>\n",
       "      <th>Battery Voltage (v)</th>\n",
       "      <th>Temperature (deg F)</th>\n",
       "      <th>Wind Speed Minimum (mph)</th>\n",
       "      <th>Wind Speed Average (mph)</th>\n",
       "      <th>Wind Speed Maximum (mph)</th>\n",
       "      <th>Wind Direction (deg.)</th>\n",
       "      <th>24 Hour Snow (in)</th>\n",
       "      <th>Total Snow Depth (in)</th>\n",
       "      <th>danger_above_treeline</th>\n",
       "      <th>danger_below_treeline</th>\n",
       "      <th>danger_near_treeline</th>\n",
       "      <th>month</th>\n",
       "    </tr>\n",
       "  </thead>\n",
       "  <tbody>\n",
       "    <tr>\n",
       "      <th>count</th>\n",
       "      <td>21296.000000</td>\n",
       "      <td>21295.000000</td>\n",
       "      <td>21295.000000</td>\n",
       "      <td>21295.000000</td>\n",
       "      <td>21295.000000</td>\n",
       "      <td>19429.000000</td>\n",
       "      <td>17685.000000</td>\n",
       "      <td>17685.000000</td>\n",
       "      <td>19346.000000</td>\n",
       "      <td>19346.000000</td>\n",
       "      <td>19346.000000</td>\n",
       "      <td>21303.000000</td>\n",
       "    </tr>\n",
       "    <tr>\n",
       "      <th>mean</th>\n",
       "      <td>12.543848</td>\n",
       "      <td>26.028648</td>\n",
       "      <td>2.420495</td>\n",
       "      <td>6.437304</td>\n",
       "      <td>12.053108</td>\n",
       "      <td>179.496993</td>\n",
       "      <td>0.018083</td>\n",
       "      <td>91.418860</td>\n",
       "      <td>2.477618</td>\n",
       "      <td>1.954202</td>\n",
       "      <td>2.301458</td>\n",
       "      <td>4.368399</td>\n",
       "    </tr>\n",
       "    <tr>\n",
       "      <th>std</th>\n",
       "      <td>2.549749</td>\n",
       "      <td>78.319369</td>\n",
       "      <td>5.125817</td>\n",
       "      <td>6.052230</td>\n",
       "      <td>8.402773</td>\n",
       "      <td>99.822767</td>\n",
       "      <td>91.868543</td>\n",
       "      <td>29.605817</td>\n",
       "      <td>0.780573</td>\n",
       "      <td>0.775944</td>\n",
       "      <td>0.771484</td>\n",
       "      <td>3.969149</td>\n",
       "    </tr>\n",
       "    <tr>\n",
       "      <th>min</th>\n",
       "      <td>0.000000</td>\n",
       "      <td>-7999.000000</td>\n",
       "      <td>-7.743000</td>\n",
       "      <td>0.000000</td>\n",
       "      <td>0.000000</td>\n",
       "      <td>0.000000</td>\n",
       "      <td>-7999.000000</td>\n",
       "      <td>-162.700000</td>\n",
       "      <td>1.000000</td>\n",
       "      <td>1.000000</td>\n",
       "      <td>1.000000</td>\n",
       "      <td>1.000000</td>\n",
       "    </tr>\n",
       "    <tr>\n",
       "      <th>25%</th>\n",
       "      <td>12.610000</td>\n",
       "      <td>21.580000</td>\n",
       "      <td>0.000000</td>\n",
       "      <td>2.899000</td>\n",
       "      <td>7.212000</td>\n",
       "      <td>86.300000</td>\n",
       "      <td>0.283000</td>\n",
       "      <td>73.360000</td>\n",
       "      <td>2.000000</td>\n",
       "      <td>1.000000</td>\n",
       "      <td>2.000000</td>\n",
       "      <td>2.000000</td>\n",
       "    </tr>\n",
       "    <tr>\n",
       "      <th>50%</th>\n",
       "      <td>12.660000</td>\n",
       "      <td>26.780000</td>\n",
       "      <td>0.285000</td>\n",
       "      <td>4.654000</td>\n",
       "      <td>10.000000</td>\n",
       "      <td>241.600000</td>\n",
       "      <td>0.512000</td>\n",
       "      <td>91.600000</td>\n",
       "      <td>2.000000</td>\n",
       "      <td>2.000000</td>\n",
       "      <td>2.000000</td>\n",
       "      <td>3.000000</td>\n",
       "    </tr>\n",
       "    <tr>\n",
       "      <th>75%</th>\n",
       "      <td>12.740000</td>\n",
       "      <td>31.870000</td>\n",
       "      <td>2.877000</td>\n",
       "      <td>8.090000</td>\n",
       "      <td>14.250000</td>\n",
       "      <td>270.700000</td>\n",
       "      <td>2.425000</td>\n",
       "      <td>114.000000</td>\n",
       "      <td>3.000000</td>\n",
       "      <td>2.000000</td>\n",
       "      <td>3.000000</td>\n",
       "      <td>4.000000</td>\n",
       "    </tr>\n",
       "    <tr>\n",
       "      <th>max</th>\n",
       "      <td>45.980000</td>\n",
       "      <td>68.510000</td>\n",
       "      <td>53.250000</td>\n",
       "      <td>84.900000</td>\n",
       "      <td>71.790000</td>\n",
       "      <td>359.700000</td>\n",
       "      <td>166.300000</td>\n",
       "      <td>220.500000</td>\n",
       "      <td>4.000000</td>\n",
       "      <td>4.000000</td>\n",
       "      <td>4.000000</td>\n",
       "      <td>12.000000</td>\n",
       "    </tr>\n",
       "  </tbody>\n",
       "</table>\n",
       "</div>"
      ],
      "text/plain": [
       "       Battery Voltage (v)  Temperature (deg F)  Wind Speed Minimum (mph)  \\\n",
       "count         21296.000000         21295.000000              21295.000000   \n",
       "mean             12.543848            26.028648                  2.420495   \n",
       "std               2.549749            78.319369                  5.125817   \n",
       "min               0.000000         -7999.000000                 -7.743000   \n",
       "25%              12.610000            21.580000                  0.000000   \n",
       "50%              12.660000            26.780000                  0.285000   \n",
       "75%              12.740000            31.870000                  2.877000   \n",
       "max              45.980000            68.510000                 53.250000   \n",
       "\n",
       "       Wind Speed Average (mph)  Wind Speed Maximum (mph)  \\\n",
       "count              21295.000000              21295.000000   \n",
       "mean                   6.437304                 12.053108   \n",
       "std                    6.052230                  8.402773   \n",
       "min                    0.000000                  0.000000   \n",
       "25%                    2.899000                  7.212000   \n",
       "50%                    4.654000                 10.000000   \n",
       "75%                    8.090000                 14.250000   \n",
       "max                   84.900000                 71.790000   \n",
       "\n",
       "       Wind Direction (deg.)  24 Hour Snow (in)  Total Snow Depth (in)  \\\n",
       "count           19429.000000       17685.000000           17685.000000   \n",
       "mean              179.496993           0.018083              91.418860   \n",
       "std                99.822767          91.868543              29.605817   \n",
       "min                 0.000000       -7999.000000            -162.700000   \n",
       "25%                86.300000           0.283000              73.360000   \n",
       "50%               241.600000           0.512000              91.600000   \n",
       "75%               270.700000           2.425000             114.000000   \n",
       "max               359.700000         166.300000             220.500000   \n",
       "\n",
       "       danger_above_treeline  danger_below_treeline  danger_near_treeline  \\\n",
       "count           19346.000000           19346.000000          19346.000000   \n",
       "mean                2.477618               1.954202              2.301458   \n",
       "std                 0.780573               0.775944              0.771484   \n",
       "min                 1.000000               1.000000              1.000000   \n",
       "25%                 2.000000               1.000000              2.000000   \n",
       "50%                 2.000000               2.000000              2.000000   \n",
       "75%                 3.000000               2.000000              3.000000   \n",
       "max                 4.000000               4.000000              4.000000   \n",
       "\n",
       "              month  \n",
       "count  21303.000000  \n",
       "mean       4.368399  \n",
       "std        3.969149  \n",
       "min        1.000000  \n",
       "25%        2.000000  \n",
       "50%        3.000000  \n",
       "75%        4.000000  \n",
       "max       12.000000  "
      ]
     },
     "execution_count": 11,
     "metadata": {},
     "output_type": "execute_result"
    }
   ],
   "source": [
    "df.describe()"
   ]
  },
  {
   "cell_type": "code",
   "execution_count": 12,
   "metadata": {},
   "outputs": [
    {
     "data": {
      "text/plain": [
       "(21303, 16)"
      ]
     },
     "execution_count": 12,
     "metadata": {},
     "output_type": "execute_result"
    }
   ],
   "source": [
    "df.shape"
   ]
  },
  {
   "cell_type": "code",
   "execution_count": 13,
   "metadata": {},
   "outputs": [],
   "source": [
    "#df.clip changes all values below the number provided, gets rid of negatives in my case\n",
    "#wind_index = df.loc[df['Wind Speed Minimum (mph)'] <= 0].index\n",
    "#change all of these to zeros"
   ]
  },
  {
   "cell_type": "markdown",
   "metadata": {},
   "source": [
    "## whats the max amount of snow ever recored in a day?\n",
    "\n",
    "There are two contenders for this title. The most commonly accepted figure is the 75.8” of snow that fell in 24 hours at Silver Lake, Colorado on April 14-15, 1921. The other option is a 78.0” total measured at Mile 47 Camp, Alaska on February 7, 1963.Dec 20, 2016\n",
    "\n",
    "This being said, lets cut if off at 75\". rather than delete and lose info, lets assume machine was working and correct it to this cap we establishing\n",
    "\n",
    "likewise for the lowest 24 hour snow period. Melting events can occur, so lets set this limit to a foot"
   ]
  },
  {
   "cell_type": "code",
   "execution_count": 14,
   "metadata": {},
   "outputs": [],
   "source": [
    "df['24 Hour Snow (in)'] = df['24 Hour Snow (in)'].clip(upper=75)\n",
    "df['24 Hour Snow (in)'] = df['24 Hour Snow (in)'].clip(lower=-12)\n",
    "df['Total Snow Depth (in)'] = df['Total Snow Depth (in)'].clip(lower=0)\n",
    "df['Temperature (deg F)'] = df['Temperature (deg F)'].clip(lower=-10)\n",
    "df['Wind Speed Minimum (mph)'] = df['Wind Speed Minimum (mph)'].clip(lower=0)"
   ]
  },
  {
   "cell_type": "code",
   "execution_count": 15,
   "metadata": {},
   "outputs": [
    {
     "data": {
      "text/plain": [
       "(21303, 16)"
      ]
     },
     "execution_count": 15,
     "metadata": {},
     "output_type": "execute_result"
    }
   ],
   "source": [
    "df.shape"
   ]
  },
  {
   "cell_type": "code",
   "execution_count": 16,
   "metadata": {},
   "outputs": [
    {
     "data": {
      "text/html": [
       "<div>\n",
       "<style scoped>\n",
       "    .dataframe tbody tr th:only-of-type {\n",
       "        vertical-align: middle;\n",
       "    }\n",
       "\n",
       "    .dataframe tbody tr th {\n",
       "        vertical-align: top;\n",
       "    }\n",
       "\n",
       "    .dataframe thead th {\n",
       "        text-align: right;\n",
       "    }\n",
       "</style>\n",
       "<table border=\"1\" class=\"dataframe\">\n",
       "  <thead>\n",
       "    <tr style=\"text-align: right;\">\n",
       "      <th></th>\n",
       "      <th>Date/Time (PST)</th>\n",
       "      <th>Battery Voltage (v)</th>\n",
       "      <th>Temperature (deg F)</th>\n",
       "      <th>Wind Speed Minimum (mph)</th>\n",
       "      <th>Wind Speed Average (mph)</th>\n",
       "      <th>Wind Speed Maximum (mph)</th>\n",
       "      <th>Wind Direction (deg.)</th>\n",
       "      <th>date</th>\n",
       "      <th>24 Hour Snow (in)</th>\n",
       "      <th>Total Snow Depth (in)</th>\n",
       "      <th>area</th>\n",
       "      <th>danger_above_treeline</th>\n",
       "      <th>danger_below_treeline</th>\n",
       "      <th>danger_near_treeline</th>\n",
       "      <th>date_tomorrow</th>\n",
       "      <th>month</th>\n",
       "    </tr>\n",
       "  </thead>\n",
       "  <tbody>\n",
       "    <tr>\n",
       "      <th>21302</th>\n",
       "      <td>2014-12-17 13:00:00</td>\n",
       "      <td>0.0</td>\n",
       "      <td>12.89</td>\n",
       "      <td>25.3</td>\n",
       "      <td>0.008</td>\n",
       "      <td>0.81</td>\n",
       "      <td>125.4</td>\n",
       "      <td>2014-12-17</td>\n",
       "      <td>NaN</td>\n",
       "      <td>NaN</td>\n",
       "      <td>None</td>\n",
       "      <td>NaN</td>\n",
       "      <td>NaN</td>\n",
       "      <td>NaN</td>\n",
       "      <td>None</td>\n",
       "      <td>12</td>\n",
       "    </tr>\n",
       "  </tbody>\n",
       "</table>\n",
       "</div>"
      ],
      "text/plain": [
       "          Date/Time (PST)  Battery Voltage (v)  Temperature (deg F)  \\\n",
       "21302 2014-12-17 13:00:00                  0.0                12.89   \n",
       "\n",
       "       Wind Speed Minimum (mph)  Wind Speed Average (mph)  \\\n",
       "21302                      25.3                     0.008   \n",
       "\n",
       "       Wind Speed Maximum (mph)  Wind Direction (deg.)       date  \\\n",
       "21302                      0.81                  125.4 2014-12-17   \n",
       "\n",
       "       24 Hour Snow (in)  Total Snow Depth (in)  area  danger_above_treeline  \\\n",
       "21302                NaN                    NaN  None                    NaN   \n",
       "\n",
       "       danger_below_treeline  danger_near_treeline date_tomorrow  month  \n",
       "21302                    NaN                   NaN          None     12  "
      ]
     },
     "execution_count": 16,
     "metadata": {},
     "output_type": "execute_result"
    }
   ],
   "source": [
    "df.head(1)"
   ]
  },
  {
   "cell_type": "code",
   "execution_count": 17,
   "metadata": {},
   "outputs": [],
   "source": [
    "df['yesterdays_snow'] = df['24 Hour Snow (in)'].shift(-24)"
   ]
  },
  {
   "cell_type": "code",
   "execution_count": 18,
   "metadata": {},
   "outputs": [
    {
     "data": {
      "text/plain": [
       "Date/Time (PST)             2014-12-21 17:00:00\n",
       "Battery Voltage (v)                       13.61\n",
       "Temperature (deg F)                       31.07\n",
       "Wind Speed Minimum (mph)                  28.14\n",
       "Wind Speed Average (mph)                  45.34\n",
       "Wind Speed Maximum (mph)                     10\n",
       "Wind Direction (deg.)                       NaN\n",
       "date                        2014-12-21 00:00:00\n",
       "24 Hour Snow (in)                           NaN\n",
       "Total Snow Depth (in)                       NaN\n",
       "area                               Stevens Pass\n",
       "danger_above_treeline                         3\n",
       "danger_below_treeline                         2\n",
       "danger_near_treeline                          2\n",
       "date_tomorrow                 December 22, 2014\n",
       "month                                        12\n",
       "yesterdays_snow                             NaN\n",
       "Name: 21202, dtype: object"
      ]
     },
     "execution_count": 18,
     "metadata": {},
     "output_type": "execute_result"
    }
   ],
   "source": [
    "df.iloc[100,]"
   ]
  },
  {
   "cell_type": "code",
   "execution_count": 19,
   "metadata": {},
   "outputs": [],
   "source": [
    "## I Need to create my boundaries of possible readings before making my rolling columns\n",
    "#-24 hour min/max temp\n",
    "\n",
    "#-48 hour min/max temp\n",
    "\n",
    "#-24/48h/72h 24 hour snow max\n",
    "\n",
    "#-24/48 H max wind\n",
    "\n",
    "df['max_1_day_temp']= df['Temperature (deg F)'].rolling(24).max()\n",
    "df['min_1_day_temp']= df['Temperature (deg F)'].rolling(24).min()\n",
    "df['max_2_day_temp']= df['Temperature (deg F)'].rolling(48).max()\n",
    "df['min_2_day_temp']= df['Temperature (deg F)'].rolling(48).min()\n",
    "\n",
    "df['max_1_day_wind']= df['Wind Speed Maximum (mph)'].rolling(24).max()\n",
    "df['max_2_day_wind']= df['Wind Speed Maximum (mph)'].rolling(48).max()\n",
    "\n",
    "df['max_1_day_snow']= df['24 Hour Snow (in)'].rolling(24).max()\n",
    "df['max_2_day_snow']= df['24 Hour Snow (in)'].rolling(48).max()\n",
    "df['max_3_day_snow']= df['24 Hour Snow (in)'].rolling(72).max()"
   ]
  },
  {
   "cell_type": "code",
   "execution_count": 20,
   "metadata": {},
   "outputs": [
    {
     "data": {
      "text/plain": [
       "(21303, 26)"
      ]
     },
     "execution_count": 20,
     "metadata": {},
     "output_type": "execute_result"
    }
   ],
   "source": [
    "df.shape"
   ]
  },
  {
   "cell_type": "code",
   "execution_count": 21,
   "metadata": {},
   "outputs": [
    {
     "data": {
      "text/html": [
       "<div>\n",
       "<style scoped>\n",
       "    .dataframe tbody tr th:only-of-type {\n",
       "        vertical-align: middle;\n",
       "    }\n",
       "\n",
       "    .dataframe tbody tr th {\n",
       "        vertical-align: top;\n",
       "    }\n",
       "\n",
       "    .dataframe thead th {\n",
       "        text-align: right;\n",
       "    }\n",
       "</style>\n",
       "<table border=\"1\" class=\"dataframe\">\n",
       "  <thead>\n",
       "    <tr style=\"text-align: right;\">\n",
       "      <th></th>\n",
       "      <th>Date/Time (PST)</th>\n",
       "      <th>Battery Voltage (v)</th>\n",
       "      <th>Temperature (deg F)</th>\n",
       "      <th>Wind Speed Minimum (mph)</th>\n",
       "      <th>Wind Speed Average (mph)</th>\n",
       "      <th>Wind Speed Maximum (mph)</th>\n",
       "      <th>Wind Direction (deg.)</th>\n",
       "      <th>date</th>\n",
       "      <th>24 Hour Snow (in)</th>\n",
       "      <th>Total Snow Depth (in)</th>\n",
       "      <th>...</th>\n",
       "      <th>yesterdays_snow</th>\n",
       "      <th>max_1_day_temp</th>\n",
       "      <th>min_1_day_temp</th>\n",
       "      <th>max_2_day_temp</th>\n",
       "      <th>min_2_day_temp</th>\n",
       "      <th>max_1_day_wind</th>\n",
       "      <th>max_2_day_wind</th>\n",
       "      <th>max_1_day_snow</th>\n",
       "      <th>max_2_day_snow</th>\n",
       "      <th>max_3_day_snow</th>\n",
       "    </tr>\n",
       "  </thead>\n",
       "  <tbody>\n",
       "    <tr>\n",
       "      <th>21302</th>\n",
       "      <td>2014-12-17 13:00:00</td>\n",
       "      <td>0.00</td>\n",
       "      <td>12.89</td>\n",
       "      <td>25.300</td>\n",
       "      <td>0.008</td>\n",
       "      <td>0.81</td>\n",
       "      <td>125.4</td>\n",
       "      <td>2014-12-17</td>\n",
       "      <td>NaN</td>\n",
       "      <td>NaN</td>\n",
       "      <td>...</td>\n",
       "      <td>NaN</td>\n",
       "      <td>NaN</td>\n",
       "      <td>NaN</td>\n",
       "      <td>NaN</td>\n",
       "      <td>NaN</td>\n",
       "      <td>NaN</td>\n",
       "      <td>NaN</td>\n",
       "      <td>NaN</td>\n",
       "      <td>NaN</td>\n",
       "      <td>NaN</td>\n",
       "    </tr>\n",
       "    <tr>\n",
       "      <th>21301</th>\n",
       "      <td>2014-12-17 14:00:00</td>\n",
       "      <td>12.79</td>\n",
       "      <td>25.97</td>\n",
       "      <td>0.004</td>\n",
       "      <td>0.101</td>\n",
       "      <td>10.00</td>\n",
       "      <td>NaN</td>\n",
       "      <td>2014-12-17</td>\n",
       "      <td>NaN</td>\n",
       "      <td>NaN</td>\n",
       "      <td>...</td>\n",
       "      <td>NaN</td>\n",
       "      <td>NaN</td>\n",
       "      <td>NaN</td>\n",
       "      <td>NaN</td>\n",
       "      <td>NaN</td>\n",
       "      <td>NaN</td>\n",
       "      <td>NaN</td>\n",
       "      <td>NaN</td>\n",
       "      <td>NaN</td>\n",
       "      <td>NaN</td>\n",
       "    </tr>\n",
       "    <tr>\n",
       "      <th>21300</th>\n",
       "      <td>2014-12-17 15:00:00</td>\n",
       "      <td>12.76</td>\n",
       "      <td>25.30</td>\n",
       "      <td>0.003</td>\n",
       "      <td>0.439</td>\n",
       "      <td>10.00</td>\n",
       "      <td>NaN</td>\n",
       "      <td>2014-12-17</td>\n",
       "      <td>NaN</td>\n",
       "      <td>NaN</td>\n",
       "      <td>...</td>\n",
       "      <td>NaN</td>\n",
       "      <td>NaN</td>\n",
       "      <td>NaN</td>\n",
       "      <td>NaN</td>\n",
       "      <td>NaN</td>\n",
       "      <td>NaN</td>\n",
       "      <td>NaN</td>\n",
       "      <td>NaN</td>\n",
       "      <td>NaN</td>\n",
       "      <td>NaN</td>\n",
       "    </tr>\n",
       "  </tbody>\n",
       "</table>\n",
       "<p>3 rows × 26 columns</p>\n",
       "</div>"
      ],
      "text/plain": [
       "          Date/Time (PST)  Battery Voltage (v)  Temperature (deg F)  \\\n",
       "21302 2014-12-17 13:00:00                 0.00                12.89   \n",
       "21301 2014-12-17 14:00:00                12.79                25.97   \n",
       "21300 2014-12-17 15:00:00                12.76                25.30   \n",
       "\n",
       "       Wind Speed Minimum (mph)  Wind Speed Average (mph)  \\\n",
       "21302                    25.300                     0.008   \n",
       "21301                     0.004                     0.101   \n",
       "21300                     0.003                     0.439   \n",
       "\n",
       "       Wind Speed Maximum (mph)  Wind Direction (deg.)       date  \\\n",
       "21302                      0.81                  125.4 2014-12-17   \n",
       "21301                     10.00                    NaN 2014-12-17   \n",
       "21300                     10.00                    NaN 2014-12-17   \n",
       "\n",
       "       24 Hour Snow (in)  Total Snow Depth (in)       ...        \\\n",
       "21302                NaN                    NaN       ...         \n",
       "21301                NaN                    NaN       ...         \n",
       "21300                NaN                    NaN       ...         \n",
       "\n",
       "      yesterdays_snow  max_1_day_temp  min_1_day_temp  max_2_day_temp  \\\n",
       "21302             NaN             NaN             NaN             NaN   \n",
       "21301             NaN             NaN             NaN             NaN   \n",
       "21300             NaN             NaN             NaN             NaN   \n",
       "\n",
       "      min_2_day_temp  max_1_day_wind  max_2_day_wind  max_1_day_snow  \\\n",
       "21302            NaN             NaN             NaN             NaN   \n",
       "21301            NaN             NaN             NaN             NaN   \n",
       "21300            NaN             NaN             NaN             NaN   \n",
       "\n",
       "       max_2_day_snow  max_3_day_snow  \n",
       "21302             NaN             NaN  \n",
       "21301             NaN             NaN  \n",
       "21300             NaN             NaN  \n",
       "\n",
       "[3 rows x 26 columns]"
      ]
     },
     "execution_count": 21,
     "metadata": {},
     "output_type": "execute_result"
    }
   ],
   "source": [
    "df.head(3)"
   ]
  },
  {
   "cell_type": "code",
   "execution_count": 22,
   "metadata": {},
   "outputs": [
    {
     "data": {
      "text/html": [
       "<div>\n",
       "<style scoped>\n",
       "    .dataframe tbody tr th:only-of-type {\n",
       "        vertical-align: middle;\n",
       "    }\n",
       "\n",
       "    .dataframe tbody tr th {\n",
       "        vertical-align: top;\n",
       "    }\n",
       "\n",
       "    .dataframe thead th {\n",
       "        text-align: right;\n",
       "    }\n",
       "</style>\n",
       "<table border=\"1\" class=\"dataframe\">\n",
       "  <thead>\n",
       "    <tr style=\"text-align: right;\">\n",
       "      <th></th>\n",
       "      <th>Battery Voltage (v)</th>\n",
       "      <th>Temperature (deg F)</th>\n",
       "      <th>Wind Speed Minimum (mph)</th>\n",
       "      <th>Wind Speed Average (mph)</th>\n",
       "      <th>Wind Speed Maximum (mph)</th>\n",
       "      <th>Wind Direction (deg.)</th>\n",
       "      <th>24 Hour Snow (in)</th>\n",
       "      <th>Total Snow Depth (in)</th>\n",
       "      <th>danger_above_treeline</th>\n",
       "      <th>danger_below_treeline</th>\n",
       "      <th>...</th>\n",
       "      <th>yesterdays_snow</th>\n",
       "      <th>max_1_day_temp</th>\n",
       "      <th>min_1_day_temp</th>\n",
       "      <th>max_2_day_temp</th>\n",
       "      <th>min_2_day_temp</th>\n",
       "      <th>max_1_day_wind</th>\n",
       "      <th>max_2_day_wind</th>\n",
       "      <th>max_1_day_snow</th>\n",
       "      <th>max_2_day_snow</th>\n",
       "      <th>max_3_day_snow</th>\n",
       "    </tr>\n",
       "  </thead>\n",
       "  <tbody>\n",
       "    <tr>\n",
       "      <th>count</th>\n",
       "      <td>21296.000000</td>\n",
       "      <td>21295.000000</td>\n",
       "      <td>21295.000000</td>\n",
       "      <td>21295.000000</td>\n",
       "      <td>21295.000000</td>\n",
       "      <td>19429.000000</td>\n",
       "      <td>17685.000000</td>\n",
       "      <td>17685.000000</td>\n",
       "      <td>19346.000000</td>\n",
       "      <td>19346.000000</td>\n",
       "      <td>...</td>\n",
       "      <td>17685.000000</td>\n",
       "      <td>21088.000000</td>\n",
       "      <td>21088.000000</td>\n",
       "      <td>20872.00000</td>\n",
       "      <td>20872.000000</td>\n",
       "      <td>21088.000000</td>\n",
       "      <td>20872.000000</td>\n",
       "      <td>17478.000000</td>\n",
       "      <td>17262.000000</td>\n",
       "      <td>17046.000000</td>\n",
       "    </tr>\n",
       "    <tr>\n",
       "      <th>mean</th>\n",
       "      <td>12.543848</td>\n",
       "      <td>26.780736</td>\n",
       "      <td>2.420865</td>\n",
       "      <td>6.437304</td>\n",
       "      <td>12.053108</td>\n",
       "      <td>179.496993</td>\n",
       "      <td>4.609215</td>\n",
       "      <td>91.431192</td>\n",
       "      <td>2.477618</td>\n",
       "      <td>1.954202</td>\n",
       "      <td>...</td>\n",
       "      <td>4.609215</td>\n",
       "      <td>31.771706</td>\n",
       "      <td>22.944213</td>\n",
       "      <td>34.07113</td>\n",
       "      <td>21.324983</td>\n",
       "      <td>20.646100</td>\n",
       "      <td>24.834413</td>\n",
       "      <td>14.036090</td>\n",
       "      <td>19.478129</td>\n",
       "      <td>23.689635</td>\n",
       "    </tr>\n",
       "    <tr>\n",
       "      <th>std</th>\n",
       "      <td>2.549749</td>\n",
       "      <td>9.194085</td>\n",
       "      <td>5.125367</td>\n",
       "      <td>6.052230</td>\n",
       "      <td>8.402773</td>\n",
       "      <td>99.822767</td>\n",
       "      <td>13.874658</td>\n",
       "      <td>29.539448</td>\n",
       "      <td>0.780573</td>\n",
       "      <td>0.775944</td>\n",
       "      <td>...</td>\n",
       "      <td>13.874658</td>\n",
       "      <td>9.829899</td>\n",
       "      <td>8.194052</td>\n",
       "      <td>9.72274</td>\n",
       "      <td>7.982558</td>\n",
       "      <td>11.564135</td>\n",
       "      <td>12.607514</td>\n",
       "      <td>20.977083</td>\n",
       "      <td>22.588715</td>\n",
       "      <td>22.962622</td>\n",
       "    </tr>\n",
       "    <tr>\n",
       "      <th>min</th>\n",
       "      <td>0.000000</td>\n",
       "      <td>-10.000000</td>\n",
       "      <td>0.000000</td>\n",
       "      <td>0.000000</td>\n",
       "      <td>0.000000</td>\n",
       "      <td>0.000000</td>\n",
       "      <td>-12.000000</td>\n",
       "      <td>0.000000</td>\n",
       "      <td>1.000000</td>\n",
       "      <td>1.000000</td>\n",
       "      <td>...</td>\n",
       "      <td>-12.000000</td>\n",
       "      <td>0.066000</td>\n",
       "      <td>-10.000000</td>\n",
       "      <td>1.00800</td>\n",
       "      <td>-10.000000</td>\n",
       "      <td>0.000000</td>\n",
       "      <td>0.000000</td>\n",
       "      <td>-12.000000</td>\n",
       "      <td>-12.000000</td>\n",
       "      <td>-12.000000</td>\n",
       "    </tr>\n",
       "    <tr>\n",
       "      <th>25%</th>\n",
       "      <td>12.610000</td>\n",
       "      <td>21.580000</td>\n",
       "      <td>0.000000</td>\n",
       "      <td>2.899000</td>\n",
       "      <td>7.212000</td>\n",
       "      <td>86.300000</td>\n",
       "      <td>0.283000</td>\n",
       "      <td>73.360000</td>\n",
       "      <td>2.000000</td>\n",
       "      <td>1.000000</td>\n",
       "      <td>...</td>\n",
       "      <td>0.283000</td>\n",
       "      <td>25.640000</td>\n",
       "      <td>18.420000</td>\n",
       "      <td>27.72000</td>\n",
       "      <td>16.920000</td>\n",
       "      <td>11.750000</td>\n",
       "      <td>14.875000</td>\n",
       "      <td>0.614000</td>\n",
       "      <td>1.215000</td>\n",
       "      <td>2.796000</td>\n",
       "    </tr>\n",
       "    <tr>\n",
       "      <th>50%</th>\n",
       "      <td>12.660000</td>\n",
       "      <td>26.780000</td>\n",
       "      <td>0.285000</td>\n",
       "      <td>4.654000</td>\n",
       "      <td>10.000000</td>\n",
       "      <td>241.600000</td>\n",
       "      <td>0.512000</td>\n",
       "      <td>91.600000</td>\n",
       "      <td>2.000000</td>\n",
       "      <td>2.000000</td>\n",
       "      <td>...</td>\n",
       "      <td>0.512000</td>\n",
       "      <td>31.290000</td>\n",
       "      <td>23.630000</td>\n",
       "      <td>33.18000</td>\n",
       "      <td>22.540000</td>\n",
       "      <td>17.340000</td>\n",
       "      <td>22.930000</td>\n",
       "      <td>2.787000</td>\n",
       "      <td>5.388000</td>\n",
       "      <td>10.730000</td>\n",
       "    </tr>\n",
       "    <tr>\n",
       "      <th>75%</th>\n",
       "      <td>12.740000</td>\n",
       "      <td>31.870000</td>\n",
       "      <td>2.877000</td>\n",
       "      <td>8.090000</td>\n",
       "      <td>14.250000</td>\n",
       "      <td>270.700000</td>\n",
       "      <td>2.425000</td>\n",
       "      <td>114.000000</td>\n",
       "      <td>3.000000</td>\n",
       "      <td>2.000000</td>\n",
       "      <td>...</td>\n",
       "      <td>2.425000</td>\n",
       "      <td>37.530000</td>\n",
       "      <td>28.130000</td>\n",
       "      <td>40.14000</td>\n",
       "      <td>26.340000</td>\n",
       "      <td>27.160000</td>\n",
       "      <td>32.405000</td>\n",
       "      <td>14.110000</td>\n",
       "      <td>46.490000</td>\n",
       "      <td>46.490000</td>\n",
       "    </tr>\n",
       "    <tr>\n",
       "      <th>max</th>\n",
       "      <td>45.980000</td>\n",
       "      <td>68.510000</td>\n",
       "      <td>53.250000</td>\n",
       "      <td>84.900000</td>\n",
       "      <td>71.790000</td>\n",
       "      <td>359.700000</td>\n",
       "      <td>75.000000</td>\n",
       "      <td>220.500000</td>\n",
       "      <td>4.000000</td>\n",
       "      <td>4.000000</td>\n",
       "      <td>...</td>\n",
       "      <td>75.000000</td>\n",
       "      <td>68.510000</td>\n",
       "      <td>53.960000</td>\n",
       "      <td>68.51000</td>\n",
       "      <td>49.480000</td>\n",
       "      <td>71.790000</td>\n",
       "      <td>71.790000</td>\n",
       "      <td>75.000000</td>\n",
       "      <td>75.000000</td>\n",
       "      <td>75.000000</td>\n",
       "    </tr>\n",
       "  </tbody>\n",
       "</table>\n",
       "<p>8 rows × 22 columns</p>\n",
       "</div>"
      ],
      "text/plain": [
       "       Battery Voltage (v)  Temperature (deg F)  Wind Speed Minimum (mph)  \\\n",
       "count         21296.000000         21295.000000              21295.000000   \n",
       "mean             12.543848            26.780736                  2.420865   \n",
       "std               2.549749             9.194085                  5.125367   \n",
       "min               0.000000           -10.000000                  0.000000   \n",
       "25%              12.610000            21.580000                  0.000000   \n",
       "50%              12.660000            26.780000                  0.285000   \n",
       "75%              12.740000            31.870000                  2.877000   \n",
       "max              45.980000            68.510000                 53.250000   \n",
       "\n",
       "       Wind Speed Average (mph)  Wind Speed Maximum (mph)  \\\n",
       "count              21295.000000              21295.000000   \n",
       "mean                   6.437304                 12.053108   \n",
       "std                    6.052230                  8.402773   \n",
       "min                    0.000000                  0.000000   \n",
       "25%                    2.899000                  7.212000   \n",
       "50%                    4.654000                 10.000000   \n",
       "75%                    8.090000                 14.250000   \n",
       "max                   84.900000                 71.790000   \n",
       "\n",
       "       Wind Direction (deg.)  24 Hour Snow (in)  Total Snow Depth (in)  \\\n",
       "count           19429.000000       17685.000000           17685.000000   \n",
       "mean              179.496993           4.609215              91.431192   \n",
       "std                99.822767          13.874658              29.539448   \n",
       "min                 0.000000         -12.000000               0.000000   \n",
       "25%                86.300000           0.283000              73.360000   \n",
       "50%               241.600000           0.512000              91.600000   \n",
       "75%               270.700000           2.425000             114.000000   \n",
       "max               359.700000          75.000000             220.500000   \n",
       "\n",
       "       danger_above_treeline  danger_below_treeline       ...        \\\n",
       "count           19346.000000           19346.000000       ...         \n",
       "mean                2.477618               1.954202       ...         \n",
       "std                 0.780573               0.775944       ...         \n",
       "min                 1.000000               1.000000       ...         \n",
       "25%                 2.000000               1.000000       ...         \n",
       "50%                 2.000000               2.000000       ...         \n",
       "75%                 3.000000               2.000000       ...         \n",
       "max                 4.000000               4.000000       ...         \n",
       "\n",
       "       yesterdays_snow  max_1_day_temp  min_1_day_temp  max_2_day_temp  \\\n",
       "count     17685.000000    21088.000000    21088.000000     20872.00000   \n",
       "mean          4.609215       31.771706       22.944213        34.07113   \n",
       "std          13.874658        9.829899        8.194052         9.72274   \n",
       "min         -12.000000        0.066000      -10.000000         1.00800   \n",
       "25%           0.283000       25.640000       18.420000        27.72000   \n",
       "50%           0.512000       31.290000       23.630000        33.18000   \n",
       "75%           2.425000       37.530000       28.130000        40.14000   \n",
       "max          75.000000       68.510000       53.960000        68.51000   \n",
       "\n",
       "       min_2_day_temp  max_1_day_wind  max_2_day_wind  max_1_day_snow  \\\n",
       "count    20872.000000    21088.000000    20872.000000    17478.000000   \n",
       "mean        21.324983       20.646100       24.834413       14.036090   \n",
       "std          7.982558       11.564135       12.607514       20.977083   \n",
       "min        -10.000000        0.000000        0.000000      -12.000000   \n",
       "25%         16.920000       11.750000       14.875000        0.614000   \n",
       "50%         22.540000       17.340000       22.930000        2.787000   \n",
       "75%         26.340000       27.160000       32.405000       14.110000   \n",
       "max         49.480000       71.790000       71.790000       75.000000   \n",
       "\n",
       "       max_2_day_snow  max_3_day_snow  \n",
       "count    17262.000000    17046.000000  \n",
       "mean        19.478129       23.689635  \n",
       "std         22.588715       22.962622  \n",
       "min        -12.000000      -12.000000  \n",
       "25%          1.215000        2.796000  \n",
       "50%          5.388000       10.730000  \n",
       "75%         46.490000       46.490000  \n",
       "max         75.000000       75.000000  \n",
       "\n",
       "[8 rows x 22 columns]"
      ]
     },
     "execution_count": 22,
     "metadata": {},
     "output_type": "execute_result"
    }
   ],
   "source": [
    "df.describe() #looks a lot better!"
   ]
  },
  {
   "cell_type": "code",
   "execution_count": 23,
   "metadata": {},
   "outputs": [
    {
     "data": {
      "text/plain": [
       "Index(['Date/Time (PST)', 'Battery Voltage (v)', 'Temperature (deg F)',\n",
       "       'Wind Speed Minimum (mph)', 'Wind Speed Average (mph)',\n",
       "       'Wind Speed Maximum (mph)', 'Wind Direction (deg.)', 'date',\n",
       "       '24 Hour Snow (in)', 'Total Snow Depth (in)', 'area',\n",
       "       'danger_above_treeline', 'danger_below_treeline',\n",
       "       'danger_near_treeline', 'date_tomorrow', 'month', 'yesterdays_snow',\n",
       "       'max_1_day_temp', 'min_1_day_temp', 'max_2_day_temp', 'min_2_day_temp',\n",
       "       'max_1_day_wind', 'max_2_day_wind', 'max_1_day_snow', 'max_2_day_snow',\n",
       "       'max_3_day_snow'],\n",
       "      dtype='object')"
      ]
     },
     "execution_count": 23,
     "metadata": {},
     "output_type": "execute_result"
    }
   ],
   "source": [
    "df.columns"
   ]
  },
  {
   "cell_type": "code",
   "execution_count": 24,
   "metadata": {},
   "outputs": [
    {
     "data": {
      "text/plain": [
       "Date/Time (PST)                0\n",
       "Battery Voltage (v)            7\n",
       "Temperature (deg F)            8\n",
       "Wind Speed Minimum (mph)       8\n",
       "Wind Speed Average (mph)       8\n",
       "Wind Speed Maximum (mph)       8\n",
       "Wind Direction (deg.)       1874\n",
       "date                           0\n",
       "24 Hour Snow (in)           3618\n",
       "Total Snow Depth (in)       3618\n",
       "area                        1621\n",
       "danger_above_treeline       1957\n",
       "danger_below_treeline       1957\n",
       "danger_near_treeline        1957\n",
       "date_tomorrow               1621\n",
       "month                          0\n",
       "yesterdays_snow             3618\n",
       "max_1_day_temp               215\n",
       "min_1_day_temp               215\n",
       "max_2_day_temp               431\n",
       "min_2_day_temp               431\n",
       "max_1_day_wind               215\n",
       "max_2_day_wind               431\n",
       "max_1_day_snow              3825\n",
       "max_2_day_snow              4041\n",
       "max_3_day_snow              4257\n",
       "dtype: int64"
      ]
     },
     "execution_count": 24,
     "metadata": {},
     "output_type": "execute_result"
    }
   ],
   "source": [
    "df.isna().sum()"
   ]
  },
  {
   "cell_type": "code",
   "execution_count": 25,
   "metadata": {},
   "outputs": [],
   "source": [
    "no_avy_index = df.loc[df['danger_above_treeline'].isna()].index\n",
    "df = df.drop(index=no_avy_index,axis=0)"
   ]
  },
  {
   "cell_type": "code",
   "execution_count": 26,
   "metadata": {},
   "outputs": [
    {
     "data": {
      "text/plain": [
       "Date/Time (PST)                0\n",
       "Battery Voltage (v)            5\n",
       "Temperature (deg F)            6\n",
       "Wind Speed Minimum (mph)       6\n",
       "Wind Speed Average (mph)       6\n",
       "Wind Speed Maximum (mph)       6\n",
       "Wind Direction (deg.)       1838\n",
       "date                           0\n",
       "24 Hour Snow (in)           3220\n",
       "Total Snow Depth (in)       3220\n",
       "area                           0\n",
       "danger_above_treeline          0\n",
       "danger_below_treeline          0\n",
       "danger_near_treeline           0\n",
       "date_tomorrow                  0\n",
       "month                          0\n",
       "yesterdays_snow             3220\n",
       "max_1_day_temp               144\n",
       "min_1_day_temp               144\n",
       "max_2_day_temp               300\n",
       "min_2_day_temp               300\n",
       "max_1_day_wind               144\n",
       "max_2_day_wind               300\n",
       "max_1_day_snow              3335\n",
       "max_2_day_snow              3455\n",
       "max_3_day_snow              3575\n",
       "dtype: int64"
      ]
     },
     "execution_count": 26,
     "metadata": {},
     "output_type": "execute_result"
    }
   ],
   "source": [
    "df.isna().sum()\n",
    "\n",
    "#wind direction and 23 hour snow depth must also be removed\n"
   ]
  },
  {
   "cell_type": "code",
   "execution_count": 27,
   "metadata": {},
   "outputs": [],
   "source": [
    "no_snow_depth = df.loc[df['Total Snow Depth (in)'].isna()].index"
   ]
  },
  {
   "cell_type": "code",
   "execution_count": 28,
   "metadata": {},
   "outputs": [
    {
     "data": {
      "text/plain": [
       "3220"
      ]
     },
     "execution_count": 28,
     "metadata": {},
     "output_type": "execute_result"
    }
   ],
   "source": [
    "df.loc[df['Total Snow Depth (in)'].isna()].shape[0]"
   ]
  },
  {
   "cell_type": "code",
   "execution_count": 29,
   "metadata": {},
   "outputs": [
    {
     "data": {
      "text/plain": [
       "3220"
      ]
     },
     "execution_count": 29,
     "metadata": {},
     "output_type": "execute_result"
    }
   ],
   "source": [
    "df.shape[0] - df.drop(index=no_snow_depth).shape[0]"
   ]
  },
  {
   "cell_type": "code",
   "execution_count": 30,
   "metadata": {},
   "outputs": [],
   "source": [
    "df = df.drop(index=no_snow_depth)"
   ]
  },
  {
   "cell_type": "code",
   "execution_count": 31,
   "metadata": {},
   "outputs": [
    {
     "data": {
      "text/plain": [
       "Date/Time (PST)               0\n",
       "Battery Voltage (v)           0\n",
       "Temperature (deg F)           1\n",
       "Wind Speed Minimum (mph)      1\n",
       "Wind Speed Average (mph)      1\n",
       "Wind Speed Maximum (mph)      1\n",
       "Wind Direction (deg.)         1\n",
       "date                          0\n",
       "24 Hour Snow (in)             0\n",
       "Total Snow Depth (in)         0\n",
       "area                          0\n",
       "danger_above_treeline         0\n",
       "danger_below_treeline         0\n",
       "danger_near_treeline          0\n",
       "date_tomorrow                 0\n",
       "month                         0\n",
       "yesterdays_snow               5\n",
       "max_1_day_temp              139\n",
       "min_1_day_temp              139\n",
       "max_2_day_temp              283\n",
       "min_2_day_temp              283\n",
       "max_1_day_wind              139\n",
       "max_2_day_wind              283\n",
       "max_1_day_snow              115\n",
       "max_2_day_snow              235\n",
       "max_3_day_snow              355\n",
       "dtype: int64"
      ]
     },
     "execution_count": 31,
     "metadata": {},
     "output_type": "execute_result"
    }
   ],
   "source": [
    "df.isna().sum()\n"
   ]
  },
  {
   "cell_type": "code",
   "execution_count": 32,
   "metadata": {},
   "outputs": [],
   "source": [
    "df_clean = df.dropna()"
   ]
  },
  {
   "cell_type": "markdown",
   "metadata": {},
   "source": [
    "## Now, what do i want my X's to be?? \n",
    "\n",
    "X: temp, wind speed average, 24 hour snow (in), max/min 24 and 48 H temp \n",
    "\n",
    "Y: danger_near_treeline"
   ]
  },
  {
   "cell_type": "code",
   "execution_count": 33,
   "metadata": {},
   "outputs": [],
   "source": [
    "df_clean = df_clean.reset_index(drop=True)"
   ]
  },
  {
   "cell_type": "code",
   "execution_count": 34,
   "metadata": {},
   "outputs": [
    {
     "data": {
      "text/plain": [
       "Index(['Date/Time (PST)', 'Battery Voltage (v)', 'Temperature (deg F)',\n",
       "       'Wind Speed Minimum (mph)', 'Wind Speed Average (mph)',\n",
       "       'Wind Speed Maximum (mph)', 'Wind Direction (deg.)', 'date',\n",
       "       '24 Hour Snow (in)', 'Total Snow Depth (in)', 'area',\n",
       "       'danger_above_treeline', 'danger_below_treeline',\n",
       "       'danger_near_treeline', 'date_tomorrow', 'month', 'yesterdays_snow',\n",
       "       'max_1_day_temp', 'min_1_day_temp', 'max_2_day_temp', 'min_2_day_temp',\n",
       "       'max_1_day_wind', 'max_2_day_wind', 'max_1_day_snow', 'max_2_day_snow',\n",
       "       'max_3_day_snow'],\n",
       "      dtype='object')"
      ]
     },
     "execution_count": 34,
     "metadata": {},
     "output_type": "execute_result"
    }
   ],
   "source": [
    "df_clean.columns"
   ]
  },
  {
   "cell_type": "code",
   "execution_count": 35,
   "metadata": {},
   "outputs": [
    {
     "data": {
      "text/plain": [
       "12574.400000000001"
      ]
     },
     "execution_count": 35,
     "metadata": {},
     "output_type": "execute_result"
    }
   ],
   "source": [
    "df_clean.shape[0]*.80\n"
   ]
  },
  {
   "cell_type": "code",
   "execution_count": 36,
   "metadata": {},
   "outputs": [],
   "source": [
    "X = df_clean[[\n",
    "            'Battery Voltage (v)', 'Temperature (deg F)',\n",
    "            'Wind Speed Minimum (mph)', 'Wind Speed Average (mph)',\n",
    "            'Wind Speed Maximum (mph)', 'Wind Direction (deg.)',\n",
    "            '24 Hour Snow (in)', 'Total Snow Depth (in)','max_1_day_temp',\n",
    "            'min_1_day_temp', 'max_2_day_temp', 'min_2_day_temp',\n",
    "            'max_1_day_snow', 'max_2_day_snow', 'max_3_day_snow']]\n",
    "\n",
    "y = df_clean['danger_near_treeline']"
   ]
  },
  {
   "cell_type": "code",
   "execution_count": 37,
   "metadata": {},
   "outputs": [],
   "source": [
    "X_train, X_test, y_train, y_test = X[:12578], X[12578:], y[:12578], y[12578:]"
   ]
  },
  {
   "cell_type": "code",
   "execution_count": null,
   "metadata": {},
   "outputs": [],
   "source": []
  },
  {
   "cell_type": "markdown",
   "metadata": {},
   "source": [
    "DO A CHRONOLIGCAL SPLIT, because its a time series problem\n"
   ]
  },
  {
   "cell_type": "code",
   "execution_count": 38,
   "metadata": {},
   "outputs": [
    {
     "data": {
      "text/plain": [
       "Battery Voltage (v)         0\n",
       "Temperature (deg F)         0\n",
       "Wind Speed Minimum (mph)    0\n",
       "Wind Speed Average (mph)    0\n",
       "Wind Speed Maximum (mph)    0\n",
       "Wind Direction (deg.)       0\n",
       "24 Hour Snow (in)           0\n",
       "Total Snow Depth (in)       0\n",
       "max_1_day_temp              0\n",
       "min_1_day_temp              0\n",
       "max_2_day_temp              0\n",
       "min_2_day_temp              0\n",
       "max_1_day_snow              0\n",
       "max_2_day_snow              0\n",
       "max_3_day_snow              0\n",
       "dtype: int64"
      ]
     },
     "execution_count": 38,
     "metadata": {},
     "output_type": "execute_result"
    }
   ],
   "source": [
    "X_train.isna().sum()"
   ]
  },
  {
   "cell_type": "code",
   "execution_count": 39,
   "metadata": {},
   "outputs": [],
   "source": [
    "ss = StandardScaler()"
   ]
  },
  {
   "cell_type": "code",
   "execution_count": 40,
   "metadata": {},
   "outputs": [],
   "source": [
    "mapper = DataFrameMapper([\n",
    "    ([   'Battery Voltage (v)', 'Temperature (deg F)',\n",
    "            'Wind Speed Minimum (mph)', 'Wind Speed Average (mph)',\n",
    "            'Wind Speed Maximum (mph)', 'Wind Direction (deg.)',\n",
    "            '24 Hour Snow (in)', 'Total Snow Depth (in)','max_1_day_temp',\n",
    "            'min_1_day_temp', 'max_2_day_temp', 'min_2_day_temp',\n",
    "            'max_1_day_snow', 'max_2_day_snow', 'max_3_day_snow'], ss)\n",
    "    ])"
   ]
  },
  {
   "cell_type": "code",
   "execution_count": 41,
   "metadata": {},
   "outputs": [],
   "source": [
    "lr = LinearRegression()\n",
    "rfr = RandomForestRegressor(n_estimators=100)\n",
    "gbr = GradientBoostingRegressor(n_estimators=100)\n",
    "knnr = KNeighborsRegressor()\n",
    "xgbr = XGBRegressor(objective='reg:squarederror')\n",
    "xgbrfr = XGBRFRegressor(objective='reg:squarederror')\n",
    "regressors = [lr, rfr, gbr, knnr, xgbr,xgbrfr ]"
   ]
  },
  {
   "cell_type": "code",
   "execution_count": 42,
   "metadata": {},
   "outputs": [],
   "source": [
    "reg_names = ['LinearRegression',\n",
    "             'RandomForestRegressor',\n",
    "             'GradientBoostingRegressor',\n",
    "             'KNeighborsRegressor',\n",
    "             'XGBRegressor',\n",
    "             'XGBRFRegressor'\n",
    "            ]"
   ]
  },
  {
   "cell_type": "code",
   "execution_count": 43,
   "metadata": {},
   "outputs": [
    {
     "ename": "NameError",
     "evalue": "name 'baseline_pred' is not defined",
     "output_type": "error",
     "traceback": [
      "\u001b[0;31m---------------------------------------------------------------------------\u001b[0m",
      "\u001b[0;31mNameError\u001b[0m                                 Traceback (most recent call last)",
      "\u001b[0;32m<ipython-input-43-daa72ed9a611>\u001b[0m in \u001b[0;36m<module>\u001b[0;34m\u001b[0m\n\u001b[0;32m----> 1\u001b[0;31m \u001b[0mbaseline_pred\u001b[0m\u001b[0;34m\u001b[0m\u001b[0;34m\u001b[0m\u001b[0m\n\u001b[0m",
      "\u001b[0;31mNameError\u001b[0m: name 'baseline_pred' is not defined"
     ]
    }
   ],
   "source": [
    "baseline_pred"
   ]
  },
  {
   "cell_type": "code",
   "execution_count": 44,
   "metadata": {},
   "outputs": [
    {
     "name": "stdout",
     "output_type": "stream",
     "text": [
      "0.5498489425981874 0.8716723262153395\n",
      "The MAE of just predicting the mean is: 0.5498489425981874\n",
      "The RMSE just predicting the mean is: 0.8716723262153395\n",
      "==================================================================\n",
      "========================\n",
      "\n",
      "The MAE of the LinearRegression is: 0.6996172319335131\n",
      "The RMSE of the LinearRegression is: 0.661252359501343\n",
      "==================================================================\n",
      "========================\n",
      "\n",
      "The MAE of the RandomForestRegressor is: 0.6728152335456475\n",
      "The RMSE of the RandomForestRegressor is: 0.6356156918942064\n",
      "==================================================================\n",
      "========================\n",
      "\n",
      "The MAE of the GradientBoostingRegressor is: 0.6519846811737089\n",
      "The RMSE of the GradientBoostingRegressor is: 0.5942823061374262\n",
      "==================================================================\n",
      "========================\n",
      "\n",
      "The MAE of the KNeighborsRegressor is: 0.7730573248407645\n",
      "The RMSE of the KNeighborsRegressor is: 0.90228025477707\n",
      "==================================================================\n",
      "========================\n",
      "\n"
     ]
    },
    {
     "name": "stderr",
     "output_type": "stream",
     "text": [
      "/Users/krex/anaconda3/lib/python3.7/site-packages/xgboost/core.py:587: FutureWarning: Series.base is deprecated and will be removed in a future version\n",
      "  if getattr(data, 'base', None) is not None and \\\n",
      "/Users/krex/anaconda3/lib/python3.7/site-packages/xgboost/core.py:588: FutureWarning: Series.base is deprecated and will be removed in a future version\n",
      "  data.base is not None and isinstance(data, np.ndarray) \\\n"
     ]
    },
    {
     "name": "stdout",
     "output_type": "stream",
     "text": [
      "The MAE of the XGBRegressor is: 0.6547812147504964\n",
      "The RMSE of the XGBRegressor is: 0.6033406052152962\n",
      "==================================================================\n",
      "========================\n",
      "\n"
     ]
    },
    {
     "name": "stderr",
     "output_type": "stream",
     "text": [
      "/Users/krex/anaconda3/lib/python3.7/site-packages/xgboost/core.py:587: FutureWarning: Series.base is deprecated and will be removed in a future version\n",
      "  if getattr(data, 'base', None) is not None and \\\n",
      "/Users/krex/anaconda3/lib/python3.7/site-packages/xgboost/core.py:588: FutureWarning: Series.base is deprecated and will be removed in a future version\n",
      "  data.base is not None and isinstance(data, np.ndarray) \\\n"
     ]
    },
    {
     "name": "stdout",
     "output_type": "stream",
     "text": [
      "The MAE of the XGBRFRegressor is: 0.6771474563392105\n",
      "The RMSE of the XGBRFRegressor is: 0.6101870582111678\n",
      "==================================================================\n",
      "========================\n",
      "\n"
     ]
    }
   ],
   "source": [
    "baseline_pred = np.mean(y_train)\n",
    "residuals = (y_test - baseline_pred)\n",
    "median_absolute_error = np.median(np.abs(residuals))\n",
    "rmse=np.sqrt(np.mean(residuals**2))\n",
    "\n",
    "print(median_absolute_error,rmse)\n",
    "\n",
    "print(f'The MAE of just predicting the mean'\n",
    "          f' is: {median_absolute_error}\\n'\n",
    "          f'The RMSE just predicting the mean'\n",
    "          f' is: {rmse}\\n'\n",
    "      '==================================================================\\n'\n",
    "          '========================\\n')\n",
    "\n",
    "for regressor,name in zip(regressors,reg_names): #zip returns a tuple for each pair it is given\n",
    "    pipe = Pipeline(steps=[\n",
    "        ('scaler',mapper),\n",
    "        ('regressor', regressor)\n",
    "    ])\n",
    "    pipe.fit(X_train, y_train)\n",
    "    preds = pipe.predict(X_test)\n",
    "    print(f'The MAE of the {name}'\n",
    "          f' is: {mean_absolute_error((y_test),preds)}\\n'\n",
    "          f'The RMSE of the {name}'\n",
    "          f' is: {mean_squared_error((y_test),preds)}\\n'\n",
    "          '==================================================================\\n'\n",
    "          '========================\\n'\n",
    "         )\n",
    "    \n"
   ]
  },
  {
   "cell_type": "code",
   "execution_count": 45,
   "metadata": {},
   "outputs": [
    {
     "name": "stdout",
     "output_type": "stream",
     "text": [
      "The MAE of the XGBRFRegressor is: 0.6519891545823308\n",
      "The RMSE of the XGBRFRegressor is: 0.5942359504543339\n",
      "==================================================================\n",
      "========================\n",
      "\n"
     ]
    }
   ],
   "source": [
    "pipe2 = Pipeline(steps=[\n",
    "    ('scaler',mapper),\n",
    "    ('regressor', gbr)\n",
    "])\n",
    "pipe2.fit(X_train, y_train)\n",
    "preds = pipe2.predict(X_test)\n",
    "print(f'The MAE of the {name}'\n",
    "      f' is: {mean_absolute_error((y_test),preds)}\\n'\n",
    "      f'The RMSE of the {name}'\n",
    "      f' is: {mean_squared_error((y_test),preds)}\\n'\n",
    "      '==================================================================\\n'\n",
    "      '========================\\n'\n",
    "     )\n",
    "\n"
   ]
  },
  {
   "cell_type": "code",
   "execution_count": 46,
   "metadata": {},
   "outputs": [
    {
     "data": {
      "text/plain": [
       "12578    2.0\n",
       "12579    2.0\n",
       "12580    2.0\n",
       "12581    2.0\n",
       "12582    2.0\n",
       "12583    2.0\n",
       "12584    2.0\n",
       "12585    2.0\n",
       "12586    2.0\n",
       "12587    2.0\n",
       "12588    2.0\n",
       "12589    2.0\n",
       "12590    2.0\n",
       "12591    2.0\n",
       "12592    2.0\n",
       "12593    2.0\n",
       "12594    2.0\n",
       "12595    2.0\n",
       "12596    2.0\n",
       "12597    2.0\n",
       "Name: danger_near_treeline, dtype: float64"
      ]
     },
     "execution_count": 46,
     "metadata": {},
     "output_type": "execute_result"
    }
   ],
   "source": [
    "y_test[0:20]"
   ]
  },
  {
   "cell_type": "code",
   "execution_count": 47,
   "metadata": {},
   "outputs": [
    {
     "data": {
      "text/plain": [
       "array([2.8394024 , 2.59150781, 2.73229977, 2.65358108, 2.78926223,\n",
       "       2.79920076, 2.68900234, 2.62609734, 2.6590719 , 2.6784285 ,\n",
       "       2.8030285 , 2.8030285 , 2.77631418, 2.72157156, 2.72167116,\n",
       "       2.73400301, 2.73400301, 2.71819671, 2.72169891, 2.70589261])"
      ]
     },
     "execution_count": 47,
     "metadata": {},
     "output_type": "execute_result"
    }
   ],
   "source": [
    "pipe2.predict(X_test)[0:20]"
   ]
  },
  {
   "cell_type": "markdown",
   "metadata": {},
   "source": [
    "## Model 4 \n",
    "Gradient Boosting RMSE is better than guessing the mean!\n",
    "\n",
    "Also my model is predicting hourly avalanche forecasts, which is super granular. \n",
    "\n",
    "The forecasts are given daily, and thus my Y im predicting and basing my scoring on isn't as granular."
   ]
  },
  {
   "cell_type": "code",
   "execution_count": 48,
   "metadata": {},
   "outputs": [
    {
     "ename": "FileNotFoundError",
     "evalue": "File b'csv_files/stevens_pass_barometric_pressure_2014_now.csv' does not exist",
     "output_type": "error",
     "traceback": [
      "\u001b[0;31m---------------------------------------------------------------------------\u001b[0m",
      "\u001b[0;31mFileNotFoundError\u001b[0m                         Traceback (most recent call last)",
      "\u001b[0;32m<ipython-input-48-42fd6d7d0784>\u001b[0m in \u001b[0;36m<module>\u001b[0;34m\u001b[0m\n\u001b[0;32m----> 1\u001b[0;31m \u001b[0mbar_p\u001b[0m \u001b[0;34m=\u001b[0m \u001b[0mpd\u001b[0m\u001b[0;34m.\u001b[0m\u001b[0mread_csv\u001b[0m\u001b[0;34m(\u001b[0m\u001b[0;34m'csv_files/stevens_pass_barometric_pressure_2014_now.csv'\u001b[0m\u001b[0;34m)\u001b[0m\u001b[0;34m\u001b[0m\u001b[0;34m\u001b[0m\u001b[0m\n\u001b[0m",
      "\u001b[0;32m~/anaconda3/lib/python3.7/site-packages/pandas/io/parsers.py\u001b[0m in \u001b[0;36mparser_f\u001b[0;34m(filepath_or_buffer, sep, delimiter, header, names, index_col, usecols, squeeze, prefix, mangle_dupe_cols, dtype, engine, converters, true_values, false_values, skipinitialspace, skiprows, nrows, na_values, keep_default_na, na_filter, verbose, skip_blank_lines, parse_dates, infer_datetime_format, keep_date_col, date_parser, dayfirst, iterator, chunksize, compression, thousands, decimal, lineterminator, quotechar, quoting, escapechar, comment, encoding, dialect, tupleize_cols, error_bad_lines, warn_bad_lines, skipfooter, doublequote, delim_whitespace, low_memory, memory_map, float_precision)\u001b[0m\n\u001b[1;32m    676\u001b[0m                     skip_blank_lines=skip_blank_lines)\n\u001b[1;32m    677\u001b[0m \u001b[0;34m\u001b[0m\u001b[0m\n\u001b[0;32m--> 678\u001b[0;31m         \u001b[0;32mreturn\u001b[0m \u001b[0m_read\u001b[0m\u001b[0;34m(\u001b[0m\u001b[0mfilepath_or_buffer\u001b[0m\u001b[0;34m,\u001b[0m \u001b[0mkwds\u001b[0m\u001b[0;34m)\u001b[0m\u001b[0;34m\u001b[0m\u001b[0;34m\u001b[0m\u001b[0m\n\u001b[0m\u001b[1;32m    679\u001b[0m \u001b[0;34m\u001b[0m\u001b[0m\n\u001b[1;32m    680\u001b[0m     \u001b[0mparser_f\u001b[0m\u001b[0;34m.\u001b[0m\u001b[0m__name__\u001b[0m \u001b[0;34m=\u001b[0m \u001b[0mname\u001b[0m\u001b[0;34m\u001b[0m\u001b[0;34m\u001b[0m\u001b[0m\n",
      "\u001b[0;32m~/anaconda3/lib/python3.7/site-packages/pandas/io/parsers.py\u001b[0m in \u001b[0;36m_read\u001b[0;34m(filepath_or_buffer, kwds)\u001b[0m\n\u001b[1;32m    438\u001b[0m \u001b[0;34m\u001b[0m\u001b[0m\n\u001b[1;32m    439\u001b[0m     \u001b[0;31m# Create the parser.\u001b[0m\u001b[0;34m\u001b[0m\u001b[0;34m\u001b[0m\u001b[0;34m\u001b[0m\u001b[0m\n\u001b[0;32m--> 440\u001b[0;31m     \u001b[0mparser\u001b[0m \u001b[0;34m=\u001b[0m \u001b[0mTextFileReader\u001b[0m\u001b[0;34m(\u001b[0m\u001b[0mfilepath_or_buffer\u001b[0m\u001b[0;34m,\u001b[0m \u001b[0;34m**\u001b[0m\u001b[0mkwds\u001b[0m\u001b[0;34m)\u001b[0m\u001b[0;34m\u001b[0m\u001b[0;34m\u001b[0m\u001b[0m\n\u001b[0m\u001b[1;32m    441\u001b[0m \u001b[0;34m\u001b[0m\u001b[0m\n\u001b[1;32m    442\u001b[0m     \u001b[0;32mif\u001b[0m \u001b[0mchunksize\u001b[0m \u001b[0;32mor\u001b[0m \u001b[0miterator\u001b[0m\u001b[0;34m:\u001b[0m\u001b[0;34m\u001b[0m\u001b[0;34m\u001b[0m\u001b[0m\n",
      "\u001b[0;32m~/anaconda3/lib/python3.7/site-packages/pandas/io/parsers.py\u001b[0m in \u001b[0;36m__init__\u001b[0;34m(self, f, engine, **kwds)\u001b[0m\n\u001b[1;32m    785\u001b[0m             \u001b[0mself\u001b[0m\u001b[0;34m.\u001b[0m\u001b[0moptions\u001b[0m\u001b[0;34m[\u001b[0m\u001b[0;34m'has_index_names'\u001b[0m\u001b[0;34m]\u001b[0m \u001b[0;34m=\u001b[0m \u001b[0mkwds\u001b[0m\u001b[0;34m[\u001b[0m\u001b[0;34m'has_index_names'\u001b[0m\u001b[0;34m]\u001b[0m\u001b[0;34m\u001b[0m\u001b[0;34m\u001b[0m\u001b[0m\n\u001b[1;32m    786\u001b[0m \u001b[0;34m\u001b[0m\u001b[0m\n\u001b[0;32m--> 787\u001b[0;31m         \u001b[0mself\u001b[0m\u001b[0;34m.\u001b[0m\u001b[0m_make_engine\u001b[0m\u001b[0;34m(\u001b[0m\u001b[0mself\u001b[0m\u001b[0;34m.\u001b[0m\u001b[0mengine\u001b[0m\u001b[0;34m)\u001b[0m\u001b[0;34m\u001b[0m\u001b[0;34m\u001b[0m\u001b[0m\n\u001b[0m\u001b[1;32m    788\u001b[0m \u001b[0;34m\u001b[0m\u001b[0m\n\u001b[1;32m    789\u001b[0m     \u001b[0;32mdef\u001b[0m \u001b[0mclose\u001b[0m\u001b[0;34m(\u001b[0m\u001b[0mself\u001b[0m\u001b[0;34m)\u001b[0m\u001b[0;34m:\u001b[0m\u001b[0;34m\u001b[0m\u001b[0;34m\u001b[0m\u001b[0m\n",
      "\u001b[0;32m~/anaconda3/lib/python3.7/site-packages/pandas/io/parsers.py\u001b[0m in \u001b[0;36m_make_engine\u001b[0;34m(self, engine)\u001b[0m\n\u001b[1;32m   1012\u001b[0m     \u001b[0;32mdef\u001b[0m \u001b[0m_make_engine\u001b[0m\u001b[0;34m(\u001b[0m\u001b[0mself\u001b[0m\u001b[0;34m,\u001b[0m \u001b[0mengine\u001b[0m\u001b[0;34m=\u001b[0m\u001b[0;34m'c'\u001b[0m\u001b[0;34m)\u001b[0m\u001b[0;34m:\u001b[0m\u001b[0;34m\u001b[0m\u001b[0;34m\u001b[0m\u001b[0m\n\u001b[1;32m   1013\u001b[0m         \u001b[0;32mif\u001b[0m \u001b[0mengine\u001b[0m \u001b[0;34m==\u001b[0m \u001b[0;34m'c'\u001b[0m\u001b[0;34m:\u001b[0m\u001b[0;34m\u001b[0m\u001b[0;34m\u001b[0m\u001b[0m\n\u001b[0;32m-> 1014\u001b[0;31m             \u001b[0mself\u001b[0m\u001b[0;34m.\u001b[0m\u001b[0m_engine\u001b[0m \u001b[0;34m=\u001b[0m \u001b[0mCParserWrapper\u001b[0m\u001b[0;34m(\u001b[0m\u001b[0mself\u001b[0m\u001b[0;34m.\u001b[0m\u001b[0mf\u001b[0m\u001b[0;34m,\u001b[0m \u001b[0;34m**\u001b[0m\u001b[0mself\u001b[0m\u001b[0;34m.\u001b[0m\u001b[0moptions\u001b[0m\u001b[0;34m)\u001b[0m\u001b[0;34m\u001b[0m\u001b[0;34m\u001b[0m\u001b[0m\n\u001b[0m\u001b[1;32m   1015\u001b[0m         \u001b[0;32melse\u001b[0m\u001b[0;34m:\u001b[0m\u001b[0;34m\u001b[0m\u001b[0;34m\u001b[0m\u001b[0m\n\u001b[1;32m   1016\u001b[0m             \u001b[0;32mif\u001b[0m \u001b[0mengine\u001b[0m \u001b[0;34m==\u001b[0m \u001b[0;34m'python'\u001b[0m\u001b[0;34m:\u001b[0m\u001b[0;34m\u001b[0m\u001b[0;34m\u001b[0m\u001b[0m\n",
      "\u001b[0;32m~/anaconda3/lib/python3.7/site-packages/pandas/io/parsers.py\u001b[0m in \u001b[0;36m__init__\u001b[0;34m(self, src, **kwds)\u001b[0m\n\u001b[1;32m   1706\u001b[0m         \u001b[0mkwds\u001b[0m\u001b[0;34m[\u001b[0m\u001b[0;34m'usecols'\u001b[0m\u001b[0;34m]\u001b[0m \u001b[0;34m=\u001b[0m \u001b[0mself\u001b[0m\u001b[0;34m.\u001b[0m\u001b[0musecols\u001b[0m\u001b[0;34m\u001b[0m\u001b[0;34m\u001b[0m\u001b[0m\n\u001b[1;32m   1707\u001b[0m \u001b[0;34m\u001b[0m\u001b[0m\n\u001b[0;32m-> 1708\u001b[0;31m         \u001b[0mself\u001b[0m\u001b[0;34m.\u001b[0m\u001b[0m_reader\u001b[0m \u001b[0;34m=\u001b[0m \u001b[0mparsers\u001b[0m\u001b[0;34m.\u001b[0m\u001b[0mTextReader\u001b[0m\u001b[0;34m(\u001b[0m\u001b[0msrc\u001b[0m\u001b[0;34m,\u001b[0m \u001b[0;34m**\u001b[0m\u001b[0mkwds\u001b[0m\u001b[0;34m)\u001b[0m\u001b[0;34m\u001b[0m\u001b[0;34m\u001b[0m\u001b[0m\n\u001b[0m\u001b[1;32m   1709\u001b[0m \u001b[0;34m\u001b[0m\u001b[0m\n\u001b[1;32m   1710\u001b[0m         \u001b[0mpassed_names\u001b[0m \u001b[0;34m=\u001b[0m \u001b[0mself\u001b[0m\u001b[0;34m.\u001b[0m\u001b[0mnames\u001b[0m \u001b[0;32mis\u001b[0m \u001b[0;32mNone\u001b[0m\u001b[0;34m\u001b[0m\u001b[0;34m\u001b[0m\u001b[0m\n",
      "\u001b[0;32mpandas/_libs/parsers.pyx\u001b[0m in \u001b[0;36mpandas._libs.parsers.TextReader.__cinit__\u001b[0;34m()\u001b[0m\n",
      "\u001b[0;32mpandas/_libs/parsers.pyx\u001b[0m in \u001b[0;36mpandas._libs.parsers.TextReader._setup_parser_source\u001b[0;34m()\u001b[0m\n",
      "\u001b[0;31mFileNotFoundError\u001b[0m: File b'csv_files/stevens_pass_barometric_pressure_2014_now.csv' does not exist"
     ]
    }
   ],
   "source": [
    "bar_p = pd.read_csv('csv_files/stevens_pass_barometric_pressure_2014_now.csv')"
   ]
  },
  {
   "cell_type": "code",
   "execution_count": 49,
   "metadata": {},
   "outputs": [
    {
     "ename": "NameError",
     "evalue": "name 'bar_p' is not defined",
     "output_type": "error",
     "traceback": [
      "\u001b[0;31m---------------------------------------------------------------------------\u001b[0m",
      "\u001b[0;31mNameError\u001b[0m                                 Traceback (most recent call last)",
      "\u001b[0;32m<ipython-input-49-fc9cda92070e>\u001b[0m in \u001b[0;36m<module>\u001b[0;34m\u001b[0m\n\u001b[0;32m----> 1\u001b[0;31m \u001b[0mbar_p\u001b[0m\u001b[0;34m.\u001b[0m\u001b[0mhead\u001b[0m\u001b[0;34m(\u001b[0m\u001b[0;34m)\u001b[0m\u001b[0;34m\u001b[0m\u001b[0;34m\u001b[0m\u001b[0m\n\u001b[0m",
      "\u001b[0;31mNameError\u001b[0m: name 'bar_p' is not defined"
     ]
    }
   ],
   "source": [
    "bar_p.head()"
   ]
  },
  {
   "cell_type": "code",
   "execution_count": 50,
   "metadata": {},
   "outputs": [
    {
     "ename": "NameError",
     "evalue": "name 'bar_p' is not defined",
     "output_type": "error",
     "traceback": [
      "\u001b[0;31m---------------------------------------------------------------------------\u001b[0m",
      "\u001b[0;31mNameError\u001b[0m                                 Traceback (most recent call last)",
      "\u001b[0;32m<ipython-input-50-45bff9b24459>\u001b[0m in \u001b[0;36m<module>\u001b[0;34m\u001b[0m\n\u001b[0;32m----> 1\u001b[0;31m \u001b[0mbar_p\u001b[0m\u001b[0;34m.\u001b[0m\u001b[0mdescribe\u001b[0m\u001b[0;34m(\u001b[0m\u001b[0;34m)\u001b[0m\u001b[0;34m\u001b[0m\u001b[0;34m\u001b[0m\u001b[0m\n\u001b[0m",
      "\u001b[0;31mNameError\u001b[0m: name 'bar_p' is not defined"
     ]
    }
   ],
   "source": [
    "bar_p.describe()"
   ]
  },
  {
   "cell_type": "code",
   "execution_count": 51,
   "metadata": {},
   "outputs": [
    {
     "ename": "NameError",
     "evalue": "name 'bar_p' is not defined",
     "output_type": "error",
     "traceback": [
      "\u001b[0;31m---------------------------------------------------------------------------\u001b[0m",
      "\u001b[0;31mNameError\u001b[0m                                 Traceback (most recent call last)",
      "\u001b[0;32m<ipython-input-51-7f7661c31680>\u001b[0m in \u001b[0;36m<module>\u001b[0;34m\u001b[0m\n\u001b[0;32m----> 1\u001b[0;31m \u001b[0mbar_p\u001b[0m\u001b[0;34m.\u001b[0m\u001b[0minfo\u001b[0m\u001b[0;34m(\u001b[0m\u001b[0;34m)\u001b[0m\u001b[0;34m\u001b[0m\u001b[0;34m\u001b[0m\u001b[0m\n\u001b[0m",
      "\u001b[0;31mNameError\u001b[0m: name 'bar_p' is not defined"
     ]
    }
   ],
   "source": [
    "bar_p.info()"
   ]
  },
  {
   "cell_type": "code",
   "execution_count": 52,
   "metadata": {},
   "outputs": [
    {
     "ename": "NameError",
     "evalue": "name 'bar_p' is not defined",
     "output_type": "error",
     "traceback": [
      "\u001b[0;31m---------------------------------------------------------------------------\u001b[0m",
      "\u001b[0;31mNameError\u001b[0m                                 Traceback (most recent call last)",
      "\u001b[0;32m<ipython-input-52-52740068a75c>\u001b[0m in \u001b[0;36m<module>\u001b[0;34m\u001b[0m\n\u001b[0;32m----> 1\u001b[0;31m \u001b[0mbar_p\u001b[0m\u001b[0;34m[\u001b[0m\u001b[0;34m'Date/Time (PST)'\u001b[0m\u001b[0;34m]\u001b[0m \u001b[0;34m=\u001b[0m \u001b[0mpd\u001b[0m\u001b[0;34m.\u001b[0m\u001b[0mto_datetime\u001b[0m\u001b[0;34m(\u001b[0m\u001b[0mbar_p\u001b[0m\u001b[0;34m[\u001b[0m\u001b[0;34m\"Date/Time (PST)\"\u001b[0m\u001b[0;34m]\u001b[0m\u001b[0;34m)\u001b[0m\u001b[0;34m\u001b[0m\u001b[0;34m\u001b[0m\u001b[0m\n\u001b[0m",
      "\u001b[0;31mNameError\u001b[0m: name 'bar_p' is not defined"
     ]
    }
   ],
   "source": [
    "bar_p['Date/Time (PST)'] = pd.to_datetime(bar_p[\"Date/Time (PST)\"])"
   ]
  },
  {
   "cell_type": "code",
   "execution_count": 53,
   "metadata": {},
   "outputs": [
    {
     "ename": "NameError",
     "evalue": "name 'bar_p' is not defined",
     "output_type": "error",
     "traceback": [
      "\u001b[0;31m---------------------------------------------------------------------------\u001b[0m",
      "\u001b[0;31mNameError\u001b[0m                                 Traceback (most recent call last)",
      "\u001b[0;32m<ipython-input-53-7f7661c31680>\u001b[0m in \u001b[0;36m<module>\u001b[0;34m\u001b[0m\n\u001b[0;32m----> 1\u001b[0;31m \u001b[0mbar_p\u001b[0m\u001b[0;34m.\u001b[0m\u001b[0minfo\u001b[0m\u001b[0;34m(\u001b[0m\u001b[0;34m)\u001b[0m\u001b[0;34m\u001b[0m\u001b[0;34m\u001b[0m\u001b[0m\n\u001b[0m",
      "\u001b[0;31mNameError\u001b[0m: name 'bar_p' is not defined"
     ]
    }
   ],
   "source": [
    "bar_p.info()"
   ]
  },
  {
   "cell_type": "code",
   "execution_count": 54,
   "metadata": {},
   "outputs": [
    {
     "ename": "NameError",
     "evalue": "name 'bar_p' is not defined",
     "output_type": "error",
     "traceback": [
      "\u001b[0;31m---------------------------------------------------------------------------\u001b[0m",
      "\u001b[0;31mNameError\u001b[0m                                 Traceback (most recent call last)",
      "\u001b[0;32m<ipython-input-54-0432bb30de48>\u001b[0m in \u001b[0;36m<module>\u001b[0;34m\u001b[0m\n\u001b[0;32m----> 1\u001b[0;31m \u001b[0mbar_p\u001b[0m \u001b[0;34m=\u001b[0m \u001b[0mbar_p\u001b[0m\u001b[0;34m[\u001b[0m\u001b[0;34m[\u001b[0m\u001b[0;34m\"Date/Time (PST)\"\u001b[0m\u001b[0;34m,\u001b[0m\u001b[0;34m\"mb - 3950\\' - Stevens Pass - Schmidt Haus\"\u001b[0m\u001b[0;34m]\u001b[0m\u001b[0;34m]\u001b[0m\u001b[0;34m\u001b[0m\u001b[0;34m\u001b[0m\u001b[0m\n\u001b[0m",
      "\u001b[0;31mNameError\u001b[0m: name 'bar_p' is not defined"
     ]
    }
   ],
   "source": [
    "bar_p = bar_p[[\"Date/Time (PST)\",\"mb - 3950\\' - Stevens Pass - Schmidt Haus\"]]"
   ]
  },
  {
   "cell_type": "code",
   "execution_count": 55,
   "metadata": {},
   "outputs": [
    {
     "ename": "NameError",
     "evalue": "name 'bar_p' is not defined",
     "output_type": "error",
     "traceback": [
      "\u001b[0;31m---------------------------------------------------------------------------\u001b[0m",
      "\u001b[0;31mNameError\u001b[0m                                 Traceback (most recent call last)",
      "\u001b[0;32m<ipython-input-55-3a6c2c3f920a>\u001b[0m in \u001b[0;36m<module>\u001b[0;34m\u001b[0m\n\u001b[0;32m----> 1\u001b[0;31m \u001b[0mdf_merge\u001b[0m \u001b[0;34m=\u001b[0m \u001b[0mpd\u001b[0m\u001b[0;34m.\u001b[0m\u001b[0mmerge\u001b[0m\u001b[0;34m(\u001b[0m\u001b[0mdf_clean\u001b[0m\u001b[0;34m,\u001b[0m\u001b[0mbar_p\u001b[0m\u001b[0;34m,\u001b[0m\u001b[0mhow\u001b[0m\u001b[0;34m=\u001b[0m\u001b[0;34m'left'\u001b[0m\u001b[0;34m,\u001b[0m\u001b[0mon\u001b[0m\u001b[0;34m=\u001b[0m\u001b[0;34m'Date/Time (PST)'\u001b[0m\u001b[0;34m)\u001b[0m\u001b[0;34m\u001b[0m\u001b[0;34m\u001b[0m\u001b[0m\n\u001b[0m",
      "\u001b[0;31mNameError\u001b[0m: name 'bar_p' is not defined"
     ]
    }
   ],
   "source": [
    "df_merge = pd.merge(df_clean,bar_p,how='left',on='Date/Time (PST)')"
   ]
  },
  {
   "cell_type": "code",
   "execution_count": 56,
   "metadata": {},
   "outputs": [
    {
     "ename": "NameError",
     "evalue": "name 'df_merge' is not defined",
     "output_type": "error",
     "traceback": [
      "\u001b[0;31m---------------------------------------------------------------------------\u001b[0m",
      "\u001b[0;31mNameError\u001b[0m                                 Traceback (most recent call last)",
      "\u001b[0;32m<ipython-input-56-98f8564ba296>\u001b[0m in \u001b[0;36m<module>\u001b[0;34m\u001b[0m\n\u001b[0;32m----> 1\u001b[0;31m \u001b[0mdf_merge\u001b[0m \u001b[0;34m=\u001b[0m \u001b[0mdf_merge\u001b[0m\u001b[0;34m.\u001b[0m\u001b[0mdropna\u001b[0m\u001b[0;34m(\u001b[0m\u001b[0;34m)\u001b[0m\u001b[0;34m\u001b[0m\u001b[0;34m\u001b[0m\u001b[0m\n\u001b[0m",
      "\u001b[0;31mNameError\u001b[0m: name 'df_merge' is not defined"
     ]
    }
   ],
   "source": [
    "df_merge = df_merge.dropna()"
   ]
  },
  {
   "cell_type": "code",
   "execution_count": 57,
   "metadata": {},
   "outputs": [
    {
     "ename": "NameError",
     "evalue": "name 'df_merge' is not defined",
     "output_type": "error",
     "traceback": [
      "\u001b[0;31m---------------------------------------------------------------------------\u001b[0m",
      "\u001b[0;31mNameError\u001b[0m                                 Traceback (most recent call last)",
      "\u001b[0;32m<ipython-input-57-83d51880183e>\u001b[0m in \u001b[0;36m<module>\u001b[0;34m\u001b[0m\n\u001b[0;32m----> 1\u001b[0;31m \u001b[0mdf_merge\u001b[0m\u001b[0;34m.\u001b[0m\u001b[0minfo\u001b[0m\u001b[0;34m(\u001b[0m\u001b[0;34m)\u001b[0m\u001b[0;34m\u001b[0m\u001b[0;34m\u001b[0m\u001b[0m\n\u001b[0m",
      "\u001b[0;31mNameError\u001b[0m: name 'df_merge' is not defined"
     ]
    }
   ],
   "source": [
    "df_merge.info()"
   ]
  },
  {
   "cell_type": "code",
   "execution_count": 58,
   "metadata": {},
   "outputs": [
    {
     "ename": "FileNotFoundError",
     "evalue": "File b'csv_files/stevens_pass_precipitation_2014_now.csv' does not exist",
     "output_type": "error",
     "traceback": [
      "\u001b[0;31m---------------------------------------------------------------------------\u001b[0m",
      "\u001b[0;31mFileNotFoundError\u001b[0m                         Traceback (most recent call last)",
      "\u001b[0;32m<ipython-input-58-0115012ea8d0>\u001b[0m in \u001b[0;36m<module>\u001b[0;34m\u001b[0m\n\u001b[0;32m----> 1\u001b[0;31m \u001b[0mprecip\u001b[0m \u001b[0;34m=\u001b[0m \u001b[0mpd\u001b[0m\u001b[0;34m.\u001b[0m\u001b[0mread_csv\u001b[0m\u001b[0;34m(\u001b[0m\u001b[0;34m'csv_files/stevens_pass_precipitation_2014_now.csv'\u001b[0m\u001b[0;34m)\u001b[0m\u001b[0;34m\u001b[0m\u001b[0;34m\u001b[0m\u001b[0m\n\u001b[0m\u001b[1;32m      2\u001b[0m \u001b[0mprecip\u001b[0m\u001b[0;34m[\u001b[0m\u001b[0;34m'Date/Time (PST)'\u001b[0m\u001b[0;34m]\u001b[0m \u001b[0;34m=\u001b[0m \u001b[0mpd\u001b[0m\u001b[0;34m.\u001b[0m\u001b[0mto_datetime\u001b[0m\u001b[0;34m(\u001b[0m\u001b[0mprecip\u001b[0m\u001b[0;34m[\u001b[0m\u001b[0;34m\"Date/Time (PST)\"\u001b[0m\u001b[0;34m]\u001b[0m\u001b[0;34m)\u001b[0m\u001b[0;34m\u001b[0m\u001b[0;34m\u001b[0m\u001b[0m\n",
      "\u001b[0;32m~/anaconda3/lib/python3.7/site-packages/pandas/io/parsers.py\u001b[0m in \u001b[0;36mparser_f\u001b[0;34m(filepath_or_buffer, sep, delimiter, header, names, index_col, usecols, squeeze, prefix, mangle_dupe_cols, dtype, engine, converters, true_values, false_values, skipinitialspace, skiprows, nrows, na_values, keep_default_na, na_filter, verbose, skip_blank_lines, parse_dates, infer_datetime_format, keep_date_col, date_parser, dayfirst, iterator, chunksize, compression, thousands, decimal, lineterminator, quotechar, quoting, escapechar, comment, encoding, dialect, tupleize_cols, error_bad_lines, warn_bad_lines, skipfooter, doublequote, delim_whitespace, low_memory, memory_map, float_precision)\u001b[0m\n\u001b[1;32m    676\u001b[0m                     skip_blank_lines=skip_blank_lines)\n\u001b[1;32m    677\u001b[0m \u001b[0;34m\u001b[0m\u001b[0m\n\u001b[0;32m--> 678\u001b[0;31m         \u001b[0;32mreturn\u001b[0m \u001b[0m_read\u001b[0m\u001b[0;34m(\u001b[0m\u001b[0mfilepath_or_buffer\u001b[0m\u001b[0;34m,\u001b[0m \u001b[0mkwds\u001b[0m\u001b[0;34m)\u001b[0m\u001b[0;34m\u001b[0m\u001b[0;34m\u001b[0m\u001b[0m\n\u001b[0m\u001b[1;32m    679\u001b[0m \u001b[0;34m\u001b[0m\u001b[0m\n\u001b[1;32m    680\u001b[0m     \u001b[0mparser_f\u001b[0m\u001b[0;34m.\u001b[0m\u001b[0m__name__\u001b[0m \u001b[0;34m=\u001b[0m \u001b[0mname\u001b[0m\u001b[0;34m\u001b[0m\u001b[0;34m\u001b[0m\u001b[0m\n",
      "\u001b[0;32m~/anaconda3/lib/python3.7/site-packages/pandas/io/parsers.py\u001b[0m in \u001b[0;36m_read\u001b[0;34m(filepath_or_buffer, kwds)\u001b[0m\n\u001b[1;32m    438\u001b[0m \u001b[0;34m\u001b[0m\u001b[0m\n\u001b[1;32m    439\u001b[0m     \u001b[0;31m# Create the parser.\u001b[0m\u001b[0;34m\u001b[0m\u001b[0;34m\u001b[0m\u001b[0;34m\u001b[0m\u001b[0m\n\u001b[0;32m--> 440\u001b[0;31m     \u001b[0mparser\u001b[0m \u001b[0;34m=\u001b[0m \u001b[0mTextFileReader\u001b[0m\u001b[0;34m(\u001b[0m\u001b[0mfilepath_or_buffer\u001b[0m\u001b[0;34m,\u001b[0m \u001b[0;34m**\u001b[0m\u001b[0mkwds\u001b[0m\u001b[0;34m)\u001b[0m\u001b[0;34m\u001b[0m\u001b[0;34m\u001b[0m\u001b[0m\n\u001b[0m\u001b[1;32m    441\u001b[0m \u001b[0;34m\u001b[0m\u001b[0m\n\u001b[1;32m    442\u001b[0m     \u001b[0;32mif\u001b[0m \u001b[0mchunksize\u001b[0m \u001b[0;32mor\u001b[0m \u001b[0miterator\u001b[0m\u001b[0;34m:\u001b[0m\u001b[0;34m\u001b[0m\u001b[0;34m\u001b[0m\u001b[0m\n",
      "\u001b[0;32m~/anaconda3/lib/python3.7/site-packages/pandas/io/parsers.py\u001b[0m in \u001b[0;36m__init__\u001b[0;34m(self, f, engine, **kwds)\u001b[0m\n\u001b[1;32m    785\u001b[0m             \u001b[0mself\u001b[0m\u001b[0;34m.\u001b[0m\u001b[0moptions\u001b[0m\u001b[0;34m[\u001b[0m\u001b[0;34m'has_index_names'\u001b[0m\u001b[0;34m]\u001b[0m \u001b[0;34m=\u001b[0m \u001b[0mkwds\u001b[0m\u001b[0;34m[\u001b[0m\u001b[0;34m'has_index_names'\u001b[0m\u001b[0;34m]\u001b[0m\u001b[0;34m\u001b[0m\u001b[0;34m\u001b[0m\u001b[0m\n\u001b[1;32m    786\u001b[0m \u001b[0;34m\u001b[0m\u001b[0m\n\u001b[0;32m--> 787\u001b[0;31m         \u001b[0mself\u001b[0m\u001b[0;34m.\u001b[0m\u001b[0m_make_engine\u001b[0m\u001b[0;34m(\u001b[0m\u001b[0mself\u001b[0m\u001b[0;34m.\u001b[0m\u001b[0mengine\u001b[0m\u001b[0;34m)\u001b[0m\u001b[0;34m\u001b[0m\u001b[0;34m\u001b[0m\u001b[0m\n\u001b[0m\u001b[1;32m    788\u001b[0m \u001b[0;34m\u001b[0m\u001b[0m\n\u001b[1;32m    789\u001b[0m     \u001b[0;32mdef\u001b[0m \u001b[0mclose\u001b[0m\u001b[0;34m(\u001b[0m\u001b[0mself\u001b[0m\u001b[0;34m)\u001b[0m\u001b[0;34m:\u001b[0m\u001b[0;34m\u001b[0m\u001b[0;34m\u001b[0m\u001b[0m\n",
      "\u001b[0;32m~/anaconda3/lib/python3.7/site-packages/pandas/io/parsers.py\u001b[0m in \u001b[0;36m_make_engine\u001b[0;34m(self, engine)\u001b[0m\n\u001b[1;32m   1012\u001b[0m     \u001b[0;32mdef\u001b[0m \u001b[0m_make_engine\u001b[0m\u001b[0;34m(\u001b[0m\u001b[0mself\u001b[0m\u001b[0;34m,\u001b[0m \u001b[0mengine\u001b[0m\u001b[0;34m=\u001b[0m\u001b[0;34m'c'\u001b[0m\u001b[0;34m)\u001b[0m\u001b[0;34m:\u001b[0m\u001b[0;34m\u001b[0m\u001b[0;34m\u001b[0m\u001b[0m\n\u001b[1;32m   1013\u001b[0m         \u001b[0;32mif\u001b[0m \u001b[0mengine\u001b[0m \u001b[0;34m==\u001b[0m \u001b[0;34m'c'\u001b[0m\u001b[0;34m:\u001b[0m\u001b[0;34m\u001b[0m\u001b[0;34m\u001b[0m\u001b[0m\n\u001b[0;32m-> 1014\u001b[0;31m             \u001b[0mself\u001b[0m\u001b[0;34m.\u001b[0m\u001b[0m_engine\u001b[0m \u001b[0;34m=\u001b[0m \u001b[0mCParserWrapper\u001b[0m\u001b[0;34m(\u001b[0m\u001b[0mself\u001b[0m\u001b[0;34m.\u001b[0m\u001b[0mf\u001b[0m\u001b[0;34m,\u001b[0m \u001b[0;34m**\u001b[0m\u001b[0mself\u001b[0m\u001b[0;34m.\u001b[0m\u001b[0moptions\u001b[0m\u001b[0;34m)\u001b[0m\u001b[0;34m\u001b[0m\u001b[0;34m\u001b[0m\u001b[0m\n\u001b[0m\u001b[1;32m   1015\u001b[0m         \u001b[0;32melse\u001b[0m\u001b[0;34m:\u001b[0m\u001b[0;34m\u001b[0m\u001b[0;34m\u001b[0m\u001b[0m\n\u001b[1;32m   1016\u001b[0m             \u001b[0;32mif\u001b[0m \u001b[0mengine\u001b[0m \u001b[0;34m==\u001b[0m \u001b[0;34m'python'\u001b[0m\u001b[0;34m:\u001b[0m\u001b[0;34m\u001b[0m\u001b[0;34m\u001b[0m\u001b[0m\n",
      "\u001b[0;32m~/anaconda3/lib/python3.7/site-packages/pandas/io/parsers.py\u001b[0m in \u001b[0;36m__init__\u001b[0;34m(self, src, **kwds)\u001b[0m\n\u001b[1;32m   1706\u001b[0m         \u001b[0mkwds\u001b[0m\u001b[0;34m[\u001b[0m\u001b[0;34m'usecols'\u001b[0m\u001b[0;34m]\u001b[0m \u001b[0;34m=\u001b[0m \u001b[0mself\u001b[0m\u001b[0;34m.\u001b[0m\u001b[0musecols\u001b[0m\u001b[0;34m\u001b[0m\u001b[0;34m\u001b[0m\u001b[0m\n\u001b[1;32m   1707\u001b[0m \u001b[0;34m\u001b[0m\u001b[0m\n\u001b[0;32m-> 1708\u001b[0;31m         \u001b[0mself\u001b[0m\u001b[0;34m.\u001b[0m\u001b[0m_reader\u001b[0m \u001b[0;34m=\u001b[0m \u001b[0mparsers\u001b[0m\u001b[0;34m.\u001b[0m\u001b[0mTextReader\u001b[0m\u001b[0;34m(\u001b[0m\u001b[0msrc\u001b[0m\u001b[0;34m,\u001b[0m \u001b[0;34m**\u001b[0m\u001b[0mkwds\u001b[0m\u001b[0;34m)\u001b[0m\u001b[0;34m\u001b[0m\u001b[0;34m\u001b[0m\u001b[0m\n\u001b[0m\u001b[1;32m   1709\u001b[0m \u001b[0;34m\u001b[0m\u001b[0m\n\u001b[1;32m   1710\u001b[0m         \u001b[0mpassed_names\u001b[0m \u001b[0;34m=\u001b[0m \u001b[0mself\u001b[0m\u001b[0;34m.\u001b[0m\u001b[0mnames\u001b[0m \u001b[0;32mis\u001b[0m \u001b[0;32mNone\u001b[0m\u001b[0;34m\u001b[0m\u001b[0;34m\u001b[0m\u001b[0m\n",
      "\u001b[0;32mpandas/_libs/parsers.pyx\u001b[0m in \u001b[0;36mpandas._libs.parsers.TextReader.__cinit__\u001b[0;34m()\u001b[0m\n",
      "\u001b[0;32mpandas/_libs/parsers.pyx\u001b[0m in \u001b[0;36mpandas._libs.parsers.TextReader._setup_parser_source\u001b[0;34m()\u001b[0m\n",
      "\u001b[0;31mFileNotFoundError\u001b[0m: File b'csv_files/stevens_pass_precipitation_2014_now.csv' does not exist"
     ]
    }
   ],
   "source": [
    "precip = pd.read_csv('csv_files/stevens_pass_precipitation_2014_now.csv')\n",
    "precip['Date/Time (PST)'] = pd.to_datetime(precip[\"Date/Time (PST)\"])"
   ]
  },
  {
   "cell_type": "code",
   "execution_count": 59,
   "metadata": {},
   "outputs": [
    {
     "ename": "NameError",
     "evalue": "name 'precip' is not defined",
     "output_type": "error",
     "traceback": [
      "\u001b[0;31m---------------------------------------------------------------------------\u001b[0m",
      "\u001b[0;31mNameError\u001b[0m                                 Traceback (most recent call last)",
      "\u001b[0;32m<ipython-input-59-9f99c3f87f4b>\u001b[0m in \u001b[0;36m<module>\u001b[0;34m\u001b[0m\n\u001b[0;32m----> 1\u001b[0;31m \u001b[0mprecip\u001b[0m\u001b[0;34m.\u001b[0m\u001b[0mcolumns\u001b[0m \u001b[0;34m=\u001b[0m \u001b[0;34m[\u001b[0m\u001b[0;34m'Date/Time (PST)'\u001b[0m\u001b[0;34m,\u001b[0m \u001b[0;34m'2700ft_Berne'\u001b[0m\u001b[0;34m,\u001b[0m\u001b[0;34m'3950ft_SchmidtHaus'\u001b[0m\u001b[0;34m,\u001b[0m\u001b[0;34m'4800ft_Brooks_precip'\u001b[0m\u001b[0;34m]\u001b[0m\u001b[0;34m\u001b[0m\u001b[0;34m\u001b[0m\u001b[0m\n\u001b[0m",
      "\u001b[0;31mNameError\u001b[0m: name 'precip' is not defined"
     ]
    }
   ],
   "source": [
    "precip.columns = ['Date/Time (PST)', '2700ft_Berne','3950ft_SchmidtHaus','4800ft_Brooks_precip']"
   ]
  },
  {
   "cell_type": "code",
   "execution_count": 60,
   "metadata": {},
   "outputs": [
    {
     "ename": "NameError",
     "evalue": "name 'precip' is not defined",
     "output_type": "error",
     "traceback": [
      "\u001b[0;31m---------------------------------------------------------------------------\u001b[0m",
      "\u001b[0;31mNameError\u001b[0m                                 Traceback (most recent call last)",
      "\u001b[0;32m<ipython-input-60-d621b21fff31>\u001b[0m in \u001b[0;36m<module>\u001b[0;34m\u001b[0m\n\u001b[0;32m----> 1\u001b[0;31m \u001b[0mprecip\u001b[0m\u001b[0;34m.\u001b[0m\u001b[0mhead\u001b[0m\u001b[0;34m(\u001b[0m\u001b[0;34m)\u001b[0m\u001b[0;34m\u001b[0m\u001b[0;34m\u001b[0m\u001b[0m\n\u001b[0m",
      "\u001b[0;31mNameError\u001b[0m: name 'precip' is not defined"
     ]
    }
   ],
   "source": [
    "precip.head()"
   ]
  },
  {
   "cell_type": "code",
   "execution_count": 61,
   "metadata": {},
   "outputs": [
    {
     "ename": "NameError",
     "evalue": "name 'precip' is not defined",
     "output_type": "error",
     "traceback": [
      "\u001b[0;31m---------------------------------------------------------------------------\u001b[0m",
      "\u001b[0;31mNameError\u001b[0m                                 Traceback (most recent call last)",
      "\u001b[0;32m<ipython-input-61-7cfbcf73c04b>\u001b[0m in \u001b[0;36m<module>\u001b[0;34m\u001b[0m\n\u001b[0;32m----> 1\u001b[0;31m \u001b[0mprecip\u001b[0m\u001b[0;34m.\u001b[0m\u001b[0mcolumns\u001b[0m\u001b[0;34m\u001b[0m\u001b[0;34m\u001b[0m\u001b[0m\n\u001b[0m",
      "\u001b[0;31mNameError\u001b[0m: name 'precip' is not defined"
     ]
    }
   ],
   "source": [
    "precip.columns"
   ]
  },
  {
   "cell_type": "code",
   "execution_count": 62,
   "metadata": {},
   "outputs": [
    {
     "ename": "NameError",
     "evalue": "name 'precip' is not defined",
     "output_type": "error",
     "traceback": [
      "\u001b[0;31m---------------------------------------------------------------------------\u001b[0m",
      "\u001b[0;31mNameError\u001b[0m                                 Traceback (most recent call last)",
      "\u001b[0;32m<ipython-input-62-17cf4c1cd0fc>\u001b[0m in \u001b[0;36m<module>\u001b[0;34m\u001b[0m\n\u001b[0;32m----> 1\u001b[0;31m \u001b[0mprecip_brooks\u001b[0m \u001b[0;34m=\u001b[0m \u001b[0mprecip\u001b[0m\u001b[0;34m[\u001b[0m\u001b[0;34m[\u001b[0m\u001b[0;34m'Date/Time (PST)'\u001b[0m\u001b[0;34m,\u001b[0m\u001b[0;34m'4800ft_Brooks_precip'\u001b[0m\u001b[0;34m]\u001b[0m\u001b[0;34m]\u001b[0m\u001b[0;34m\u001b[0m\u001b[0;34m\u001b[0m\u001b[0m\n\u001b[0m",
      "\u001b[0;31mNameError\u001b[0m: name 'precip' is not defined"
     ]
    }
   ],
   "source": [
    "precip_brooks = precip[['Date/Time (PST)','4800ft_Brooks_precip']]"
   ]
  },
  {
   "cell_type": "code",
   "execution_count": 63,
   "metadata": {},
   "outputs": [
    {
     "ename": "FileNotFoundError",
     "evalue": "File b'csv_files/stevens-pass_intermittent_snow.csv' does not exist",
     "output_type": "error",
     "traceback": [
      "\u001b[0;31m---------------------------------------------------------------------------\u001b[0m",
      "\u001b[0;31mFileNotFoundError\u001b[0m                         Traceback (most recent call last)",
      "\u001b[0;32m<ipython-input-63-325fd1d38b1b>\u001b[0m in \u001b[0;36m<module>\u001b[0;34m\u001b[0m\n\u001b[0;32m----> 1\u001b[0;31m \u001b[0mshot_snow\u001b[0m \u001b[0;34m=\u001b[0m \u001b[0mpd\u001b[0m\u001b[0;34m.\u001b[0m\u001b[0mread_csv\u001b[0m\u001b[0;34m(\u001b[0m\u001b[0;34m'csv_files/stevens-pass_intermittent_snow.csv'\u001b[0m\u001b[0;34m)\u001b[0m\u001b[0;34m\u001b[0m\u001b[0;34m\u001b[0m\u001b[0m\n\u001b[0m\u001b[1;32m      2\u001b[0m \u001b[0mshot_snow\u001b[0m\u001b[0;34m.\u001b[0m\u001b[0mhead\u001b[0m\u001b[0;34m(\u001b[0m\u001b[0;34m)\u001b[0m\u001b[0;34m\u001b[0m\u001b[0;34m\u001b[0m\u001b[0m\n",
      "\u001b[0;32m~/anaconda3/lib/python3.7/site-packages/pandas/io/parsers.py\u001b[0m in \u001b[0;36mparser_f\u001b[0;34m(filepath_or_buffer, sep, delimiter, header, names, index_col, usecols, squeeze, prefix, mangle_dupe_cols, dtype, engine, converters, true_values, false_values, skipinitialspace, skiprows, nrows, na_values, keep_default_na, na_filter, verbose, skip_blank_lines, parse_dates, infer_datetime_format, keep_date_col, date_parser, dayfirst, iterator, chunksize, compression, thousands, decimal, lineterminator, quotechar, quoting, escapechar, comment, encoding, dialect, tupleize_cols, error_bad_lines, warn_bad_lines, skipfooter, doublequote, delim_whitespace, low_memory, memory_map, float_precision)\u001b[0m\n\u001b[1;32m    676\u001b[0m                     skip_blank_lines=skip_blank_lines)\n\u001b[1;32m    677\u001b[0m \u001b[0;34m\u001b[0m\u001b[0m\n\u001b[0;32m--> 678\u001b[0;31m         \u001b[0;32mreturn\u001b[0m \u001b[0m_read\u001b[0m\u001b[0;34m(\u001b[0m\u001b[0mfilepath_or_buffer\u001b[0m\u001b[0;34m,\u001b[0m \u001b[0mkwds\u001b[0m\u001b[0;34m)\u001b[0m\u001b[0;34m\u001b[0m\u001b[0;34m\u001b[0m\u001b[0m\n\u001b[0m\u001b[1;32m    679\u001b[0m \u001b[0;34m\u001b[0m\u001b[0m\n\u001b[1;32m    680\u001b[0m     \u001b[0mparser_f\u001b[0m\u001b[0;34m.\u001b[0m\u001b[0m__name__\u001b[0m \u001b[0;34m=\u001b[0m \u001b[0mname\u001b[0m\u001b[0;34m\u001b[0m\u001b[0;34m\u001b[0m\u001b[0m\n",
      "\u001b[0;32m~/anaconda3/lib/python3.7/site-packages/pandas/io/parsers.py\u001b[0m in \u001b[0;36m_read\u001b[0;34m(filepath_or_buffer, kwds)\u001b[0m\n\u001b[1;32m    438\u001b[0m \u001b[0;34m\u001b[0m\u001b[0m\n\u001b[1;32m    439\u001b[0m     \u001b[0;31m# Create the parser.\u001b[0m\u001b[0;34m\u001b[0m\u001b[0;34m\u001b[0m\u001b[0;34m\u001b[0m\u001b[0m\n\u001b[0;32m--> 440\u001b[0;31m     \u001b[0mparser\u001b[0m \u001b[0;34m=\u001b[0m \u001b[0mTextFileReader\u001b[0m\u001b[0;34m(\u001b[0m\u001b[0mfilepath_or_buffer\u001b[0m\u001b[0;34m,\u001b[0m \u001b[0;34m**\u001b[0m\u001b[0mkwds\u001b[0m\u001b[0;34m)\u001b[0m\u001b[0;34m\u001b[0m\u001b[0;34m\u001b[0m\u001b[0m\n\u001b[0m\u001b[1;32m    441\u001b[0m \u001b[0;34m\u001b[0m\u001b[0m\n\u001b[1;32m    442\u001b[0m     \u001b[0;32mif\u001b[0m \u001b[0mchunksize\u001b[0m \u001b[0;32mor\u001b[0m \u001b[0miterator\u001b[0m\u001b[0;34m:\u001b[0m\u001b[0;34m\u001b[0m\u001b[0;34m\u001b[0m\u001b[0m\n",
      "\u001b[0;32m~/anaconda3/lib/python3.7/site-packages/pandas/io/parsers.py\u001b[0m in \u001b[0;36m__init__\u001b[0;34m(self, f, engine, **kwds)\u001b[0m\n\u001b[1;32m    785\u001b[0m             \u001b[0mself\u001b[0m\u001b[0;34m.\u001b[0m\u001b[0moptions\u001b[0m\u001b[0;34m[\u001b[0m\u001b[0;34m'has_index_names'\u001b[0m\u001b[0;34m]\u001b[0m \u001b[0;34m=\u001b[0m \u001b[0mkwds\u001b[0m\u001b[0;34m[\u001b[0m\u001b[0;34m'has_index_names'\u001b[0m\u001b[0;34m]\u001b[0m\u001b[0;34m\u001b[0m\u001b[0;34m\u001b[0m\u001b[0m\n\u001b[1;32m    786\u001b[0m \u001b[0;34m\u001b[0m\u001b[0m\n\u001b[0;32m--> 787\u001b[0;31m         \u001b[0mself\u001b[0m\u001b[0;34m.\u001b[0m\u001b[0m_make_engine\u001b[0m\u001b[0;34m(\u001b[0m\u001b[0mself\u001b[0m\u001b[0;34m.\u001b[0m\u001b[0mengine\u001b[0m\u001b[0;34m)\u001b[0m\u001b[0;34m\u001b[0m\u001b[0;34m\u001b[0m\u001b[0m\n\u001b[0m\u001b[1;32m    788\u001b[0m \u001b[0;34m\u001b[0m\u001b[0m\n\u001b[1;32m    789\u001b[0m     \u001b[0;32mdef\u001b[0m \u001b[0mclose\u001b[0m\u001b[0;34m(\u001b[0m\u001b[0mself\u001b[0m\u001b[0;34m)\u001b[0m\u001b[0;34m:\u001b[0m\u001b[0;34m\u001b[0m\u001b[0;34m\u001b[0m\u001b[0m\n",
      "\u001b[0;32m~/anaconda3/lib/python3.7/site-packages/pandas/io/parsers.py\u001b[0m in \u001b[0;36m_make_engine\u001b[0;34m(self, engine)\u001b[0m\n\u001b[1;32m   1012\u001b[0m     \u001b[0;32mdef\u001b[0m \u001b[0m_make_engine\u001b[0m\u001b[0;34m(\u001b[0m\u001b[0mself\u001b[0m\u001b[0;34m,\u001b[0m \u001b[0mengine\u001b[0m\u001b[0;34m=\u001b[0m\u001b[0;34m'c'\u001b[0m\u001b[0;34m)\u001b[0m\u001b[0;34m:\u001b[0m\u001b[0;34m\u001b[0m\u001b[0;34m\u001b[0m\u001b[0m\n\u001b[1;32m   1013\u001b[0m         \u001b[0;32mif\u001b[0m \u001b[0mengine\u001b[0m \u001b[0;34m==\u001b[0m \u001b[0;34m'c'\u001b[0m\u001b[0;34m:\u001b[0m\u001b[0;34m\u001b[0m\u001b[0;34m\u001b[0m\u001b[0m\n\u001b[0;32m-> 1014\u001b[0;31m             \u001b[0mself\u001b[0m\u001b[0;34m.\u001b[0m\u001b[0m_engine\u001b[0m \u001b[0;34m=\u001b[0m \u001b[0mCParserWrapper\u001b[0m\u001b[0;34m(\u001b[0m\u001b[0mself\u001b[0m\u001b[0;34m.\u001b[0m\u001b[0mf\u001b[0m\u001b[0;34m,\u001b[0m \u001b[0;34m**\u001b[0m\u001b[0mself\u001b[0m\u001b[0;34m.\u001b[0m\u001b[0moptions\u001b[0m\u001b[0;34m)\u001b[0m\u001b[0;34m\u001b[0m\u001b[0;34m\u001b[0m\u001b[0m\n\u001b[0m\u001b[1;32m   1015\u001b[0m         \u001b[0;32melse\u001b[0m\u001b[0;34m:\u001b[0m\u001b[0;34m\u001b[0m\u001b[0;34m\u001b[0m\u001b[0m\n\u001b[1;32m   1016\u001b[0m             \u001b[0;32mif\u001b[0m \u001b[0mengine\u001b[0m \u001b[0;34m==\u001b[0m \u001b[0;34m'python'\u001b[0m\u001b[0;34m:\u001b[0m\u001b[0;34m\u001b[0m\u001b[0;34m\u001b[0m\u001b[0m\n",
      "\u001b[0;32m~/anaconda3/lib/python3.7/site-packages/pandas/io/parsers.py\u001b[0m in \u001b[0;36m__init__\u001b[0;34m(self, src, **kwds)\u001b[0m\n\u001b[1;32m   1706\u001b[0m         \u001b[0mkwds\u001b[0m\u001b[0;34m[\u001b[0m\u001b[0;34m'usecols'\u001b[0m\u001b[0;34m]\u001b[0m \u001b[0;34m=\u001b[0m \u001b[0mself\u001b[0m\u001b[0;34m.\u001b[0m\u001b[0musecols\u001b[0m\u001b[0;34m\u001b[0m\u001b[0;34m\u001b[0m\u001b[0m\n\u001b[1;32m   1707\u001b[0m \u001b[0;34m\u001b[0m\u001b[0m\n\u001b[0;32m-> 1708\u001b[0;31m         \u001b[0mself\u001b[0m\u001b[0;34m.\u001b[0m\u001b[0m_reader\u001b[0m \u001b[0;34m=\u001b[0m \u001b[0mparsers\u001b[0m\u001b[0;34m.\u001b[0m\u001b[0mTextReader\u001b[0m\u001b[0;34m(\u001b[0m\u001b[0msrc\u001b[0m\u001b[0;34m,\u001b[0m \u001b[0;34m**\u001b[0m\u001b[0mkwds\u001b[0m\u001b[0;34m)\u001b[0m\u001b[0;34m\u001b[0m\u001b[0;34m\u001b[0m\u001b[0m\n\u001b[0m\u001b[1;32m   1709\u001b[0m \u001b[0;34m\u001b[0m\u001b[0m\n\u001b[1;32m   1710\u001b[0m         \u001b[0mpassed_names\u001b[0m \u001b[0;34m=\u001b[0m \u001b[0mself\u001b[0m\u001b[0;34m.\u001b[0m\u001b[0mnames\u001b[0m \u001b[0;32mis\u001b[0m \u001b[0;32mNone\u001b[0m\u001b[0;34m\u001b[0m\u001b[0;34m\u001b[0m\u001b[0m\n",
      "\u001b[0;32mpandas/_libs/parsers.pyx\u001b[0m in \u001b[0;36mpandas._libs.parsers.TextReader.__cinit__\u001b[0;34m()\u001b[0m\n",
      "\u001b[0;32mpandas/_libs/parsers.pyx\u001b[0m in \u001b[0;36mpandas._libs.parsers.TextReader._setup_parser_source\u001b[0;34m()\u001b[0m\n",
      "\u001b[0;31mFileNotFoundError\u001b[0m: File b'csv_files/stevens-pass_intermittent_snow.csv' does not exist"
     ]
    }
   ],
   "source": [
    "shot_snow = pd.read_csv('csv_files/stevens-pass_intermittent_snow.csv')\n",
    "shot_snow.head()"
   ]
  },
  {
   "cell_type": "code",
   "execution_count": 64,
   "metadata": {},
   "outputs": [
    {
     "ename": "NameError",
     "evalue": "name 'shot_snow' is not defined",
     "output_type": "error",
     "traceback": [
      "\u001b[0;31m---------------------------------------------------------------------------\u001b[0m",
      "\u001b[0;31mNameError\u001b[0m                                 Traceback (most recent call last)",
      "\u001b[0;32m<ipython-input-64-558046cf40c4>\u001b[0m in \u001b[0;36m<module>\u001b[0;34m\u001b[0m\n\u001b[0;32m----> 1\u001b[0;31m \u001b[0mshot_snow\u001b[0m\u001b[0;34m[\u001b[0m\u001b[0;34m\"Date/Time (PST)\"\u001b[0m\u001b[0;34m]\u001b[0m \u001b[0;34m=\u001b[0m \u001b[0mpd\u001b[0m\u001b[0;34m.\u001b[0m\u001b[0mto_datetime\u001b[0m\u001b[0;34m(\u001b[0m\u001b[0mshot_snow\u001b[0m\u001b[0;34m[\u001b[0m\u001b[0;34m\"Date/Time (PST)\"\u001b[0m\u001b[0;34m]\u001b[0m\u001b[0;34m)\u001b[0m\u001b[0;34m\u001b[0m\u001b[0;34m\u001b[0m\u001b[0m\n\u001b[0m",
      "\u001b[0;31mNameError\u001b[0m: name 'shot_snow' is not defined"
     ]
    }
   ],
   "source": [
    "shot_snow[\"Date/Time (PST)\"] = pd.to_datetime(shot_snow[\"Date/Time (PST)\"])"
   ]
  },
  {
   "cell_type": "code",
   "execution_count": 65,
   "metadata": {},
   "outputs": [
    {
     "ename": "NameError",
     "evalue": "name 'df_merge' is not defined",
     "output_type": "error",
     "traceback": [
      "\u001b[0;31m---------------------------------------------------------------------------\u001b[0m",
      "\u001b[0;31mNameError\u001b[0m                                 Traceback (most recent call last)",
      "\u001b[0;32m<ipython-input-65-5faa9cb370c9>\u001b[0m in \u001b[0;36m<module>\u001b[0;34m\u001b[0m\n\u001b[0;32m----> 1\u001b[0;31m \u001b[0mdf_merge2\u001b[0m \u001b[0;34m=\u001b[0m \u001b[0mpd\u001b[0m\u001b[0;34m.\u001b[0m\u001b[0mmerge\u001b[0m\u001b[0;34m(\u001b[0m\u001b[0mdf_merge\u001b[0m\u001b[0;34m,\u001b[0m\u001b[0mshot_snow\u001b[0m\u001b[0;34m,\u001b[0m\u001b[0mon\u001b[0m\u001b[0;34m=\u001b[0m\u001b[0;34m\"Date/Time (PST)\"\u001b[0m\u001b[0;34m)\u001b[0m\u001b[0;34m\u001b[0m\u001b[0;34m\u001b[0m\u001b[0m\n\u001b[0m",
      "\u001b[0;31mNameError\u001b[0m: name 'df_merge' is not defined"
     ]
    }
   ],
   "source": [
    "df_merge2 = pd.merge(df_merge,shot_snow,on=\"Date/Time (PST)\")"
   ]
  },
  {
   "cell_type": "code",
   "execution_count": 66,
   "metadata": {},
   "outputs": [
    {
     "ename": "NameError",
     "evalue": "name 'df_merge2' is not defined",
     "output_type": "error",
     "traceback": [
      "\u001b[0;31m---------------------------------------------------------------------------\u001b[0m",
      "\u001b[0;31mNameError\u001b[0m                                 Traceback (most recent call last)",
      "\u001b[0;32m<ipython-input-66-db8313e220e7>\u001b[0m in \u001b[0;36m<module>\u001b[0;34m\u001b[0m\n\u001b[0;32m----> 1\u001b[0;31m \u001b[0mmerge_final\u001b[0m \u001b[0;34m=\u001b[0m \u001b[0mpd\u001b[0m\u001b[0;34m.\u001b[0m\u001b[0mmerge\u001b[0m\u001b[0;34m(\u001b[0m\u001b[0mdf_merge2\u001b[0m\u001b[0;34m,\u001b[0m\u001b[0mprecip_brooks\u001b[0m\u001b[0;34m,\u001b[0m\u001b[0mon\u001b[0m\u001b[0;34m=\u001b[0m\u001b[0;34m\"Date/Time (PST)\"\u001b[0m\u001b[0;34m)\u001b[0m\u001b[0;34m\u001b[0m\u001b[0;34m\u001b[0m\u001b[0m\n\u001b[0m",
      "\u001b[0;31mNameError\u001b[0m: name 'df_merge2' is not defined"
     ]
    }
   ],
   "source": [
    "merge_final = pd.merge(df_merge2,precip_brooks,on=\"Date/Time (PST)\")"
   ]
  },
  {
   "cell_type": "code",
   "execution_count": 67,
   "metadata": {},
   "outputs": [
    {
     "ename": "NameError",
     "evalue": "name 'merge_final' is not defined",
     "output_type": "error",
     "traceback": [
      "\u001b[0;31m---------------------------------------------------------------------------\u001b[0m",
      "\u001b[0;31mNameError\u001b[0m                                 Traceback (most recent call last)",
      "\u001b[0;32m<ipython-input-67-7b99b0546596>\u001b[0m in \u001b[0;36m<module>\u001b[0;34m\u001b[0m\n\u001b[0;32m----> 1\u001b[0;31m \u001b[0mmerge_final\u001b[0m\u001b[0;34m.\u001b[0m\u001b[0misna\u001b[0m\u001b[0;34m(\u001b[0m\u001b[0;34m)\u001b[0m\u001b[0;34m.\u001b[0m\u001b[0msum\u001b[0m\u001b[0;34m(\u001b[0m\u001b[0;34m)\u001b[0m\u001b[0;34m\u001b[0m\u001b[0;34m\u001b[0m\u001b[0m\n\u001b[0m",
      "\u001b[0;31mNameError\u001b[0m: name 'merge_final' is not defined"
     ]
    }
   ],
   "source": [
    "merge_final.isna().sum()"
   ]
  },
  {
   "cell_type": "code",
   "execution_count": 68,
   "metadata": {},
   "outputs": [
    {
     "ename": "NameError",
     "evalue": "name 'merge_final' is not defined",
     "output_type": "error",
     "traceback": [
      "\u001b[0;31m---------------------------------------------------------------------------\u001b[0m",
      "\u001b[0;31mNameError\u001b[0m                                 Traceback (most recent call last)",
      "\u001b[0;32m<ipython-input-68-6bae3a405f96>\u001b[0m in \u001b[0;36m<module>\u001b[0;34m\u001b[0m\n\u001b[0;32m----> 1\u001b[0;31m \u001b[0mmerge_final\u001b[0m\u001b[0;34m.\u001b[0m\u001b[0mdescribe\u001b[0m\u001b[0;34m(\u001b[0m\u001b[0;34m)\u001b[0m\u001b[0;34m\u001b[0m\u001b[0;34m\u001b[0m\u001b[0m\n\u001b[0m",
      "\u001b[0;31mNameError\u001b[0m: name 'merge_final' is not defined"
     ]
    }
   ],
   "source": [
    "merge_final.describe()"
   ]
  },
  {
   "cell_type": "code",
   "execution_count": 69,
   "metadata": {},
   "outputs": [
    {
     "ename": "NameError",
     "evalue": "name 'merge_final' is not defined",
     "output_type": "error",
     "traceback": [
      "\u001b[0;31m---------------------------------------------------------------------------\u001b[0m",
      "\u001b[0;31mNameError\u001b[0m                                 Traceback (most recent call last)",
      "\u001b[0;32m<ipython-input-69-3efdead0556a>\u001b[0m in \u001b[0;36m<module>\u001b[0;34m\u001b[0m\n\u001b[0;32m----> 1\u001b[0;31m \u001b[0mmerge_final\u001b[0m\u001b[0;34m.\u001b[0m\u001b[0mcolumns\u001b[0m\u001b[0;34m\u001b[0m\u001b[0;34m\u001b[0m\u001b[0m\n\u001b[0m",
      "\u001b[0;31mNameError\u001b[0m: name 'merge_final' is not defined"
     ]
    }
   ],
   "source": [
    "merge_final.columns"
   ]
  },
  {
   "cell_type": "code",
   "execution_count": 70,
   "metadata": {},
   "outputs": [
    {
     "ename": "NameError",
     "evalue": "name 'merge_final' is not defined",
     "output_type": "error",
     "traceback": [
      "\u001b[0;31m---------------------------------------------------------------------------\u001b[0m",
      "\u001b[0;31mNameError\u001b[0m                                 Traceback (most recent call last)",
      "\u001b[0;32m<ipython-input-70-2a6ab9d22299>\u001b[0m in \u001b[0;36m<module>\u001b[0;34m\u001b[0m\n\u001b[0;32m----> 1\u001b[0;31m \u001b[0mmerge_final\u001b[0m\u001b[0;34m[\u001b[0m\u001b[0;34m'24 Hour Snow (in)'\u001b[0m\u001b[0;34m]\u001b[0m\u001b[0;34m.\u001b[0m\u001b[0mplot\u001b[0m\u001b[0;34m(\u001b[0m\u001b[0;34m)\u001b[0m\u001b[0;34m;\u001b[0m\u001b[0;34m\u001b[0m\u001b[0;34m\u001b[0m\u001b[0m\n\u001b[0m",
      "\u001b[0;31mNameError\u001b[0m: name 'merge_final' is not defined"
     ]
    }
   ],
   "source": [
    "merge_final['24 Hour Snow (in)'].plot();"
   ]
  },
  {
   "cell_type": "code",
   "execution_count": 71,
   "metadata": {},
   "outputs": [
    {
     "ename": "NameError",
     "evalue": "name 'merge_final' is not defined",
     "output_type": "error",
     "traceback": [
      "\u001b[0;31m---------------------------------------------------------------------------\u001b[0m",
      "\u001b[0;31mNameError\u001b[0m                                 Traceback (most recent call last)",
      "\u001b[0;32m<ipython-input-71-0ac583bbc435>\u001b[0m in \u001b[0;36m<module>\u001b[0;34m\u001b[0m\n\u001b[0;32m----> 1\u001b[0;31m \u001b[0mmerge_final\u001b[0m\u001b[0;34m.\u001b[0m\u001b[0minfo\u001b[0m\u001b[0;34m(\u001b[0m\u001b[0;34m)\u001b[0m\u001b[0;34m\u001b[0m\u001b[0;34m\u001b[0m\u001b[0m\n\u001b[0m",
      "\u001b[0;31mNameError\u001b[0m: name 'merge_final' is not defined"
     ]
    }
   ],
   "source": [
    "merge_final.info()"
   ]
  },
  {
   "cell_type": "code",
   "execution_count": 72,
   "metadata": {},
   "outputs": [],
   "source": [
    "mapper = DataFrameMapper([\n",
    "        ([   \n",
    "            'Battery Voltage (v)', 'Temperature (deg F)',\n",
    "            'Wind Speed Minimum (mph)', 'Wind Speed Average (mph)',\n",
    "            'Wind Speed Maximum (mph)', 'Wind Direction (deg.)',\n",
    "            '24 Hour Snow (in)', 'Total Snow Depth (in)','max_1_day_temp',\n",
    "            'min_1_day_temp', 'max_2_day_temp', 'min_2_day_temp',\n",
    "            'max_1_day_snow', 'max_2_day_snow', 'max_3_day_snow',\n",
    "            \"mb - 3950' - Stevens Pass - Schmidt Haus\",\n",
    "            '4800ft_Brooks_precip'], ss)\n",
    "    ])"
   ]
  },
  {
   "cell_type": "code",
   "execution_count": 73,
   "metadata": {},
   "outputs": [
    {
     "ename": "NameError",
     "evalue": "name 'merge_final' is not defined",
     "output_type": "error",
     "traceback": [
      "\u001b[0;31m---------------------------------------------------------------------------\u001b[0m",
      "\u001b[0;31mNameError\u001b[0m                                 Traceback (most recent call last)",
      "\u001b[0;32m<ipython-input-73-c8b059e4ecee>\u001b[0m in \u001b[0;36m<module>\u001b[0;34m\u001b[0m\n\u001b[0;32m----> 1\u001b[0;31m X = merge_final[[\n\u001b[0m\u001b[1;32m      2\u001b[0m         \u001b[0;34m'Battery Voltage (v)'\u001b[0m\u001b[0;34m,\u001b[0m \u001b[0;34m'Temperature (deg F)'\u001b[0m\u001b[0;34m,\u001b[0m\u001b[0;34m\u001b[0m\u001b[0;34m\u001b[0m\u001b[0m\n\u001b[1;32m      3\u001b[0m             \u001b[0;34m'Wind Speed Minimum (mph)'\u001b[0m\u001b[0;34m,\u001b[0m \u001b[0;34m'Wind Speed Average (mph)'\u001b[0m\u001b[0;34m,\u001b[0m\u001b[0;34m\u001b[0m\u001b[0;34m\u001b[0m\u001b[0m\n\u001b[1;32m      4\u001b[0m             \u001b[0;34m'Wind Speed Maximum (mph)'\u001b[0m\u001b[0;34m,\u001b[0m \u001b[0;34m'Wind Direction (deg.)'\u001b[0m\u001b[0;34m,\u001b[0m\u001b[0;34m\u001b[0m\u001b[0;34m\u001b[0m\u001b[0m\n\u001b[1;32m      5\u001b[0m             \u001b[0;34m'24 Hour Snow (in)'\u001b[0m\u001b[0;34m,\u001b[0m \u001b[0;34m'Total Snow Depth (in)'\u001b[0m\u001b[0;34m,\u001b[0m\u001b[0;34m'max_1_day_temp'\u001b[0m\u001b[0;34m,\u001b[0m\u001b[0;34m\u001b[0m\u001b[0;34m\u001b[0m\u001b[0m\n",
      "\u001b[0;31mNameError\u001b[0m: name 'merge_final' is not defined"
     ]
    }
   ],
   "source": [
    "X = merge_final[[\n",
    "        'Battery Voltage (v)', 'Temperature (deg F)',\n",
    "            'Wind Speed Minimum (mph)', 'Wind Speed Average (mph)',\n",
    "            'Wind Speed Maximum (mph)', 'Wind Direction (deg.)',\n",
    "            '24 Hour Snow (in)', 'Total Snow Depth (in)','max_1_day_temp',\n",
    "            'min_1_day_temp', 'max_2_day_temp', 'min_2_day_temp',\n",
    "            'max_1_day_snow', 'max_2_day_snow', 'max_3_day_snow',\n",
    "            \"mb - 3950' - Stevens Pass - Schmidt Haus\",\n",
    "            '4800ft_Brooks_precip']]\n",
    "\n",
    "y = merge_final['danger_near_treeline']"
   ]
  },
  {
   "cell_type": "code",
   "execution_count": 74,
   "metadata": {},
   "outputs": [],
   "source": [
    "X_train, X_test, y_train, y_test = X[:12553], X[12553:], y[:12553], y[12553:]"
   ]
  },
  {
   "cell_type": "code",
   "execution_count": 75,
   "metadata": {},
   "outputs": [
    {
     "ename": "KeyError",
     "evalue": "'[\"mb - 3950\\' - Stevens Pass - Schmidt Haus\" \\'4800ft_Brooks_precip\\'] not in index'",
     "output_type": "error",
     "traceback": [
      "\u001b[0;31m---------------------------------------------------------------------------\u001b[0m",
      "\u001b[0;31mKeyError\u001b[0m                                  Traceback (most recent call last)",
      "\u001b[0;32m<ipython-input-75-44e101bf1a76>\u001b[0m in \u001b[0;36m<module>\u001b[0;34m\u001b[0m\n\u001b[1;32m      3\u001b[0m     \u001b[0;34m(\u001b[0m\u001b[0;34m'regressor'\u001b[0m\u001b[0;34m,\u001b[0m \u001b[0mgbr\u001b[0m\u001b[0;34m)\u001b[0m\u001b[0;34m\u001b[0m\u001b[0;34m\u001b[0m\u001b[0m\n\u001b[1;32m      4\u001b[0m ])\n\u001b[0;32m----> 5\u001b[0;31m \u001b[0mpipe3\u001b[0m\u001b[0;34m.\u001b[0m\u001b[0mfit\u001b[0m\u001b[0;34m(\u001b[0m\u001b[0mX_train\u001b[0m\u001b[0;34m,\u001b[0m \u001b[0my_train\u001b[0m\u001b[0;34m)\u001b[0m\u001b[0;34m\u001b[0m\u001b[0;34m\u001b[0m\u001b[0m\n\u001b[0m\u001b[1;32m      6\u001b[0m \u001b[0mpreds\u001b[0m \u001b[0;34m=\u001b[0m \u001b[0mpipe3\u001b[0m\u001b[0;34m.\u001b[0m\u001b[0mpredict\u001b[0m\u001b[0;34m(\u001b[0m\u001b[0mX_test\u001b[0m\u001b[0;34m)\u001b[0m\u001b[0;34m\u001b[0m\u001b[0;34m\u001b[0m\u001b[0m\n\u001b[1;32m      7\u001b[0m print(f'The MAE of the {name}'\n",
      "\u001b[0;32m~/anaconda3/lib/python3.7/site-packages/sklearn/pipeline.py\u001b[0m in \u001b[0;36mfit\u001b[0;34m(self, X, y, **fit_params)\u001b[0m\n\u001b[1;32m    350\u001b[0m             \u001b[0mThis\u001b[0m \u001b[0mestimator\u001b[0m\u001b[0;34m\u001b[0m\u001b[0;34m\u001b[0m\u001b[0m\n\u001b[1;32m    351\u001b[0m         \"\"\"\n\u001b[0;32m--> 352\u001b[0;31m         \u001b[0mXt\u001b[0m\u001b[0;34m,\u001b[0m \u001b[0mfit_params\u001b[0m \u001b[0;34m=\u001b[0m \u001b[0mself\u001b[0m\u001b[0;34m.\u001b[0m\u001b[0m_fit\u001b[0m\u001b[0;34m(\u001b[0m\u001b[0mX\u001b[0m\u001b[0;34m,\u001b[0m \u001b[0my\u001b[0m\u001b[0;34m,\u001b[0m \u001b[0;34m**\u001b[0m\u001b[0mfit_params\u001b[0m\u001b[0;34m)\u001b[0m\u001b[0;34m\u001b[0m\u001b[0;34m\u001b[0m\u001b[0m\n\u001b[0m\u001b[1;32m    353\u001b[0m         with _print_elapsed_time('Pipeline',\n\u001b[1;32m    354\u001b[0m                                  self._log_message(len(self.steps) - 1)):\n",
      "\u001b[0;32m~/anaconda3/lib/python3.7/site-packages/sklearn/pipeline.py\u001b[0m in \u001b[0;36m_fit\u001b[0;34m(self, X, y, **fit_params)\u001b[0m\n\u001b[1;32m    315\u001b[0m                 \u001b[0mmessage_clsname\u001b[0m\u001b[0;34m=\u001b[0m\u001b[0;34m'Pipeline'\u001b[0m\u001b[0;34m,\u001b[0m\u001b[0;34m\u001b[0m\u001b[0;34m\u001b[0m\u001b[0m\n\u001b[1;32m    316\u001b[0m                 \u001b[0mmessage\u001b[0m\u001b[0;34m=\u001b[0m\u001b[0mself\u001b[0m\u001b[0;34m.\u001b[0m\u001b[0m_log_message\u001b[0m\u001b[0;34m(\u001b[0m\u001b[0mstep_idx\u001b[0m\u001b[0;34m)\u001b[0m\u001b[0;34m,\u001b[0m\u001b[0;34m\u001b[0m\u001b[0;34m\u001b[0m\u001b[0m\n\u001b[0;32m--> 317\u001b[0;31m                 **fit_params_steps[name])\n\u001b[0m\u001b[1;32m    318\u001b[0m             \u001b[0;31m# Replace the transformer of the step with the fitted\u001b[0m\u001b[0;34m\u001b[0m\u001b[0;34m\u001b[0m\u001b[0;34m\u001b[0m\u001b[0m\n\u001b[1;32m    319\u001b[0m             \u001b[0;31m# transformer. This is necessary when loading the transformer\u001b[0m\u001b[0;34m\u001b[0m\u001b[0;34m\u001b[0m\u001b[0;34m\u001b[0m\u001b[0m\n",
      "\u001b[0;32m~/anaconda3/lib/python3.7/site-packages/joblib/memory.py\u001b[0m in \u001b[0;36m__call__\u001b[0;34m(self, *args, **kwargs)\u001b[0m\n\u001b[1;32m    353\u001b[0m \u001b[0;34m\u001b[0m\u001b[0m\n\u001b[1;32m    354\u001b[0m     \u001b[0;32mdef\u001b[0m \u001b[0m__call__\u001b[0m\u001b[0;34m(\u001b[0m\u001b[0mself\u001b[0m\u001b[0;34m,\u001b[0m \u001b[0;34m*\u001b[0m\u001b[0margs\u001b[0m\u001b[0;34m,\u001b[0m \u001b[0;34m**\u001b[0m\u001b[0mkwargs\u001b[0m\u001b[0;34m)\u001b[0m\u001b[0;34m:\u001b[0m\u001b[0;34m\u001b[0m\u001b[0;34m\u001b[0m\u001b[0m\n\u001b[0;32m--> 355\u001b[0;31m         \u001b[0;32mreturn\u001b[0m \u001b[0mself\u001b[0m\u001b[0;34m.\u001b[0m\u001b[0mfunc\u001b[0m\u001b[0;34m(\u001b[0m\u001b[0;34m*\u001b[0m\u001b[0margs\u001b[0m\u001b[0;34m,\u001b[0m \u001b[0;34m**\u001b[0m\u001b[0mkwargs\u001b[0m\u001b[0;34m)\u001b[0m\u001b[0;34m\u001b[0m\u001b[0;34m\u001b[0m\u001b[0m\n\u001b[0m\u001b[1;32m    356\u001b[0m \u001b[0;34m\u001b[0m\u001b[0m\n\u001b[1;32m    357\u001b[0m     \u001b[0;32mdef\u001b[0m \u001b[0mcall_and_shelve\u001b[0m\u001b[0;34m(\u001b[0m\u001b[0mself\u001b[0m\u001b[0;34m,\u001b[0m \u001b[0;34m*\u001b[0m\u001b[0margs\u001b[0m\u001b[0;34m,\u001b[0m \u001b[0;34m**\u001b[0m\u001b[0mkwargs\u001b[0m\u001b[0;34m)\u001b[0m\u001b[0;34m:\u001b[0m\u001b[0;34m\u001b[0m\u001b[0;34m\u001b[0m\u001b[0m\n",
      "\u001b[0;32m~/anaconda3/lib/python3.7/site-packages/sklearn/pipeline.py\u001b[0m in \u001b[0;36m_fit_transform_one\u001b[0;34m(transformer, X, y, weight, message_clsname, message, **fit_params)\u001b[0m\n\u001b[1;32m    714\u001b[0m     \u001b[0;32mwith\u001b[0m \u001b[0m_print_elapsed_time\u001b[0m\u001b[0;34m(\u001b[0m\u001b[0mmessage_clsname\u001b[0m\u001b[0;34m,\u001b[0m \u001b[0mmessage\u001b[0m\u001b[0;34m)\u001b[0m\u001b[0;34m:\u001b[0m\u001b[0;34m\u001b[0m\u001b[0;34m\u001b[0m\u001b[0m\n\u001b[1;32m    715\u001b[0m         \u001b[0;32mif\u001b[0m \u001b[0mhasattr\u001b[0m\u001b[0;34m(\u001b[0m\u001b[0mtransformer\u001b[0m\u001b[0;34m,\u001b[0m \u001b[0;34m'fit_transform'\u001b[0m\u001b[0;34m)\u001b[0m\u001b[0;34m:\u001b[0m\u001b[0;34m\u001b[0m\u001b[0;34m\u001b[0m\u001b[0m\n\u001b[0;32m--> 716\u001b[0;31m             \u001b[0mres\u001b[0m \u001b[0;34m=\u001b[0m \u001b[0mtransformer\u001b[0m\u001b[0;34m.\u001b[0m\u001b[0mfit_transform\u001b[0m\u001b[0;34m(\u001b[0m\u001b[0mX\u001b[0m\u001b[0;34m,\u001b[0m \u001b[0my\u001b[0m\u001b[0;34m,\u001b[0m \u001b[0;34m**\u001b[0m\u001b[0mfit_params\u001b[0m\u001b[0;34m)\u001b[0m\u001b[0;34m\u001b[0m\u001b[0;34m\u001b[0m\u001b[0m\n\u001b[0m\u001b[1;32m    717\u001b[0m         \u001b[0;32melse\u001b[0m\u001b[0;34m:\u001b[0m\u001b[0;34m\u001b[0m\u001b[0;34m\u001b[0m\u001b[0m\n\u001b[1;32m    718\u001b[0m             \u001b[0mres\u001b[0m \u001b[0;34m=\u001b[0m \u001b[0mtransformer\u001b[0m\u001b[0;34m.\u001b[0m\u001b[0mfit\u001b[0m\u001b[0;34m(\u001b[0m\u001b[0mX\u001b[0m\u001b[0;34m,\u001b[0m \u001b[0my\u001b[0m\u001b[0;34m,\u001b[0m \u001b[0;34m**\u001b[0m\u001b[0mfit_params\u001b[0m\u001b[0;34m)\u001b[0m\u001b[0;34m.\u001b[0m\u001b[0mtransform\u001b[0m\u001b[0;34m(\u001b[0m\u001b[0mX\u001b[0m\u001b[0;34m)\u001b[0m\u001b[0;34m\u001b[0m\u001b[0;34m\u001b[0m\u001b[0m\n",
      "\u001b[0;32m~/anaconda3/lib/python3.7/site-packages/sklearn_pandas/dataframe_mapper.py\u001b[0m in \u001b[0;36mfit_transform\u001b[0;34m(self, X, y)\u001b[0m\n\u001b[1;32m    386\u001b[0m         \u001b[0my\u001b[0m       \u001b[0mthe\u001b[0m \u001b[0mtarget\u001b[0m \u001b[0mvector\u001b[0m \u001b[0mrelative\u001b[0m \u001b[0mto\u001b[0m \u001b[0mX\u001b[0m\u001b[0;34m,\u001b[0m \u001b[0moptional\u001b[0m\u001b[0;34m\u001b[0m\u001b[0;34m\u001b[0m\u001b[0m\n\u001b[1;32m    387\u001b[0m         \"\"\"\n\u001b[0;32m--> 388\u001b[0;31m         \u001b[0;32mreturn\u001b[0m \u001b[0mself\u001b[0m\u001b[0;34m.\u001b[0m\u001b[0m_transform\u001b[0m\u001b[0;34m(\u001b[0m\u001b[0mX\u001b[0m\u001b[0;34m,\u001b[0m \u001b[0my\u001b[0m\u001b[0;34m,\u001b[0m \u001b[0;32mTrue\u001b[0m\u001b[0;34m)\u001b[0m\u001b[0;34m\u001b[0m\u001b[0;34m\u001b[0m\u001b[0m\n\u001b[0m",
      "\u001b[0;32m~/anaconda3/lib/python3.7/site-packages/sklearn_pandas/dataframe_mapper.py\u001b[0m in \u001b[0;36m_transform\u001b[0;34m(self, X, y, do_fit)\u001b[0m\n\u001b[1;32m    296\u001b[0m             \u001b[0;31m# strings; we don't care because pandas\u001b[0m\u001b[0;34m\u001b[0m\u001b[0;34m\u001b[0m\u001b[0;34m\u001b[0m\u001b[0m\n\u001b[1;32m    297\u001b[0m             \u001b[0;31m# will handle either.\u001b[0m\u001b[0;34m\u001b[0m\u001b[0;34m\u001b[0m\u001b[0;34m\u001b[0m\u001b[0m\n\u001b[0;32m--> 298\u001b[0;31m             \u001b[0mXt\u001b[0m \u001b[0;34m=\u001b[0m \u001b[0mself\u001b[0m\u001b[0;34m.\u001b[0m\u001b[0m_get_col_subset\u001b[0m\u001b[0;34m(\u001b[0m\u001b[0mX\u001b[0m\u001b[0;34m,\u001b[0m \u001b[0mcolumns\u001b[0m\u001b[0;34m,\u001b[0m \u001b[0minput_df\u001b[0m\u001b[0;34m)\u001b[0m\u001b[0;34m\u001b[0m\u001b[0;34m\u001b[0m\u001b[0m\n\u001b[0m\u001b[1;32m    299\u001b[0m             \u001b[0;32mif\u001b[0m \u001b[0mtransformers\u001b[0m \u001b[0;32mis\u001b[0m \u001b[0;32mnot\u001b[0m \u001b[0;32mNone\u001b[0m\u001b[0;34m:\u001b[0m\u001b[0;34m\u001b[0m\u001b[0;34m\u001b[0m\u001b[0m\n\u001b[1;32m    300\u001b[0m                 \u001b[0;32mwith\u001b[0m \u001b[0madd_column_names_to_exception\u001b[0m\u001b[0;34m(\u001b[0m\u001b[0mcolumns\u001b[0m\u001b[0;34m)\u001b[0m\u001b[0;34m:\u001b[0m\u001b[0;34m\u001b[0m\u001b[0;34m\u001b[0m\u001b[0m\n",
      "\u001b[0;32m~/anaconda3/lib/python3.7/site-packages/sklearn_pandas/dataframe_mapper.py\u001b[0m in \u001b[0;36m_get_col_subset\u001b[0;34m(self, X, cols, input_df)\u001b[0m\n\u001b[1;32m    192\u001b[0m             \u001b[0mt\u001b[0m \u001b[0;34m=\u001b[0m \u001b[0mX\u001b[0m\u001b[0;34m[\u001b[0m\u001b[0mcols\u001b[0m\u001b[0;34m[\u001b[0m\u001b[0;36m0\u001b[0m\u001b[0;34m]\u001b[0m\u001b[0;34m]\u001b[0m\u001b[0;34m\u001b[0m\u001b[0;34m\u001b[0m\u001b[0m\n\u001b[1;32m    193\u001b[0m         \u001b[0;32melse\u001b[0m\u001b[0;34m:\u001b[0m\u001b[0;34m\u001b[0m\u001b[0;34m\u001b[0m\u001b[0m\n\u001b[0;32m--> 194\u001b[0;31m             \u001b[0mt\u001b[0m \u001b[0;34m=\u001b[0m \u001b[0mX\u001b[0m\u001b[0;34m[\u001b[0m\u001b[0mcols\u001b[0m\u001b[0;34m]\u001b[0m\u001b[0;34m\u001b[0m\u001b[0;34m\u001b[0m\u001b[0m\n\u001b[0m\u001b[1;32m    195\u001b[0m \u001b[0;34m\u001b[0m\u001b[0m\n\u001b[1;32m    196\u001b[0m         \u001b[0;31m# return either a DataFrame/Series or a numpy array\u001b[0m\u001b[0;34m\u001b[0m\u001b[0;34m\u001b[0m\u001b[0;34m\u001b[0m\u001b[0m\n",
      "\u001b[0;32m~/anaconda3/lib/python3.7/site-packages/pandas/core/frame.py\u001b[0m in \u001b[0;36m__getitem__\u001b[0;34m(self, key)\u001b[0m\n\u001b[1;32m   2680\u001b[0m         \u001b[0;32mif\u001b[0m \u001b[0misinstance\u001b[0m\u001b[0;34m(\u001b[0m\u001b[0mkey\u001b[0m\u001b[0;34m,\u001b[0m \u001b[0;34m(\u001b[0m\u001b[0mSeries\u001b[0m\u001b[0;34m,\u001b[0m \u001b[0mnp\u001b[0m\u001b[0;34m.\u001b[0m\u001b[0mndarray\u001b[0m\u001b[0;34m,\u001b[0m \u001b[0mIndex\u001b[0m\u001b[0;34m,\u001b[0m \u001b[0mlist\u001b[0m\u001b[0;34m)\u001b[0m\u001b[0;34m)\u001b[0m\u001b[0;34m:\u001b[0m\u001b[0;34m\u001b[0m\u001b[0;34m\u001b[0m\u001b[0m\n\u001b[1;32m   2681\u001b[0m             \u001b[0;31m# either boolean or fancy integer index\u001b[0m\u001b[0;34m\u001b[0m\u001b[0;34m\u001b[0m\u001b[0;34m\u001b[0m\u001b[0m\n\u001b[0;32m-> 2682\u001b[0;31m             \u001b[0;32mreturn\u001b[0m \u001b[0mself\u001b[0m\u001b[0;34m.\u001b[0m\u001b[0m_getitem_array\u001b[0m\u001b[0;34m(\u001b[0m\u001b[0mkey\u001b[0m\u001b[0;34m)\u001b[0m\u001b[0;34m\u001b[0m\u001b[0;34m\u001b[0m\u001b[0m\n\u001b[0m\u001b[1;32m   2683\u001b[0m         \u001b[0;32melif\u001b[0m \u001b[0misinstance\u001b[0m\u001b[0;34m(\u001b[0m\u001b[0mkey\u001b[0m\u001b[0;34m,\u001b[0m \u001b[0mDataFrame\u001b[0m\u001b[0;34m)\u001b[0m\u001b[0;34m:\u001b[0m\u001b[0;34m\u001b[0m\u001b[0;34m\u001b[0m\u001b[0m\n\u001b[1;32m   2684\u001b[0m             \u001b[0;32mreturn\u001b[0m \u001b[0mself\u001b[0m\u001b[0;34m.\u001b[0m\u001b[0m_getitem_frame\u001b[0m\u001b[0;34m(\u001b[0m\u001b[0mkey\u001b[0m\u001b[0;34m)\u001b[0m\u001b[0;34m\u001b[0m\u001b[0;34m\u001b[0m\u001b[0m\n",
      "\u001b[0;32m~/anaconda3/lib/python3.7/site-packages/pandas/core/frame.py\u001b[0m in \u001b[0;36m_getitem_array\u001b[0;34m(self, key)\u001b[0m\n\u001b[1;32m   2724\u001b[0m             \u001b[0;32mreturn\u001b[0m \u001b[0mself\u001b[0m\u001b[0;34m.\u001b[0m\u001b[0m_take\u001b[0m\u001b[0;34m(\u001b[0m\u001b[0mindexer\u001b[0m\u001b[0;34m,\u001b[0m \u001b[0maxis\u001b[0m\u001b[0;34m=\u001b[0m\u001b[0;36m0\u001b[0m\u001b[0;34m)\u001b[0m\u001b[0;34m\u001b[0m\u001b[0;34m\u001b[0m\u001b[0m\n\u001b[1;32m   2725\u001b[0m         \u001b[0;32melse\u001b[0m\u001b[0;34m:\u001b[0m\u001b[0;34m\u001b[0m\u001b[0;34m\u001b[0m\u001b[0m\n\u001b[0;32m-> 2726\u001b[0;31m             \u001b[0mindexer\u001b[0m \u001b[0;34m=\u001b[0m \u001b[0mself\u001b[0m\u001b[0;34m.\u001b[0m\u001b[0mloc\u001b[0m\u001b[0;34m.\u001b[0m\u001b[0m_convert_to_indexer\u001b[0m\u001b[0;34m(\u001b[0m\u001b[0mkey\u001b[0m\u001b[0;34m,\u001b[0m \u001b[0maxis\u001b[0m\u001b[0;34m=\u001b[0m\u001b[0;36m1\u001b[0m\u001b[0;34m)\u001b[0m\u001b[0;34m\u001b[0m\u001b[0;34m\u001b[0m\u001b[0m\n\u001b[0m\u001b[1;32m   2727\u001b[0m             \u001b[0;32mreturn\u001b[0m \u001b[0mself\u001b[0m\u001b[0;34m.\u001b[0m\u001b[0m_take\u001b[0m\u001b[0;34m(\u001b[0m\u001b[0mindexer\u001b[0m\u001b[0;34m,\u001b[0m \u001b[0maxis\u001b[0m\u001b[0;34m=\u001b[0m\u001b[0;36m1\u001b[0m\u001b[0;34m)\u001b[0m\u001b[0;34m\u001b[0m\u001b[0;34m\u001b[0m\u001b[0m\n\u001b[1;32m   2728\u001b[0m \u001b[0;34m\u001b[0m\u001b[0m\n",
      "\u001b[0;32m~/anaconda3/lib/python3.7/site-packages/pandas/core/indexing.py\u001b[0m in \u001b[0;36m_convert_to_indexer\u001b[0;34m(self, obj, axis, is_setter)\u001b[0m\n\u001b[1;32m   1325\u001b[0m                 \u001b[0;32mif\u001b[0m \u001b[0mmask\u001b[0m\u001b[0;34m.\u001b[0m\u001b[0many\u001b[0m\u001b[0;34m(\u001b[0m\u001b[0;34m)\u001b[0m\u001b[0;34m:\u001b[0m\u001b[0;34m\u001b[0m\u001b[0;34m\u001b[0m\u001b[0m\n\u001b[1;32m   1326\u001b[0m                     raise KeyError('{mask} not in index'\n\u001b[0;32m-> 1327\u001b[0;31m                                    .format(mask=objarr[mask]))\n\u001b[0m\u001b[1;32m   1328\u001b[0m \u001b[0;34m\u001b[0m\u001b[0m\n\u001b[1;32m   1329\u001b[0m                 \u001b[0;32mreturn\u001b[0m \u001b[0mcom\u001b[0m\u001b[0;34m.\u001b[0m\u001b[0m_values_from_object\u001b[0m\u001b[0;34m(\u001b[0m\u001b[0mindexer\u001b[0m\u001b[0;34m)\u001b[0m\u001b[0;34m\u001b[0m\u001b[0;34m\u001b[0m\u001b[0m\n",
      "\u001b[0;31mKeyError\u001b[0m: '[\"mb - 3950\\' - Stevens Pass - Schmidt Haus\" \\'4800ft_Brooks_precip\\'] not in index'"
     ]
    }
   ],
   "source": [
    "pipe3 = Pipeline(steps=[\n",
    "    ('scaler',mapper),\n",
    "    ('regressor', gbr)\n",
    "])\n",
    "pipe3.fit(X_train, y_train)\n",
    "preds = pipe3.predict(X_test)\n",
    "print(f'The MAE of the {name}'\n",
    "      f' is: {mean_absolute_error((y_test),preds)}\\n'\n",
    "      f'The RMSE of the {name}'\n",
    "      f' is: {mean_squared_error((y_test),preds)}\\n'\n",
    "      '==================================================================\\n'\n",
    "      '========================\\n'\n",
    "     )\n"
   ]
  },
  {
   "cell_type": "markdown",
   "metadata": {},
   "source": [
    "## Conclusion\n",
    "-adding precipitation and the barometric pressure makes my model worse, ha"
   ]
  },
  {
   "cell_type": "code",
   "execution_count": null,
   "metadata": {},
   "outputs": [],
   "source": []
  },
  {
   "cell_type": "code",
   "execution_count": null,
   "metadata": {},
   "outputs": [],
   "source": []
  }
 ],
 "metadata": {
  "kernelspec": {
   "display_name": "learn-env",
   "language": "python",
   "name": "learn-env"
  },
  "language_info": {
   "codemirror_mode": {
    "name": "ipython",
    "version": 3
   },
   "file_extension": ".py",
   "mimetype": "text/x-python",
   "name": "python",
   "nbconvert_exporter": "python",
   "pygments_lexer": "ipython3",
   "version": "3.7.1"
  }
 },
 "nbformat": 4,
 "nbformat_minor": 2
}
