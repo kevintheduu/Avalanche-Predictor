{
 "cells": [
  {
   "cell_type": "code",
   "execution_count": 2,
   "metadata": {},
   "outputs": [],
   "source": [
    "from bs4 import BeautifulSoup\n",
    "from selenium.webdriver import Chrome\n",
    "import pymongo\n",
    "import time\n",
    "import pandas as pd\n",
    "import numpy as np"
   ]
  },
  {
   "cell_type": "code",
   "execution_count": null,
   "metadata": {},
   "outputs": [],
   "source": []
  },
  {
   "cell_type": "code",
   "execution_count": null,
   "metadata": {},
   "outputs": [],
   "source": []
  },
  {
   "cell_type": "code",
   "execution_count": 3,
   "metadata": {},
   "outputs": [],
   "source": [
    "browser = Chrome()\n",
    "\n",
    "url = 'https://www.nwac.us/avalanche-forecast/avalanche-region-forecast/5608/cascade-west-north-baker/'\n",
    "\n",
    "browser.get(url)"
   ]
  },
  {
   "cell_type": "code",
   "execution_count": null,
   "metadata": {},
   "outputs": [],
   "source": []
  },
  {
   "cell_type": "code",
   "execution_count": 6,
   "metadata": {},
   "outputs": [
    {
     "data": {
      "text/plain": [
       "'Low'"
      ]
     },
     "execution_count": 6,
     "metadata": {},
     "output_type": "execute_result"
    }
   ],
   "source": [
    "danger_level_above = browser.find_element_by_css_selector(\n",
    "    '#treeline-above > div.span4.elev-day1-column >div.danger-description > h4')\n",
    "danger_level_above.text"
   ]
  },
  {
   "cell_type": "code",
   "execution_count": null,
   "metadata": {},
   "outputs": [],
   "source": [
    "danger_level_above.text\n",
    "\n",
    "danger_level_treeline = browser.find_element_by_css_selector(\n",
    "                        '#treeline-near > div.span4.elev-day1-column > div.danger-description > h4'\n",
    ")\n",
    "\n",
    "danger_level_treeline.text\n",
    "\n",
    "danger_level_below = browser.find_element_by_css_selector(\n",
    "                    '#treeline-below > div.span4.elev-day1-column > div.danger-description > h4'\n",
    ")\n",
    "\n",
    "danger_level_below.text\n",
    "\n",
    "bottom_line = browser.find_element_by_css_selector(\n",
    "            '#main-content > div.bottom-line-summary-container > div > p'\n",
    ")\n",
    "\n",
    "bottom_line.text"
   ]
  }
 ],
 "metadata": {
  "kernelspec": {
   "display_name": "learn-env",
   "language": "python",
   "name": "learn-env"
  },
  "language_info": {
   "codemirror_mode": {
    "name": "ipython",
    "version": 3
   },
   "file_extension": ".py",
   "mimetype": "text/x-python",
   "name": "python",
   "nbconvert_exporter": "python",
   "pygments_lexer": "ipython3",
   "version": "3.7.1"
  }
 },
 "nbformat": 4,
 "nbformat_minor": 2
}
