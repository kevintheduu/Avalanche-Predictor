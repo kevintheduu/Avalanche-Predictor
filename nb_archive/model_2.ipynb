{
 "cells": [
  {
   "cell_type": "code",
   "execution_count": 1,
   "metadata": {},
   "outputs": [],
   "source": [
    "import numpy as np\n",
    "import pandas as pd\n",
    "import matplotlib.pyplot as plt\n",
    "import seaborn as sns\n",
    "%matplotlib inline\n",
    "sns.set()"
   ]
  },
  {
   "cell_type": "code",
   "execution_count": 140,
   "metadata": {},
   "outputs": [
    {
     "data": {
      "text/html": [
       "<div>\n",
       "<style scoped>\n",
       "    .dataframe tbody tr th:only-of-type {\n",
       "        vertical-align: middle;\n",
       "    }\n",
       "\n",
       "    .dataframe tbody tr th {\n",
       "        vertical-align: top;\n",
       "    }\n",
       "\n",
       "    .dataframe thead th {\n",
       "        text-align: right;\n",
       "    }\n",
       "</style>\n",
       "<table border=\"1\" class=\"dataframe\">\n",
       "  <thead>\n",
       "    <tr style=\"text-align: right;\">\n",
       "      <th></th>\n",
       "      <th>Date/Time (PST)</th>\n",
       "      <th>Battery Voltage (v)</th>\n",
       "      <th>Temperature (deg F)</th>\n",
       "      <th>Wind Speed Minimum (mph)</th>\n",
       "      <th>Wind Speed Average (mph)</th>\n",
       "      <th>Wind Speed Maximum (mph)</th>\n",
       "      <th>Wind Direction (deg.)</th>\n",
       "      <th>date</th>\n",
       "      <th>24 Hour Snow (in)</th>\n",
       "      <th>Total Snow Depth (in)</th>\n",
       "      <th>Relative Humidity (%)</th>\n",
       "      <th>area</th>\n",
       "      <th>danger_above_treeline</th>\n",
       "      <th>danger_below_treeline</th>\n",
       "      <th>danger_near_treeline</th>\n",
       "      <th>date_tomorrow</th>\n",
       "      <th>month</th>\n",
       "    </tr>\n",
       "  </thead>\n",
       "  <tbody>\n",
       "    <tr>\n",
       "      <th>0</th>\n",
       "      <td>2019-04-30 23:00:00</td>\n",
       "      <td>12.80</td>\n",
       "      <td>33.07</td>\n",
       "      <td>5.962</td>\n",
       "      <td>9.230</td>\n",
       "      <td>13.33</td>\n",
       "      <td>267.0</td>\n",
       "      <td>2019-04-30</td>\n",
       "      <td>54.890</td>\n",
       "      <td>74.06</td>\n",
       "      <td>52.35</td>\n",
       "      <td>None</td>\n",
       "      <td>NaN</td>\n",
       "      <td>NaN</td>\n",
       "      <td>NaN</td>\n",
       "      <td>None</td>\n",
       "      <td>4</td>\n",
       "    </tr>\n",
       "    <tr>\n",
       "      <th>1</th>\n",
       "      <td>2019-04-30 22:00:00</td>\n",
       "      <td>12.82</td>\n",
       "      <td>34.52</td>\n",
       "      <td>4.910</td>\n",
       "      <td>11.970</td>\n",
       "      <td>16.22</td>\n",
       "      <td>275.2</td>\n",
       "      <td>2019-04-30</td>\n",
       "      <td>56.090</td>\n",
       "      <td>73.82</td>\n",
       "      <td>44.66</td>\n",
       "      <td>None</td>\n",
       "      <td>NaN</td>\n",
       "      <td>NaN</td>\n",
       "      <td>NaN</td>\n",
       "      <td>None</td>\n",
       "      <td>4</td>\n",
       "    </tr>\n",
       "    <tr>\n",
       "      <th>10</th>\n",
       "      <td>2019-04-30 13:00:00</td>\n",
       "      <td>12.67</td>\n",
       "      <td>41.23</td>\n",
       "      <td>0.000</td>\n",
       "      <td>4.946</td>\n",
       "      <td>18.17</td>\n",
       "      <td>292.8</td>\n",
       "      <td>2019-04-30</td>\n",
       "      <td>62.730</td>\n",
       "      <td>73.30</td>\n",
       "      <td>24.97</td>\n",
       "      <td>None</td>\n",
       "      <td>NaN</td>\n",
       "      <td>NaN</td>\n",
       "      <td>NaN</td>\n",
       "      <td>None</td>\n",
       "      <td>4</td>\n",
       "    </tr>\n",
       "    <tr>\n",
       "      <th>100</th>\n",
       "      <td>2019-04-26 19:00:00</td>\n",
       "      <td>12.69</td>\n",
       "      <td>34.47</td>\n",
       "      <td>1.052</td>\n",
       "      <td>15.430</td>\n",
       "      <td>41.23</td>\n",
       "      <td>296.0</td>\n",
       "      <td>2019-04-26</td>\n",
       "      <td>67.570</td>\n",
       "      <td>73.60</td>\n",
       "      <td>82.40</td>\n",
       "      <td>None</td>\n",
       "      <td>NaN</td>\n",
       "      <td>NaN</td>\n",
       "      <td>NaN</td>\n",
       "      <td>None</td>\n",
       "      <td>4</td>\n",
       "    </tr>\n",
       "    <tr>\n",
       "      <th>1000</th>\n",
       "      <td>2019-03-24 07:00:00</td>\n",
       "      <td>12.74</td>\n",
       "      <td>29.79</td>\n",
       "      <td>5.612</td>\n",
       "      <td>8.280</td>\n",
       "      <td>11.81</td>\n",
       "      <td>274.0</td>\n",
       "      <td>2019-03-24</td>\n",
       "      <td>0.491</td>\n",
       "      <td>90.00</td>\n",
       "      <td>NaN</td>\n",
       "      <td>Stevens Pass</td>\n",
       "      <td>1.0</td>\n",
       "      <td>1.0</td>\n",
       "      <td>1.0</td>\n",
       "      <td>March 25, 2019</td>\n",
       "      <td>3</td>\n",
       "    </tr>\n",
       "  </tbody>\n",
       "</table>\n",
       "</div>"
      ],
      "text/plain": [
       "          Date/Time (PST)  Battery Voltage (v)  Temperature (deg F)  \\\n",
       "0     2019-04-30 23:00:00                12.80                33.07   \n",
       "1     2019-04-30 22:00:00                12.82                34.52   \n",
       "10    2019-04-30 13:00:00                12.67                41.23   \n",
       "100   2019-04-26 19:00:00                12.69                34.47   \n",
       "1000  2019-03-24 07:00:00                12.74                29.79   \n",
       "\n",
       "      Wind Speed Minimum (mph)  Wind Speed Average (mph)  \\\n",
       "0                        5.962                     9.230   \n",
       "1                        4.910                    11.970   \n",
       "10                       0.000                     4.946   \n",
       "100                      1.052                    15.430   \n",
       "1000                     5.612                     8.280   \n",
       "\n",
       "      Wind Speed Maximum (mph)  Wind Direction (deg.)       date  \\\n",
       "0                        13.33                  267.0 2019-04-30   \n",
       "1                        16.22                  275.2 2019-04-30   \n",
       "10                       18.17                  292.8 2019-04-30   \n",
       "100                      41.23                  296.0 2019-04-26   \n",
       "1000                     11.81                  274.0 2019-03-24   \n",
       "\n",
       "      24 Hour Snow (in)  Total Snow Depth (in)  Relative Humidity (%)  \\\n",
       "0                54.890                  74.06                  52.35   \n",
       "1                56.090                  73.82                  44.66   \n",
       "10               62.730                  73.30                  24.97   \n",
       "100              67.570                  73.60                  82.40   \n",
       "1000              0.491                  90.00                    NaN   \n",
       "\n",
       "              area  danger_above_treeline  danger_below_treeline  \\\n",
       "0             None                    NaN                    NaN   \n",
       "1             None                    NaN                    NaN   \n",
       "10            None                    NaN                    NaN   \n",
       "100           None                    NaN                    NaN   \n",
       "1000  Stevens Pass                    1.0                    1.0   \n",
       "\n",
       "      danger_near_treeline   date_tomorrow  month  \n",
       "0                      NaN            None      4  \n",
       "1                      NaN            None      4  \n",
       "10                     NaN            None      4  \n",
       "100                    NaN            None      4  \n",
       "1000                   1.0  March 25, 2019      3  "
      ]
     },
     "execution_count": 140,
     "metadata": {},
     "output_type": "execute_result"
    }
   ],
   "source": [
    "df = pd.read_json('stevens_data_master.json')\n",
    "df.head()"
   ]
  },
  {
   "cell_type": "code",
   "execution_count": 141,
   "metadata": {},
   "outputs": [
    {
     "name": "stdout",
     "output_type": "stream",
     "text": [
      "<class 'pandas.core.frame.DataFrame'>\n",
      "Int64Index: 21303 entries, 0 to 9999\n",
      "Data columns (total 17 columns):\n",
      "Date/Time (PST)             21303 non-null object\n",
      "Battery Voltage (v)         21296 non-null float64\n",
      "Temperature (deg F)         21295 non-null float64\n",
      "Wind Speed Minimum (mph)    21295 non-null float64\n",
      "Wind Speed Average (mph)    21295 non-null float64\n",
      "Wind Speed Maximum (mph)    21295 non-null float64\n",
      "Wind Direction (deg.)       19429 non-null float64\n",
      "date                        21303 non-null datetime64[ns]\n",
      "24 Hour Snow (in)           17685 non-null float64\n",
      "Total Snow Depth (in)       17685 non-null float64\n",
      "Relative Humidity (%)       178 non-null float64\n",
      "area                        19682 non-null object\n",
      "danger_above_treeline       19346 non-null float64\n",
      "danger_below_treeline       19346 non-null float64\n",
      "danger_near_treeline        19346 non-null float64\n",
      "date_tomorrow               19682 non-null object\n",
      "month                       21303 non-null int64\n",
      "dtypes: datetime64[ns](1), float64(12), int64(1), object(3)\n",
      "memory usage: 2.9+ MB\n"
     ]
    }
   ],
   "source": [
    "df.info()"
   ]
  },
  {
   "cell_type": "markdown",
   "metadata": {},
   "source": [
    "### It appears that the relative humidity column is nearly empty (only 178 columns, bummer)"
   ]
  },
  {
   "cell_type": "code",
   "execution_count": 142,
   "metadata": {},
   "outputs": [],
   "source": [
    "#convert datetime back into datetime format from string\n",
    "df['Date/Time (PST)'] = pd.to_datetime(df['Date/Time (PST)'])"
   ]
  },
  {
   "cell_type": "code",
   "execution_count": 143,
   "metadata": {},
   "outputs": [
    {
     "data": {
      "text/html": [
       "<div>\n",
       "<style scoped>\n",
       "    .dataframe tbody tr th:only-of-type {\n",
       "        vertical-align: middle;\n",
       "    }\n",
       "\n",
       "    .dataframe tbody tr th {\n",
       "        vertical-align: top;\n",
       "    }\n",
       "\n",
       "    .dataframe thead th {\n",
       "        text-align: right;\n",
       "    }\n",
       "</style>\n",
       "<table border=\"1\" class=\"dataframe\">\n",
       "  <thead>\n",
       "    <tr style=\"text-align: right;\">\n",
       "      <th></th>\n",
       "      <th>Date/Time (PST)</th>\n",
       "      <th>Battery Voltage (v)</th>\n",
       "      <th>Temperature (deg F)</th>\n",
       "      <th>Wind Speed Minimum (mph)</th>\n",
       "      <th>Wind Speed Average (mph)</th>\n",
       "      <th>Wind Speed Maximum (mph)</th>\n",
       "      <th>Wind Direction (deg.)</th>\n",
       "      <th>date</th>\n",
       "      <th>24 Hour Snow (in)</th>\n",
       "      <th>Total Snow Depth (in)</th>\n",
       "      <th>Relative Humidity (%)</th>\n",
       "      <th>area</th>\n",
       "      <th>danger_above_treeline</th>\n",
       "      <th>danger_below_treeline</th>\n",
       "      <th>danger_near_treeline</th>\n",
       "      <th>date_tomorrow</th>\n",
       "      <th>month</th>\n",
       "    </tr>\n",
       "  </thead>\n",
       "  <tbody>\n",
       "    <tr>\n",
       "      <th>0</th>\n",
       "      <td>2019-04-30 23:00:00</td>\n",
       "      <td>12.8</td>\n",
       "      <td>33.07</td>\n",
       "      <td>5.962</td>\n",
       "      <td>9.23</td>\n",
       "      <td>13.33</td>\n",
       "      <td>267.0</td>\n",
       "      <td>2019-04-30</td>\n",
       "      <td>54.89</td>\n",
       "      <td>74.06</td>\n",
       "      <td>52.35</td>\n",
       "      <td>None</td>\n",
       "      <td>NaN</td>\n",
       "      <td>NaN</td>\n",
       "      <td>NaN</td>\n",
       "      <td>None</td>\n",
       "      <td>4</td>\n",
       "    </tr>\n",
       "  </tbody>\n",
       "</table>\n",
       "</div>"
      ],
      "text/plain": [
       "      Date/Time (PST)  Battery Voltage (v)  Temperature (deg F)  \\\n",
       "0 2019-04-30 23:00:00                 12.8                33.07   \n",
       "\n",
       "   Wind Speed Minimum (mph)  Wind Speed Average (mph)  \\\n",
       "0                     5.962                      9.23   \n",
       "\n",
       "   Wind Speed Maximum (mph)  Wind Direction (deg.)       date  \\\n",
       "0                     13.33                  267.0 2019-04-30   \n",
       "\n",
       "   24 Hour Snow (in)  Total Snow Depth (in)  Relative Humidity (%)  area  \\\n",
       "0              54.89                  74.06                  52.35  None   \n",
       "\n",
       "   danger_above_treeline  danger_below_treeline  danger_near_treeline  \\\n",
       "0                    NaN                    NaN                   NaN   \n",
       "\n",
       "  date_tomorrow  month  \n",
       "0          None      4  "
      ]
     },
     "execution_count": 143,
     "metadata": {},
     "output_type": "execute_result"
    }
   ],
   "source": [
    "df.head(1)"
   ]
  },
  {
   "cell_type": "code",
   "execution_count": 144,
   "metadata": {},
   "outputs": [
    {
     "name": "stdout",
     "output_type": "stream",
     "text": [
      "<class 'pandas.core.frame.DataFrame'>\n",
      "Int64Index: 21303 entries, 0 to 9999\n",
      "Data columns (total 17 columns):\n",
      "Date/Time (PST)             21303 non-null datetime64[ns]\n",
      "Battery Voltage (v)         21296 non-null float64\n",
      "Temperature (deg F)         21295 non-null float64\n",
      "Wind Speed Minimum (mph)    21295 non-null float64\n",
      "Wind Speed Average (mph)    21295 non-null float64\n",
      "Wind Speed Maximum (mph)    21295 non-null float64\n",
      "Wind Direction (deg.)       19429 non-null float64\n",
      "date                        21303 non-null datetime64[ns]\n",
      "24 Hour Snow (in)           17685 non-null float64\n",
      "Total Snow Depth (in)       17685 non-null float64\n",
      "Relative Humidity (%)       178 non-null float64\n",
      "area                        19682 non-null object\n",
      "danger_above_treeline       19346 non-null float64\n",
      "danger_below_treeline       19346 non-null float64\n",
      "danger_near_treeline        19346 non-null float64\n",
      "date_tomorrow               19682 non-null object\n",
      "month                       21303 non-null int64\n",
      "dtypes: datetime64[ns](2), float64(12), int64(1), object(2)\n",
      "memory usage: 2.9+ MB\n"
     ]
    }
   ],
   "source": [
    "df.info()"
   ]
  },
  {
   "cell_type": "code",
   "execution_count": 145,
   "metadata": {},
   "outputs": [],
   "source": [
    "df = df.drop('Relative Humidity (%)',axis=1)"
   ]
  },
  {
   "cell_type": "code",
   "execution_count": 146,
   "metadata": {},
   "outputs": [
    {
     "name": "stdout",
     "output_type": "stream",
     "text": [
      "<class 'pandas.core.frame.DataFrame'>\n",
      "Int64Index: 21303 entries, 0 to 9999\n",
      "Data columns (total 16 columns):\n",
      "Date/Time (PST)             21303 non-null datetime64[ns]\n",
      "Battery Voltage (v)         21296 non-null float64\n",
      "Temperature (deg F)         21295 non-null float64\n",
      "Wind Speed Minimum (mph)    21295 non-null float64\n",
      "Wind Speed Average (mph)    21295 non-null float64\n",
      "Wind Speed Maximum (mph)    21295 non-null float64\n",
      "Wind Direction (deg.)       19429 non-null float64\n",
      "date                        21303 non-null datetime64[ns]\n",
      "24 Hour Snow (in)           17685 non-null float64\n",
      "Total Snow Depth (in)       17685 non-null float64\n",
      "area                        19682 non-null object\n",
      "danger_above_treeline       19346 non-null float64\n",
      "danger_below_treeline       19346 non-null float64\n",
      "danger_near_treeline        19346 non-null float64\n",
      "date_tomorrow               19682 non-null object\n",
      "month                       21303 non-null int64\n",
      "dtypes: datetime64[ns](2), float64(11), int64(1), object(2)\n",
      "memory usage: 2.8+ MB\n"
     ]
    }
   ],
   "source": [
    "df.info()"
   ]
  },
  {
   "cell_type": "code",
   "execution_count": 147,
   "metadata": {},
   "outputs": [
    {
     "data": {
      "text/html": [
       "<div>\n",
       "<style scoped>\n",
       "    .dataframe tbody tr th:only-of-type {\n",
       "        vertical-align: middle;\n",
       "    }\n",
       "\n",
       "    .dataframe tbody tr th {\n",
       "        vertical-align: top;\n",
       "    }\n",
       "\n",
       "    .dataframe thead th {\n",
       "        text-align: right;\n",
       "    }\n",
       "</style>\n",
       "<table border=\"1\" class=\"dataframe\">\n",
       "  <thead>\n",
       "    <tr style=\"text-align: right;\">\n",
       "      <th></th>\n",
       "      <th>Battery Voltage (v)</th>\n",
       "      <th>Temperature (deg F)</th>\n",
       "      <th>Wind Speed Minimum (mph)</th>\n",
       "      <th>Wind Speed Average (mph)</th>\n",
       "      <th>Wind Speed Maximum (mph)</th>\n",
       "      <th>Wind Direction (deg.)</th>\n",
       "      <th>24 Hour Snow (in)</th>\n",
       "      <th>Total Snow Depth (in)</th>\n",
       "      <th>danger_above_treeline</th>\n",
       "      <th>danger_below_treeline</th>\n",
       "      <th>danger_near_treeline</th>\n",
       "      <th>month</th>\n",
       "    </tr>\n",
       "  </thead>\n",
       "  <tbody>\n",
       "    <tr>\n",
       "      <th>count</th>\n",
       "      <td>21296.000000</td>\n",
       "      <td>21295.000000</td>\n",
       "      <td>21295.000000</td>\n",
       "      <td>21295.000000</td>\n",
       "      <td>21295.000000</td>\n",
       "      <td>19429.000000</td>\n",
       "      <td>17685.000000</td>\n",
       "      <td>17685.000000</td>\n",
       "      <td>19346.000000</td>\n",
       "      <td>19346.000000</td>\n",
       "      <td>19346.000000</td>\n",
       "      <td>21303.000000</td>\n",
       "    </tr>\n",
       "    <tr>\n",
       "      <th>mean</th>\n",
       "      <td>12.543848</td>\n",
       "      <td>26.028648</td>\n",
       "      <td>2.420495</td>\n",
       "      <td>6.437304</td>\n",
       "      <td>12.053108</td>\n",
       "      <td>179.496993</td>\n",
       "      <td>0.018083</td>\n",
       "      <td>91.418860</td>\n",
       "      <td>2.477618</td>\n",
       "      <td>1.954202</td>\n",
       "      <td>2.301458</td>\n",
       "      <td>4.368399</td>\n",
       "    </tr>\n",
       "    <tr>\n",
       "      <th>std</th>\n",
       "      <td>2.549749</td>\n",
       "      <td>78.319369</td>\n",
       "      <td>5.125817</td>\n",
       "      <td>6.052230</td>\n",
       "      <td>8.402773</td>\n",
       "      <td>99.822767</td>\n",
       "      <td>91.868543</td>\n",
       "      <td>29.605817</td>\n",
       "      <td>0.780573</td>\n",
       "      <td>0.775944</td>\n",
       "      <td>0.771484</td>\n",
       "      <td>3.969149</td>\n",
       "    </tr>\n",
       "    <tr>\n",
       "      <th>min</th>\n",
       "      <td>0.000000</td>\n",
       "      <td>-7999.000000</td>\n",
       "      <td>-7.743000</td>\n",
       "      <td>0.000000</td>\n",
       "      <td>0.000000</td>\n",
       "      <td>0.000000</td>\n",
       "      <td>-7999.000000</td>\n",
       "      <td>-162.700000</td>\n",
       "      <td>1.000000</td>\n",
       "      <td>1.000000</td>\n",
       "      <td>1.000000</td>\n",
       "      <td>1.000000</td>\n",
       "    </tr>\n",
       "    <tr>\n",
       "      <th>25%</th>\n",
       "      <td>12.610000</td>\n",
       "      <td>21.580000</td>\n",
       "      <td>0.000000</td>\n",
       "      <td>2.899000</td>\n",
       "      <td>7.212000</td>\n",
       "      <td>86.300000</td>\n",
       "      <td>0.283000</td>\n",
       "      <td>73.360000</td>\n",
       "      <td>2.000000</td>\n",
       "      <td>1.000000</td>\n",
       "      <td>2.000000</td>\n",
       "      <td>2.000000</td>\n",
       "    </tr>\n",
       "    <tr>\n",
       "      <th>50%</th>\n",
       "      <td>12.660000</td>\n",
       "      <td>26.780000</td>\n",
       "      <td>0.285000</td>\n",
       "      <td>4.654000</td>\n",
       "      <td>10.000000</td>\n",
       "      <td>241.600000</td>\n",
       "      <td>0.512000</td>\n",
       "      <td>91.600000</td>\n",
       "      <td>2.000000</td>\n",
       "      <td>2.000000</td>\n",
       "      <td>2.000000</td>\n",
       "      <td>3.000000</td>\n",
       "    </tr>\n",
       "    <tr>\n",
       "      <th>75%</th>\n",
       "      <td>12.740000</td>\n",
       "      <td>31.870000</td>\n",
       "      <td>2.877000</td>\n",
       "      <td>8.090000</td>\n",
       "      <td>14.250000</td>\n",
       "      <td>270.700000</td>\n",
       "      <td>2.425000</td>\n",
       "      <td>114.000000</td>\n",
       "      <td>3.000000</td>\n",
       "      <td>2.000000</td>\n",
       "      <td>3.000000</td>\n",
       "      <td>4.000000</td>\n",
       "    </tr>\n",
       "    <tr>\n",
       "      <th>max</th>\n",
       "      <td>45.980000</td>\n",
       "      <td>68.510000</td>\n",
       "      <td>53.250000</td>\n",
       "      <td>84.900000</td>\n",
       "      <td>71.790000</td>\n",
       "      <td>359.700000</td>\n",
       "      <td>166.300000</td>\n",
       "      <td>220.500000</td>\n",
       "      <td>4.000000</td>\n",
       "      <td>4.000000</td>\n",
       "      <td>4.000000</td>\n",
       "      <td>12.000000</td>\n",
       "    </tr>\n",
       "  </tbody>\n",
       "</table>\n",
       "</div>"
      ],
      "text/plain": [
       "       Battery Voltage (v)  Temperature (deg F)  Wind Speed Minimum (mph)  \\\n",
       "count         21296.000000         21295.000000              21295.000000   \n",
       "mean             12.543848            26.028648                  2.420495   \n",
       "std               2.549749            78.319369                  5.125817   \n",
       "min               0.000000         -7999.000000                 -7.743000   \n",
       "25%              12.610000            21.580000                  0.000000   \n",
       "50%              12.660000            26.780000                  0.285000   \n",
       "75%              12.740000            31.870000                  2.877000   \n",
       "max              45.980000            68.510000                 53.250000   \n",
       "\n",
       "       Wind Speed Average (mph)  Wind Speed Maximum (mph)  \\\n",
       "count              21295.000000              21295.000000   \n",
       "mean                   6.437304                 12.053108   \n",
       "std                    6.052230                  8.402773   \n",
       "min                    0.000000                  0.000000   \n",
       "25%                    2.899000                  7.212000   \n",
       "50%                    4.654000                 10.000000   \n",
       "75%                    8.090000                 14.250000   \n",
       "max                   84.900000                 71.790000   \n",
       "\n",
       "       Wind Direction (deg.)  24 Hour Snow (in)  Total Snow Depth (in)  \\\n",
       "count           19429.000000       17685.000000           17685.000000   \n",
       "mean              179.496993           0.018083              91.418860   \n",
       "std                99.822767          91.868543              29.605817   \n",
       "min                 0.000000       -7999.000000            -162.700000   \n",
       "25%                86.300000           0.283000              73.360000   \n",
       "50%               241.600000           0.512000              91.600000   \n",
       "75%               270.700000           2.425000             114.000000   \n",
       "max               359.700000         166.300000             220.500000   \n",
       "\n",
       "       danger_above_treeline  danger_below_treeline  danger_near_treeline  \\\n",
       "count           19346.000000           19346.000000          19346.000000   \n",
       "mean                2.477618               1.954202              2.301458   \n",
       "std                 0.780573               0.775944              0.771484   \n",
       "min                 1.000000               1.000000              1.000000   \n",
       "25%                 2.000000               1.000000              2.000000   \n",
       "50%                 2.000000               2.000000              2.000000   \n",
       "75%                 3.000000               2.000000              3.000000   \n",
       "max                 4.000000               4.000000              4.000000   \n",
       "\n",
       "              month  \n",
       "count  21303.000000  \n",
       "mean       4.368399  \n",
       "std        3.969149  \n",
       "min        1.000000  \n",
       "25%        2.000000  \n",
       "50%        3.000000  \n",
       "75%        4.000000  \n",
       "max       12.000000  "
      ]
     },
     "execution_count": 147,
     "metadata": {},
     "output_type": "execute_result"
    }
   ],
   "source": [
    "df.describe()"
   ]
  },
  {
   "cell_type": "markdown",
   "metadata": {},
   "source": [
    "## WHAT DO TO WITH NEGATIVE VALUES?\n",
    "\n",
    "Temp: set -10 deg F as a cutofff, for it covers all possible temps the cascades can experience with wind chill\n",
    "\n",
    "Wind Speed min: change all negative values to 0\n",
    "\n",
    "24 hour snow: this is a hard one, for snow can blow off after a windstorm or melting period/settling. Let's assume that anything over a foot loss in 12 hours is false. This is a naive assumption. \n",
    "\n",
    "Total Snow Depth: there are two values less than zero, so i wil just drop those rows"
   ]
  },
  {
   "cell_type": "code",
   "execution_count": 148,
   "metadata": {},
   "outputs": [
    {
     "data": {
      "text/plain": [
       "(21303, 16)"
      ]
     },
     "execution_count": 148,
     "metadata": {},
     "output_type": "execute_result"
    }
   ],
   "source": [
    "df.shape"
   ]
  },
  {
   "cell_type": "code",
   "execution_count": 149,
   "metadata": {},
   "outputs": [],
   "source": [
    "#wind_index = df.loc[df['Wind Speed Minimum (mph)'] <= 0].index\n",
    "#change all of these to zeros\n",
    "\n",
    "df['Wind Speed Minimum (mph)'] = df['Wind Speed Minimum (mph)'].clip(lower=0)"
   ]
  },
  {
   "cell_type": "code",
   "execution_count": 150,
   "metadata": {},
   "outputs": [
    {
     "data": {
      "text/plain": [
       "(482, 16)"
      ]
     },
     "execution_count": 150,
     "metadata": {},
     "output_type": "execute_result"
    }
   ],
   "source": [
    "dropped_24snow_index = df.loc[df['24 Hour Snow (in)'] <= -12 ].index\n",
    "#only losing two rows\n",
    "\n",
    "df.loc[df['24 Hour Snow (in)'] <= -12 ].shape"
   ]
  },
  {
   "cell_type": "code",
   "execution_count": 151,
   "metadata": {},
   "outputs": [
    {
     "data": {
      "text/plain": [
       "482"
      ]
     },
     "execution_count": 151,
     "metadata": {},
     "output_type": "execute_result"
    }
   ],
   "source": [
    "df.shape[0]- df.drop(index=dropped_24snow_index,axis=0).shape[0]"
   ]
  },
  {
   "cell_type": "code",
   "execution_count": 152,
   "metadata": {},
   "outputs": [],
   "source": [
    "df = df.drop(index=dropped_24snow_index,axis=0)"
   ]
  },
  {
   "cell_type": "code",
   "execution_count": 153,
   "metadata": {},
   "outputs": [
    {
     "data": {
      "text/plain": [
       "(20821, 16)"
      ]
     },
     "execution_count": 153,
     "metadata": {},
     "output_type": "execute_result"
    }
   ],
   "source": [
    "df.shape"
   ]
  },
  {
   "cell_type": "code",
   "execution_count": 159,
   "metadata": {},
   "outputs": [],
   "source": [
    "dropped_totalsnow_index= df.loc[df['Total Snow Depth (in)'] <= 0].index\n",
    "#only losing two rows\n"
   ]
  },
  {
   "cell_type": "code",
   "execution_count": 160,
   "metadata": {},
   "outputs": [],
   "source": [
    "df = df.drop(index=dropped_totalsnow_index,axis=0)"
   ]
  },
  {
   "cell_type": "code",
   "execution_count": 161,
   "metadata": {},
   "outputs": [],
   "source": [
    "dropped_temp_index = df.loc[df['Temperature (deg F)'] <= -10].index\n",
    "\n",
    "#-10 Farenheit is cold, so let's use that as a cutoff\n",
    "#only losing three rows"
   ]
  },
  {
   "cell_type": "code",
   "execution_count": 162,
   "metadata": {},
   "outputs": [],
   "source": [
    "df = df.drop(index=dropped_temp_index,axis=0)\n"
   ]
  },
  {
   "cell_type": "code",
   "execution_count": 163,
   "metadata": {},
   "outputs": [
    {
     "data": {
      "text/plain": [
       "(20816, 16)"
      ]
     },
     "execution_count": 163,
     "metadata": {},
     "output_type": "execute_result"
    }
   ],
   "source": [
    "df.shape"
   ]
  },
  {
   "cell_type": "code",
   "execution_count": 164,
   "metadata": {},
   "outputs": [
    {
     "data": {
      "text/html": [
       "<div>\n",
       "<style scoped>\n",
       "    .dataframe tbody tr th:only-of-type {\n",
       "        vertical-align: middle;\n",
       "    }\n",
       "\n",
       "    .dataframe tbody tr th {\n",
       "        vertical-align: top;\n",
       "    }\n",
       "\n",
       "    .dataframe thead th {\n",
       "        text-align: right;\n",
       "    }\n",
       "</style>\n",
       "<table border=\"1\" class=\"dataframe\">\n",
       "  <thead>\n",
       "    <tr style=\"text-align: right;\">\n",
       "      <th></th>\n",
       "      <th>Date/Time (PST)</th>\n",
       "      <th>Battery Voltage (v)</th>\n",
       "      <th>Temperature (deg F)</th>\n",
       "      <th>Wind Speed Minimum (mph)</th>\n",
       "      <th>Wind Speed Average (mph)</th>\n",
       "      <th>Wind Speed Maximum (mph)</th>\n",
       "      <th>Wind Direction (deg.)</th>\n",
       "      <th>date</th>\n",
       "      <th>24 Hour Snow (in)</th>\n",
       "      <th>Total Snow Depth (in)</th>\n",
       "      <th>area</th>\n",
       "      <th>danger_above_treeline</th>\n",
       "      <th>danger_below_treeline</th>\n",
       "      <th>danger_near_treeline</th>\n",
       "      <th>date_tomorrow</th>\n",
       "      <th>month</th>\n",
       "    </tr>\n",
       "  </thead>\n",
       "  <tbody>\n",
       "    <tr>\n",
       "      <th>0</th>\n",
       "      <td>2019-04-30 23:00:00</td>\n",
       "      <td>12.80</td>\n",
       "      <td>33.07</td>\n",
       "      <td>5.962</td>\n",
       "      <td>9.230</td>\n",
       "      <td>13.33</td>\n",
       "      <td>267.0</td>\n",
       "      <td>2019-04-30</td>\n",
       "      <td>54.89</td>\n",
       "      <td>74.06</td>\n",
       "      <td>None</td>\n",
       "      <td>NaN</td>\n",
       "      <td>NaN</td>\n",
       "      <td>NaN</td>\n",
       "      <td>None</td>\n",
       "      <td>4</td>\n",
       "    </tr>\n",
       "    <tr>\n",
       "      <th>1</th>\n",
       "      <td>2019-04-30 22:00:00</td>\n",
       "      <td>12.82</td>\n",
       "      <td>34.52</td>\n",
       "      <td>4.910</td>\n",
       "      <td>11.970</td>\n",
       "      <td>16.22</td>\n",
       "      <td>275.2</td>\n",
       "      <td>2019-04-30</td>\n",
       "      <td>56.09</td>\n",
       "      <td>73.82</td>\n",
       "      <td>None</td>\n",
       "      <td>NaN</td>\n",
       "      <td>NaN</td>\n",
       "      <td>NaN</td>\n",
       "      <td>None</td>\n",
       "      <td>4</td>\n",
       "    </tr>\n",
       "    <tr>\n",
       "      <th>10</th>\n",
       "      <td>2019-04-30 13:00:00</td>\n",
       "      <td>12.67</td>\n",
       "      <td>41.23</td>\n",
       "      <td>0.000</td>\n",
       "      <td>4.946</td>\n",
       "      <td>18.17</td>\n",
       "      <td>292.8</td>\n",
       "      <td>2019-04-30</td>\n",
       "      <td>62.73</td>\n",
       "      <td>73.30</td>\n",
       "      <td>None</td>\n",
       "      <td>NaN</td>\n",
       "      <td>NaN</td>\n",
       "      <td>NaN</td>\n",
       "      <td>None</td>\n",
       "      <td>4</td>\n",
       "    </tr>\n",
       "  </tbody>\n",
       "</table>\n",
       "</div>"
      ],
      "text/plain": [
       "       Date/Time (PST)  Battery Voltage (v)  Temperature (deg F)  \\\n",
       "0  2019-04-30 23:00:00                12.80                33.07   \n",
       "1  2019-04-30 22:00:00                12.82                34.52   \n",
       "10 2019-04-30 13:00:00                12.67                41.23   \n",
       "\n",
       "    Wind Speed Minimum (mph)  Wind Speed Average (mph)  \\\n",
       "0                      5.962                     9.230   \n",
       "1                      4.910                    11.970   \n",
       "10                     0.000                     4.946   \n",
       "\n",
       "    Wind Speed Maximum (mph)  Wind Direction (deg.)       date  \\\n",
       "0                      13.33                  267.0 2019-04-30   \n",
       "1                      16.22                  275.2 2019-04-30   \n",
       "10                     18.17                  292.8 2019-04-30   \n",
       "\n",
       "    24 Hour Snow (in)  Total Snow Depth (in)  area  danger_above_treeline  \\\n",
       "0               54.89                  74.06  None                    NaN   \n",
       "1               56.09                  73.82  None                    NaN   \n",
       "10              62.73                  73.30  None                    NaN   \n",
       "\n",
       "    danger_below_treeline  danger_near_treeline date_tomorrow  month  \n",
       "0                     NaN                   NaN          None      4  \n",
       "1                     NaN                   NaN          None      4  \n",
       "10                    NaN                   NaN          None      4  "
      ]
     },
     "execution_count": 164,
     "metadata": {},
     "output_type": "execute_result"
    }
   ],
   "source": [
    "df.head(3)"
   ]
  },
  {
   "cell_type": "code",
   "execution_count": 165,
   "metadata": {},
   "outputs": [
    {
     "data": {
      "text/html": [
       "<div>\n",
       "<style scoped>\n",
       "    .dataframe tbody tr th:only-of-type {\n",
       "        vertical-align: middle;\n",
       "    }\n",
       "\n",
       "    .dataframe tbody tr th {\n",
       "        vertical-align: top;\n",
       "    }\n",
       "\n",
       "    .dataframe thead th {\n",
       "        text-align: right;\n",
       "    }\n",
       "</style>\n",
       "<table border=\"1\" class=\"dataframe\">\n",
       "  <thead>\n",
       "    <tr style=\"text-align: right;\">\n",
       "      <th></th>\n",
       "      <th>Battery Voltage (v)</th>\n",
       "      <th>Temperature (deg F)</th>\n",
       "      <th>Wind Speed Minimum (mph)</th>\n",
       "      <th>Wind Speed Average (mph)</th>\n",
       "      <th>Wind Speed Maximum (mph)</th>\n",
       "      <th>Wind Direction (deg.)</th>\n",
       "      <th>24 Hour Snow (in)</th>\n",
       "      <th>Total Snow Depth (in)</th>\n",
       "      <th>danger_above_treeline</th>\n",
       "      <th>danger_below_treeline</th>\n",
       "      <th>danger_near_treeline</th>\n",
       "      <th>month</th>\n",
       "    </tr>\n",
       "  </thead>\n",
       "  <tbody>\n",
       "    <tr>\n",
       "      <th>count</th>\n",
       "      <td>20809.000000</td>\n",
       "      <td>20808.000000</td>\n",
       "      <td>20808.000000</td>\n",
       "      <td>20808.000000</td>\n",
       "      <td>20808.000000</td>\n",
       "      <td>18945.000000</td>\n",
       "      <td>17201.000000</td>\n",
       "      <td>17201.000000</td>\n",
       "      <td>19063.000000</td>\n",
       "      <td>19063.000000</td>\n",
       "      <td>19063.000000</td>\n",
       "      <td>20816.000000</td>\n",
       "    </tr>\n",
       "    <tr>\n",
       "      <th>mean</th>\n",
       "      <td>12.539524</td>\n",
       "      <td>26.746334</td>\n",
       "      <td>2.437918</td>\n",
       "      <td>6.423208</td>\n",
       "      <td>12.014106</td>\n",
       "      <td>178.791021</td>\n",
       "      <td>5.478905</td>\n",
       "      <td>91.369089</td>\n",
       "      <td>2.474322</td>\n",
       "      <td>1.950480</td>\n",
       "      <td>2.298956</td>\n",
       "      <td>4.384560</td>\n",
       "    </tr>\n",
       "    <tr>\n",
       "      <th>std</th>\n",
       "      <td>2.578988</td>\n",
       "      <td>9.202646</td>\n",
       "      <td>5.172718</td>\n",
       "      <td>6.073320</td>\n",
       "      <td>8.403344</td>\n",
       "      <td>99.929033</td>\n",
       "      <td>16.288344</td>\n",
       "      <td>29.626413</td>\n",
       "      <td>0.780668</td>\n",
       "      <td>0.775005</td>\n",
       "      <td>0.770728</td>\n",
       "      <td>3.997433</td>\n",
       "    </tr>\n",
       "    <tr>\n",
       "      <th>min</th>\n",
       "      <td>0.000000</td>\n",
       "      <td>-2.007000</td>\n",
       "      <td>0.000000</td>\n",
       "      <td>0.000000</td>\n",
       "      <td>0.000000</td>\n",
       "      <td>0.000000</td>\n",
       "      <td>-9.820000</td>\n",
       "      <td>1.722000</td>\n",
       "      <td>1.000000</td>\n",
       "      <td>1.000000</td>\n",
       "      <td>1.000000</td>\n",
       "      <td>1.000000</td>\n",
       "    </tr>\n",
       "    <tr>\n",
       "      <th>25%</th>\n",
       "      <td>12.610000</td>\n",
       "      <td>21.530000</td>\n",
       "      <td>0.000000</td>\n",
       "      <td>2.887750</td>\n",
       "      <td>7.190000</td>\n",
       "      <td>86.200000</td>\n",
       "      <td>0.294000</td>\n",
       "      <td>73.480000</td>\n",
       "      <td>2.000000</td>\n",
       "      <td>1.000000</td>\n",
       "      <td>2.000000</td>\n",
       "      <td>2.000000</td>\n",
       "    </tr>\n",
       "    <tr>\n",
       "      <th>50%</th>\n",
       "      <td>12.660000</td>\n",
       "      <td>26.730000</td>\n",
       "      <td>0.279000</td>\n",
       "      <td>4.625500</td>\n",
       "      <td>10.000000</td>\n",
       "      <td>239.500000</td>\n",
       "      <td>0.520000</td>\n",
       "      <td>91.500000</td>\n",
       "      <td>2.000000</td>\n",
       "      <td>2.000000</td>\n",
       "      <td>2.000000</td>\n",
       "      <td>3.000000</td>\n",
       "    </tr>\n",
       "    <tr>\n",
       "      <th>75%</th>\n",
       "      <td>12.740000</td>\n",
       "      <td>31.860000</td>\n",
       "      <td>2.880500</td>\n",
       "      <td>8.042500</td>\n",
       "      <td>14.070000</td>\n",
       "      <td>270.600000</td>\n",
       "      <td>2.527000</td>\n",
       "      <td>113.900000</td>\n",
       "      <td>3.000000</td>\n",
       "      <td>2.000000</td>\n",
       "      <td>3.000000</td>\n",
       "      <td>4.000000</td>\n",
       "    </tr>\n",
       "    <tr>\n",
       "      <th>max</th>\n",
       "      <td>45.980000</td>\n",
       "      <td>68.510000</td>\n",
       "      <td>53.250000</td>\n",
       "      <td>84.900000</td>\n",
       "      <td>71.790000</td>\n",
       "      <td>359.700000</td>\n",
       "      <td>166.300000</td>\n",
       "      <td>220.500000</td>\n",
       "      <td>4.000000</td>\n",
       "      <td>4.000000</td>\n",
       "      <td>4.000000</td>\n",
       "      <td>12.000000</td>\n",
       "    </tr>\n",
       "  </tbody>\n",
       "</table>\n",
       "</div>"
      ],
      "text/plain": [
       "       Battery Voltage (v)  Temperature (deg F)  Wind Speed Minimum (mph)  \\\n",
       "count         20809.000000         20808.000000              20808.000000   \n",
       "mean             12.539524            26.746334                  2.437918   \n",
       "std               2.578988             9.202646                  5.172718   \n",
       "min               0.000000            -2.007000                  0.000000   \n",
       "25%              12.610000            21.530000                  0.000000   \n",
       "50%              12.660000            26.730000                  0.279000   \n",
       "75%              12.740000            31.860000                  2.880500   \n",
       "max              45.980000            68.510000                 53.250000   \n",
       "\n",
       "       Wind Speed Average (mph)  Wind Speed Maximum (mph)  \\\n",
       "count              20808.000000              20808.000000   \n",
       "mean                   6.423208                 12.014106   \n",
       "std                    6.073320                  8.403344   \n",
       "min                    0.000000                  0.000000   \n",
       "25%                    2.887750                  7.190000   \n",
       "50%                    4.625500                 10.000000   \n",
       "75%                    8.042500                 14.070000   \n",
       "max                   84.900000                 71.790000   \n",
       "\n",
       "       Wind Direction (deg.)  24 Hour Snow (in)  Total Snow Depth (in)  \\\n",
       "count           18945.000000       17201.000000           17201.000000   \n",
       "mean              178.791021           5.478905              91.369089   \n",
       "std                99.929033          16.288344              29.626413   \n",
       "min                 0.000000          -9.820000               1.722000   \n",
       "25%                86.200000           0.294000              73.480000   \n",
       "50%               239.500000           0.520000              91.500000   \n",
       "75%               270.600000           2.527000             113.900000   \n",
       "max               359.700000         166.300000             220.500000   \n",
       "\n",
       "       danger_above_treeline  danger_below_treeline  danger_near_treeline  \\\n",
       "count           19063.000000           19063.000000          19063.000000   \n",
       "mean                2.474322               1.950480              2.298956   \n",
       "std                 0.780668               0.775005              0.770728   \n",
       "min                 1.000000               1.000000              1.000000   \n",
       "25%                 2.000000               1.000000              2.000000   \n",
       "50%                 2.000000               2.000000              2.000000   \n",
       "75%                 3.000000               2.000000              3.000000   \n",
       "max                 4.000000               4.000000              4.000000   \n",
       "\n",
       "              month  \n",
       "count  20816.000000  \n",
       "mean       4.384560  \n",
       "std        3.997433  \n",
       "min        1.000000  \n",
       "25%        2.000000  \n",
       "50%        3.000000  \n",
       "75%        4.000000  \n",
       "max       12.000000  "
      ]
     },
     "execution_count": 165,
     "metadata": {},
     "output_type": "execute_result"
    }
   ],
   "source": [
    "df.describe()"
   ]
  },
  {
   "cell_type": "code",
   "execution_count": 180,
   "metadata": {},
   "outputs": [
    {
     "name": "stdout",
     "output_type": "stream",
     "text": [
      "<class 'pandas.core.frame.DataFrame'>\n",
      "Int64Index: 20816 entries, 0 to 9999\n",
      "Data columns (total 16 columns):\n",
      "Date/Time (PST)             20816 non-null datetime64[ns]\n",
      "Battery Voltage (v)         20809 non-null float64\n",
      "Temperature (deg F)         20808 non-null float64\n",
      "Wind Speed Minimum (mph)    20808 non-null float64\n",
      "Wind Speed Average (mph)    20808 non-null float64\n",
      "Wind Speed Maximum (mph)    20808 non-null float64\n",
      "Wind Direction (deg.)       18945 non-null float64\n",
      "date                        20816 non-null datetime64[ns]\n",
      "24 Hour Snow (in)           17201 non-null float64\n",
      "Total Snow Depth (in)       17201 non-null float64\n",
      "area                        19358 non-null object\n",
      "danger_above_treeline       19063 non-null float64\n",
      "danger_below_treeline       19063 non-null float64\n",
      "danger_near_treeline        19063 non-null float64\n",
      "date_tomorrow               19358 non-null object\n",
      "month                       20816 non-null int64\n",
      "dtypes: datetime64[ns](2), float64(11), int64(1), object(2)\n",
      "memory usage: 2.7+ MB\n"
     ]
    }
   ],
   "source": [
    "df.info()"
   ]
  },
  {
   "cell_type": "code",
   "execution_count": 181,
   "metadata": {},
   "outputs": [
    {
     "data": {
      "text/html": [
       "<div>\n",
       "<style scoped>\n",
       "    .dataframe tbody tr th:only-of-type {\n",
       "        vertical-align: middle;\n",
       "    }\n",
       "\n",
       "    .dataframe tbody tr th {\n",
       "        vertical-align: top;\n",
       "    }\n",
       "\n",
       "    .dataframe thead th {\n",
       "        text-align: right;\n",
       "    }\n",
       "</style>\n",
       "<table border=\"1\" class=\"dataframe\">\n",
       "  <thead>\n",
       "    <tr style=\"text-align: right;\">\n",
       "      <th></th>\n",
       "      <th>Date/Time (PST)</th>\n",
       "      <th>Battery Voltage (v)</th>\n",
       "      <th>Temperature (deg F)</th>\n",
       "      <th>Wind Speed Minimum (mph)</th>\n",
       "      <th>Wind Speed Average (mph)</th>\n",
       "      <th>Wind Speed Maximum (mph)</th>\n",
       "      <th>Wind Direction (deg.)</th>\n",
       "      <th>date</th>\n",
       "      <th>24 Hour Snow (in)</th>\n",
       "      <th>Total Snow Depth (in)</th>\n",
       "      <th>area</th>\n",
       "      <th>danger_above_treeline</th>\n",
       "      <th>danger_below_treeline</th>\n",
       "      <th>danger_near_treeline</th>\n",
       "      <th>date_tomorrow</th>\n",
       "      <th>month</th>\n",
       "    </tr>\n",
       "  </thead>\n",
       "  <tbody>\n",
       "    <tr>\n",
       "      <th>0</th>\n",
       "      <td>2019-04-30 23:00:00</td>\n",
       "      <td>12.8</td>\n",
       "      <td>33.07</td>\n",
       "      <td>5.962</td>\n",
       "      <td>9.23</td>\n",
       "      <td>13.33</td>\n",
       "      <td>267.0</td>\n",
       "      <td>2019-04-30</td>\n",
       "      <td>54.89</td>\n",
       "      <td>74.06</td>\n",
       "      <td>None</td>\n",
       "      <td>NaN</td>\n",
       "      <td>NaN</td>\n",
       "      <td>NaN</td>\n",
       "      <td>None</td>\n",
       "      <td>4</td>\n",
       "    </tr>\n",
       "  </tbody>\n",
       "</table>\n",
       "</div>"
      ],
      "text/plain": [
       "      Date/Time (PST)  Battery Voltage (v)  Temperature (deg F)  \\\n",
       "0 2019-04-30 23:00:00                 12.8                33.07   \n",
       "\n",
       "   Wind Speed Minimum (mph)  Wind Speed Average (mph)  \\\n",
       "0                     5.962                      9.23   \n",
       "\n",
       "   Wind Speed Maximum (mph)  Wind Direction (deg.)       date  \\\n",
       "0                     13.33                  267.0 2019-04-30   \n",
       "\n",
       "   24 Hour Snow (in)  Total Snow Depth (in)  area  danger_above_treeline  \\\n",
       "0              54.89                  74.06  None                    NaN   \n",
       "\n",
       "   danger_below_treeline  danger_near_treeline date_tomorrow  month  \n",
       "0                    NaN                   NaN          None      4  "
      ]
     },
     "execution_count": 181,
     "metadata": {},
     "output_type": "execute_result"
    }
   ],
   "source": [
    "df.head(1)"
   ]
  },
  {
   "cell_type": "code",
   "execution_count": 184,
   "metadata": {},
   "outputs": [],
   "source": [
    "df = df.sort_values(by='Date/Time (PST)',ascending=True)"
   ]
  },
  {
   "cell_type": "code",
   "execution_count": 185,
   "metadata": {},
   "outputs": [],
   "source": [
    "df['max_24_hour_temp']= df['Temperature (deg F)'].rolling(24).max()\n",
    "df['min_24_hour_temp']= df['Temperature (deg F)'].rolling(24).min()"
   ]
  },
  {
   "cell_type": "code",
   "execution_count": 187,
   "metadata": {},
   "outputs": [
    {
     "data": {
      "text/html": [
       "<div>\n",
       "<style scoped>\n",
       "    .dataframe tbody tr th:only-of-type {\n",
       "        vertical-align: middle;\n",
       "    }\n",
       "\n",
       "    .dataframe tbody tr th {\n",
       "        vertical-align: top;\n",
       "    }\n",
       "\n",
       "    .dataframe thead th {\n",
       "        text-align: right;\n",
       "    }\n",
       "</style>\n",
       "<table border=\"1\" class=\"dataframe\">\n",
       "  <thead>\n",
       "    <tr style=\"text-align: right;\">\n",
       "      <th></th>\n",
       "      <th>Date/Time (PST)</th>\n",
       "      <th>Battery Voltage (v)</th>\n",
       "      <th>Temperature (deg F)</th>\n",
       "      <th>Wind Speed Minimum (mph)</th>\n",
       "      <th>Wind Speed Average (mph)</th>\n",
       "      <th>Wind Speed Maximum (mph)</th>\n",
       "      <th>Wind Direction (deg.)</th>\n",
       "      <th>date</th>\n",
       "      <th>24 Hour Snow (in)</th>\n",
       "      <th>Total Snow Depth (in)</th>\n",
       "      <th>area</th>\n",
       "      <th>danger_above_treeline</th>\n",
       "      <th>danger_below_treeline</th>\n",
       "      <th>danger_near_treeline</th>\n",
       "      <th>date_tomorrow</th>\n",
       "      <th>month</th>\n",
       "      <th>max_24_hour_temp</th>\n",
       "      <th>min_24_hour_temp</th>\n",
       "    </tr>\n",
       "  </thead>\n",
       "  <tbody>\n",
       "    <tr>\n",
       "      <th>9</th>\n",
       "      <td>2019-04-30 14:00:00</td>\n",
       "      <td>12.66</td>\n",
       "      <td>39.14</td>\n",
       "      <td>0.000</td>\n",
       "      <td>3.424</td>\n",
       "      <td>23.65</td>\n",
       "      <td>292.0</td>\n",
       "      <td>2019-04-30</td>\n",
       "      <td>61.79</td>\n",
       "      <td>73.43</td>\n",
       "      <td>None</td>\n",
       "      <td>NaN</td>\n",
       "      <td>NaN</td>\n",
       "      <td>NaN</td>\n",
       "      <td>None</td>\n",
       "      <td>4</td>\n",
       "      <td>46.16</td>\n",
       "      <td>30.03</td>\n",
       "    </tr>\n",
       "    <tr>\n",
       "      <th>8</th>\n",
       "      <td>2019-04-30 15:00:00</td>\n",
       "      <td>12.65</td>\n",
       "      <td>41.20</td>\n",
       "      <td>0.044</td>\n",
       "      <td>7.277</td>\n",
       "      <td>19.29</td>\n",
       "      <td>283.4</td>\n",
       "      <td>2019-04-30</td>\n",
       "      <td>63.00</td>\n",
       "      <td>72.87</td>\n",
       "      <td>None</td>\n",
       "      <td>NaN</td>\n",
       "      <td>NaN</td>\n",
       "      <td>NaN</td>\n",
       "      <td>None</td>\n",
       "      <td>4</td>\n",
       "      <td>46.16</td>\n",
       "      <td>30.03</td>\n",
       "    </tr>\n",
       "    <tr>\n",
       "      <th>7</th>\n",
       "      <td>2019-04-30 16:00:00</td>\n",
       "      <td>12.64</td>\n",
       "      <td>38.55</td>\n",
       "      <td>0.482</td>\n",
       "      <td>8.720</td>\n",
       "      <td>19.79</td>\n",
       "      <td>284.7</td>\n",
       "      <td>2019-04-30</td>\n",
       "      <td>61.66</td>\n",
       "      <td>72.85</td>\n",
       "      <td>None</td>\n",
       "      <td>NaN</td>\n",
       "      <td>NaN</td>\n",
       "      <td>NaN</td>\n",
       "      <td>None</td>\n",
       "      <td>4</td>\n",
       "      <td>46.16</td>\n",
       "      <td>30.03</td>\n",
       "    </tr>\n",
       "    <tr>\n",
       "      <th>6</th>\n",
       "      <td>2019-04-30 17:00:00</td>\n",
       "      <td>12.64</td>\n",
       "      <td>38.35</td>\n",
       "      <td>0.000</td>\n",
       "      <td>5.536</td>\n",
       "      <td>12.43</td>\n",
       "      <td>278.6</td>\n",
       "      <td>2019-04-30</td>\n",
       "      <td>59.24</td>\n",
       "      <td>73.22</td>\n",
       "      <td>None</td>\n",
       "      <td>NaN</td>\n",
       "      <td>NaN</td>\n",
       "      <td>NaN</td>\n",
       "      <td>None</td>\n",
       "      <td>4</td>\n",
       "      <td>46.16</td>\n",
       "      <td>30.03</td>\n",
       "    </tr>\n",
       "    <tr>\n",
       "      <th>5</th>\n",
       "      <td>2019-04-30 18:00:00</td>\n",
       "      <td>13.52</td>\n",
       "      <td>38.46</td>\n",
       "      <td>0.000</td>\n",
       "      <td>8.700</td>\n",
       "      <td>21.96</td>\n",
       "      <td>287.2</td>\n",
       "      <td>2019-04-30</td>\n",
       "      <td>60.25</td>\n",
       "      <td>73.48</td>\n",
       "      <td>None</td>\n",
       "      <td>NaN</td>\n",
       "      <td>NaN</td>\n",
       "      <td>NaN</td>\n",
       "      <td>None</td>\n",
       "      <td>4</td>\n",
       "      <td>46.16</td>\n",
       "      <td>30.03</td>\n",
       "    </tr>\n",
       "    <tr>\n",
       "      <th>4</th>\n",
       "      <td>2019-04-30 19:00:00</td>\n",
       "      <td>13.58</td>\n",
       "      <td>37.24</td>\n",
       "      <td>0.088</td>\n",
       "      <td>9.150</td>\n",
       "      <td>20.58</td>\n",
       "      <td>283.8</td>\n",
       "      <td>2019-04-30</td>\n",
       "      <td>58.71</td>\n",
       "      <td>73.74</td>\n",
       "      <td>None</td>\n",
       "      <td>NaN</td>\n",
       "      <td>NaN</td>\n",
       "      <td>NaN</td>\n",
       "      <td>None</td>\n",
       "      <td>4</td>\n",
       "      <td>46.16</td>\n",
       "      <td>30.03</td>\n",
       "    </tr>\n",
       "    <tr>\n",
       "      <th>3</th>\n",
       "      <td>2019-04-30 20:00:00</td>\n",
       "      <td>12.93</td>\n",
       "      <td>36.32</td>\n",
       "      <td>5.283</td>\n",
       "      <td>12.320</td>\n",
       "      <td>16.57</td>\n",
       "      <td>276.0</td>\n",
       "      <td>2019-04-30</td>\n",
       "      <td>57.70</td>\n",
       "      <td>73.84</td>\n",
       "      <td>None</td>\n",
       "      <td>NaN</td>\n",
       "      <td>NaN</td>\n",
       "      <td>NaN</td>\n",
       "      <td>None</td>\n",
       "      <td>4</td>\n",
       "      <td>46.16</td>\n",
       "      <td>30.12</td>\n",
       "    </tr>\n",
       "    <tr>\n",
       "      <th>2</th>\n",
       "      <td>2019-04-30 21:00:00</td>\n",
       "      <td>12.85</td>\n",
       "      <td>35.28</td>\n",
       "      <td>8.180</td>\n",
       "      <td>12.700</td>\n",
       "      <td>17.65</td>\n",
       "      <td>274.7</td>\n",
       "      <td>2019-04-30</td>\n",
       "      <td>57.03</td>\n",
       "      <td>73.71</td>\n",
       "      <td>None</td>\n",
       "      <td>NaN</td>\n",
       "      <td>NaN</td>\n",
       "      <td>NaN</td>\n",
       "      <td>None</td>\n",
       "      <td>4</td>\n",
       "      <td>46.16</td>\n",
       "      <td>30.67</td>\n",
       "    </tr>\n",
       "    <tr>\n",
       "      <th>1</th>\n",
       "      <td>2019-04-30 22:00:00</td>\n",
       "      <td>12.82</td>\n",
       "      <td>34.52</td>\n",
       "      <td>4.910</td>\n",
       "      <td>11.970</td>\n",
       "      <td>16.22</td>\n",
       "      <td>275.2</td>\n",
       "      <td>2019-04-30</td>\n",
       "      <td>56.09</td>\n",
       "      <td>73.82</td>\n",
       "      <td>None</td>\n",
       "      <td>NaN</td>\n",
       "      <td>NaN</td>\n",
       "      <td>NaN</td>\n",
       "      <td>None</td>\n",
       "      <td>4</td>\n",
       "      <td>46.16</td>\n",
       "      <td>30.67</td>\n",
       "    </tr>\n",
       "    <tr>\n",
       "      <th>0</th>\n",
       "      <td>2019-04-30 23:00:00</td>\n",
       "      <td>12.80</td>\n",
       "      <td>33.07</td>\n",
       "      <td>5.962</td>\n",
       "      <td>9.230</td>\n",
       "      <td>13.33</td>\n",
       "      <td>267.0</td>\n",
       "      <td>2019-04-30</td>\n",
       "      <td>54.89</td>\n",
       "      <td>74.06</td>\n",
       "      <td>None</td>\n",
       "      <td>NaN</td>\n",
       "      <td>NaN</td>\n",
       "      <td>NaN</td>\n",
       "      <td>None</td>\n",
       "      <td>4</td>\n",
       "      <td>46.16</td>\n",
       "      <td>30.67</td>\n",
       "    </tr>\n",
       "  </tbody>\n",
       "</table>\n",
       "</div>"
      ],
      "text/plain": [
       "      Date/Time (PST)  Battery Voltage (v)  Temperature (deg F)  \\\n",
       "9 2019-04-30 14:00:00                12.66                39.14   \n",
       "8 2019-04-30 15:00:00                12.65                41.20   \n",
       "7 2019-04-30 16:00:00                12.64                38.55   \n",
       "6 2019-04-30 17:00:00                12.64                38.35   \n",
       "5 2019-04-30 18:00:00                13.52                38.46   \n",
       "4 2019-04-30 19:00:00                13.58                37.24   \n",
       "3 2019-04-30 20:00:00                12.93                36.32   \n",
       "2 2019-04-30 21:00:00                12.85                35.28   \n",
       "1 2019-04-30 22:00:00                12.82                34.52   \n",
       "0 2019-04-30 23:00:00                12.80                33.07   \n",
       "\n",
       "   Wind Speed Minimum (mph)  Wind Speed Average (mph)  \\\n",
       "9                     0.000                     3.424   \n",
       "8                     0.044                     7.277   \n",
       "7                     0.482                     8.720   \n",
       "6                     0.000                     5.536   \n",
       "5                     0.000                     8.700   \n",
       "4                     0.088                     9.150   \n",
       "3                     5.283                    12.320   \n",
       "2                     8.180                    12.700   \n",
       "1                     4.910                    11.970   \n",
       "0                     5.962                     9.230   \n",
       "\n",
       "   Wind Speed Maximum (mph)  Wind Direction (deg.)       date  \\\n",
       "9                     23.65                  292.0 2019-04-30   \n",
       "8                     19.29                  283.4 2019-04-30   \n",
       "7                     19.79                  284.7 2019-04-30   \n",
       "6                     12.43                  278.6 2019-04-30   \n",
       "5                     21.96                  287.2 2019-04-30   \n",
       "4                     20.58                  283.8 2019-04-30   \n",
       "3                     16.57                  276.0 2019-04-30   \n",
       "2                     17.65                  274.7 2019-04-30   \n",
       "1                     16.22                  275.2 2019-04-30   \n",
       "0                     13.33                  267.0 2019-04-30   \n",
       "\n",
       "   24 Hour Snow (in)  Total Snow Depth (in)  area  danger_above_treeline  \\\n",
       "9              61.79                  73.43  None                    NaN   \n",
       "8              63.00                  72.87  None                    NaN   \n",
       "7              61.66                  72.85  None                    NaN   \n",
       "6              59.24                  73.22  None                    NaN   \n",
       "5              60.25                  73.48  None                    NaN   \n",
       "4              58.71                  73.74  None                    NaN   \n",
       "3              57.70                  73.84  None                    NaN   \n",
       "2              57.03                  73.71  None                    NaN   \n",
       "1              56.09                  73.82  None                    NaN   \n",
       "0              54.89                  74.06  None                    NaN   \n",
       "\n",
       "   danger_below_treeline  danger_near_treeline date_tomorrow  month  \\\n",
       "9                    NaN                   NaN          None      4   \n",
       "8                    NaN                   NaN          None      4   \n",
       "7                    NaN                   NaN          None      4   \n",
       "6                    NaN                   NaN          None      4   \n",
       "5                    NaN                   NaN          None      4   \n",
       "4                    NaN                   NaN          None      4   \n",
       "3                    NaN                   NaN          None      4   \n",
       "2                    NaN                   NaN          None      4   \n",
       "1                    NaN                   NaN          None      4   \n",
       "0                    NaN                   NaN          None      4   \n",
       "\n",
       "   max_24_hour_temp  min_24_hour_temp  \n",
       "9             46.16             30.03  \n",
       "8             46.16             30.03  \n",
       "7             46.16             30.03  \n",
       "6             46.16             30.03  \n",
       "5             46.16             30.03  \n",
       "4             46.16             30.03  \n",
       "3             46.16             30.12  \n",
       "2             46.16             30.67  \n",
       "1             46.16             30.67  \n",
       "0             46.16             30.67  "
      ]
     },
     "execution_count": 187,
     "metadata": {},
     "output_type": "execute_result"
    }
   ],
   "source": [
    "df.tail(10)"
   ]
  },
  {
   "cell_type": "code",
   "execution_count": 188,
   "metadata": {},
   "outputs": [],
   "source": [
    "df['max_48_hour_temp']= df['Temperature (deg F)'].rolling(24).max()\n",
    "df['min_48_hour_temp']= df['Temperature (deg F)'].rolling(24).min()"
   ]
  },
  {
   "cell_type": "code",
   "execution_count": 189,
   "metadata": {},
   "outputs": [
    {
     "data": {
      "text/html": [
       "<div>\n",
       "<style scoped>\n",
       "    .dataframe tbody tr th:only-of-type {\n",
       "        vertical-align: middle;\n",
       "    }\n",
       "\n",
       "    .dataframe tbody tr th {\n",
       "        vertical-align: top;\n",
       "    }\n",
       "\n",
       "    .dataframe thead th {\n",
       "        text-align: right;\n",
       "    }\n",
       "</style>\n",
       "<table border=\"1\" class=\"dataframe\">\n",
       "  <thead>\n",
       "    <tr style=\"text-align: right;\">\n",
       "      <th></th>\n",
       "      <th>Date/Time (PST)</th>\n",
       "      <th>Battery Voltage (v)</th>\n",
       "      <th>Temperature (deg F)</th>\n",
       "      <th>Wind Speed Minimum (mph)</th>\n",
       "      <th>Wind Speed Average (mph)</th>\n",
       "      <th>Wind Speed Maximum (mph)</th>\n",
       "      <th>Wind Direction (deg.)</th>\n",
       "      <th>date</th>\n",
       "      <th>24 Hour Snow (in)</th>\n",
       "      <th>Total Snow Depth (in)</th>\n",
       "      <th>area</th>\n",
       "      <th>danger_above_treeline</th>\n",
       "      <th>danger_below_treeline</th>\n",
       "      <th>danger_near_treeline</th>\n",
       "      <th>date_tomorrow</th>\n",
       "      <th>month</th>\n",
       "      <th>max_24_hour_temp</th>\n",
       "      <th>min_24_hour_temp</th>\n",
       "      <th>max_48_hour_temp</th>\n",
       "      <th>min_48_hour_temp</th>\n",
       "    </tr>\n",
       "  </thead>\n",
       "  <tbody>\n",
       "    <tr>\n",
       "      <th>21252</th>\n",
       "      <td>2014-12-19 15:00:00</td>\n",
       "      <td>13.13</td>\n",
       "      <td>28.66</td>\n",
       "      <td>0.005</td>\n",
       "      <td>0.573</td>\n",
       "      <td>10.0</td>\n",
       "      <td>NaN</td>\n",
       "      <td>2014-12-19</td>\n",
       "      <td>NaN</td>\n",
       "      <td>NaN</td>\n",
       "      <td>Stevens Pass</td>\n",
       "      <td>3.0</td>\n",
       "      <td>2.0</td>\n",
       "      <td>2.0</td>\n",
       "      <td>December 20, 2014</td>\n",
       "      <td>12</td>\n",
       "      <td>29.5</td>\n",
       "      <td>23.61</td>\n",
       "      <td>29.5</td>\n",
       "      <td>23.61</td>\n",
       "    </tr>\n",
       "  </tbody>\n",
       "</table>\n",
       "</div>"
      ],
      "text/plain": [
       "          Date/Time (PST)  Battery Voltage (v)  Temperature (deg F)  \\\n",
       "21252 2014-12-19 15:00:00                13.13                28.66   \n",
       "\n",
       "       Wind Speed Minimum (mph)  Wind Speed Average (mph)  \\\n",
       "21252                     0.005                     0.573   \n",
       "\n",
       "       Wind Speed Maximum (mph)  Wind Direction (deg.)       date  \\\n",
       "21252                      10.0                    NaN 2014-12-19   \n",
       "\n",
       "       24 Hour Snow (in)  Total Snow Depth (in)          area  \\\n",
       "21252                NaN                    NaN  Stevens Pass   \n",
       "\n",
       "       danger_above_treeline  danger_below_treeline  danger_near_treeline  \\\n",
       "21252                    3.0                    2.0                   2.0   \n",
       "\n",
       "           date_tomorrow  month  max_24_hour_temp  min_24_hour_temp  \\\n",
       "21252  December 20, 2014     12              29.5             23.61   \n",
       "\n",
       "       max_48_hour_temp  min_48_hour_temp  \n",
       "21252              29.5             23.61  "
      ]
     },
     "execution_count": 189,
     "metadata": {},
     "output_type": "execute_result"
    }
   ],
   "source": [
    "df.iloc[[50]]"
   ]
  },
  {
   "cell_type": "code",
   "execution_count": 190,
   "metadata": {},
   "outputs": [
    {
     "data": {
      "text/plain": [
       "Index(['Date/Time (PST)', 'Battery Voltage (v)', 'Temperature (deg F)',\n",
       "       'Wind Speed Minimum (mph)', 'Wind Speed Average (mph)',\n",
       "       'Wind Speed Maximum (mph)', 'Wind Direction (deg.)', 'date',\n",
       "       '24 Hour Snow (in)', 'Total Snow Depth (in)', 'area',\n",
       "       'danger_above_treeline', 'danger_below_treeline',\n",
       "       'danger_near_treeline', 'date_tomorrow', 'month', 'max_24_hour_temp',\n",
       "       'min_24_hour_temp', 'max_48_hour_temp', 'min_48_hour_temp'],\n",
       "      dtype='object')"
      ]
     },
     "execution_count": 190,
     "metadata": {},
     "output_type": "execute_result"
    }
   ],
   "source": [
    "df.columns"
   ]
  },
  {
   "cell_type": "code",
   "execution_count": 199,
   "metadata": {},
   "outputs": [
    {
     "data": {
      "text/plain": [
       "Date/Time (PST)                0\n",
       "Battery Voltage (v)            7\n",
       "Temperature (deg F)            8\n",
       "Wind Speed Minimum (mph)       8\n",
       "Wind Speed Average (mph)       8\n",
       "Wind Speed Maximum (mph)       8\n",
       "Wind Direction (deg.)       1871\n",
       "date                           0\n",
       "24 Hour Snow (in)           3615\n",
       "Total Snow Depth (in)       3615\n",
       "area                        1458\n",
       "danger_above_treeline       1753\n",
       "danger_below_treeline       1753\n",
       "danger_near_treeline        1753\n",
       "date_tomorrow               1458\n",
       "month                          0\n",
       "max_24_hour_temp             215\n",
       "min_24_hour_temp             215\n",
       "max_48_hour_temp             215\n",
       "min_48_hour_temp             215\n",
       "dtype: int64"
      ]
     },
     "execution_count": 199,
     "metadata": {},
     "output_type": "execute_result"
    }
   ],
   "source": [
    "df.isna().sum()"
   ]
  },
  {
   "cell_type": "code",
   "execution_count": 205,
   "metadata": {},
   "outputs": [],
   "source": [
    "no_avy_index = df.loc[df['danger_above_treeline'].isna()].index\n",
    "df = df.drop(index=no_avy_index,axis=0)"
   ]
  },
  {
   "cell_type": "code",
   "execution_count": 208,
   "metadata": {},
   "outputs": [
    {
     "data": {
      "text/plain": [
       "Date/Time (PST)                0\n",
       "Battery Voltage (v)            5\n",
       "Temperature (deg F)            6\n",
       "Wind Speed Minimum (mph)       6\n",
       "Wind Speed Average (mph)       6\n",
       "Wind Speed Maximum (mph)       6\n",
       "Wind Direction (deg.)       1835\n",
       "date                           0\n",
       "24 Hour Snow (in)           3217\n",
       "Total Snow Depth (in)       3217\n",
       "area                           0\n",
       "danger_above_treeline          0\n",
       "danger_below_treeline          0\n",
       "danger_near_treeline           0\n",
       "date_tomorrow                  0\n",
       "month                          0\n",
       "max_24_hour_temp             159\n",
       "min_24_hour_temp             159\n",
       "max_48_hour_temp             159\n",
       "min_48_hour_temp             159\n",
       "dtype: int64"
      ]
     },
     "execution_count": 208,
     "metadata": {},
     "output_type": "execute_result"
    }
   ],
   "source": [
    "df.isna().sum()\n",
    "\n",
    "#wind direction and 23 hour snow depth must also be removed\n"
   ]
  },
  {
   "cell_type": "code",
   "execution_count": 210,
   "metadata": {},
   "outputs": [],
   "source": [
    "no_snow_depth = df.loc[df['Total Snow Depth (in)'].isna()].index"
   ]
  },
  {
   "cell_type": "code",
   "execution_count": 212,
   "metadata": {},
   "outputs": [
    {
     "data": {
      "text/plain": [
       "3217"
      ]
     },
     "execution_count": 212,
     "metadata": {},
     "output_type": "execute_result"
    }
   ],
   "source": [
    "df.loc[df['Total Snow Depth (in)'].isna()].shape[0]"
   ]
  },
  {
   "cell_type": "code",
   "execution_count": 213,
   "metadata": {},
   "outputs": [
    {
     "data": {
      "text/plain": [
       "3217"
      ]
     },
     "execution_count": 213,
     "metadata": {},
     "output_type": "execute_result"
    }
   ],
   "source": [
    "df.shape[0] - df.drop(index=no_snow_depth).shape[0]"
   ]
  },
  {
   "cell_type": "code",
   "execution_count": 214,
   "metadata": {},
   "outputs": [],
   "source": [
    "df = df.drop(index=no_snow_depth)"
   ]
  },
  {
   "cell_type": "code",
   "execution_count": 217,
   "metadata": {},
   "outputs": [
    {
     "data": {
      "text/plain": [
       "Date/Time (PST)               0\n",
       "Battery Voltage (v)           0\n",
       "Temperature (deg F)           1\n",
       "Wind Speed Minimum (mph)      1\n",
       "Wind Speed Average (mph)      1\n",
       "Wind Speed Maximum (mph)      1\n",
       "Wind Direction (deg.)         1\n",
       "date                          0\n",
       "24 Hour Snow (in)             0\n",
       "Total Snow Depth (in)         0\n",
       "area                          0\n",
       "danger_above_treeline         0\n",
       "danger_below_treeline         0\n",
       "danger_near_treeline          0\n",
       "date_tomorrow                 0\n",
       "month                         0\n",
       "max_24_hour_temp            154\n",
       "min_24_hour_temp            154\n",
       "max_48_hour_temp            154\n",
       "min_48_hour_temp            154\n",
       "dtype: int64"
      ]
     },
     "execution_count": 217,
     "metadata": {},
     "output_type": "execute_result"
    }
   ],
   "source": [
    "df.isna().sum()\n"
   ]
  },
  {
   "cell_type": "code",
   "execution_count": 218,
   "metadata": {},
   "outputs": [],
   "source": [
    "df_clean = df.dropna()"
   ]
  },
  {
   "cell_type": "markdown",
   "metadata": {},
   "source": [
    "## Now, what do i want my X's to be?? \n",
    "\n",
    "X: temp, wind speed average, 24 hour snow (in), max/min 24 and 48 H temp \n",
    "\n",
    "Y: danger_near_treeline"
   ]
  },
  {
   "cell_type": "code",
   "execution_count": 224,
   "metadata": {},
   "outputs": [],
   "source": [
    "df_clean = df_clean.reset_index(drop=True)"
   ]
  },
  {
   "cell_type": "code",
   "execution_count": 225,
   "metadata": {},
   "outputs": [
    {
     "data": {
      "text/plain": [
       "Index(['Date/Time (PST)', 'Battery Voltage (v)', 'Temperature (deg F)',\n",
       "       'Wind Speed Minimum (mph)', 'Wind Speed Average (mph)',\n",
       "       'Wind Speed Maximum (mph)', 'Wind Direction (deg.)', 'date',\n",
       "       '24 Hour Snow (in)', 'Total Snow Depth (in)', 'area',\n",
       "       'danger_above_treeline', 'danger_below_treeline',\n",
       "       'danger_near_treeline', 'date_tomorrow', 'month', 'max_24_hour_temp',\n",
       "       'min_24_hour_temp', 'max_48_hour_temp', 'min_48_hour_temp'],\n",
       "      dtype='object')"
      ]
     },
     "execution_count": 225,
     "metadata": {},
     "output_type": "execute_result"
    }
   ],
   "source": [
    "df_clean.columns"
   ]
  },
  {
   "cell_type": "code",
   "execution_count": 226,
   "metadata": {},
   "outputs": [
    {
     "data": {
      "text/plain": [
       "12553.6"
      ]
     },
     "execution_count": 226,
     "metadata": {},
     "output_type": "execute_result"
    }
   ],
   "source": [
    "df_clean.shape[0]*.80\n"
   ]
  },
  {
   "cell_type": "code",
   "execution_count": 232,
   "metadata": {},
   "outputs": [],
   "source": [
    "X = df_clean[[\n",
    "        'Battery Voltage (v)',\n",
    "        'Temperature (deg F)',\n",
    "        'Wind Speed Minimum (mph)', \n",
    "        'Wind Speed Average (mph)',\n",
    "        'Wind Speed Maximum (mph)', \n",
    "        '24 Hour Snow (in)',\n",
    "        'Total Snow Depth (in)',\n",
    "        'max_24_hour_temp', 'min_24_hour_temp',\n",
    "        'max_48_hour_temp', 'min_48_hour_temp']]\n",
    "\n",
    "y = df_clean['danger_near_treeline']"
   ]
  },
  {
   "cell_type": "code",
   "execution_count": 233,
   "metadata": {},
   "outputs": [],
   "source": [
    "X_train, X_test, y_train, y_test = X[:12553], X[12553:], y[:12553], y[12553:]"
   ]
  },
  {
   "cell_type": "code",
   "execution_count": 234,
   "metadata": {},
   "outputs": [],
   "source": [
    "from sklearn.pipeline import Pipeline\n",
    "from sklearn.preprocessing import StandardScaler, OneHotEncoder\n",
    "from sklearn.compose import ColumnTransformer\n",
    "from sklearn.model_selection import train_test_split\n",
    "from sklearn.linear_model import LinearRegression\n",
    "from sklearn_pandas import DataFrameMapper, cross_val_score\n",
    "from sklearn_pandas.pipeline import Pipeline\n",
    "from sklearn.ensemble import GradientBoostingRegressor, RandomForestRegressor\n",
    "from sklearn.neighbors import KNeighborsRegressor\n",
    "from sklearn.preprocessing import FunctionTransformer\n",
    "from sklearn.metrics import mean_absolute_error, accuracy_score, mean_squared_error"
   ]
  },
  {
   "cell_type": "markdown",
   "metadata": {},
   "source": [
    "DO A CHRONOLIGCAL SPLIT, because its a time series problem\n"
   ]
  },
  {
   "cell_type": "code",
   "execution_count": 235,
   "metadata": {},
   "outputs": [
    {
     "data": {
      "text/plain": [
       "Battery Voltage (v)         0\n",
       "Temperature (deg F)         0\n",
       "Wind Speed Minimum (mph)    0\n",
       "Wind Speed Average (mph)    0\n",
       "Wind Speed Maximum (mph)    0\n",
       "24 Hour Snow (in)           0\n",
       "Total Snow Depth (in)       0\n",
       "max_24_hour_temp            0\n",
       "min_24_hour_temp            0\n",
       "max_48_hour_temp            0\n",
       "min_48_hour_temp            0\n",
       "dtype: int64"
      ]
     },
     "execution_count": 235,
     "metadata": {},
     "output_type": "execute_result"
    }
   ],
   "source": [
    "X_train.isna().sum()"
   ]
  },
  {
   "cell_type": "code",
   "execution_count": 236,
   "metadata": {},
   "outputs": [],
   "source": [
    "ss = StandardScaler()"
   ]
  },
  {
   "cell_type": "code",
   "execution_count": 258,
   "metadata": {},
   "outputs": [],
   "source": [
    "mapper = DataFrameMapper([\n",
    "    (['Temperature (deg F)', \n",
    "        'Wind Speed Average (mph)',\n",
    "        'Wind Speed Maximum (mph)', \n",
    "        '24 Hour Snow (in)',\n",
    "        'Total Snow Depth (in)',\n",
    "        'max_24_hour_temp', 'min_24_hour_temp',\n",
    "        'max_48_hour_temp', 'min_48_hour_temp'], ss)\n",
    "    ])"
   ]
  },
  {
   "cell_type": "code",
   "execution_count": 259,
   "metadata": {},
   "outputs": [],
   "source": [
    "lr = LinearRegression()\n",
    "rfr = RandomForestRegressor(n_estimators=100)\n",
    "gbr = GradientBoostingRegressor(n_estimators=100)\n",
    "knnr = KNeighborsRegressor()\n",
    "regressors = [lr, rfr, gbr, knnr]"
   ]
  },
  {
   "cell_type": "code",
   "execution_count": 260,
   "metadata": {},
   "outputs": [],
   "source": [
    "reg_names = ['LinearRegression',\n",
    "             'RandomForestRegressor',\n",
    "             'GradientBoostingRegressor',\n",
    "             'KNeighborsRegressor'\n",
    "            ]"
   ]
  },
  {
   "cell_type": "code",
   "execution_count": 261,
   "metadata": {},
   "outputs": [
    {
     "name": "stdout",
     "output_type": "stream",
     "text": [
      "0.5528558910220664 0.8704630100921337\n"
     ]
    }
   ],
   "source": [
    "baseline_pred = np.mean(y_train)\n",
    "residuals = (y_test - baseline_pred)\n",
    "median_absolute_error = np.median(np.abs(residuals))\n",
    "rmse=np.sqrt(np.mean(residuals**2))\n",
    "\n",
    "print(median_absolute_error,rmse)"
   ]
  },
  {
   "cell_type": "code",
   "execution_count": 262,
   "metadata": {},
   "outputs": [
    {
     "name": "stdout",
     "output_type": "stream",
     "text": [
      "The MAE of just predicting the mean is: 0.5528558910220664\n",
      "The RMSE just predicting the mean is: 0.8704630100921337\n",
      "==================================================================\n",
      "========================\n",
      "\n",
      "The MAE of the LinearRegression is: 0.721349558499491\n",
      "The RMSE of the LinearRegression is: 0.6985482364779043\n",
      "==================================================================\n",
      "========================\n",
      "\n",
      "The MAE of the RandomForestRegressor is: 0.7417337899083677\n",
      "The RMSE of the RandomForestRegressor is: 0.782999186217977\n",
      "==================================================================\n",
      "========================\n",
      "\n",
      "The MAE of the GradientBoostingRegressor is: 0.6905870858669245\n",
      "The RMSE of the GradientBoostingRegressor is: 0.6658530381827482\n",
      "==================================================================\n",
      "========================\n",
      "\n",
      "The MAE of the KNeighborsRegressor is: 0.751322077094616\n",
      "The RMSE of the KNeighborsRegressor is: 0.8627460974832749\n",
      "==================================================================\n",
      "========================\n",
      "\n"
     ]
    }
   ],
   "source": [
    "print(f'The MAE of just predicting the mean'\n",
    "          f' is: {median_absolute_error}\\n'\n",
    "          f'The RMSE just predicting the mean'\n",
    "          f' is: {rmse}\\n'\n",
    "      '==================================================================\\n'\n",
    "          '========================\\n')\n",
    "\n",
    "for regressor,name in zip(regressors,reg_names): #zip returns a tuple for each pair it is given\n",
    "    pipe = Pipeline(steps=[\n",
    "        ('transform',mapper),\n",
    "        ('regressor', regressor)\n",
    "    ])\n",
    "    pipe.fit(X_train, y_train)\n",
    "    preds = pipe.predict(X_test)\n",
    "    print(f'The MAE of the {name}'\n",
    "          f' is: {mean_absolute_error((y_test),preds)}\\n'\n",
    "          f'The RMSE of the {name}'\n",
    "          f' is: {mean_squared_error((y_test),preds)}\\n'\n",
    "          \n",
    "          '==================================================================\\n'\n",
    "          '========================\\n'\n",
    "         )\n",
    "    \n"
   ]
  },
  {
   "cell_type": "code",
   "execution_count": 263,
   "metadata": {},
   "outputs": [
    {
     "data": {
      "text/plain": [
       "12553    2.0\n",
       "12554    2.0\n",
       "12555    2.0\n",
       "12556    2.0\n",
       "12557    2.0\n",
       "12558    2.0\n",
       "12559    2.0\n",
       "12560    2.0\n",
       "12561    2.0\n",
       "12562    2.0\n",
       "12563    2.0\n",
       "12564    2.0\n",
       "12565    2.0\n",
       "12566    2.0\n",
       "12567    2.0\n",
       "12568    2.0\n",
       "12569    2.0\n",
       "12570    2.0\n",
       "12571    2.0\n",
       "12572    2.0\n",
       "Name: danger_near_treeline, dtype: float64"
      ]
     },
     "execution_count": 263,
     "metadata": {},
     "output_type": "execute_result"
    }
   ],
   "source": [
    "y_test[0:20]"
   ]
  },
  {
   "cell_type": "code",
   "execution_count": 264,
   "metadata": {},
   "outputs": [
    {
     "data": {
      "text/plain": [
       "array([2. , 2. , 2. , 2. , 2. , 2. , 2.2, 2.8, 3.4, 2.2, 2. , 2. , 2. ,\n",
       "       2. , 2. , 2. , 2. , 2. , 2. , 2. ])"
      ]
     },
     "execution_count": 264,
     "metadata": {},
     "output_type": "execute_result"
    }
   ],
   "source": [
    "pipe.predict(X_test)[0:20]"
   ]
  },
  {
   "cell_type": "markdown",
   "metadata": {},
   "source": [
    "## Model 2 \n",
    "No regression in my pipeline peforms better than assuming the mean :/\n",
    "\n",
    "## What can I add to supplement my model?\n",
    "- Add more lag features. \n",
    "    Some avalanche causes take weeks to resolve, so need to go back to help my model reach that \n",
    "- take in oncoming weather data"
   ]
  },
  {
   "cell_type": "code",
   "execution_count": null,
   "metadata": {},
   "outputs": [],
   "source": []
  }
 ],
 "metadata": {
  "kernelspec": {
   "display_name": "learn-env",
   "language": "python",
   "name": "learn-env"
  },
  "language_info": {
   "codemirror_mode": {
    "name": "ipython",
    "version": 3
   },
   "file_extension": ".py",
   "mimetype": "text/x-python",
   "name": "python",
   "nbconvert_exporter": "python",
   "pygments_lexer": "ipython3",
   "version": "3.7.1"
  }
 },
 "nbformat": 4,
 "nbformat_minor": 2
}
