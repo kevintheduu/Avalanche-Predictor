{
 "cells": [
  {
   "cell_type": "code",
   "execution_count": 1,
   "metadata": {},
   "outputs": [],
   "source": [
    "import numpy as np\n",
    "import pandas as pd\n",
    "from datetime import datetime as dt\n",
    "from xgboost import XGBRFRegressor, XGBRegressor\n",
    "from sklearn.pipeline import Pipeline\n",
    "from sklearn.preprocessing import StandardScaler, OneHotEncoder\n",
    "from sklearn_pandas import DataFrameMapper\n",
    "from sklearn.compose import ColumnTransformer\n",
    "from sklearn.model_selection import train_test_split\n",
    "from sklearn.linear_model import LinearRegression\n",
    "from sklearn.ensemble import GradientBoostingRegressor, RandomForestRegressor\n",
    "from sklearn.neighbors import KNeighborsRegressor\n",
    "from sklearn.preprocessing import FunctionTransformer\n",
    "from sklearn.metrics import mean_absolute_error, accuracy_score, mean_squared_error\n"
   ]
  },
  {
   "cell_type": "code",
   "execution_count": 2,
   "metadata": {},
   "outputs": [],
   "source": [
    "df = pd.read_json('json_archive/model_5_df.json')\n",
    "df['Date/Time (PST)'] = pd.to_datetime(df['Date/Time (PST)'])"
   ]
  },
  {
   "cell_type": "code",
   "execution_count": 3,
   "metadata": {},
   "outputs": [],
   "source": [
    "df = df.sort_values(by='Date/Time (PST)',ascending=True)"
   ]
  },
  {
   "cell_type": "code",
   "execution_count": 4,
   "metadata": {},
   "outputs": [],
   "source": [
    "ddf = df.drop_duplicates(subset='Date/Time (PST)').copy()\n",
    "ddf['id'] = ddf.index\n",
    "ddf['Date'] = ddf['Date/Time (PST)']\n",
    "ddf.index = ddf['Date/Time (PST)']\n",
    "ddf = ddf.drop('Date/Time (PST)', axis=1)\n",
    "\n"
   ]
  },
  {
   "cell_type": "code",
   "execution_count": null,
   "metadata": {},
   "outputs": [],
   "source": [
    "ddf['24 Hour Snow (in)'].astype(float)"
   ]
  },
  {
   "cell_type": "code",
   "execution_count": null,
   "metadata": {},
   "outputs": [],
   "source": [
    "ddf.loc[ddf[\"Date\"] == '2015-12-04 01:00:00',\"Date\"]"
   ]
  },
  {
   "cell_type": "code",
   "execution_count": null,
   "metadata": {},
   "outputs": [],
   "source": []
  },
  {
   "cell_type": "code",
   "execution_count": null,
   "metadata": {},
   "outputs": [],
   "source": [
    "df.loc[df[\"Date/Time (PST)\"] == '2015-12-04 01:00:00','Date/Time (PST)']"
   ]
  },
  {
   "cell_type": "code",
   "execution_count": null,
   "metadata": {},
   "outputs": [],
   "source": [
    "ddf.info()"
   ]
  },
  {
   "cell_type": "code",
   "execution_count": null,
   "metadata": {},
   "outputs": [],
   "source": [
    "# def get_previous_day_snow_kv(df, dt):\n",
    "#     target_hour = dt - pd.Timedelta('1 day')\n",
    "#     if target_hour in df.Date:\n",
    "#         return df.loc[target_hour,'24 Hour Snow (in)']\n",
    "#     else:\n",
    "#         return None"
   ]
  },
  {
   "cell_type": "code",
   "execution_count": 5,
   "metadata": {},
   "outputs": [],
   "source": [
    "import pdb"
   ]
  },
  {
   "cell_type": "code",
   "execution_count": 6,
   "metadata": {},
   "outputs": [],
   "source": [
    "def get_previous_day_snow(df, dt):\n",
    "    target_hour = dt - pd.Timedelta('24 hours')\n",
    "    #target_hour_list=[]\n",
    "    if target_hour in df.index:\n",
    "        snow = df.loc[target_hour, '24 Hour Snow (in)']\n",
    "        if type(snow) is not np.float64:\n",
    "            pdb.set_trace()\n",
    "        return snow\n",
    "    else:\n",
    "        return np.nan\n",
    "    #return target_hour_list"
   ]
  },
  {
   "cell_type": "code",
   "execution_count": 7,
   "metadata": {},
   "outputs": [],
   "source": [
    "ddf['Prev Day 24 Hour Snow (in)'] = [get_previous_day_snow(ddf, dt) for dt in ddf.index]\n"
   ]
  },
  {
   "cell_type": "code",
   "execution_count": 8,
   "metadata": {},
   "outputs": [
    {
     "name": "stdout",
     "output_type": "stream",
     "text": [
      "<class 'pandas.core.frame.DataFrame'>\n",
      "DatetimeIndex: 12619 entries, 2015-12-04 00:00:00 to 2019-04-13 23:00:00\n",
      "Data columns (total 27 columns):\n",
      "Battery Voltage (v)           12619 non-null float64\n",
      "Temperature (deg F)           12619 non-null float64\n",
      "Wind Speed Minimum (mph)      12619 non-null float64\n",
      "Wind Speed Average (mph)      12619 non-null float64\n",
      "Wind Speed Maximum (mph)      12619 non-null float64\n",
      "Wind Direction (deg.)         12619 non-null float64\n",
      "date                          12619 non-null datetime64[ns]\n",
      "24 Hour Snow (in)             12619 non-null float64\n",
      "Total Snow Depth (in)         12619 non-null float64\n",
      "area                          12619 non-null object\n",
      "danger_above_treeline         12619 non-null int64\n",
      "danger_below_treeline         12619 non-null int64\n",
      "danger_near_treeline          12619 non-null int64\n",
      "date_tomorrow                 12619 non-null object\n",
      "month                         12619 non-null int64\n",
      "max_1_day_temp                12619 non-null float64\n",
      "min_1_day_temp                12619 non-null float64\n",
      "max_2_day_temp                12619 non-null float64\n",
      "min_2_day_temp                12619 non-null float64\n",
      "max_1_day_wind                12619 non-null float64\n",
      "max_2_day_wind                12619 non-null float64\n",
      "max_1_day_snow                12619 non-null float64\n",
      "max_2_day_snow                12619 non-null float64\n",
      "max_3_day_snow                12619 non-null float64\n",
      "id                            12619 non-null int64\n",
      "Date                          12619 non-null datetime64[ns]\n",
      "Prev Day 24 Hour Snow (in)    12234 non-null float64\n",
      "dtypes: datetime64[ns](2), float64(18), int64(5), object(2)\n",
      "memory usage: 3.3+ MB\n"
     ]
    }
   ],
   "source": [
    "ddf.info()"
   ]
  },
  {
   "cell_type": "code",
   "execution_count": null,
   "metadata": {},
   "outputs": [],
   "source": [
    "ddf.isna().sum()"
   ]
  },
  {
   "cell_type": "code",
   "execution_count": null,
   "metadata": {},
   "outputs": [],
   "source": [
    "ddf[['Prev Day 24 Hour Snow (in)']]"
   ]
  },
  {
   "cell_type": "code",
   "execution_count": null,
   "metadata": {},
   "outputs": [],
   "source": [
    "ddf.tail(50)"
   ]
  },
  {
   "cell_type": "code",
   "execution_count": null,
   "metadata": {},
   "outputs": [],
   "source": [
    "ddf.shape , df.shape"
   ]
  },
  {
   "cell_type": "code",
   "execution_count": null,
   "metadata": {},
   "outputs": [],
   "source": [
    "# weather.Temp.convert_objects(convert_numeric=True)"
   ]
  },
  {
   "cell_type": "code",
   "execution_count": null,
   "metadata": {},
   "outputs": [],
   "source": [
    "ddf[[]'Prev Day 24 Hour Snow (in)']]\n",
    "#.astype(float,errors='ignore')"
   ]
  },
  {
   "cell_type": "code",
   "execution_count": null,
   "metadata": {},
   "outputs": [],
   "source": [
    "ddf.isna().sum()"
   ]
  },
  {
   "cell_type": "code",
   "execution_count": null,
   "metadata": {},
   "outputs": [],
   "source": [
    "ddf.info()"
   ]
  },
  {
   "cell_type": "code",
   "execution_count": null,
   "metadata": {},
   "outputs": [],
   "source": [
    "#from pandas.api.types import is_numeric_dtype"
   ]
  },
  {
   "cell_type": "code",
   "execution_count": null,
   "metadata": {},
   "outputs": [],
   "source": [
    "#ddf.loc[ddf['Prev Day 24 Hour Snow (in)'].apply(lambda x: x.is_numeric_dtype)]"
   ]
  },
  {
   "cell_type": "code",
   "execution_count": null,
   "metadata": {},
   "outputs": [],
   "source": [
    "ddf.info()"
   ]
  },
  {
   "cell_type": "code",
   "execution_count": null,
   "metadata": {},
   "outputs": [],
   "source": [
    "ddf_clean = ddf.dropna()"
   ]
  },
  {
   "cell_type": "code",
   "execution_count": null,
   "metadata": {},
   "outputs": [],
   "source": [
    "ddf_clean.isna().sum()"
   ]
  },
  {
   "cell_type": "code",
   "execution_count": null,
   "metadata": {},
   "outputs": [],
   "source": [
    "ddf_clean[['Prev Day 24 Hour Snow (in)']]"
   ]
  },
  {
   "cell_type": "code",
   "execution_count": null,
   "metadata": {},
   "outputs": [],
   "source": [
    "ddf.isna().sum()"
   ]
  },
  {
   "cell_type": "code",
   "execution_count": null,
   "metadata": {},
   "outputs": [],
   "source": [
    "ddf = ddf[:15698]"
   ]
  },
  {
   "cell_type": "code",
   "execution_count": null,
   "metadata": {},
   "outputs": [],
   "source": [
    "ddf.shape[0]-25"
   ]
  },
  {
   "cell_type": "markdown",
   "metadata": {},
   "source": [
    "The function created is not outputting numbers, rather objects"
   ]
  },
  {
   "cell_type": "code",
   "execution_count": null,
   "metadata": {},
   "outputs": [],
   "source": [
    "ddf.info()"
   ]
  },
  {
   "cell_type": "code",
   "execution_count": null,
   "metadata": {},
   "outputs": [],
   "source": []
  },
  {
   "cell_type": "code",
   "execution_count": null,
   "metadata": {},
   "outputs": [],
   "source": []
  },
  {
   "cell_type": "code",
   "execution_count": null,
   "metadata": {},
   "outputs": [],
   "source": [
    "ddf_clean.describe()"
   ]
  },
  {
   "cell_type": "code",
   "execution_count": null,
   "metadata": {},
   "outputs": [],
   "source": [
    "X = ddf_clean[['Battery Voltage (v)', 'Temperature (deg F)',\n",
    "            'Wind Speed Minimum (mph)', 'Wind Speed Average (mph)',\n",
    "            'Wind Speed Maximum (mph)', 'Wind Direction (deg.)',\n",
    "            '24 Hour Snow (in)', 'Total Snow Depth (in)','max_1_day_temp',\n",
    "            'min_1_day_temp', 'max_2_day_temp', 'min_2_day_temp',\n",
    "            'max_1_day_snow',\n",
    "       ]]\n",
    "\n",
    "y = ddf_clean['danger_near_treeline']\n",
    "\n",
    "X_train, X_test, y_train, y_test = X[:12578], X[12578:], y[:12578], y[12578:]"
   ]
  },
  {
   "cell_type": "code",
   "execution_count": null,
   "metadata": {},
   "outputs": [],
   "source": [
    "ss = StandardScaler()\n",
    "\n",
    "lr = LinearRegression()\n",
    "rfr = RandomForestRegressor(n_estimators=100)\n",
    "gbr = GradientBoostingRegressor(n_estimators=100)\n",
    "knnr = KNeighborsRegressor()\n",
    "regressors = [lr, rfr, gbr, knnr ]\n",
    "\n",
    "reg_names = ['LinearRegression',\n",
    "             'RandomForestRegressor',\n",
    "             'GradientBoostingRegressor',\n",
    "             'KNeighborsRegressor',\n",
    "            ]"
   ]
  },
  {
   "cell_type": "code",
   "execution_count": null,
   "metadata": {},
   "outputs": [],
   "source": [
    "mapper = DataFrameMapper([\n",
    "    ([   'Battery Voltage (v)', 'Temperature (deg F)',\n",
    "            'Wind Speed Minimum (mph)', 'Wind Speed Average (mph)',\n",
    "            'Wind Speed Maximum (mph)', 'Wind Direction (deg.)',\n",
    "            '24 Hour Snow (in)', 'Total Snow Depth (in)','max_1_day_temp',\n",
    "            'min_1_day_temp', 'max_2_day_temp', 'min_2_day_temp',\n",
    "            'max_1_day_snow',], ss)\n",
    "    ])"
   ]
  },
  {
   "cell_type": "code",
   "execution_count": null,
   "metadata": {},
   "outputs": [],
   "source": [
    "baseline_pred = np.mean(y_train)\n",
    "residuals = (y_test - baseline_pred)\n",
    "median_absolute_error = np.median(np.abs(residuals))\n",
    "rmse=np.sqrt(np.mean(residuals**2))\n",
    "\n",
    "print(median_absolute_error,rmse)\n",
    "\n",
    "print(f'The MAE of just predicting the mean'\n",
    "          f' is: {median_absolute_error}\\n'\n",
    "          f'The RMSE just predicting the mean'\n",
    "          f' is: {rmse}\\n'\n",
    "      '==================================================================\\n'\n",
    "          '========================\\n')\n",
    "\n",
    "for regressor,name in zip(regressors,reg_names): #zip returns a tuple for each pair it is given\n",
    "    pipe = Pipeline(steps=[\n",
    "        #('scaler',mapper),\n",
    "        ('regressor', regressor)\n",
    "    ])\n",
    "    pipe.fit(X_train, y_train)\n",
    "    preds = pipe.predict(X_test)\n",
    "    print(f'The MAE of the {name}'\n",
    "          f' is: {mean_absolute_error((y_test),preds)}\\n'\n",
    "          f'The RMSE of the {name}'\n",
    "          f' is: {mean_squared_error((y_test),preds)}\\n'\n",
    "          '==================================================================\\n'\n",
    "          '========================\\n'\n",
    "         )\n",
    "    "
   ]
  },
  {
   "cell_type": "code",
   "execution_count": null,
   "metadata": {},
   "outputs": [],
   "source": [
    "precip_df= pd.read_csv('csv_files/stevens_pass_precipitation_2014_now.csv')\n",
    "\n",
    "\n",
    "precip_df.columns "
   ]
  },
  {
   "cell_type": "code",
   "execution_count": null,
   "metadata": {},
   "outputs": [],
   "source": [
    "precip_df.columns = ['Date/Time (PST)', '2700ft_berne',\n",
    "       '3950ft_schmidt_haus',\n",
    "       '4800_brooks']"
   ]
  },
  {
   "cell_type": "code",
   "execution_count": null,
   "metadata": {},
   "outputs": [],
   "source": [
    "precip_df.describe()"
   ]
  },
  {
   "cell_type": "code",
   "execution_count": null,
   "metadata": {},
   "outputs": [],
   "source": [
    "precip_df['Date/Time (PST)'] = pd.to_datetime(precip_df['Date/Time (PST)'])"
   ]
  },
  {
   "cell_type": "code",
   "execution_count": null,
   "metadata": {},
   "outputs": [],
   "source": [
    "precip_ddf = precip_df.copy()\n",
    "precip_ddf['id'] = precip_ddf.index\n",
    "precip_ddf.index = precip_ddf['Date/Time (PST)']\n",
    "precip_ddf = precip_ddf.drop('Date/Time (PST)', axis=1)"
   ]
  },
  {
   "cell_type": "code",
   "execution_count": null,
   "metadata": {},
   "outputs": [],
   "source": [
    "df_merge = pd.merge(ddf,precip_df,how='left',on=\"Date/Time (PST)\")"
   ]
  },
  {
   "cell_type": "code",
   "execution_count": null,
   "metadata": {},
   "outputs": [],
   "source": [
    "df_merge.describe()"
   ]
  },
  {
   "cell_type": "code",
   "execution_count": null,
   "metadata": {},
   "outputs": [],
   "source": [
    "df_merge.columns"
   ]
  },
  {
   "cell_type": "code",
   "execution_count": null,
   "metadata": {},
   "outputs": [],
   "source": [
    "df_cleaned = df_merge.dropna()"
   ]
  },
  {
   "cell_type": "code",
   "execution_count": null,
   "metadata": {},
   "outputs": [],
   "source": [
    "df_cleaned.shape[0]*.80"
   ]
  },
  {
   "cell_type": "code",
   "execution_count": null,
   "metadata": {},
   "outputs": [],
   "source": [
    "mapper = DataFrameMapper([\n",
    "    ([   'Battery Voltage (v)','Temperature (deg F)',\n",
    "            'Wind Speed Minimum (mph)', 'Wind Speed Average (mph)',\n",
    "            'Wind Speed Maximum (mph)', 'Wind Direction (deg.)',\n",
    "            'Total Snow Depth (in)','max_1_day_temp',\n",
    "            'min_1_day_temp', 'max_2_day_temp', 'min_2_day_temp',\n",
    "            'max_1_day_snow','max_2_day_snow','max_3_day_snow','4800_brooks'], ss)\n",
    "    ])\n",
    "\n",
    "X = df_cleaned[['Battery Voltage (v)','Temperature (deg F)',\n",
    "            'Wind Speed Minimum (mph)', 'Wind Speed Average (mph)',\n",
    "            'Wind Speed Maximum (mph)', 'Wind Direction (deg.)',\n",
    "            'Total Snow Depth (in)','max_1_day_temp',\n",
    "            'min_1_day_temp', 'max_2_day_temp', 'min_2_day_temp',\n",
    "            'max_1_day_snow','max_2_day_snow','max_3_day_snow','4800_brooks']]\n",
    "\n",
    "y = df_cleaned['danger_near_treeline']\n",
    "\n",
    "X_train, X_test, y_train, y_test = X[:12142], X[12142:], y[:12142], y[12142:]"
   ]
  },
  {
   "cell_type": "code",
   "execution_count": null,
   "metadata": {},
   "outputs": [],
   "source": [
    "baseline_pred = np.mean(y_train)\n",
    "residuals = (y_test - baseline_pred)\n",
    "median_absolute_error = np.median(np.abs(residuals))\n",
    "rmse=np.sqrt(np.mean(residuals**2))\n",
    "\n",
    "print(median_absolute_error,rmse)\n",
    "\n",
    "print(f'The MAE of just predicting the mean'\n",
    "          f' is: {median_absolute_error}\\n'\n",
    "          f'The RMSE just predicting the mean'\n",
    "          f' is: {rmse}\\n'\n",
    "      '==================================================================\\n'\n",
    "          '========================\\n')\n",
    "\n",
    "for regressor,name in zip(regressors,reg_names): #zip returns a tuple for each pair it is given\n",
    "    pipe = Pipeline(steps=[\n",
    "        ('scaler',mapper),\n",
    "        ('regressor', regressor)\n",
    "    ])\n",
    "    pipe.fit(X_train, y_train)\n",
    "    preds = pipe.predict(X_test)\n",
    "    print(f'The MAE of the {name}'\n",
    "          f' is: {mean_absolute_error((y_test),preds)}\\n'\n",
    "          f'The RMSE of the {name}'\n",
    "          f' is: {mean_squared_error((y_test),preds)}\\n'\n",
    "          '==================================================================\\n'\n",
    "          '========================\\n'\n",
    "         )\n",
    "    "
   ]
  },
  {
   "cell_type": "code",
   "execution_count": null,
   "metadata": {},
   "outputs": [],
   "source": [
    "pipe2 = Pipeline(steps=[\n",
    "('scaler',mapper),\n",
    "('regressor', gbr)\n",
    "])\n",
    "pipe2.fit(X_train, y_train)\n",
    "preds = pipe2.predict(X_test)\n",
    "print(f'The MAE of the {name}'\n",
    "f' is: {mean_absolute_error((y_test),preds)}\\n'\n",
    "f'The RMSE of the regressor is:'\n",
    "f' is: {mean_squared_error((y_test),preds)}\\n'\n",
    "'==================================================================\\n'\n",
    "'========================\\n'\n",
    ")"
   ]
  },
  {
   "cell_type": "code",
   "execution_count": null,
   "metadata": {},
   "outputs": [],
   "source": [
    "y_predict = list(pipe2.predict(X_test))"
   ]
  },
  {
   "cell_type": "code",
   "execution_count": null,
   "metadata": {},
   "outputs": [],
   "source": [
    "len(y_test),len(y_predict)"
   ]
  },
  {
   "cell_type": "code",
   "execution_count": null,
   "metadata": {},
   "outputs": [],
   "source": [
    "import matplotlib.pyplot as plt\n",
    "%matplotlib inline  "
   ]
  },
  {
   "cell_type": "code",
   "execution_count": null,
   "metadata": {},
   "outputs": [],
   "source": [
    "X_test.head()"
   ]
  },
  {
   "cell_type": "code",
   "execution_count": null,
   "metadata": {},
   "outputs": [],
   "source": [
    "len(y_predict)"
   ]
  },
  {
   "cell_type": "code",
   "execution_count": null,
   "metadata": {},
   "outputs": [],
   "source": [
    "y_predict = np.array(y_predict)"
   ]
  },
  {
   "cell_type": "code",
   "execution_count": null,
   "metadata": {},
   "outputs": [],
   "source": [
    "type(y_test),len(y_test)"
   ]
  },
  {
   "cell_type": "code",
   "execution_count": null,
   "metadata": {},
   "outputs": [],
   "source": [
    "df_y = (pd.DataFrame({'y_true':y_test,'y_predict':y_predict}))"
   ]
  },
  {
   "cell_type": "code",
   "execution_count": null,
   "metadata": {},
   "outputs": [],
   "source": [
    "import seaborn as sns\n",
    "sns.set(style=\"whitegrid\")\n",
    "\n",
    "\n",
    "def violin_plot_error(model, X, y_true, rescale=False):\n",
    "    y_pred = model.predict(X)\n",
    "    sns.set(font_scale=1.5)\n",
    "    if rescale:\n",
    "        y_pred_95 = np.percentile(y_pred, 95)\n",
    "        y_pred_5 = np.percentile(y_pred, 5)\n",
    "        scaling_factor = 3 / (y_pred_95 - y_pred_5)\n",
    "        y_pred -= y_pred_5\n",
    "        y_pred *= scaling_factor\n",
    "        y_pred += 1\n",
    "    df_y = pd.DataFrame({'Human Forecast': y_true, 'Model Prediction': y_pred})\n",
    "    \n",
    "    \n",
    "    fig, axes = plt.subplots(figsize=(7, 7))\n",
    "    axes.set_ylim([-0.5,6])\n",
    "    \n",
    "    #sns.violinplot(x='groups',y='danger level', data=df_violin, ax = axes)\n",
    "    violin = sns.violinplot(x='Human Forecast',y='Model Prediction', data=df_y, ax=axes).set_title(\n",
    "        'Danger Level Comparison')\n",
    "    return violin"
   ]
  },
  {
   "cell_type": "code",
   "execution_count": null,
   "metadata": {},
   "outputs": [],
   "source": [
    "y_preds = pipe.predict(X_test)"
   ]
  },
  {
   "cell_type": "code",
   "execution_count": null,
   "metadata": {},
   "outputs": [],
   "source": [
    "y_pred_95 = np.percentile(y_preds, 95)\n",
    "y_pred_5 = np.percentile(y_preds, 5)"
   ]
  },
  {
   "cell_type": "code",
   "execution_count": null,
   "metadata": {},
   "outputs": [],
   "source": [
    "scaling_factor = 3 / (y_pred_95 - y_pred_5)"
   ]
  },
  {
   "cell_type": "code",
   "execution_count": null,
   "metadata": {},
   "outputs": [],
   "source": [
    "scaling_factor\n"
   ]
  },
  {
   "cell_type": "code",
   "execution_count": null,
   "metadata": {},
   "outputs": [],
   "source": [
    "y_pred_5"
   ]
  },
  {
   "cell_type": "code",
   "execution_count": null,
   "metadata": {},
   "outputs": [],
   "source": [
    "y_preds -= y_pred_5"
   ]
  },
  {
   "cell_type": "code",
   "execution_count": null,
   "metadata": {},
   "outputs": [],
   "source": [
    "y_preds *= scaling_factor"
   ]
  },
  {
   "cell_type": "code",
   "execution_count": null,
   "metadata": {},
   "outputs": [],
   "source": [
    "y_preds += 1"
   ]
  },
  {
   "cell_type": "code",
   "execution_count": null,
   "metadata": {},
   "outputs": [],
   "source": [
    "y_preds[200]"
   ]
  },
  {
   "cell_type": "code",
   "execution_count": null,
   "metadata": {},
   "outputs": [],
   "source": [
    "# df_violin = pd.melt(df_y,var_name='groups',value_name='danger level')"
   ]
  },
  {
   "cell_type": "code",
   "execution_count": null,
   "metadata": {},
   "outputs": [],
   "source": [
    "violin_plot_error(pipe2, X_test, y_test);"
   ]
  },
  {
   "cell_type": "code",
   "execution_count": null,
   "metadata": {},
   "outputs": [],
   "source": [
    "violin_plot_error(pipe2, X_test, y_test, rescale=True);\n"
   ]
  },
  {
   "cell_type": "code",
   "execution_count": null,
   "metadata": {},
   "outputs": [],
   "source": [
    "violin_plot_error(pipe2, X_train, y_train);"
   ]
  },
  {
   "cell_type": "code",
   "execution_count": null,
   "metadata": {},
   "outputs": [],
   "source": [
    "violin_plot_error(pipe2, X_train, y_train,rescale=True);"
   ]
  },
  {
   "cell_type": "code",
   "execution_count": null,
   "metadata": {},
   "outputs": [],
   "source": [
    "pipe2.steps"
   ]
  },
  {
   "cell_type": "code",
   "execution_count": null,
   "metadata": {},
   "outputs": [],
   "source": [
    "import pickle"
   ]
  },
  {
   "cell_type": "code",
   "execution_count": null,
   "metadata": {},
   "outputs": [],
   "source": [
    "# save the model to disk\n",
    "filename = 'avy_danger_prediction.pkl'\n",
    "pickle.dump(pipe2, open(filename, 'wb'))\n",
    " "
   ]
  },
  {
   "cell_type": "code",
   "execution_count": null,
   "metadata": {},
   "outputs": [],
   "source": [
    "# load the model from disk\n",
    "loaded_model = pickle.load(open(filename, 'rb'))"
   ]
  },
  {
   "cell_type": "code",
   "execution_count": null,
   "metadata": {},
   "outputs": [],
   "source": [
    "X_test[1:2]"
   ]
  },
  {
   "cell_type": "code",
   "execution_count": null,
   "metadata": {},
   "outputs": [],
   "source": [
    "X_test.columns"
   ]
  },
  {
   "cell_type": "code",
   "execution_count": null,
   "metadata": {},
   "outputs": [],
   "source": [
    "result = loaded_model.predict(X_test[1:2])\n",
    "print(result)"
   ]
  },
  {
   "cell_type": "code",
   "execution_count": null,
   "metadata": {},
   "outputs": [],
   "source": [
    "X_test.head()"
   ]
  },
  {
   "cell_type": "code",
   "execution_count": null,
   "metadata": {},
   "outputs": [],
   "source": []
  }
 ],
 "metadata": {
  "kernelspec": {
   "display_name": "learn-env",
   "language": "python",
   "name": "learn-env"
  },
  "language_info": {
   "codemirror_mode": {
    "name": "ipython",
    "version": 3
   },
   "file_extension": ".py",
   "mimetype": "text/x-python",
   "name": "python",
   "nbconvert_exporter": "python",
   "pygments_lexer": "ipython3",
   "version": "3.7.1"
  }
 },
 "nbformat": 4,
 "nbformat_minor": 2
}
