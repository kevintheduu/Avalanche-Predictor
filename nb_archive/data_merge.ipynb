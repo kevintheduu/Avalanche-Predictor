{
 "cells": [
  {
   "cell_type": "markdown",
   "metadata": {},
   "source": [
    "### I now have tables of precip, snowfall, snowpack, weather, and avy dangers. now to finally put it all together, hopefully!"
   ]
  },
  {
   "cell_type": "code",
   "execution_count": 1,
   "metadata": {},
   "outputs": [],
   "source": [
    "import pandas as pd\n",
    "import numpy as np\n",
    "from datetime import datetime, timedelta"
   ]
  },
  {
   "cell_type": "markdown",
   "metadata": {},
   "source": [
    "## There are many weather stations across the Steven Pass area. \n",
    "### I will choose the tye-mill station for it is the closest to the Brooks elevation for the precipitaion data from the Brooks station\n",
    "### Therefore, I will be predicting the near treeline avalanche danger"
   ]
  },
  {
   "cell_type": "code",
   "execution_count": 2,
   "metadata": {},
   "outputs": [
    {
     "name": "stdout",
     "output_type": "stream",
     "text": [
      "(3200, 7)\n",
      "(8762, 7)\n",
      "(8760, 7)\n",
      "(8789, 7)\n",
      "(8712, 7)\n",
      "(346, 7)\n",
      "38569\n"
     ]
    }
   ],
   "source": [
    "tyemill_2019 = pd.read_csv(\"csv_files/StevensPass-TyeMill_5180_feet_2019.csv\")\n",
    "tyemill_2018 = pd.read_csv(\"csv_files/StevensPass-TyeMill_5180_feet_2018.csv\")\n",
    "tyemill_2017 = pd.read_csv(\"csv_files/StevensPass-TyeMill_5180_feet_2017.csv\")\n",
    "tyemill_2016 = pd.read_csv(\"csv_files/StevensPass-TyeMill_5180_feet_2016.csv\")\n",
    "tyemill_2015 = pd.read_csv(\"csv_files/StevensPass-TyeMill_5180_feet_2015.csv\")\n",
    "tyemill_2014 = pd.read_csv(\"csv_files/StevensPass-TyeMill_5180_feet_2014.csv\")\n",
    "\n",
    "#sanity checks below to ensure I am not losing any rows\n",
    "tyemill_years = [tyemill_2019,tyemill_2018,tyemill_2017,tyemill_2016,tyemill_2015,tyemill_2014,]\n",
    "result = 0\n",
    "for year in tyemill_years:\n",
    "    print(year.shape)\n",
    "    result += year.shape[0]\n",
    "    \n",
    "print(result)"
   ]
  },
  {
   "cell_type": "code",
   "execution_count": 3,
   "metadata": {},
   "outputs": [
    {
     "data": {
      "text/plain": [
       "(38569, 7)"
      ]
     },
     "execution_count": 3,
     "metadata": {},
     "output_type": "execute_result"
    }
   ],
   "source": [
    "tyemill = pd.concat(tyemill_years,axis=0)\n",
    "tyemill = tyemill.reset_index(drop=True)\n",
    "tyemill.shape"
   ]
  },
  {
   "cell_type": "code",
   "execution_count": 4,
   "metadata": {},
   "outputs": [
    {
     "data": {
      "text/html": [
       "<div>\n",
       "<style scoped>\n",
       "    .dataframe tbody tr th:only-of-type {\n",
       "        vertical-align: middle;\n",
       "    }\n",
       "\n",
       "    .dataframe tbody tr th {\n",
       "        vertical-align: top;\n",
       "    }\n",
       "\n",
       "    .dataframe thead th {\n",
       "        text-align: right;\n",
       "    }\n",
       "</style>\n",
       "<table border=\"1\" class=\"dataframe\">\n",
       "  <thead>\n",
       "    <tr style=\"text-align: right;\">\n",
       "      <th></th>\n",
       "      <th>Date/Time (PST)</th>\n",
       "      <th>Battery Voltage (v)</th>\n",
       "      <th>Temperature (deg F)</th>\n",
       "      <th>Wind Speed Minimum (mph)</th>\n",
       "      <th>Wind Speed Average (mph)</th>\n",
       "      <th>Wind Speed Maximum (mph)</th>\n",
       "      <th>Wind Direction (deg.)</th>\n",
       "    </tr>\n",
       "  </thead>\n",
       "  <tbody>\n",
       "    <tr>\n",
       "      <th>0</th>\n",
       "      <td>2019-05-14 07:00</td>\n",
       "      <td>12.80</td>\n",
       "      <td>37.21</td>\n",
       "      <td>0.000</td>\n",
       "      <td>4.660</td>\n",
       "      <td>20.34</td>\n",
       "      <td>250.3</td>\n",
       "    </tr>\n",
       "    <tr>\n",
       "      <th>1</th>\n",
       "      <td>2019-05-14 06:00</td>\n",
       "      <td>12.84</td>\n",
       "      <td>44.51</td>\n",
       "      <td>0.000</td>\n",
       "      <td>4.046</td>\n",
       "      <td>10.11</td>\n",
       "      <td>278.6</td>\n",
       "    </tr>\n",
       "    <tr>\n",
       "      <th>2</th>\n",
       "      <td>2019-05-14 05:00</td>\n",
       "      <td>12.94</td>\n",
       "      <td>43.41</td>\n",
       "      <td>0.723</td>\n",
       "      <td>7.701</td>\n",
       "      <td>15.02</td>\n",
       "      <td>272.7</td>\n",
       "    </tr>\n",
       "    <tr>\n",
       "      <th>3</th>\n",
       "      <td>2019-05-14 04:00</td>\n",
       "      <td>13.57</td>\n",
       "      <td>43.25</td>\n",
       "      <td>4.340</td>\n",
       "      <td>10.050</td>\n",
       "      <td>18.87</td>\n",
       "      <td>271.9</td>\n",
       "    </tr>\n",
       "    <tr>\n",
       "      <th>4</th>\n",
       "      <td>2019-05-14 03:00</td>\n",
       "      <td>12.64</td>\n",
       "      <td>42.71</td>\n",
       "      <td>3.288</td>\n",
       "      <td>9.440</td>\n",
       "      <td>17.34</td>\n",
       "      <td>275.2</td>\n",
       "    </tr>\n",
       "  </tbody>\n",
       "</table>\n",
       "</div>"
      ],
      "text/plain": [
       "    Date/Time (PST)  Battery Voltage (v)  Temperature (deg F)  \\\n",
       "0  2019-05-14 07:00                12.80                37.21   \n",
       "1  2019-05-14 06:00                12.84                44.51   \n",
       "2  2019-05-14 05:00                12.94                43.41   \n",
       "3  2019-05-14 04:00                13.57                43.25   \n",
       "4  2019-05-14 03:00                12.64                42.71   \n",
       "\n",
       "   Wind Speed Minimum (mph)  Wind Speed Average (mph)  \\\n",
       "0                     0.000                     4.660   \n",
       "1                     0.000                     4.046   \n",
       "2                     0.723                     7.701   \n",
       "3                     4.340                    10.050   \n",
       "4                     3.288                     9.440   \n",
       "\n",
       "   Wind Speed Maximum (mph)  Wind Direction (deg.)  \n",
       "0                     20.34                  250.3  \n",
       "1                     10.11                  278.6  \n",
       "2                     15.02                  272.7  \n",
       "3                     18.87                  271.9  \n",
       "4                     17.34                  275.2  "
      ]
     },
     "execution_count": 4,
     "metadata": {},
     "output_type": "execute_result"
    }
   ],
   "source": [
    "tyemill.head()"
   ]
  },
  {
   "cell_type": "code",
   "execution_count": 8,
   "metadata": {},
   "outputs": [
    {
     "data": {
      "text/plain": [
       "Index(['Date/Time (PST)', 'Battery Voltage (v)', 'Temperature (deg F)',\n",
       "       'Wind Speed Minimum (mph)', 'Wind Speed Average (mph)',\n",
       "       'Wind Speed Maximum (mph)', 'Wind Direction (deg.)'],\n",
       "      dtype='object')"
      ]
     },
     "metadata": {},
     "output_type": "display_data"
    },
    {
     "name": "stdout",
     "output_type": "stream",
     "text": [
      "<class 'pandas.core.frame.DataFrame'>\n",
      "RangeIndex: 38569 entries, 0 to 38568\n",
      "Data columns (total 7 columns):\n",
      "Date/Time (PST)             38569 non-null object\n",
      "Battery Voltage (v)         38560 non-null float64\n",
      "Temperature (deg F)         38559 non-null float64\n",
      "Wind Speed Minimum (mph)    38559 non-null float64\n",
      "Wind Speed Average (mph)    38559 non-null float64\n",
      "Wind Speed Maximum (mph)    38559 non-null float64\n",
      "Wind Direction (deg.)       36887 non-null float64\n",
      "dtypes: float64(6), object(1)\n",
      "memory usage: 2.1+ MB\n"
     ]
    }
   ],
   "source": [
    "display(tyemill.columns)\n",
    "tyemill.info()\n",
    "#don't worry about cleaning data yet, lets first merge to reduce doing it twice!"
   ]
  },
  {
   "cell_type": "markdown",
   "metadata": {},
   "source": [
    "## I want to extract the date without the time of day so i can match this to my avalanche table"
   ]
  },
  {
   "cell_type": "code",
   "execution_count": 9,
   "metadata": {},
   "outputs": [
    {
     "data": {
      "text/plain": [
       "str"
      ]
     },
     "execution_count": 9,
     "metadata": {},
     "output_type": "execute_result"
    }
   ],
   "source": [
    "type(tyemill['Date/Time (PST)'][1])"
   ]
  },
  {
   "cell_type": "code",
   "execution_count": 10,
   "metadata": {},
   "outputs": [],
   "source": [
    "tyemill['date'] = tyemill['Date/Time (PST)'].apply(lambda x: x.split(' ')[0])\n"
   ]
  },
  {
   "cell_type": "code",
   "execution_count": 11,
   "metadata": {},
   "outputs": [
    {
     "data": {
      "text/html": [
       "<div>\n",
       "<style scoped>\n",
       "    .dataframe tbody tr th:only-of-type {\n",
       "        vertical-align: middle;\n",
       "    }\n",
       "\n",
       "    .dataframe tbody tr th {\n",
       "        vertical-align: top;\n",
       "    }\n",
       "\n",
       "    .dataframe thead th {\n",
       "        text-align: right;\n",
       "    }\n",
       "</style>\n",
       "<table border=\"1\" class=\"dataframe\">\n",
       "  <thead>\n",
       "    <tr style=\"text-align: right;\">\n",
       "      <th></th>\n",
       "      <th>Date/Time (PST)</th>\n",
       "      <th>Battery Voltage (v)</th>\n",
       "      <th>Temperature (deg F)</th>\n",
       "      <th>Wind Speed Minimum (mph)</th>\n",
       "      <th>Wind Speed Average (mph)</th>\n",
       "      <th>Wind Speed Maximum (mph)</th>\n",
       "      <th>Wind Direction (deg.)</th>\n",
       "      <th>date</th>\n",
       "    </tr>\n",
       "  </thead>\n",
       "  <tbody>\n",
       "    <tr>\n",
       "      <th>0</th>\n",
       "      <td>2019-05-14 07:00</td>\n",
       "      <td>12.80</td>\n",
       "      <td>37.21</td>\n",
       "      <td>0.000</td>\n",
       "      <td>4.660</td>\n",
       "      <td>20.34</td>\n",
       "      <td>250.3</td>\n",
       "      <td>2019-05-14</td>\n",
       "    </tr>\n",
       "    <tr>\n",
       "      <th>1</th>\n",
       "      <td>2019-05-14 06:00</td>\n",
       "      <td>12.84</td>\n",
       "      <td>44.51</td>\n",
       "      <td>0.000</td>\n",
       "      <td>4.046</td>\n",
       "      <td>10.11</td>\n",
       "      <td>278.6</td>\n",
       "      <td>2019-05-14</td>\n",
       "    </tr>\n",
       "    <tr>\n",
       "      <th>2</th>\n",
       "      <td>2019-05-14 05:00</td>\n",
       "      <td>12.94</td>\n",
       "      <td>43.41</td>\n",
       "      <td>0.723</td>\n",
       "      <td>7.701</td>\n",
       "      <td>15.02</td>\n",
       "      <td>272.7</td>\n",
       "      <td>2019-05-14</td>\n",
       "    </tr>\n",
       "    <tr>\n",
       "      <th>3</th>\n",
       "      <td>2019-05-14 04:00</td>\n",
       "      <td>13.57</td>\n",
       "      <td>43.25</td>\n",
       "      <td>4.340</td>\n",
       "      <td>10.050</td>\n",
       "      <td>18.87</td>\n",
       "      <td>271.9</td>\n",
       "      <td>2019-05-14</td>\n",
       "    </tr>\n",
       "    <tr>\n",
       "      <th>4</th>\n",
       "      <td>2019-05-14 03:00</td>\n",
       "      <td>12.64</td>\n",
       "      <td>42.71</td>\n",
       "      <td>3.288</td>\n",
       "      <td>9.440</td>\n",
       "      <td>17.34</td>\n",
       "      <td>275.2</td>\n",
       "      <td>2019-05-14</td>\n",
       "    </tr>\n",
       "  </tbody>\n",
       "</table>\n",
       "</div>"
      ],
      "text/plain": [
       "    Date/Time (PST)  Battery Voltage (v)  Temperature (deg F)  \\\n",
       "0  2019-05-14 07:00                12.80                37.21   \n",
       "1  2019-05-14 06:00                12.84                44.51   \n",
       "2  2019-05-14 05:00                12.94                43.41   \n",
       "3  2019-05-14 04:00                13.57                43.25   \n",
       "4  2019-05-14 03:00                12.64                42.71   \n",
       "\n",
       "   Wind Speed Minimum (mph)  Wind Speed Average (mph)  \\\n",
       "0                     0.000                     4.660   \n",
       "1                     0.000                     4.046   \n",
       "2                     0.723                     7.701   \n",
       "3                     4.340                    10.050   \n",
       "4                     3.288                     9.440   \n",
       "\n",
       "   Wind Speed Maximum (mph)  Wind Direction (deg.)        date  \n",
       "0                     20.34                  250.3  2019-05-14  \n",
       "1                     10.11                  278.6  2019-05-14  \n",
       "2                     15.02                  272.7  2019-05-14  \n",
       "3                     18.87                  271.9  2019-05-14  \n",
       "4                     17.34                  275.2  2019-05-14  "
      ]
     },
     "execution_count": 11,
     "metadata": {},
     "output_type": "execute_result"
    }
   ],
   "source": [
    "tyemill.head()"
   ]
  },
  {
   "cell_type": "code",
   "execution_count": 12,
   "metadata": {},
   "outputs": [
    {
     "data": {
      "text/plain": [
       "(38569, 8)"
      ]
     },
     "execution_count": 12,
     "metadata": {},
     "output_type": "execute_result"
    }
   ],
   "source": [
    "tyemill.shape"
   ]
  },
  {
   "cell_type": "code",
   "execution_count": 13,
   "metadata": {},
   "outputs": [],
   "source": [
    "tyemill['Date/Time (PST)'] = pd.to_datetime(tyemill['Date/Time (PST)'])\n",
    "tyemill['date'] = pd.to_datetime(tyemill['date'])"
   ]
  },
  {
   "cell_type": "code",
   "execution_count": 14,
   "metadata": {},
   "outputs": [
    {
     "data": {
      "text/plain": [
       "(pandas._libs.tslibs.timestamps.Timestamp,\n",
       " pandas._libs.tslibs.timestamps.Timestamp)"
      ]
     },
     "execution_count": 14,
     "metadata": {},
     "output_type": "execute_result"
    }
   ],
   "source": [
    "type(tyemill['Date/Time (PST)'][1]),type(tyemill['date'][1])"
   ]
  },
  {
   "cell_type": "code",
   "execution_count": 15,
   "metadata": {},
   "outputs": [
    {
     "name": "stdout",
     "output_type": "stream",
     "text": [
      "<class 'pandas.core.frame.DataFrame'>\n",
      "RangeIndex: 38569 entries, 0 to 38568\n",
      "Data columns (total 8 columns):\n",
      "Date/Time (PST)             38569 non-null datetime64[ns]\n",
      "Battery Voltage (v)         38560 non-null float64\n",
      "Temperature (deg F)         38559 non-null float64\n",
      "Wind Speed Minimum (mph)    38559 non-null float64\n",
      "Wind Speed Average (mph)    38559 non-null float64\n",
      "Wind Speed Maximum (mph)    38559 non-null float64\n",
      "Wind Direction (deg.)       36887 non-null float64\n",
      "date                        38569 non-null datetime64[ns]\n",
      "dtypes: datetime64[ns](2), float64(6)\n",
      "memory usage: 2.4 MB\n"
     ]
    }
   ],
   "source": [
    "tyemill.info()"
   ]
  },
  {
   "cell_type": "code",
   "execution_count": 16,
   "metadata": {},
   "outputs": [],
   "source": [
    "# pd.to_datetime(skyline_df['Date/Time (PST)'], '%Y-%m-%d %H:%m') # this could work but it recognized it anyhow"
   ]
  },
  {
   "cell_type": "code",
   "execution_count": 17,
   "metadata": {},
   "outputs": [
    {
     "data": {
      "text/html": [
       "<div>\n",
       "<style scoped>\n",
       "    .dataframe tbody tr th:only-of-type {\n",
       "        vertical-align: middle;\n",
       "    }\n",
       "\n",
       "    .dataframe tbody tr th {\n",
       "        vertical-align: top;\n",
       "    }\n",
       "\n",
       "    .dataframe thead th {\n",
       "        text-align: right;\n",
       "    }\n",
       "</style>\n",
       "<table border=\"1\" class=\"dataframe\">\n",
       "  <thead>\n",
       "    <tr style=\"text-align: right;\">\n",
       "      <th></th>\n",
       "      <th>Date/Time (PST)</th>\n",
       "      <th>Battery Voltage (v)</th>\n",
       "      <th>Temperature (deg F)</th>\n",
       "      <th>Wind Speed Minimum (mph)</th>\n",
       "      <th>Wind Speed Average (mph)</th>\n",
       "      <th>Wind Speed Maximum (mph)</th>\n",
       "      <th>Wind Direction (deg.)</th>\n",
       "      <th>date</th>\n",
       "    </tr>\n",
       "  </thead>\n",
       "  <tbody>\n",
       "    <tr>\n",
       "      <th>0</th>\n",
       "      <td>2019-05-14 07:00:00</td>\n",
       "      <td>12.8</td>\n",
       "      <td>37.21</td>\n",
       "      <td>0.0</td>\n",
       "      <td>4.66</td>\n",
       "      <td>20.34</td>\n",
       "      <td>250.3</td>\n",
       "      <td>2019-05-14</td>\n",
       "    </tr>\n",
       "  </tbody>\n",
       "</table>\n",
       "</div>"
      ],
      "text/plain": [
       "      Date/Time (PST)  Battery Voltage (v)  Temperature (deg F)  \\\n",
       "0 2019-05-14 07:00:00                 12.8                37.21   \n",
       "\n",
       "   Wind Speed Minimum (mph)  Wind Speed Average (mph)  \\\n",
       "0                       0.0                      4.66   \n",
       "\n",
       "   Wind Speed Maximum (mph)  Wind Direction (deg.)       date  \n",
       "0                     20.34                  250.3 2019-05-14  "
      ]
     },
     "execution_count": 17,
     "metadata": {},
     "output_type": "execute_result"
    }
   ],
   "source": [
    "tyemill.head(1)"
   ]
  },
  {
   "cell_type": "code",
   "execution_count": 18,
   "metadata": {},
   "outputs": [
    {
     "data": {
      "text/plain": [
       "Date/Time (PST)                0\n",
       "Battery Voltage (v)            9\n",
       "Temperature (deg F)           10\n",
       "Wind Speed Minimum (mph)      10\n",
       "Wind Speed Average (mph)      10\n",
       "Wind Speed Maximum (mph)      10\n",
       "Wind Direction (deg.)       1682\n",
       "date                           0\n",
       "dtype: int64"
      ]
     },
     "execution_count": 18,
     "metadata": {},
     "output_type": "execute_result"
    }
   ],
   "source": [
    "tyemill.isna().sum() #sanity check, we are still good"
   ]
  },
  {
   "cell_type": "code",
   "execution_count": 23,
   "metadata": {},
   "outputs": [
    {
     "data": {
      "text/html": [
       "<div>\n",
       "<style scoped>\n",
       "    .dataframe tbody tr th:only-of-type {\n",
       "        vertical-align: middle;\n",
       "    }\n",
       "\n",
       "    .dataframe tbody tr th {\n",
       "        vertical-align: top;\n",
       "    }\n",
       "\n",
       "    .dataframe thead th {\n",
       "        text-align: right;\n",
       "    }\n",
       "</style>\n",
       "<table border=\"1\" class=\"dataframe\">\n",
       "  <thead>\n",
       "    <tr style=\"text-align: right;\">\n",
       "      <th></th>\n",
       "      <th>Battery Voltage (v)</th>\n",
       "      <th>Temperature (deg F)</th>\n",
       "      <th>Wind Speed Minimum (mph)</th>\n",
       "      <th>Wind Speed Average (mph)</th>\n",
       "      <th>Wind Speed Maximum (mph)</th>\n",
       "      <th>Wind Direction (deg.)</th>\n",
       "    </tr>\n",
       "  </thead>\n",
       "  <tbody>\n",
       "    <tr>\n",
       "      <th>count</th>\n",
       "      <td>38560.000000</td>\n",
       "      <td>38559.000000</td>\n",
       "      <td>38559.000000</td>\n",
       "      <td>38559.000000</td>\n",
       "      <td>38559.000000</td>\n",
       "      <td>36887.000000</td>\n",
       "    </tr>\n",
       "    <tr>\n",
       "      <th>mean</th>\n",
       "      <td>12.612753</td>\n",
       "      <td>36.991968</td>\n",
       "      <td>2.047324</td>\n",
       "      <td>6.683592</td>\n",
       "      <td>12.877702</td>\n",
       "      <td>201.488927</td>\n",
       "    </tr>\n",
       "    <tr>\n",
       "      <th>std</th>\n",
       "      <td>1.718576</td>\n",
       "      <td>59.728811</td>\n",
       "      <td>3.881819</td>\n",
       "      <td>5.345024</td>\n",
       "      <td>7.911821</td>\n",
       "      <td>94.258006</td>\n",
       "    </tr>\n",
       "    <tr>\n",
       "      <th>min</th>\n",
       "      <td>0.000000</td>\n",
       "      <td>-7999.000000</td>\n",
       "      <td>-7.743000</td>\n",
       "      <td>0.000000</td>\n",
       "      <td>0.000000</td>\n",
       "      <td>0.000000</td>\n",
       "    </tr>\n",
       "    <tr>\n",
       "      <th>25%</th>\n",
       "      <td>12.600000</td>\n",
       "      <td>26.800000</td>\n",
       "      <td>0.000000</td>\n",
       "      <td>3.181000</td>\n",
       "      <td>7.672000</td>\n",
       "      <td>93.300000</td>\n",
       "    </tr>\n",
       "    <tr>\n",
       "      <th>50%</th>\n",
       "      <td>12.670000</td>\n",
       "      <td>35.210000</td>\n",
       "      <td>0.395000</td>\n",
       "      <td>5.302000</td>\n",
       "      <td>10.810000</td>\n",
       "      <td>258.200000</td>\n",
       "    </tr>\n",
       "    <tr>\n",
       "      <th>75%</th>\n",
       "      <td>12.750000</td>\n",
       "      <td>46.440000</td>\n",
       "      <td>2.959000</td>\n",
       "      <td>8.830000</td>\n",
       "      <td>16.660000</td>\n",
       "      <td>272.600000</td>\n",
       "    </tr>\n",
       "    <tr>\n",
       "      <th>max</th>\n",
       "      <td>45.980000</td>\n",
       "      <td>87.900000</td>\n",
       "      <td>53.250000</td>\n",
       "      <td>84.900000</td>\n",
       "      <td>71.790000</td>\n",
       "      <td>359.900000</td>\n",
       "    </tr>\n",
       "  </tbody>\n",
       "</table>\n",
       "</div>"
      ],
      "text/plain": [
       "       Battery Voltage (v)  Temperature (deg F)  Wind Speed Minimum (mph)  \\\n",
       "count         38560.000000         38559.000000              38559.000000   \n",
       "mean             12.612753            36.991968                  2.047324   \n",
       "std               1.718576            59.728811                  3.881819   \n",
       "min               0.000000         -7999.000000                 -7.743000   \n",
       "25%              12.600000            26.800000                  0.000000   \n",
       "50%              12.670000            35.210000                  0.395000   \n",
       "75%              12.750000            46.440000                  2.959000   \n",
       "max              45.980000            87.900000                 53.250000   \n",
       "\n",
       "       Wind Speed Average (mph)  Wind Speed Maximum (mph)  \\\n",
       "count              38559.000000              38559.000000   \n",
       "mean                   6.683592                 12.877702   \n",
       "std                    5.345024                  7.911821   \n",
       "min                    0.000000                  0.000000   \n",
       "25%                    3.181000                  7.672000   \n",
       "50%                    5.302000                 10.810000   \n",
       "75%                    8.830000                 16.660000   \n",
       "max                   84.900000                 71.790000   \n",
       "\n",
       "       Wind Direction (deg.)  \n",
       "count           36887.000000  \n",
       "mean              201.488927  \n",
       "std                94.258006  \n",
       "min                 0.000000  \n",
       "25%                93.300000  \n",
       "50%               258.200000  \n",
       "75%               272.600000  \n",
       "max               359.900000  "
      ]
     },
     "execution_count": 23,
     "metadata": {},
     "output_type": "execute_result"
    }
   ],
   "source": [
    "tyemill.describe()\n",
    "## Looks like there are negative values across the data, but again lets not worry about it until afte the merge"
   ]
  },
  {
   "cell_type": "code",
   "execution_count": 25,
   "metadata": {},
   "outputs": [
    {
     "name": "stdout",
     "output_type": "stream",
     "text": [
      "(3843, 7)\n",
      "(8762, 7)\n",
      "(8761, 7)\n",
      "(8784, 7)\n",
      "(863, 7)\n",
      "(0, 7)\n",
      "31013\n"
     ]
    }
   ],
   "source": [
    "brooks_precip_2019 = pd.read_csv('csv_files/StevensPass-BrooksPrecipitation_4800_feet_2019.csv')\n",
    "brooks_precip_2018 = pd.read_csv('csv_files/StevensPass-BrooksPrecipitation_4800_feet_2018.csv')\n",
    "brooks_precip_2017 = pd.read_csv('csv_files/StevensPass-BrooksPrecipitation_4800_feet_2017.csv')\n",
    "brooks_precip_2016 = pd.read_csv('csv_files/StevensPass-BrooksPrecipitation_4800_feet_2016.csv')\n",
    "brooks_precip_2015 = pd.read_csv('csv_files/StevensPass-BrooksPrecipitation_4800_feet_2015.csv')\n",
    "brooks_precip_2014 = pd.read_csv('csv_files/StevensPass-BrooksPrecipitation_4800_feet_2014.csv')\n",
    "\n",
    "brooks_years = [brooks_precip_2019,brooks_precip_2018,brooks_precip_2017,\n",
    "                 brooks_precip_2016,brooks_precip_2015,brooks_precip_2014]\n",
    "\n",
    "result = 0\n",
    "for year in brooks_years:\n",
    "    print(year.shape)\n",
    "    result += year.shape[0]\n",
    "    \n",
    "print(result)"
   ]
  },
  {
   "cell_type": "code",
   "execution_count": 26,
   "metadata": {},
   "outputs": [
    {
     "data": {
      "text/html": [
       "<div>\n",
       "<style scoped>\n",
       "    .dataframe tbody tr th:only-of-type {\n",
       "        vertical-align: middle;\n",
       "    }\n",
       "\n",
       "    .dataframe tbody tr th {\n",
       "        vertical-align: top;\n",
       "    }\n",
       "\n",
       "    .dataframe thead th {\n",
       "        text-align: right;\n",
       "    }\n",
       "</style>\n",
       "<table border=\"1\" class=\"dataframe\">\n",
       "  <thead>\n",
       "    <tr style=\"text-align: right;\">\n",
       "      <th></th>\n",
       "      <th>Date/Time (PST)</th>\n",
       "      <th>Battery Voltage (v)</th>\n",
       "      <th>Precipitation (\")</th>\n",
       "      <th>24 Hour Snow (\")</th>\n",
       "      <th>Total Snow Depth (\")</th>\n",
       "      <th>Temperature (deg F)</th>\n",
       "      <th>Relative Humidity (%)</th>\n",
       "    </tr>\n",
       "  </thead>\n",
       "  <tbody>\n",
       "  </tbody>\n",
       "</table>\n",
       "</div>"
      ],
      "text/plain": [
       "Empty DataFrame\n",
       "Columns: [Date/Time (PST), Battery Voltage (v), Precipitation (\"), 24 Hour Snow (\"), Total Snow Depth (\"), Temperature (deg F), Relative Humidity (%)]\n",
       "Index: []"
      ]
     },
     "execution_count": 26,
     "metadata": {},
     "output_type": "execute_result"
    }
   ],
   "source": [
    "brooks_precip_2014.head(10)"
   ]
  },
  {
   "cell_type": "code",
   "execution_count": 26,
   "metadata": {},
   "outputs": [],
   "source": [
    "brooks_precip = pd.concat(brooks_years,axis=0)\n",
    "brooks_precip = brooks_precip.reset_index(drop=True)"
   ]
  },
  {
   "cell_type": "code",
   "execution_count": 27,
   "metadata": {},
   "outputs": [
    {
     "data": {
      "text/plain": [
       "(31013, 7)"
      ]
     },
     "execution_count": 27,
     "metadata": {},
     "output_type": "execute_result"
    }
   ],
   "source": [
    "brooks_precip.shape"
   ]
  },
  {
   "cell_type": "code",
   "execution_count": 28,
   "metadata": {},
   "outputs": [
    {
     "data": {
      "text/html": [
       "<div>\n",
       "<style scoped>\n",
       "    .dataframe tbody tr th:only-of-type {\n",
       "        vertical-align: middle;\n",
       "    }\n",
       "\n",
       "    .dataframe tbody tr th {\n",
       "        vertical-align: top;\n",
       "    }\n",
       "\n",
       "    .dataframe thead th {\n",
       "        text-align: right;\n",
       "    }\n",
       "</style>\n",
       "<table border=\"1\" class=\"dataframe\">\n",
       "  <thead>\n",
       "    <tr style=\"text-align: right;\">\n",
       "      <th></th>\n",
       "      <th>Battery Voltage (v)</th>\n",
       "      <th>Precipitation (\")</th>\n",
       "      <th>24 Hour Snow (\")</th>\n",
       "      <th>Total Snow Depth (\")</th>\n",
       "      <th>Temperature (deg F)</th>\n",
       "      <th>Relative Humidity (%)</th>\n",
       "    </tr>\n",
       "  </thead>\n",
       "  <tbody>\n",
       "    <tr>\n",
       "      <th>count</th>\n",
       "      <td>31010.000000</td>\n",
       "      <td>31010.000000</td>\n",
       "      <td>31010.000000</td>\n",
       "      <td>31010.000000</td>\n",
       "      <td>1142.000000</td>\n",
       "      <td>1142.000000</td>\n",
       "    </tr>\n",
       "    <tr>\n",
       "      <th>mean</th>\n",
       "      <td>13.461448</td>\n",
       "      <td>0.008431</td>\n",
       "      <td>-166.949569</td>\n",
       "      <td>53.042241</td>\n",
       "      <td>43.338555</td>\n",
       "      <td>74.241953</td>\n",
       "    </tr>\n",
       "    <tr>\n",
       "      <th>std</th>\n",
       "      <td>0.458908</td>\n",
       "      <td>0.122036</td>\n",
       "      <td>1105.334526</td>\n",
       "      <td>50.645324</td>\n",
       "      <td>8.735684</td>\n",
       "      <td>21.295240</td>\n",
       "    </tr>\n",
       "    <tr>\n",
       "      <th>min</th>\n",
       "      <td>0.000000</td>\n",
       "      <td>0.000000</td>\n",
       "      <td>-7999.000000</td>\n",
       "      <td>-164.000000</td>\n",
       "      <td>22.810000</td>\n",
       "      <td>20.510000</td>\n",
       "    </tr>\n",
       "    <tr>\n",
       "      <th>25%</th>\n",
       "      <td>13.100000</td>\n",
       "      <td>0.000000</td>\n",
       "      <td>0.207250</td>\n",
       "      <td>3.490500</td>\n",
       "      <td>37.177500</td>\n",
       "      <td>57.862500</td>\n",
       "    </tr>\n",
       "    <tr>\n",
       "      <th>50%</th>\n",
       "      <td>13.460000</td>\n",
       "      <td>0.000000</td>\n",
       "      <td>1.065000</td>\n",
       "      <td>46.985000</td>\n",
       "      <td>42.300000</td>\n",
       "      <td>76.395000</td>\n",
       "    </tr>\n",
       "    <tr>\n",
       "      <th>75%</th>\n",
       "      <td>13.830000</td>\n",
       "      <td>0.000000</td>\n",
       "      <td>53.917500</td>\n",
       "      <td>93.900000</td>\n",
       "      <td>48.612500</td>\n",
       "      <td>94.375000</td>\n",
       "    </tr>\n",
       "    <tr>\n",
       "      <th>max</th>\n",
       "      <td>15.100000</td>\n",
       "      <td>21.090000</td>\n",
       "      <td>529.500000</td>\n",
       "      <td>281.100000</td>\n",
       "      <td>67.090000</td>\n",
       "      <td>100.000000</td>\n",
       "    </tr>\n",
       "  </tbody>\n",
       "</table>\n",
       "</div>"
      ],
      "text/plain": [
       "       Battery Voltage (v)  Precipitation (\")  24 Hour Snow (\")  \\\n",
       "count         31010.000000       31010.000000      31010.000000   \n",
       "mean             13.461448           0.008431       -166.949569   \n",
       "std               0.458908           0.122036       1105.334526   \n",
       "min               0.000000           0.000000      -7999.000000   \n",
       "25%              13.100000           0.000000          0.207250   \n",
       "50%              13.460000           0.000000          1.065000   \n",
       "75%              13.830000           0.000000         53.917500   \n",
       "max              15.100000          21.090000        529.500000   \n",
       "\n",
       "       Total Snow Depth (\")  Temperature (deg F)  Relative Humidity (%)  \n",
       "count          31010.000000          1142.000000            1142.000000  \n",
       "mean              53.042241            43.338555              74.241953  \n",
       "std               50.645324             8.735684              21.295240  \n",
       "min             -164.000000            22.810000              20.510000  \n",
       "25%                3.490500            37.177500              57.862500  \n",
       "50%               46.985000            42.300000              76.395000  \n",
       "75%               93.900000            48.612500              94.375000  \n",
       "max              281.100000            67.090000             100.000000  "
      ]
     },
     "execution_count": 28,
     "metadata": {},
     "output_type": "execute_result"
    }
   ],
   "source": [
    "brooks_precip.describe()"
   ]
  },
  {
   "cell_type": "code",
   "execution_count": 29,
   "metadata": {},
   "outputs": [
    {
     "data": {
      "text/plain": [
       "Index(['Date/Time (PST)', 'Battery Voltage (v)', 'Precipitation (\")',\n",
       "       '24 Hour Snow (\")', 'Total Snow Depth (\")', 'Temperature (deg F)',\n",
       "       'Relative Humidity (%)'],\n",
       "      dtype='object')"
      ]
     },
     "execution_count": 29,
     "metadata": {},
     "output_type": "execute_result"
    }
   ],
   "source": [
    "brooks_precip.columns #need to get rid of the quotes for inches, rename columns"
   ]
  },
  {
   "cell_type": "code",
   "execution_count": 35,
   "metadata": {},
   "outputs": [
    {
     "data": {
      "text/html": [
       "<div>\n",
       "<style scoped>\n",
       "    .dataframe tbody tr th:only-of-type {\n",
       "        vertical-align: middle;\n",
       "    }\n",
       "\n",
       "    .dataframe tbody tr th {\n",
       "        vertical-align: top;\n",
       "    }\n",
       "\n",
       "    .dataframe thead th {\n",
       "        text-align: right;\n",
       "    }\n",
       "</style>\n",
       "<table border=\"1\" class=\"dataframe\">\n",
       "  <thead>\n",
       "    <tr style=\"text-align: right;\">\n",
       "      <th></th>\n",
       "      <th>Date/Time (PST)</th>\n",
       "      <th>Battery Voltage (v)</th>\n",
       "      <th>Precipitation (in)</th>\n",
       "      <th>24 Hour Snow (in)</th>\n",
       "      <th>Total Snow Depth (in)</th>\n",
       "      <th>Temperature (deg F)</th>\n",
       "      <th>Relative Humidity (%)</th>\n",
       "    </tr>\n",
       "  </thead>\n",
       "  <tbody>\n",
       "    <tr>\n",
       "      <th>31012</th>\n",
       "      <td>2015-11-26 01:00:00</td>\n",
       "      <td>13.2</td>\n",
       "      <td>0.0</td>\n",
       "      <td>1.591</td>\n",
       "      <td>0.0</td>\n",
       "      <td>NaN</td>\n",
       "      <td>NaN</td>\n",
       "    </tr>\n",
       "  </tbody>\n",
       "</table>\n",
       "</div>"
      ],
      "text/plain": [
       "          Date/Time (PST)  Battery Voltage (v)  Precipitation (in)  \\\n",
       "31012 2015-11-26 01:00:00                 13.2                 0.0   \n",
       "\n",
       "       24 Hour Snow (in)  Total Snow Depth (in)  Temperature (deg F)  \\\n",
       "31012              1.591                    0.0                  NaN   \n",
       "\n",
       "       Relative Humidity (%)  \n",
       "31012                    NaN  "
      ]
     },
     "execution_count": 35,
     "metadata": {},
     "output_type": "execute_result"
    }
   ],
   "source": [
    "brooks_precip.columns=['Date/Time (PST)', 'Battery Voltage (v)', 'Precipitation (in)',\n",
    "       '24 Hour Snow (in)', 'Total Snow Depth (in)', 'Temperature (deg F)',\n",
    "       'Relative Humidity (%)']\n",
    "brooks_precip.tail(1)"
   ]
  },
  {
   "cell_type": "code",
   "execution_count": 31,
   "metadata": {},
   "outputs": [],
   "source": [
    "brooks_precip['Date/Time (PST)'] = pd.to_datetime(brooks_precip['Date/Time (PST)'])"
   ]
  },
  {
   "cell_type": "code",
   "execution_count": 32,
   "metadata": {},
   "outputs": [
    {
     "data": {
      "text/plain": [
       "(Timestamp('2019-06-10 06:00:00'), Timestamp('2019-05-14 07:00:00'))"
      ]
     },
     "execution_count": 32,
     "metadata": {},
     "output_type": "execute_result"
    }
   ],
   "source": [
    "brooks_precip['Date/Time (PST)'][0], tyemill['Date/Time (PST)'][0]"
   ]
  },
  {
   "cell_type": "code",
   "execution_count": 34,
   "metadata": {},
   "outputs": [
    {
     "data": {
      "text/html": [
       "<div>\n",
       "<style scoped>\n",
       "    .dataframe tbody tr th:only-of-type {\n",
       "        vertical-align: middle;\n",
       "    }\n",
       "\n",
       "    .dataframe tbody tr th {\n",
       "        vertical-align: top;\n",
       "    }\n",
       "\n",
       "    .dataframe thead th {\n",
       "        text-align: right;\n",
       "    }\n",
       "</style>\n",
       "<table border=\"1\" class=\"dataframe\">\n",
       "  <thead>\n",
       "    <tr style=\"text-align: right;\">\n",
       "      <th></th>\n",
       "      <th>Date/Time (PST)</th>\n",
       "      <th>Battery Voltage (v)</th>\n",
       "      <th>Precipitation (in)</th>\n",
       "      <th>24 Hour Snow (in)</th>\n",
       "      <th>Total Snow Depth (in)</th>\n",
       "      <th>Temperature (deg F)</th>\n",
       "      <th>Relative Humidity (%)</th>\n",
       "    </tr>\n",
       "  </thead>\n",
       "  <tbody>\n",
       "    <tr>\n",
       "      <th>0</th>\n",
       "      <td>2019-06-10 06:00:00</td>\n",
       "      <td>9.07</td>\n",
       "      <td>0.0</td>\n",
       "      <td>65.14</td>\n",
       "      <td>7.095</td>\n",
       "      <td>50.43</td>\n",
       "      <td>65.03</td>\n",
       "    </tr>\n",
       "  </tbody>\n",
       "</table>\n",
       "</div>"
      ],
      "text/plain": [
       "      Date/Time (PST)  Battery Voltage (v)  Precipitation (in)  \\\n",
       "0 2019-06-10 06:00:00                 9.07                 0.0   \n",
       "\n",
       "   24 Hour Snow (in)  Total Snow Depth (in)  Temperature (deg F)  \\\n",
       "0              65.14                  7.095                50.43   \n",
       "\n",
       "   Relative Humidity (%)  \n",
       "0                  65.03  "
      ]
     },
     "execution_count": 34,
     "metadata": {},
     "output_type": "execute_result"
    }
   ],
   "source": [
    "brooks_precip.head(1)"
   ]
  },
  {
   "cell_type": "markdown",
   "metadata": {},
   "source": [
    "## I only want the 24 snow, snow depth, and rel humidity, and date"
   ]
  },
  {
   "cell_type": "code",
   "execution_count": 42,
   "metadata": {},
   "outputs": [],
   "source": [
    "brooks_snow =  brooks_precip[['24 Hour Snow (in)','Total Snow Depth (in)','Relative Humidity (%)','Date/Time (PST)']]"
   ]
  },
  {
   "cell_type": "code",
   "execution_count": 46,
   "metadata": {},
   "outputs": [],
   "source": [
    "brooks_snow = brooks_snow.drop_duplicates()"
   ]
  },
  {
   "cell_type": "code",
   "execution_count": 47,
   "metadata": {},
   "outputs": [],
   "source": [
    "merged_df =pd.merge(tyemill,brooks_snow,how='left',on='Date/Time (PST)')"
   ]
  },
  {
   "cell_type": "code",
   "execution_count": 49,
   "metadata": {},
   "outputs": [
    {
     "data": {
      "text/plain": [
       "((38569, 11), (38569, 8), (31012, 4))"
      ]
     },
     "execution_count": 49,
     "metadata": {},
     "output_type": "execute_result"
    }
   ],
   "source": [
    "merged_df.shape,tyemill.shape,brooks_snow.shape"
   ]
  },
  {
   "cell_type": "code",
   "execution_count": 50,
   "metadata": {},
   "outputs": [
    {
     "data": {
      "text/html": [
       "<div>\n",
       "<style scoped>\n",
       "    .dataframe tbody tr th:only-of-type {\n",
       "        vertical-align: middle;\n",
       "    }\n",
       "\n",
       "    .dataframe tbody tr th {\n",
       "        vertical-align: top;\n",
       "    }\n",
       "\n",
       "    .dataframe thead th {\n",
       "        text-align: right;\n",
       "    }\n",
       "</style>\n",
       "<table border=\"1\" class=\"dataframe\">\n",
       "  <thead>\n",
       "    <tr style=\"text-align: right;\">\n",
       "      <th></th>\n",
       "      <th>Date/Time (PST)</th>\n",
       "      <th>Battery Voltage (v)</th>\n",
       "      <th>Temperature (deg F)</th>\n",
       "      <th>Wind Speed Minimum (mph)</th>\n",
       "      <th>Wind Speed Average (mph)</th>\n",
       "      <th>Wind Speed Maximum (mph)</th>\n",
       "      <th>Wind Direction (deg.)</th>\n",
       "      <th>date</th>\n",
       "      <th>24 Hour Snow (in)</th>\n",
       "      <th>Total Snow Depth (in)</th>\n",
       "      <th>Relative Humidity (%)</th>\n",
       "    </tr>\n",
       "  </thead>\n",
       "  <tbody>\n",
       "    <tr>\n",
       "      <th>0</th>\n",
       "      <td>2019-05-14 07:00:00</td>\n",
       "      <td>12.80</td>\n",
       "      <td>37.21</td>\n",
       "      <td>0.000</td>\n",
       "      <td>4.660</td>\n",
       "      <td>20.34</td>\n",
       "      <td>250.3</td>\n",
       "      <td>2019-05-14</td>\n",
       "      <td>11.73</td>\n",
       "      <td>40.14</td>\n",
       "      <td>89.30</td>\n",
       "    </tr>\n",
       "    <tr>\n",
       "      <th>1</th>\n",
       "      <td>2019-05-14 06:00:00</td>\n",
       "      <td>12.84</td>\n",
       "      <td>44.51</td>\n",
       "      <td>0.000</td>\n",
       "      <td>4.046</td>\n",
       "      <td>10.11</td>\n",
       "      <td>278.6</td>\n",
       "      <td>2019-05-14</td>\n",
       "      <td>13.34</td>\n",
       "      <td>39.53</td>\n",
       "      <td>74.99</td>\n",
       "    </tr>\n",
       "    <tr>\n",
       "      <th>2</th>\n",
       "      <td>2019-05-14 05:00:00</td>\n",
       "      <td>12.94</td>\n",
       "      <td>43.41</td>\n",
       "      <td>0.723</td>\n",
       "      <td>7.701</td>\n",
       "      <td>15.02</td>\n",
       "      <td>272.7</td>\n",
       "      <td>2019-05-14</td>\n",
       "      <td>13.34</td>\n",
       "      <td>39.27</td>\n",
       "      <td>69.16</td>\n",
       "    </tr>\n",
       "    <tr>\n",
       "      <th>3</th>\n",
       "      <td>2019-05-14 04:00:00</td>\n",
       "      <td>13.57</td>\n",
       "      <td>43.25</td>\n",
       "      <td>4.340</td>\n",
       "      <td>10.050</td>\n",
       "      <td>18.87</td>\n",
       "      <td>271.9</td>\n",
       "      <td>2019-05-14</td>\n",
       "      <td>14.68</td>\n",
       "      <td>40.21</td>\n",
       "      <td>58.96</td>\n",
       "    </tr>\n",
       "    <tr>\n",
       "      <th>4</th>\n",
       "      <td>2019-05-14 03:00:00</td>\n",
       "      <td>12.64</td>\n",
       "      <td>42.71</td>\n",
       "      <td>3.288</td>\n",
       "      <td>9.440</td>\n",
       "      <td>17.34</td>\n",
       "      <td>275.2</td>\n",
       "      <td>2019-05-14</td>\n",
       "      <td>13.95</td>\n",
       "      <td>40.47</td>\n",
       "      <td>62.37</td>\n",
       "    </tr>\n",
       "  </tbody>\n",
       "</table>\n",
       "</div>"
      ],
      "text/plain": [
       "      Date/Time (PST)  Battery Voltage (v)  Temperature (deg F)  \\\n",
       "0 2019-05-14 07:00:00                12.80                37.21   \n",
       "1 2019-05-14 06:00:00                12.84                44.51   \n",
       "2 2019-05-14 05:00:00                12.94                43.41   \n",
       "3 2019-05-14 04:00:00                13.57                43.25   \n",
       "4 2019-05-14 03:00:00                12.64                42.71   \n",
       "\n",
       "   Wind Speed Minimum (mph)  Wind Speed Average (mph)  \\\n",
       "0                     0.000                     4.660   \n",
       "1                     0.000                     4.046   \n",
       "2                     0.723                     7.701   \n",
       "3                     4.340                    10.050   \n",
       "4                     3.288                     9.440   \n",
       "\n",
       "   Wind Speed Maximum (mph)  Wind Direction (deg.)       date  \\\n",
       "0                     20.34                  250.3 2019-05-14   \n",
       "1                     10.11                  278.6 2019-05-14   \n",
       "2                     15.02                  272.7 2019-05-14   \n",
       "3                     18.87                  271.9 2019-05-14   \n",
       "4                     17.34                  275.2 2019-05-14   \n",
       "\n",
       "   24 Hour Snow (in)  Total Snow Depth (in)  Relative Humidity (%)  \n",
       "0              11.73                  40.14                  89.30  \n",
       "1              13.34                  39.53                  74.99  \n",
       "2              13.34                  39.27                  69.16  \n",
       "3              14.68                  40.21                  58.96  \n",
       "4              13.95                  40.47                  62.37  "
      ]
     },
     "execution_count": 50,
     "metadata": {},
     "output_type": "execute_result"
    }
   ],
   "source": [
    "merged_df.head()"
   ]
  },
  {
   "cell_type": "code",
   "execution_count": 51,
   "metadata": {},
   "outputs": [
    {
     "data": {
      "text/html": [
       "<div>\n",
       "<style scoped>\n",
       "    .dataframe tbody tr th:only-of-type {\n",
       "        vertical-align: middle;\n",
       "    }\n",
       "\n",
       "    .dataframe tbody tr th {\n",
       "        vertical-align: top;\n",
       "    }\n",
       "\n",
       "    .dataframe thead th {\n",
       "        text-align: right;\n",
       "    }\n",
       "</style>\n",
       "<table border=\"1\" class=\"dataframe\">\n",
       "  <thead>\n",
       "    <tr style=\"text-align: right;\">\n",
       "      <th></th>\n",
       "      <th>Date/Time (PST)</th>\n",
       "      <th>Battery Voltage (v)</th>\n",
       "      <th>Temperature (deg F)</th>\n",
       "      <th>Wind Speed Minimum (mph)</th>\n",
       "      <th>Wind Speed Average (mph)</th>\n",
       "      <th>Wind Speed Maximum (mph)</th>\n",
       "      <th>Wind Direction (deg.)</th>\n",
       "      <th>date</th>\n",
       "      <th>24 Hour Snow (in)</th>\n",
       "      <th>Total Snow Depth (in)</th>\n",
       "      <th>Relative Humidity (%)</th>\n",
       "    </tr>\n",
       "  </thead>\n",
       "  <tbody>\n",
       "    <tr>\n",
       "      <th>38568</th>\n",
       "      <td>2014-12-17 13:00:00</td>\n",
       "      <td>0.0</td>\n",
       "      <td>12.89</td>\n",
       "      <td>25.3</td>\n",
       "      <td>0.008</td>\n",
       "      <td>0.81</td>\n",
       "      <td>125.4</td>\n",
       "      <td>2014-12-17</td>\n",
       "      <td>NaN</td>\n",
       "      <td>NaN</td>\n",
       "      <td>NaN</td>\n",
       "    </tr>\n",
       "  </tbody>\n",
       "</table>\n",
       "</div>"
      ],
      "text/plain": [
       "          Date/Time (PST)  Battery Voltage (v)  Temperature (deg F)  \\\n",
       "38568 2014-12-17 13:00:00                  0.0                12.89   \n",
       "\n",
       "       Wind Speed Minimum (mph)  Wind Speed Average (mph)  \\\n",
       "38568                      25.3                     0.008   \n",
       "\n",
       "       Wind Speed Maximum (mph)  Wind Direction (deg.)       date  \\\n",
       "38568                      0.81                  125.4 2014-12-17   \n",
       "\n",
       "       24 Hour Snow (in)  Total Snow Depth (in)  Relative Humidity (%)  \n",
       "38568                NaN                    NaN                    NaN  "
      ]
     },
     "execution_count": 51,
     "metadata": {},
     "output_type": "execute_result"
    }
   ],
   "source": [
    "merged_df.tail(1)"
   ]
  },
  {
   "cell_type": "code",
   "execution_count": 52,
   "metadata": {},
   "outputs": [],
   "source": [
    "# Now to add in the avalanche stuff\n",
    "#also keep in mind, the date from the forecast danger is a prediction on tomorrow,\n",
    "#so to match it I must make a new column that has the correct day"
   ]
  },
  {
   "cell_type": "code",
   "execution_count": 53,
   "metadata": {},
   "outputs": [
    {
     "data": {
      "text/html": [
       "<div>\n",
       "<style scoped>\n",
       "    .dataframe tbody tr th:only-of-type {\n",
       "        vertical-align: middle;\n",
       "    }\n",
       "\n",
       "    .dataframe tbody tr th {\n",
       "        vertical-align: top;\n",
       "    }\n",
       "\n",
       "    .dataframe thead th {\n",
       "        text-align: right;\n",
       "    }\n",
       "</style>\n",
       "<table border=\"1\" class=\"dataframe\">\n",
       "  <thead>\n",
       "    <tr style=\"text-align: right;\">\n",
       "      <th></th>\n",
       "      <th>area</th>\n",
       "      <th>danger_above_treeline</th>\n",
       "      <th>danger_below_treeline</th>\n",
       "      <th>danger_near_treeline</th>\n",
       "      <th>date_tomorrow</th>\n",
       "    </tr>\n",
       "  </thead>\n",
       "  <tbody>\n",
       "    <tr>\n",
       "      <th>0</th>\n",
       "      <td>Stevens Pass</td>\n",
       "      <td>Moderate</td>\n",
       "      <td>Moderate</td>\n",
       "      <td>Moderate</td>\n",
       "      <td>December 31, 2018</td>\n",
       "    </tr>\n",
       "    <tr>\n",
       "      <th>1</th>\n",
       "      <td>Stevens Pass</td>\n",
       "      <td>Moderate</td>\n",
       "      <td>Moderate</td>\n",
       "      <td>Moderate</td>\n",
       "      <td>December 31, 2014</td>\n",
       "    </tr>\n",
       "    <tr>\n",
       "      <th>2</th>\n",
       "      <td>Stevens Pass</td>\n",
       "      <td>Considerable</td>\n",
       "      <td>Moderate</td>\n",
       "      <td>Considerable</td>\n",
       "      <td>December 30, 2014</td>\n",
       "    </tr>\n",
       "    <tr>\n",
       "      <th>3</th>\n",
       "      <td>Stevens Pass</td>\n",
       "      <td>Considerable</td>\n",
       "      <td>Moderate</td>\n",
       "      <td>Moderate</td>\n",
       "      <td>December 29, 2014</td>\n",
       "    </tr>\n",
       "    <tr>\n",
       "      <th>4</th>\n",
       "      <td>Stevens Pass</td>\n",
       "      <td>Considerable</td>\n",
       "      <td>Moderate</td>\n",
       "      <td>Moderate</td>\n",
       "      <td>December 29, 2014</td>\n",
       "    </tr>\n",
       "  </tbody>\n",
       "</table>\n",
       "</div>"
      ],
      "text/plain": [
       "           area danger_above_treeline danger_below_treeline  \\\n",
       "0  Stevens Pass              Moderate              Moderate   \n",
       "1  Stevens Pass              Moderate              Moderate   \n",
       "2  Stevens Pass          Considerable              Moderate   \n",
       "3  Stevens Pass          Considerable              Moderate   \n",
       "4  Stevens Pass          Considerable              Moderate   \n",
       "\n",
       "  danger_near_treeline      date_tomorrow  \n",
       "0             Moderate  December 31, 2018  \n",
       "1             Moderate  December 31, 2014  \n",
       "2         Considerable  December 30, 2014  \n",
       "3             Moderate  December 29, 2014  \n",
       "4             Moderate  December 29, 2014  "
      ]
     },
     "execution_count": 53,
     "metadata": {},
     "output_type": "execute_result"
    }
   ],
   "source": [
    "stevens_avalanches = pd.read_json('stevens_forecast_danger.json',lines=True)\n",
    "stevens_avalanches.head()"
   ]
  },
  {
   "cell_type": "code",
   "execution_count": 54,
   "metadata": {},
   "outputs": [
    {
     "name": "stdout",
     "output_type": "stream",
     "text": [
      "<class 'pandas.core.frame.DataFrame'>\n",
      "RangeIndex: 967 entries, 0 to 966\n",
      "Data columns (total 5 columns):\n",
      "area                     967 non-null object\n",
      "danger_above_treeline    967 non-null object\n",
      "danger_below_treeline    967 non-null object\n",
      "danger_near_treeline     967 non-null object\n",
      "date_tomorrow            967 non-null object\n",
      "dtypes: object(5)\n",
      "memory usage: 37.9+ KB\n"
     ]
    }
   ],
   "source": [
    "stevens_avalanches.info()"
   ]
  },
  {
   "cell_type": "code",
   "execution_count": 55,
   "metadata": {},
   "outputs": [],
   "source": [
    "# d = datetime.today() - timedelta(days=days_to_subtract)"
   ]
  },
  {
   "cell_type": "code",
   "execution_count": 56,
   "metadata": {},
   "outputs": [],
   "source": [
    "stevens_avalanches['date'] = (pd.to_datetime(stevens_avalanches['date_tomorrow'])-timedelta(days=1))"
   ]
  },
  {
   "cell_type": "code",
   "execution_count": 57,
   "metadata": {},
   "outputs": [
    {
     "data": {
      "text/html": [
       "<div>\n",
       "<style scoped>\n",
       "    .dataframe tbody tr th:only-of-type {\n",
       "        vertical-align: middle;\n",
       "    }\n",
       "\n",
       "    .dataframe tbody tr th {\n",
       "        vertical-align: top;\n",
       "    }\n",
       "\n",
       "    .dataframe thead th {\n",
       "        text-align: right;\n",
       "    }\n",
       "</style>\n",
       "<table border=\"1\" class=\"dataframe\">\n",
       "  <thead>\n",
       "    <tr style=\"text-align: right;\">\n",
       "      <th></th>\n",
       "      <th>area</th>\n",
       "      <th>danger_above_treeline</th>\n",
       "      <th>danger_below_treeline</th>\n",
       "      <th>danger_near_treeline</th>\n",
       "      <th>date_tomorrow</th>\n",
       "      <th>date</th>\n",
       "    </tr>\n",
       "  </thead>\n",
       "  <tbody>\n",
       "    <tr>\n",
       "      <th>0</th>\n",
       "      <td>Stevens Pass</td>\n",
       "      <td>Moderate</td>\n",
       "      <td>Moderate</td>\n",
       "      <td>Moderate</td>\n",
       "      <td>December 31, 2018</td>\n",
       "      <td>2018-12-30</td>\n",
       "    </tr>\n",
       "    <tr>\n",
       "      <th>1</th>\n",
       "      <td>Stevens Pass</td>\n",
       "      <td>Moderate</td>\n",
       "      <td>Moderate</td>\n",
       "      <td>Moderate</td>\n",
       "      <td>December 31, 2014</td>\n",
       "      <td>2014-12-30</td>\n",
       "    </tr>\n",
       "    <tr>\n",
       "      <th>2</th>\n",
       "      <td>Stevens Pass</td>\n",
       "      <td>Considerable</td>\n",
       "      <td>Moderate</td>\n",
       "      <td>Considerable</td>\n",
       "      <td>December 30, 2014</td>\n",
       "      <td>2014-12-29</td>\n",
       "    </tr>\n",
       "    <tr>\n",
       "      <th>3</th>\n",
       "      <td>Stevens Pass</td>\n",
       "      <td>Considerable</td>\n",
       "      <td>Moderate</td>\n",
       "      <td>Moderate</td>\n",
       "      <td>December 29, 2014</td>\n",
       "      <td>2014-12-28</td>\n",
       "    </tr>\n",
       "    <tr>\n",
       "      <th>4</th>\n",
       "      <td>Stevens Pass</td>\n",
       "      <td>Considerable</td>\n",
       "      <td>Moderate</td>\n",
       "      <td>Moderate</td>\n",
       "      <td>December 29, 2014</td>\n",
       "      <td>2014-12-28</td>\n",
       "    </tr>\n",
       "  </tbody>\n",
       "</table>\n",
       "</div>"
      ],
      "text/plain": [
       "           area danger_above_treeline danger_below_treeline  \\\n",
       "0  Stevens Pass              Moderate              Moderate   \n",
       "1  Stevens Pass              Moderate              Moderate   \n",
       "2  Stevens Pass          Considerable              Moderate   \n",
       "3  Stevens Pass          Considerable              Moderate   \n",
       "4  Stevens Pass          Considerable              Moderate   \n",
       "\n",
       "  danger_near_treeline      date_tomorrow       date  \n",
       "0             Moderate  December 31, 2018 2018-12-30  \n",
       "1             Moderate  December 31, 2014 2014-12-30  \n",
       "2         Considerable  December 30, 2014 2014-12-29  \n",
       "3             Moderate  December 29, 2014 2014-12-28  \n",
       "4             Moderate  December 29, 2014 2014-12-28  "
      ]
     },
     "execution_count": 57,
     "metadata": {},
     "output_type": "execute_result"
    }
   ],
   "source": [
    "stevens_avalanches.head()"
   ]
  },
  {
   "cell_type": "code",
   "execution_count": 58,
   "metadata": {},
   "outputs": [
    {
     "data": {
      "text/html": [
       "<div>\n",
       "<style scoped>\n",
       "    .dataframe tbody tr th:only-of-type {\n",
       "        vertical-align: middle;\n",
       "    }\n",
       "\n",
       "    .dataframe tbody tr th {\n",
       "        vertical-align: top;\n",
       "    }\n",
       "\n",
       "    .dataframe thead th {\n",
       "        text-align: right;\n",
       "    }\n",
       "</style>\n",
       "<table border=\"1\" class=\"dataframe\">\n",
       "  <thead>\n",
       "    <tr style=\"text-align: right;\">\n",
       "      <th></th>\n",
       "      <th>Date/Time (PST)</th>\n",
       "      <th>Battery Voltage (v)</th>\n",
       "      <th>Temperature (deg F)</th>\n",
       "      <th>Wind Speed Minimum (mph)</th>\n",
       "      <th>Wind Speed Average (mph)</th>\n",
       "      <th>Wind Speed Maximum (mph)</th>\n",
       "      <th>Wind Direction (deg.)</th>\n",
       "      <th>date</th>\n",
       "      <th>24 Hour Snow (in)</th>\n",
       "      <th>Total Snow Depth (in)</th>\n",
       "      <th>Relative Humidity (%)</th>\n",
       "      <th>area</th>\n",
       "      <th>danger_above_treeline</th>\n",
       "      <th>danger_below_treeline</th>\n",
       "      <th>danger_near_treeline</th>\n",
       "      <th>date_tomorrow</th>\n",
       "    </tr>\n",
       "  </thead>\n",
       "  <tbody>\n",
       "    <tr>\n",
       "      <th>0</th>\n",
       "      <td>2019-05-14 07:00:00</td>\n",
       "      <td>12.80</td>\n",
       "      <td>37.21</td>\n",
       "      <td>0.000</td>\n",
       "      <td>4.660</td>\n",
       "      <td>20.34</td>\n",
       "      <td>250.3</td>\n",
       "      <td>2019-05-14</td>\n",
       "      <td>11.73</td>\n",
       "      <td>40.14</td>\n",
       "      <td>89.30</td>\n",
       "      <td>NaN</td>\n",
       "      <td>NaN</td>\n",
       "      <td>NaN</td>\n",
       "      <td>NaN</td>\n",
       "      <td>NaN</td>\n",
       "    </tr>\n",
       "    <tr>\n",
       "      <th>1</th>\n",
       "      <td>2019-05-14 06:00:00</td>\n",
       "      <td>12.84</td>\n",
       "      <td>44.51</td>\n",
       "      <td>0.000</td>\n",
       "      <td>4.046</td>\n",
       "      <td>10.11</td>\n",
       "      <td>278.6</td>\n",
       "      <td>2019-05-14</td>\n",
       "      <td>13.34</td>\n",
       "      <td>39.53</td>\n",
       "      <td>74.99</td>\n",
       "      <td>NaN</td>\n",
       "      <td>NaN</td>\n",
       "      <td>NaN</td>\n",
       "      <td>NaN</td>\n",
       "      <td>NaN</td>\n",
       "    </tr>\n",
       "    <tr>\n",
       "      <th>2</th>\n",
       "      <td>2019-05-14 05:00:00</td>\n",
       "      <td>12.94</td>\n",
       "      <td>43.41</td>\n",
       "      <td>0.723</td>\n",
       "      <td>7.701</td>\n",
       "      <td>15.02</td>\n",
       "      <td>272.7</td>\n",
       "      <td>2019-05-14</td>\n",
       "      <td>13.34</td>\n",
       "      <td>39.27</td>\n",
       "      <td>69.16</td>\n",
       "      <td>NaN</td>\n",
       "      <td>NaN</td>\n",
       "      <td>NaN</td>\n",
       "      <td>NaN</td>\n",
       "      <td>NaN</td>\n",
       "    </tr>\n",
       "    <tr>\n",
       "      <th>3</th>\n",
       "      <td>2019-05-14 04:00:00</td>\n",
       "      <td>13.57</td>\n",
       "      <td>43.25</td>\n",
       "      <td>4.340</td>\n",
       "      <td>10.050</td>\n",
       "      <td>18.87</td>\n",
       "      <td>271.9</td>\n",
       "      <td>2019-05-14</td>\n",
       "      <td>14.68</td>\n",
       "      <td>40.21</td>\n",
       "      <td>58.96</td>\n",
       "      <td>NaN</td>\n",
       "      <td>NaN</td>\n",
       "      <td>NaN</td>\n",
       "      <td>NaN</td>\n",
       "      <td>NaN</td>\n",
       "    </tr>\n",
       "    <tr>\n",
       "      <th>4</th>\n",
       "      <td>2019-05-14 03:00:00</td>\n",
       "      <td>12.64</td>\n",
       "      <td>42.71</td>\n",
       "      <td>3.288</td>\n",
       "      <td>9.440</td>\n",
       "      <td>17.34</td>\n",
       "      <td>275.2</td>\n",
       "      <td>2019-05-14</td>\n",
       "      <td>13.95</td>\n",
       "      <td>40.47</td>\n",
       "      <td>62.37</td>\n",
       "      <td>NaN</td>\n",
       "      <td>NaN</td>\n",
       "      <td>NaN</td>\n",
       "      <td>NaN</td>\n",
       "      <td>NaN</td>\n",
       "    </tr>\n",
       "  </tbody>\n",
       "</table>\n",
       "</div>"
      ],
      "text/plain": [
       "      Date/Time (PST)  Battery Voltage (v)  Temperature (deg F)  \\\n",
       "0 2019-05-14 07:00:00                12.80                37.21   \n",
       "1 2019-05-14 06:00:00                12.84                44.51   \n",
       "2 2019-05-14 05:00:00                12.94                43.41   \n",
       "3 2019-05-14 04:00:00                13.57                43.25   \n",
       "4 2019-05-14 03:00:00                12.64                42.71   \n",
       "\n",
       "   Wind Speed Minimum (mph)  Wind Speed Average (mph)  \\\n",
       "0                     0.000                     4.660   \n",
       "1                     0.000                     4.046   \n",
       "2                     0.723                     7.701   \n",
       "3                     4.340                    10.050   \n",
       "4                     3.288                     9.440   \n",
       "\n",
       "   Wind Speed Maximum (mph)  Wind Direction (deg.)       date  \\\n",
       "0                     20.34                  250.3 2019-05-14   \n",
       "1                     10.11                  278.6 2019-05-14   \n",
       "2                     15.02                  272.7 2019-05-14   \n",
       "3                     18.87                  271.9 2019-05-14   \n",
       "4                     17.34                  275.2 2019-05-14   \n",
       "\n",
       "   24 Hour Snow (in)  Total Snow Depth (in)  Relative Humidity (%) area  \\\n",
       "0              11.73                  40.14                  89.30  NaN   \n",
       "1              13.34                  39.53                  74.99  NaN   \n",
       "2              13.34                  39.27                  69.16  NaN   \n",
       "3              14.68                  40.21                  58.96  NaN   \n",
       "4              13.95                  40.47                  62.37  NaN   \n",
       "\n",
       "  danger_above_treeline danger_below_treeline danger_near_treeline  \\\n",
       "0                   NaN                   NaN                  NaN   \n",
       "1                   NaN                   NaN                  NaN   \n",
       "2                   NaN                   NaN                  NaN   \n",
       "3                   NaN                   NaN                  NaN   \n",
       "4                   NaN                   NaN                  NaN   \n",
       "\n",
       "  date_tomorrow  \n",
       "0           NaN  \n",
       "1           NaN  \n",
       "2           NaN  \n",
       "3           NaN  \n",
       "4           NaN  "
      ]
     },
     "execution_count": 58,
     "metadata": {},
     "output_type": "execute_result"
    }
   ],
   "source": [
    "second_merge =pd.merge(merged_df,stevens_avalanches,how='left',on='date')\n",
    "second_merge.head()"
   ]
  },
  {
   "cell_type": "code",
   "execution_count": 59,
   "metadata": {},
   "outputs": [],
   "source": [
    "# I only want the ski season months where nwac gives forecasts, Dec-April \n",
    "# in datetime january = 1 and december = 12\n",
    "# so I want months 12,1,2,3,4"
   ]
  },
  {
   "cell_type": "code",
   "execution_count": 60,
   "metadata": {},
   "outputs": [],
   "source": [
    "second_merge['month'] = pd.DatetimeIndex(second_merge['date']).month"
   ]
  },
  {
   "cell_type": "code",
   "execution_count": 61,
   "metadata": {},
   "outputs": [],
   "source": [
    "type(second_merge['month'][0]) #it is an int\n",
    "\n",
    "ski_months = [12,1,2,3,4]"
   ]
  },
  {
   "cell_type": "code",
   "execution_count": 88,
   "metadata": {},
   "outputs": [],
   "source": [
    "ski_df = second_merge.loc[second_merge['month'].isin(ski_months)]"
   ]
  },
  {
   "cell_type": "code",
   "execution_count": 89,
   "metadata": {},
   "outputs": [
    {
     "data": {
      "text/plain": [
       "1     4730\n",
       "3     4488\n",
       "12    4306\n",
       "2     3961\n",
       "4     3818\n",
       "Name: month, dtype: int64"
      ]
     },
     "execution_count": 89,
     "metadata": {},
     "output_type": "execute_result"
    }
   ],
   "source": [
    "ski_df['month'].value_counts()"
   ]
  },
  {
   "cell_type": "code",
   "execution_count": 90,
   "metadata": {},
   "outputs": [
    {
     "data": {
      "text/html": [
       "<div>\n",
       "<style scoped>\n",
       "    .dataframe tbody tr th:only-of-type {\n",
       "        vertical-align: middle;\n",
       "    }\n",
       "\n",
       "    .dataframe tbody tr th {\n",
       "        vertical-align: top;\n",
       "    }\n",
       "\n",
       "    .dataframe thead th {\n",
       "        text-align: right;\n",
       "    }\n",
       "</style>\n",
       "<table border=\"1\" class=\"dataframe\">\n",
       "  <thead>\n",
       "    <tr style=\"text-align: right;\">\n",
       "      <th></th>\n",
       "      <th>Date/Time (PST)</th>\n",
       "      <th>Battery Voltage (v)</th>\n",
       "      <th>Temperature (deg F)</th>\n",
       "      <th>Wind Speed Minimum (mph)</th>\n",
       "      <th>Wind Speed Average (mph)</th>\n",
       "      <th>Wind Speed Maximum (mph)</th>\n",
       "      <th>Wind Direction (deg.)</th>\n",
       "      <th>date</th>\n",
       "      <th>24 Hour Snow (in)</th>\n",
       "      <th>Total Snow Depth (in)</th>\n",
       "      <th>Relative Humidity (%)</th>\n",
       "      <th>area</th>\n",
       "      <th>danger_above_treeline</th>\n",
       "      <th>danger_below_treeline</th>\n",
       "      <th>danger_near_treeline</th>\n",
       "      <th>date_tomorrow</th>\n",
       "      <th>month</th>\n",
       "    </tr>\n",
       "  </thead>\n",
       "  <tbody>\n",
       "    <tr>\n",
       "      <th>320</th>\n",
       "      <td>2019-04-30 23:00:00</td>\n",
       "      <td>12.8</td>\n",
       "      <td>33.07</td>\n",
       "      <td>5.962</td>\n",
       "      <td>9.23</td>\n",
       "      <td>13.33</td>\n",
       "      <td>267.0</td>\n",
       "      <td>2019-04-30</td>\n",
       "      <td>54.89</td>\n",
       "      <td>74.06</td>\n",
       "      <td>52.35</td>\n",
       "      <td>NaN</td>\n",
       "      <td>NaN</td>\n",
       "      <td>NaN</td>\n",
       "      <td>NaN</td>\n",
       "      <td>NaN</td>\n",
       "      <td>4</td>\n",
       "    </tr>\n",
       "  </tbody>\n",
       "</table>\n",
       "</div>"
      ],
      "text/plain": [
       "        Date/Time (PST)  Battery Voltage (v)  Temperature (deg F)  \\\n",
       "320 2019-04-30 23:00:00                 12.8                33.07   \n",
       "\n",
       "     Wind Speed Minimum (mph)  Wind Speed Average (mph)  \\\n",
       "320                     5.962                      9.23   \n",
       "\n",
       "     Wind Speed Maximum (mph)  Wind Direction (deg.)       date  \\\n",
       "320                     13.33                  267.0 2019-04-30   \n",
       "\n",
       "     24 Hour Snow (in)  Total Snow Depth (in)  Relative Humidity (%) area  \\\n",
       "320              54.89                  74.06                  52.35  NaN   \n",
       "\n",
       "    danger_above_treeline danger_below_treeline danger_near_treeline  \\\n",
       "320                   NaN                   NaN                  NaN   \n",
       "\n",
       "    date_tomorrow  month  \n",
       "320           NaN      4  "
      ]
     },
     "execution_count": 90,
     "metadata": {},
     "output_type": "execute_result"
    }
   ],
   "source": [
    "ski_df.head(1)"
   ]
  },
  {
   "cell_type": "code",
   "execution_count": 91,
   "metadata": {},
   "outputs": [
    {
     "data": {
      "text/plain": [
       "'Moderate'"
      ]
     },
     "execution_count": 91,
     "metadata": {},
     "output_type": "execute_result"
    }
   ],
   "source": [
    "ski_df['danger_above_treeline'][3219]"
   ]
  },
  {
   "cell_type": "code",
   "execution_count": 92,
   "metadata": {},
   "outputs": [
    {
     "name": "stdout",
     "output_type": "stream",
     "text": [
      "<class 'pandas.core.frame.DataFrame'>\n",
      "Int64Index: 21303 entries, 320 to 42119\n",
      "Data columns (total 17 columns):\n",
      "Date/Time (PST)             21303 non-null datetime64[ns]\n",
      "Battery Voltage (v)         21296 non-null float64\n",
      "Temperature (deg F)         21295 non-null float64\n",
      "Wind Speed Minimum (mph)    21295 non-null float64\n",
      "Wind Speed Average (mph)    21295 non-null float64\n",
      "Wind Speed Maximum (mph)    21295 non-null float64\n",
      "Wind Direction (deg.)       19429 non-null float64\n",
      "date                        21303 non-null datetime64[ns]\n",
      "24 Hour Snow (in)           17685 non-null float64\n",
      "Total Snow Depth (in)       17685 non-null float64\n",
      "Relative Humidity (%)       178 non-null float64\n",
      "area                        19682 non-null object\n",
      "danger_above_treeline       19682 non-null object\n",
      "danger_below_treeline       19682 non-null object\n",
      "danger_near_treeline        19682 non-null object\n",
      "date_tomorrow               19682 non-null object\n",
      "month                       21303 non-null int64\n",
      "dtypes: datetime64[ns](2), float64(9), int64(1), object(5)\n",
      "memory usage: 3.6+ MB\n"
     ]
    }
   ],
   "source": [
    "ski_df.info()"
   ]
  },
  {
   "cell_type": "markdown",
   "metadata": {},
   "source": [
    "## I need to convert the string avalanche levels to numbers, lets make a dictionary and then map it to the columns"
   ]
  },
  {
   "cell_type": "code",
   "execution_count": 93,
   "metadata": {},
   "outputs": [
    {
     "data": {
      "text/plain": [
       "str"
      ]
     },
     "execution_count": 93,
     "metadata": {},
     "output_type": "execute_result"
    }
   ],
   "source": [
    "type(ski_df['danger_above_treeline'][2456])"
   ]
  },
  {
   "cell_type": "code",
   "execution_count": 94,
   "metadata": {},
   "outputs": [],
   "source": [
    "def convert_avy_str_to_num(word):\n",
    "    if word == 'Low':\n",
    "        return 1\n",
    "    elif word == 'Moderate':\n",
    "        return 2\n",
    "    elif word == 'Considerable':\n",
    "        return 3\n",
    "    elif word == 'High':\n",
    "        return 4\n",
    "    elif word == 'Extreme':\n",
    "        return 5"
   ]
  },
  {
   "cell_type": "code",
   "execution_count": 95,
   "metadata": {},
   "outputs": [
    {
     "data": {
      "text/plain": [
       "Index(['Date/Time (PST)', 'Battery Voltage (v)', 'Temperature (deg F)',\n",
       "       'Wind Speed Minimum (mph)', 'Wind Speed Average (mph)',\n",
       "       'Wind Speed Maximum (mph)', 'Wind Direction (deg.)', 'date',\n",
       "       '24 Hour Snow (in)', 'Total Snow Depth (in)', 'Relative Humidity (%)',\n",
       "       'area', 'danger_above_treeline', 'danger_below_treeline',\n",
       "       'danger_near_treeline', 'date_tomorrow', 'month'],\n",
       "      dtype='object')"
      ]
     },
     "execution_count": 95,
     "metadata": {},
     "output_type": "execute_result"
    }
   ],
   "source": [
    "ski_df.columns"
   ]
  },
  {
   "cell_type": "code",
   "execution_count": 97,
   "metadata": {},
   "outputs": [
    {
     "name": "stderr",
     "output_type": "stream",
     "text": [
      "/Users/krex/anaconda3/lib/python3.7/site-packages/pandas/core/frame.py:3140: SettingWithCopyWarning: \n",
      "A value is trying to be set on a copy of a slice from a DataFrame.\n",
      "Try using .loc[row_indexer,col_indexer] = value instead\n",
      "\n",
      "See the caveats in the documentation: http://pandas.pydata.org/pandas-docs/stable/indexing.html#indexing-view-versus-copy\n",
      "  self[k1] = value[k2]\n"
     ]
    }
   ],
   "source": [
    "ski_df[['danger_above_treeline', 'danger_below_treeline','danger_near_treeline']] = ski_df[['danger_above_treeline',\n",
    "                                                                                              'danger_below_treeline',\n",
    "                                                                                              'danger_near_treeline']].applymap(convert_avy_str_to_num)\n",
    "\n"
   ]
  },
  {
   "cell_type": "code",
   "execution_count": 98,
   "metadata": {},
   "outputs": [
    {
     "data": {
      "text/plain": [
       "numpy.float64"
      ]
     },
     "execution_count": 98,
     "metadata": {},
     "output_type": "execute_result"
    }
   ],
   "source": [
    "type(ski_df['danger_above_treeline'][2456])"
   ]
  },
  {
   "cell_type": "code",
   "execution_count": 99,
   "metadata": {},
   "outputs": [
    {
     "name": "stdout",
     "output_type": "stream",
     "text": [
      "<class 'pandas.core.frame.DataFrame'>\n",
      "Int64Index: 21303 entries, 320 to 42119\n",
      "Data columns (total 17 columns):\n",
      "Date/Time (PST)             21303 non-null datetime64[ns]\n",
      "Battery Voltage (v)         21296 non-null float64\n",
      "Temperature (deg F)         21295 non-null float64\n",
      "Wind Speed Minimum (mph)    21295 non-null float64\n",
      "Wind Speed Average (mph)    21295 non-null float64\n",
      "Wind Speed Maximum (mph)    21295 non-null float64\n",
      "Wind Direction (deg.)       19429 non-null float64\n",
      "date                        21303 non-null datetime64[ns]\n",
      "24 Hour Snow (in)           17685 non-null float64\n",
      "Total Snow Depth (in)       17685 non-null float64\n",
      "Relative Humidity (%)       178 non-null float64\n",
      "area                        19682 non-null object\n",
      "danger_above_treeline       19346 non-null float64\n",
      "danger_below_treeline       19346 non-null float64\n",
      "danger_near_treeline        19346 non-null float64\n",
      "date_tomorrow               19682 non-null object\n",
      "month                       21303 non-null int64\n",
      "dtypes: datetime64[ns](2), float64(12), int64(1), object(2)\n",
      "memory usage: 3.6+ MB\n"
     ]
    }
   ],
   "source": [
    "ski_df.info()"
   ]
  },
  {
   "cell_type": "code",
   "execution_count": 100,
   "metadata": {},
   "outputs": [
    {
     "data": {
      "text/html": [
       "<div>\n",
       "<style scoped>\n",
       "    .dataframe tbody tr th:only-of-type {\n",
       "        vertical-align: middle;\n",
       "    }\n",
       "\n",
       "    .dataframe tbody tr th {\n",
       "        vertical-align: top;\n",
       "    }\n",
       "\n",
       "    .dataframe thead th {\n",
       "        text-align: right;\n",
       "    }\n",
       "</style>\n",
       "<table border=\"1\" class=\"dataframe\">\n",
       "  <thead>\n",
       "    <tr style=\"text-align: right;\">\n",
       "      <th></th>\n",
       "      <th>Date/Time (PST)</th>\n",
       "      <th>Battery Voltage (v)</th>\n",
       "      <th>Temperature (deg F)</th>\n",
       "      <th>Wind Speed Minimum (mph)</th>\n",
       "      <th>Wind Speed Average (mph)</th>\n",
       "      <th>Wind Speed Maximum (mph)</th>\n",
       "      <th>Wind Direction (deg.)</th>\n",
       "      <th>date</th>\n",
       "      <th>24 Hour Snow (in)</th>\n",
       "      <th>Total Snow Depth (in)</th>\n",
       "      <th>Relative Humidity (%)</th>\n",
       "      <th>area</th>\n",
       "      <th>danger_above_treeline</th>\n",
       "      <th>danger_below_treeline</th>\n",
       "      <th>danger_near_treeline</th>\n",
       "      <th>date_tomorrow</th>\n",
       "      <th>month</th>\n",
       "    </tr>\n",
       "  </thead>\n",
       "  <tbody>\n",
       "    <tr>\n",
       "      <th>42119</th>\n",
       "      <td>2014-12-17 13:00:00</td>\n",
       "      <td>0.0</td>\n",
       "      <td>12.89</td>\n",
       "      <td>25.3</td>\n",
       "      <td>0.008</td>\n",
       "      <td>0.81</td>\n",
       "      <td>125.4</td>\n",
       "      <td>2014-12-17</td>\n",
       "      <td>NaN</td>\n",
       "      <td>NaN</td>\n",
       "      <td>NaN</td>\n",
       "      <td>NaN</td>\n",
       "      <td>NaN</td>\n",
       "      <td>NaN</td>\n",
       "      <td>NaN</td>\n",
       "      <td>NaN</td>\n",
       "      <td>12</td>\n",
       "    </tr>\n",
       "  </tbody>\n",
       "</table>\n",
       "</div>"
      ],
      "text/plain": [
       "          Date/Time (PST)  Battery Voltage (v)  Temperature (deg F)  \\\n",
       "42119 2014-12-17 13:00:00                  0.0                12.89   \n",
       "\n",
       "       Wind Speed Minimum (mph)  Wind Speed Average (mph)  \\\n",
       "42119                      25.3                     0.008   \n",
       "\n",
       "       Wind Speed Maximum (mph)  Wind Direction (deg.)       date  \\\n",
       "42119                      0.81                  125.4 2014-12-17   \n",
       "\n",
       "       24 Hour Snow (in)  Total Snow Depth (in)  Relative Humidity (%) area  \\\n",
       "42119                NaN                    NaN                    NaN  NaN   \n",
       "\n",
       "       danger_above_treeline  danger_below_treeline  danger_near_treeline  \\\n",
       "42119                    NaN                    NaN                   NaN   \n",
       "\n",
       "      date_tomorrow  month  \n",
       "42119           NaN     12  "
      ]
     },
     "execution_count": 100,
     "metadata": {},
     "output_type": "execute_result"
    }
   ],
   "source": [
    "ski_df.tail(1)"
   ]
  },
  {
   "cell_type": "code",
   "execution_count": 101,
   "metadata": {},
   "outputs": [
    {
     "data": {
      "text/html": [
       "<div>\n",
       "<style scoped>\n",
       "    .dataframe tbody tr th:only-of-type {\n",
       "        vertical-align: middle;\n",
       "    }\n",
       "\n",
       "    .dataframe tbody tr th {\n",
       "        vertical-align: top;\n",
       "    }\n",
       "\n",
       "    .dataframe thead th {\n",
       "        text-align: right;\n",
       "    }\n",
       "</style>\n",
       "<table border=\"1\" class=\"dataframe\">\n",
       "  <thead>\n",
       "    <tr style=\"text-align: right;\">\n",
       "      <th></th>\n",
       "      <th>Battery Voltage (v)</th>\n",
       "      <th>Temperature (deg F)</th>\n",
       "      <th>Wind Speed Minimum (mph)</th>\n",
       "      <th>Wind Speed Average (mph)</th>\n",
       "      <th>Wind Speed Maximum (mph)</th>\n",
       "      <th>Wind Direction (deg.)</th>\n",
       "      <th>24 Hour Snow (in)</th>\n",
       "      <th>Total Snow Depth (in)</th>\n",
       "      <th>Relative Humidity (%)</th>\n",
       "      <th>danger_above_treeline</th>\n",
       "      <th>danger_below_treeline</th>\n",
       "      <th>danger_near_treeline</th>\n",
       "      <th>month</th>\n",
       "    </tr>\n",
       "  </thead>\n",
       "  <tbody>\n",
       "    <tr>\n",
       "      <th>count</th>\n",
       "      <td>21296.000000</td>\n",
       "      <td>21295.000000</td>\n",
       "      <td>21295.000000</td>\n",
       "      <td>21295.000000</td>\n",
       "      <td>21295.000000</td>\n",
       "      <td>19429.000000</td>\n",
       "      <td>17685.000000</td>\n",
       "      <td>17685.000000</td>\n",
       "      <td>178.000000</td>\n",
       "      <td>19346.000000</td>\n",
       "      <td>19346.000000</td>\n",
       "      <td>19346.000000</td>\n",
       "      <td>21303.000000</td>\n",
       "    </tr>\n",
       "    <tr>\n",
       "      <th>mean</th>\n",
       "      <td>12.543848</td>\n",
       "      <td>26.028648</td>\n",
       "      <td>2.420495</td>\n",
       "      <td>6.437304</td>\n",
       "      <td>12.053108</td>\n",
       "      <td>179.496993</td>\n",
       "      <td>0.018083</td>\n",
       "      <td>91.418860</td>\n",
       "      <td>70.643539</td>\n",
       "      <td>2.477618</td>\n",
       "      <td>1.954202</td>\n",
       "      <td>2.301458</td>\n",
       "      <td>4.368399</td>\n",
       "    </tr>\n",
       "    <tr>\n",
       "      <th>std</th>\n",
       "      <td>2.549749</td>\n",
       "      <td>78.319369</td>\n",
       "      <td>5.125817</td>\n",
       "      <td>6.052230</td>\n",
       "      <td>8.402773</td>\n",
       "      <td>99.822767</td>\n",
       "      <td>91.868543</td>\n",
       "      <td>29.605817</td>\n",
       "      <td>23.062710</td>\n",
       "      <td>0.780573</td>\n",
       "      <td>0.775944</td>\n",
       "      <td>0.771484</td>\n",
       "      <td>3.969149</td>\n",
       "    </tr>\n",
       "    <tr>\n",
       "      <th>min</th>\n",
       "      <td>0.000000</td>\n",
       "      <td>-7999.000000</td>\n",
       "      <td>-7.743000</td>\n",
       "      <td>0.000000</td>\n",
       "      <td>0.000000</td>\n",
       "      <td>0.000000</td>\n",
       "      <td>-7999.000000</td>\n",
       "      <td>-162.700000</td>\n",
       "      <td>20.510000</td>\n",
       "      <td>1.000000</td>\n",
       "      <td>1.000000</td>\n",
       "      <td>1.000000</td>\n",
       "      <td>1.000000</td>\n",
       "    </tr>\n",
       "    <tr>\n",
       "      <th>25%</th>\n",
       "      <td>12.610000</td>\n",
       "      <td>21.580000</td>\n",
       "      <td>0.000000</td>\n",
       "      <td>2.899000</td>\n",
       "      <td>7.212000</td>\n",
       "      <td>86.300000</td>\n",
       "      <td>0.283000</td>\n",
       "      <td>73.360000</td>\n",
       "      <td>52.417500</td>\n",
       "      <td>2.000000</td>\n",
       "      <td>1.000000</td>\n",
       "      <td>2.000000</td>\n",
       "      <td>2.000000</td>\n",
       "    </tr>\n",
       "    <tr>\n",
       "      <th>50%</th>\n",
       "      <td>12.660000</td>\n",
       "      <td>26.780000</td>\n",
       "      <td>0.285000</td>\n",
       "      <td>4.654000</td>\n",
       "      <td>10.000000</td>\n",
       "      <td>241.600000</td>\n",
       "      <td>0.512000</td>\n",
       "      <td>91.600000</td>\n",
       "      <td>71.955000</td>\n",
       "      <td>2.000000</td>\n",
       "      <td>2.000000</td>\n",
       "      <td>2.000000</td>\n",
       "      <td>3.000000</td>\n",
       "    </tr>\n",
       "    <tr>\n",
       "      <th>75%</th>\n",
       "      <td>12.740000</td>\n",
       "      <td>31.870000</td>\n",
       "      <td>2.877000</td>\n",
       "      <td>8.090000</td>\n",
       "      <td>14.250000</td>\n",
       "      <td>270.700000</td>\n",
       "      <td>2.425000</td>\n",
       "      <td>114.000000</td>\n",
       "      <td>91.775000</td>\n",
       "      <td>3.000000</td>\n",
       "      <td>2.000000</td>\n",
       "      <td>3.000000</td>\n",
       "      <td>4.000000</td>\n",
       "    </tr>\n",
       "    <tr>\n",
       "      <th>max</th>\n",
       "      <td>45.980000</td>\n",
       "      <td>68.510000</td>\n",
       "      <td>53.250000</td>\n",
       "      <td>84.900000</td>\n",
       "      <td>71.790000</td>\n",
       "      <td>359.700000</td>\n",
       "      <td>166.300000</td>\n",
       "      <td>220.500000</td>\n",
       "      <td>100.000000</td>\n",
       "      <td>4.000000</td>\n",
       "      <td>4.000000</td>\n",
       "      <td>4.000000</td>\n",
       "      <td>12.000000</td>\n",
       "    </tr>\n",
       "  </tbody>\n",
       "</table>\n",
       "</div>"
      ],
      "text/plain": [
       "       Battery Voltage (v)  Temperature (deg F)  Wind Speed Minimum (mph)  \\\n",
       "count         21296.000000         21295.000000              21295.000000   \n",
       "mean             12.543848            26.028648                  2.420495   \n",
       "std               2.549749            78.319369                  5.125817   \n",
       "min               0.000000         -7999.000000                 -7.743000   \n",
       "25%              12.610000            21.580000                  0.000000   \n",
       "50%              12.660000            26.780000                  0.285000   \n",
       "75%              12.740000            31.870000                  2.877000   \n",
       "max              45.980000            68.510000                 53.250000   \n",
       "\n",
       "       Wind Speed Average (mph)  Wind Speed Maximum (mph)  \\\n",
       "count              21295.000000              21295.000000   \n",
       "mean                   6.437304                 12.053108   \n",
       "std                    6.052230                  8.402773   \n",
       "min                    0.000000                  0.000000   \n",
       "25%                    2.899000                  7.212000   \n",
       "50%                    4.654000                 10.000000   \n",
       "75%                    8.090000                 14.250000   \n",
       "max                   84.900000                 71.790000   \n",
       "\n",
       "       Wind Direction (deg.)  24 Hour Snow (in)  Total Snow Depth (in)  \\\n",
       "count           19429.000000       17685.000000           17685.000000   \n",
       "mean              179.496993           0.018083              91.418860   \n",
       "std                99.822767          91.868543              29.605817   \n",
       "min                 0.000000       -7999.000000            -162.700000   \n",
       "25%                86.300000           0.283000              73.360000   \n",
       "50%               241.600000           0.512000              91.600000   \n",
       "75%               270.700000           2.425000             114.000000   \n",
       "max               359.700000         166.300000             220.500000   \n",
       "\n",
       "       Relative Humidity (%)  danger_above_treeline  danger_below_treeline  \\\n",
       "count             178.000000           19346.000000           19346.000000   \n",
       "mean               70.643539               2.477618               1.954202   \n",
       "std                23.062710               0.780573               0.775944   \n",
       "min                20.510000               1.000000               1.000000   \n",
       "25%                52.417500               2.000000               1.000000   \n",
       "50%                71.955000               2.000000               2.000000   \n",
       "75%                91.775000               3.000000               2.000000   \n",
       "max               100.000000               4.000000               4.000000   \n",
       "\n",
       "       danger_near_treeline         month  \n",
       "count          19346.000000  21303.000000  \n",
       "mean               2.301458      4.368399  \n",
       "std                0.771484      3.969149  \n",
       "min                1.000000      1.000000  \n",
       "25%                2.000000      2.000000  \n",
       "50%                2.000000      3.000000  \n",
       "75%                3.000000      4.000000  \n",
       "max                4.000000     12.000000  "
      ]
     },
     "execution_count": 101,
     "metadata": {},
     "output_type": "execute_result"
    }
   ],
   "source": [
    "ski_df.describe() "
   ]
  },
  {
   "cell_type": "code",
   "execution_count": null,
   "metadata": {},
   "outputs": [],
   "source": [
    "# to not loose the timestamp's hour, i have to but the date/time into a str before converting to json"
   ]
  },
  {
   "cell_type": "code",
   "execution_count": 102,
   "metadata": {},
   "outputs": [],
   "source": [
    "ski_df = ski_df.reset_index(drop=True)"
   ]
  },
  {
   "cell_type": "code",
   "execution_count": 103,
   "metadata": {},
   "outputs": [],
   "source": [
    "ski_df['Date/Time (PST)'] = ski_df['Date/Time (PST)'].map(lambda x: x.strftime('%Y-%m-%d %H:%M:%S'))"
   ]
  },
  {
   "cell_type": "code",
   "execution_count": 104,
   "metadata": {},
   "outputs": [],
   "source": [
    "ski_df.to_json('stevens_data_master.json')"
   ]
  },
  {
   "cell_type": "code",
   "execution_count": 106,
   "metadata": {},
   "outputs": [
    {
     "data": {
      "text/html": [
       "<div>\n",
       "<style scoped>\n",
       "    .dataframe tbody tr th:only-of-type {\n",
       "        vertical-align: middle;\n",
       "    }\n",
       "\n",
       "    .dataframe tbody tr th {\n",
       "        vertical-align: top;\n",
       "    }\n",
       "\n",
       "    .dataframe thead th {\n",
       "        text-align: right;\n",
       "    }\n",
       "</style>\n",
       "<table border=\"1\" class=\"dataframe\">\n",
       "  <thead>\n",
       "    <tr style=\"text-align: right;\">\n",
       "      <th></th>\n",
       "      <th>Date/Time (PST)</th>\n",
       "      <th>Battery Voltage (v)</th>\n",
       "      <th>Temperature (deg F)</th>\n",
       "      <th>Wind Speed Minimum (mph)</th>\n",
       "      <th>Wind Speed Average (mph)</th>\n",
       "      <th>Wind Speed Maximum (mph)</th>\n",
       "      <th>Wind Direction (deg.)</th>\n",
       "      <th>date</th>\n",
       "      <th>24 Hour Snow (in)</th>\n",
       "      <th>Total Snow Depth (in)</th>\n",
       "      <th>Relative Humidity (%)</th>\n",
       "      <th>area</th>\n",
       "      <th>danger_above_treeline</th>\n",
       "      <th>danger_below_treeline</th>\n",
       "      <th>danger_near_treeline</th>\n",
       "      <th>date_tomorrow</th>\n",
       "      <th>month</th>\n",
       "    </tr>\n",
       "  </thead>\n",
       "  <tbody>\n",
       "    <tr>\n",
       "      <th>0</th>\n",
       "      <td>2019-04-30 23:00:00</td>\n",
       "      <td>12.80</td>\n",
       "      <td>33.07</td>\n",
       "      <td>5.962</td>\n",
       "      <td>9.230</td>\n",
       "      <td>13.33</td>\n",
       "      <td>267.0</td>\n",
       "      <td>2019-04-30</td>\n",
       "      <td>54.890</td>\n",
       "      <td>74.06</td>\n",
       "      <td>52.35</td>\n",
       "      <td>None</td>\n",
       "      <td>NaN</td>\n",
       "      <td>NaN</td>\n",
       "      <td>NaN</td>\n",
       "      <td>None</td>\n",
       "      <td>4</td>\n",
       "    </tr>\n",
       "    <tr>\n",
       "      <th>1</th>\n",
       "      <td>2019-04-30 22:00:00</td>\n",
       "      <td>12.82</td>\n",
       "      <td>34.52</td>\n",
       "      <td>4.910</td>\n",
       "      <td>11.970</td>\n",
       "      <td>16.22</td>\n",
       "      <td>275.2</td>\n",
       "      <td>2019-04-30</td>\n",
       "      <td>56.090</td>\n",
       "      <td>73.82</td>\n",
       "      <td>44.66</td>\n",
       "      <td>None</td>\n",
       "      <td>NaN</td>\n",
       "      <td>NaN</td>\n",
       "      <td>NaN</td>\n",
       "      <td>None</td>\n",
       "      <td>4</td>\n",
       "    </tr>\n",
       "    <tr>\n",
       "      <th>10</th>\n",
       "      <td>2019-04-30 13:00:00</td>\n",
       "      <td>12.67</td>\n",
       "      <td>41.23</td>\n",
       "      <td>0.000</td>\n",
       "      <td>4.946</td>\n",
       "      <td>18.17</td>\n",
       "      <td>292.8</td>\n",
       "      <td>2019-04-30</td>\n",
       "      <td>62.730</td>\n",
       "      <td>73.30</td>\n",
       "      <td>24.97</td>\n",
       "      <td>None</td>\n",
       "      <td>NaN</td>\n",
       "      <td>NaN</td>\n",
       "      <td>NaN</td>\n",
       "      <td>None</td>\n",
       "      <td>4</td>\n",
       "    </tr>\n",
       "    <tr>\n",
       "      <th>100</th>\n",
       "      <td>2019-04-26 19:00:00</td>\n",
       "      <td>12.69</td>\n",
       "      <td>34.47</td>\n",
       "      <td>1.052</td>\n",
       "      <td>15.430</td>\n",
       "      <td>41.23</td>\n",
       "      <td>296.0</td>\n",
       "      <td>2019-04-26</td>\n",
       "      <td>67.570</td>\n",
       "      <td>73.60</td>\n",
       "      <td>82.40</td>\n",
       "      <td>None</td>\n",
       "      <td>NaN</td>\n",
       "      <td>NaN</td>\n",
       "      <td>NaN</td>\n",
       "      <td>None</td>\n",
       "      <td>4</td>\n",
       "    </tr>\n",
       "    <tr>\n",
       "      <th>1000</th>\n",
       "      <td>2019-03-24 07:00:00</td>\n",
       "      <td>12.74</td>\n",
       "      <td>29.79</td>\n",
       "      <td>5.612</td>\n",
       "      <td>8.280</td>\n",
       "      <td>11.81</td>\n",
       "      <td>274.0</td>\n",
       "      <td>2019-03-24</td>\n",
       "      <td>0.491</td>\n",
       "      <td>90.00</td>\n",
       "      <td>NaN</td>\n",
       "      <td>Stevens Pass</td>\n",
       "      <td>1.0</td>\n",
       "      <td>1.0</td>\n",
       "      <td>1.0</td>\n",
       "      <td>March 25, 2019</td>\n",
       "      <td>3</td>\n",
       "    </tr>\n",
       "  </tbody>\n",
       "</table>\n",
       "</div>"
      ],
      "text/plain": [
       "          Date/Time (PST)  Battery Voltage (v)  Temperature (deg F)  \\\n",
       "0     2019-04-30 23:00:00                12.80                33.07   \n",
       "1     2019-04-30 22:00:00                12.82                34.52   \n",
       "10    2019-04-30 13:00:00                12.67                41.23   \n",
       "100   2019-04-26 19:00:00                12.69                34.47   \n",
       "1000  2019-03-24 07:00:00                12.74                29.79   \n",
       "\n",
       "      Wind Speed Minimum (mph)  Wind Speed Average (mph)  \\\n",
       "0                        5.962                     9.230   \n",
       "1                        4.910                    11.970   \n",
       "10                       0.000                     4.946   \n",
       "100                      1.052                    15.430   \n",
       "1000                     5.612                     8.280   \n",
       "\n",
       "      Wind Speed Maximum (mph)  Wind Direction (deg.)       date  \\\n",
       "0                        13.33                  267.0 2019-04-30   \n",
       "1                        16.22                  275.2 2019-04-30   \n",
       "10                       18.17                  292.8 2019-04-30   \n",
       "100                      41.23                  296.0 2019-04-26   \n",
       "1000                     11.81                  274.0 2019-03-24   \n",
       "\n",
       "      24 Hour Snow (in)  Total Snow Depth (in)  Relative Humidity (%)  \\\n",
       "0                54.890                  74.06                  52.35   \n",
       "1                56.090                  73.82                  44.66   \n",
       "10               62.730                  73.30                  24.97   \n",
       "100              67.570                  73.60                  82.40   \n",
       "1000              0.491                  90.00                    NaN   \n",
       "\n",
       "              area  danger_above_treeline  danger_below_treeline  \\\n",
       "0             None                    NaN                    NaN   \n",
       "1             None                    NaN                    NaN   \n",
       "10            None                    NaN                    NaN   \n",
       "100           None                    NaN                    NaN   \n",
       "1000  Stevens Pass                    1.0                    1.0   \n",
       "\n",
       "      danger_near_treeline   date_tomorrow  month  \n",
       "0                      NaN            None      4  \n",
       "1                      NaN            None      4  \n",
       "10                     NaN            None      4  \n",
       "100                    NaN            None      4  \n",
       "1000                   1.0  March 25, 2019      3  "
      ]
     },
     "execution_count": 106,
     "metadata": {},
     "output_type": "execute_result"
    }
   ],
   "source": [
    "pd.read_json('stevens_data_master.json').head()"
   ]
  },
  {
   "cell_type": "code",
   "execution_count": null,
   "metadata": {},
   "outputs": [],
   "source": []
  }
 ],
 "metadata": {
  "kernelspec": {
   "display_name": "learn-env",
   "language": "python",
   "name": "learn-env"
  },
  "language_info": {
   "codemirror_mode": {
    "name": "ipython",
    "version": 3
   },
   "file_extension": ".py",
   "mimetype": "text/x-python",
   "name": "python",
   "nbconvert_exporter": "python",
   "pygments_lexer": "ipython3",
   "version": "3.7.1"
  }
 },
 "nbformat": 4,
 "nbformat_minor": 2
}
