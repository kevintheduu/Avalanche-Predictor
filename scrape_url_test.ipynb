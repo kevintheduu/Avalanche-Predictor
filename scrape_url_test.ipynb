{
 "cells": [
  {
   "cell_type": "code",
   "execution_count": 46,
   "metadata": {},
   "outputs": [],
   "source": [
    "from bs4 import BeautifulSoup\n",
    "from selenium.webdriver import Chrome\n",
    "import pymongo\n",
    "import time\n",
    "import pandas as pd\n",
    "import numpy as np"
   ]
  },
  {
   "cell_type": "code",
   "execution_count": 263,
   "metadata": {},
   "outputs": [],
   "source": [
    "browser = Chrome()"
   ]
  },
  {
   "cell_type": "code",
   "execution_count": 264,
   "metadata": {},
   "outputs": [],
   "source": [
    "url = 'https://www.nwac.us/avalanche-forecast/archives/days/?csrfmiddlewaretoken=kSrGTsAw2IrvAdIbQiZLpK5MZcoM9r6iLRv7BMqYvzCcfDfpiMAj2tKEJubKLewu&month=January&year=2019'"
   ]
  },
  {
   "cell_type": "code",
   "execution_count": 265,
   "metadata": {},
   "outputs": [],
   "source": [
    "browser.get(url)"
   ]
  },
  {
   "cell_type": "markdown",
   "metadata": {},
   "source": [
    "## I have the page, but now to make a list of them that are relevant to stevens pass??"
   ]
  },
  {
   "cell_type": "code",
   "execution_count": null,
   "metadata": {},
   "outputs": [],
   "source": []
  },
  {
   "cell_type": "code",
   "execution_count": 266,
   "metadata": {},
   "outputs": [],
   "source": [
    "links = browser.find_elements_by_css_selector('#main-content > div > a')"
   ]
  },
  {
   "cell_type": "code",
   "execution_count": 267,
   "metadata": {},
   "outputs": [
    {
     "data": {
      "text/plain": [
       "'https://www.nwac.us/avalanche-forecast/avalanche-forecast/1422/'"
      ]
     },
     "execution_count": 267,
     "metadata": {},
     "output_type": "execute_result"
    }
   ],
   "source": [
    "links[1].get_attribute('href')"
   ]
  },
  {
   "cell_type": "code",
   "execution_count": 268,
   "metadata": {},
   "outputs": [],
   "source": [
    "link_urls = [link.get_attribute('href') for link in links]"
   ]
  },
  {
   "cell_type": "code",
   "execution_count": 270,
   "metadata": {},
   "outputs": [
    {
     "data": {
      "text/plain": [
       "174"
      ]
     },
     "execution_count": 270,
     "metadata": {},
     "output_type": "execute_result"
    }
   ],
   "source": [
    "len(link_urls)"
   ]
  },
  {
   "cell_type": "code",
   "execution_count": 285,
   "metadata": {},
   "outputs": [
    {
     "data": {
      "text/plain": [
       "str"
      ]
     },
     "execution_count": 285,
     "metadata": {},
     "output_type": "execute_result"
    }
   ],
   "source": [
    "type(link_urls[0])"
   ]
  },
  {
   "cell_type": "markdown",
   "metadata": {},
   "source": [
    " # I now have all the links of Jan, now to go one step deeper to collect the links within the links"
   ]
  },
  {
   "cell_type": "code",
   "execution_count": 272,
   "metadata": {},
   "outputs": [],
   "source": [
    "url2 = link_urls[0]\n",
    "browser.get(url2)"
   ]
  },
  {
   "cell_type": "code",
   "execution_count": 273,
   "metadata": {},
   "outputs": [],
   "source": [
    "links_2 = browser2.find_elements_by_class_name('forecast')"
   ]
  },
  {
   "cell_type": "code",
   "execution_count": 274,
   "metadata": {},
   "outputs": [
    {
     "data": {
      "text/plain": [
       "'https://www.nwac.us/avalanche-forecast/avalanche-region-forecast/5397/cascade-west-stevens-pass/'"
      ]
     },
     "execution_count": 274,
     "metadata": {},
     "output_type": "execute_result"
    }
   ],
   "source": [
    "links_2[0].get_attribute('href')"
   ]
  },
  {
   "cell_type": "code",
   "execution_count": 282,
   "metadata": {},
   "outputs": [],
   "source": [
    "test_forecast_urls = [link.get_attribute('href') for link in links_2]"
   ]
  },
  {
   "cell_type": "code",
   "execution_count": 283,
   "metadata": {},
   "outputs": [
    {
     "data": {
      "text/plain": [
       "['https://www.nwac.us/avalanche-forecast/avalanche-region-forecast/5397/cascade-west-stevens-pass/',\n",
       " 'https://www.nwac.us/avalanche-forecast/avalanche-region-forecast/5398/cascade-east-north/',\n",
       " 'https://www.nwac.us/avalanche-forecast/avalanche-region-forecast/5399/cascade-east-central/']"
      ]
     },
     "execution_count": 283,
     "metadata": {},
     "output_type": "execute_result"
    }
   ],
   "source": [
    "test_forecast_urls"
   ]
  },
  {
   "cell_type": "code",
   "execution_count": null,
   "metadata": {},
   "outputs": [],
   "source": [
    "browser = Chrome()\n",
    "forecast_urls = []\n",
    "for url in link_urls:\n",
    "    browser.get(url)\n",
    "    links = browser.find_elements_by_class_name('forecast')\n",
    "    \n",
    "    "
   ]
  },
  {
   "cell_type": "code",
   "execution_count": 147,
   "metadata": {},
   "outputs": [],
   "source": [
    "parents = browser.find_elements_by_css_selector('#main-content > div')"
   ]
  },
  {
   "cell_type": "code",
   "execution_count": 155,
   "metadata": {},
   "outputs": [
    {
     "data": {
      "text/plain": [
       "'Jan. 31, 2019 (Cascade West - North, Cascade West - South, Cascade Pass - Snoq. Pass)'"
      ]
     },
     "execution_count": 155,
     "metadata": {},
     "output_type": "execute_result"
    }
   ],
   "source": [
    "parents[0].text"
   ]
  },
  {
   "cell_type": "code",
   "execution_count": 176,
   "metadata": {},
   "outputs": [],
   "source": [
    "texts = [link.text for link in parents]"
   ]
  },
  {
   "cell_type": "code",
   "execution_count": 143,
   "metadata": {},
   "outputs": [
    {
     "data": {
      "text/plain": [
       "'Jan. 31, 2019'"
      ]
     },
     "execution_count": 143,
     "metadata": {},
     "output_type": "execute_result"
    }
   ],
   "source": [
    "list_as[0].text"
   ]
  },
  {
   "cell_type": "code",
   "execution_count": 171,
   "metadata": {},
   "outputs": [
    {
     "data": {
      "text/plain": [
       "(174, 174)"
      ]
     },
     "execution_count": 171,
     "metadata": {},
     "output_type": "execute_result"
    }
   ],
   "source": [
    "len(list_as),len(parents)"
   ]
  },
  {
   "cell_type": "code",
   "execution_count": 177,
   "metadata": {},
   "outputs": [],
   "source": [
    "df = pd.DataFrame({\n",
    "    'url':hrefs,\n",
    "    'text':texts,\n",
    "    })"
   ]
  },
  {
   "cell_type": "code",
   "execution_count": 178,
   "metadata": {},
   "outputs": [
    {
     "data": {
      "text/html": [
       "<div>\n",
       "<style scoped>\n",
       "    .dataframe tbody tr th:only-of-type {\n",
       "        vertical-align: middle;\n",
       "    }\n",
       "\n",
       "    .dataframe tbody tr th {\n",
       "        vertical-align: top;\n",
       "    }\n",
       "\n",
       "    .dataframe thead th {\n",
       "        text-align: right;\n",
       "    }\n",
       "</style>\n",
       "<table border=\"1\" class=\"dataframe\">\n",
       "  <thead>\n",
       "    <tr style=\"text-align: right;\">\n",
       "      <th></th>\n",
       "      <th>url</th>\n",
       "      <th>text</th>\n",
       "    </tr>\n",
       "  </thead>\n",
       "  <tbody>\n",
       "    <tr>\n",
       "      <th>0</th>\n",
       "      <td>https://www.nwac.us/avalanche-forecast/avalanc...</td>\n",
       "      <td>Jan. 31, 2019 (Cascade West - North, Cascade W...</td>\n",
       "    </tr>\n",
       "    <tr>\n",
       "      <th>1</th>\n",
       "      <td>https://www.nwac.us/avalanche-forecast/avalanc...</td>\n",
       "      <td>Jan. 31, 2019 (Cascade Pass - Stevens Pass, Ca...</td>\n",
       "    </tr>\n",
       "    <tr>\n",
       "      <th>2</th>\n",
       "      <td>https://www.nwac.us/avalanche-forecast/avalanc...</td>\n",
       "      <td>Jan. 31, 2019 (Olympics, Cascade West - Centra...</td>\n",
       "    </tr>\n",
       "    <tr>\n",
       "      <th>3</th>\n",
       "      <td>https://www.nwac.us/avalanche-forecast/avalanc...</td>\n",
       "      <td>Jan. 30, 2019 (Cascade East - South)</td>\n",
       "    </tr>\n",
       "    <tr>\n",
       "      <th>4</th>\n",
       "      <td>https://www.nwac.us/avalanche-forecast/avalanc...</td>\n",
       "      <td>Jan. 30, 2019 (Olympics)</td>\n",
       "    </tr>\n",
       "  </tbody>\n",
       "</table>\n",
       "</div>"
      ],
      "text/plain": [
       "                                                 url  \\\n",
       "0  https://www.nwac.us/avalanche-forecast/avalanc...   \n",
       "1  https://www.nwac.us/avalanche-forecast/avalanc...   \n",
       "2  https://www.nwac.us/avalanche-forecast/avalanc...   \n",
       "3  https://www.nwac.us/avalanche-forecast/avalanc...   \n",
       "4  https://www.nwac.us/avalanche-forecast/avalanc...   \n",
       "\n",
       "                                                text  \n",
       "0  Jan. 31, 2019 (Cascade West - North, Cascade W...  \n",
       "1  Jan. 31, 2019 (Cascade Pass - Stevens Pass, Ca...  \n",
       "2  Jan. 31, 2019 (Olympics, Cascade West - Centra...  \n",
       "3               Jan. 30, 2019 (Cascade East - South)  \n",
       "4                           Jan. 30, 2019 (Olympics)  "
      ]
     },
     "execution_count": 178,
     "metadata": {},
     "output_type": "execute_result"
    }
   ],
   "source": [
    "df.head()"
   ]
  },
  {
   "cell_type": "code",
   "execution_count": 187,
   "metadata": {},
   "outputs": [
    {
     "data": {
      "text/plain": [
       "(35, 2)"
      ]
     },
     "execution_count": 187,
     "metadata": {},
     "output_type": "execute_result"
    }
   ],
   "source": [
    "stevens_pass_links = df.loc[df['text'].str.contains('Stevens') ]\n",
    "stevens_pass_links.shape"
   ]
  },
  {
   "cell_type": "markdown",
   "metadata": {},
   "source": [
    "# with Anna's awesome help,  I now have a list of the urls. but now need to go a level deeper"
   ]
  },
  {
   "cell_type": "code",
   "execution_count": 188,
   "metadata": {},
   "outputs": [],
   "source": [
    "stevens_pass_urls = stevens_pass_links['url']"
   ]
  },
  {
   "cell_type": "code",
   "execution_count": 192,
   "metadata": {},
   "outputs": [],
   "source": [
    "stevens_pass = list(stevens_pass_urls)"
   ]
  },
  {
   "cell_type": "code",
   "execution_count": null,
   "metadata": {},
   "outputs": [],
   "source": [
    "for url in stevens_pass:"
   ]
  },
  {
   "cell_type": "code",
   "execution_count": 213,
   "metadata": {},
   "outputs": [],
   "source": [
    "browser2 = Chrome()"
   ]
  },
  {
   "cell_type": "code",
   "execution_count": 222,
   "metadata": {},
   "outputs": [],
   "source": [
    "url = 'https://www.nwac.us/avalanche-forecast/avalanche-forecast/1318/'"
   ]
  },
  {
   "cell_type": "code",
   "execution_count": 223,
   "metadata": {},
   "outputs": [],
   "source": [
    "browser2.get(url)"
   ]
  },
  {
   "cell_type": "code",
   "execution_count": 244,
   "metadata": {},
   "outputs": [],
   "source": [
    "links_2 = browser2.find_elements_by_class_name('forecast')"
   ]
  },
  {
   "cell_type": "code",
   "execution_count": 246,
   "metadata": {},
   "outputs": [
    {
     "data": {
      "text/plain": [
       "3"
      ]
     },
     "execution_count": 246,
     "metadata": {},
     "output_type": "execute_result"
    }
   ],
   "source": [
    "len(links_2)"
   ]
  },
  {
   "cell_type": "code",
   "execution_count": 249,
   "metadata": {},
   "outputs": [
    {
     "data": {
      "text/plain": [
       "'https://www.nwac.us/avalanche-forecast/avalanche-region-forecast/5397/cascade-west-stevens-pass/'"
      ]
     },
     "execution_count": 249,
     "metadata": {},
     "output_type": "execute_result"
    }
   ],
   "source": [
    "links_2[0].get_attribute('href')"
   ]
  },
  {
   "cell_type": "code",
   "execution_count": 251,
   "metadata": {},
   "outputs": [],
   "source": [
    "titles_2 = browser2.find_elements_by_class_name('text')"
   ]
  },
  {
   "cell_type": "code",
   "execution_count": 253,
   "metadata": {},
   "outputs": [
    {
     "data": {
      "text/plain": [
       "'Stevens Pass'"
      ]
     },
     "execution_count": 253,
     "metadata": {},
     "output_type": "execute_result"
    }
   ],
   "source": [
    "titles_2[0].text"
   ]
  },
  {
   "cell_type": "code",
   "execution_count": 254,
   "metadata": {},
   "outputs": [],
   "source": [
    "urls_2 = [link.get_attribute('href') for link in links_2]"
   ]
  },
  {
   "cell_type": "code",
   "execution_count": 256,
   "metadata": {},
   "outputs": [],
   "source": [
    "texts_2 = [link.text for link in titles_2]"
   ]
  },
  {
   "cell_type": "code",
   "execution_count": 258,
   "metadata": {},
   "outputs": [],
   "source": [
    "df2 = pd.DataFrame({\n",
    "    'url':urls_2,\n",
    "    'text':texts_2,\n",
    "    })"
   ]
  },
  {
   "cell_type": "code",
   "execution_count": 259,
   "metadata": {},
   "outputs": [
    {
     "data": {
      "text/html": [
       "<div>\n",
       "<style scoped>\n",
       "    .dataframe tbody tr th:only-of-type {\n",
       "        vertical-align: middle;\n",
       "    }\n",
       "\n",
       "    .dataframe tbody tr th {\n",
       "        vertical-align: top;\n",
       "    }\n",
       "\n",
       "    .dataframe thead th {\n",
       "        text-align: right;\n",
       "    }\n",
       "</style>\n",
       "<table border=\"1\" class=\"dataframe\">\n",
       "  <thead>\n",
       "    <tr style=\"text-align: right;\">\n",
       "      <th></th>\n",
       "      <th>url</th>\n",
       "      <th>text</th>\n",
       "    </tr>\n",
       "  </thead>\n",
       "  <tbody>\n",
       "    <tr>\n",
       "      <th>0</th>\n",
       "      <td>https://www.nwac.us/avalanche-forecast/avalanc...</td>\n",
       "      <td>Stevens Pass</td>\n",
       "    </tr>\n",
       "    <tr>\n",
       "      <th>1</th>\n",
       "      <td>https://www.nwac.us/avalanche-forecast/avalanc...</td>\n",
       "      <td>East Slopes North - Canadian Border to Lake Ch...</td>\n",
       "    </tr>\n",
       "    <tr>\n",
       "      <th>2</th>\n",
       "      <td>https://www.nwac.us/avalanche-forecast/avalanc...</td>\n",
       "      <td>East Slopes Central - Lake Chelan to South of ...</td>\n",
       "    </tr>\n",
       "  </tbody>\n",
       "</table>\n",
       "</div>"
      ],
      "text/plain": [
       "                                                 url  \\\n",
       "0  https://www.nwac.us/avalanche-forecast/avalanc...   \n",
       "1  https://www.nwac.us/avalanche-forecast/avalanc...   \n",
       "2  https://www.nwac.us/avalanche-forecast/avalanc...   \n",
       "\n",
       "                                                text  \n",
       "0                                       Stevens Pass  \n",
       "1  East Slopes North - Canadian Border to Lake Ch...  \n",
       "2  East Slopes Central - Lake Chelan to South of ...  "
      ]
     },
     "execution_count": 259,
     "metadata": {},
     "output_type": "execute_result"
    }
   ],
   "source": [
    "df2"
   ]
  },
  {
   "cell_type": "code",
   "execution_count": 260,
   "metadata": {},
   "outputs": [
    {
     "data": {
      "text/html": [
       "<div>\n",
       "<style scoped>\n",
       "    .dataframe tbody tr th:only-of-type {\n",
       "        vertical-align: middle;\n",
       "    }\n",
       "\n",
       "    .dataframe tbody tr th {\n",
       "        vertical-align: top;\n",
       "    }\n",
       "\n",
       "    .dataframe thead th {\n",
       "        text-align: right;\n",
       "    }\n",
       "</style>\n",
       "<table border=\"1\" class=\"dataframe\">\n",
       "  <thead>\n",
       "    <tr style=\"text-align: right;\">\n",
       "      <th></th>\n",
       "      <th>url</th>\n",
       "      <th>text</th>\n",
       "    </tr>\n",
       "  </thead>\n",
       "  <tbody>\n",
       "    <tr>\n",
       "      <th>0</th>\n",
       "      <td>https://www.nwac.us/avalanche-forecast/avalanc...</td>\n",
       "      <td>Stevens Pass</td>\n",
       "    </tr>\n",
       "  </tbody>\n",
       "</table>\n",
       "</div>"
      ],
      "text/plain": [
       "                                                 url          text\n",
       "0  https://www.nwac.us/avalanche-forecast/avalanc...  Stevens Pass"
      ]
     },
     "execution_count": 260,
     "metadata": {},
     "output_type": "execute_result"
    }
   ],
   "source": [
    "df2.loc[df2['text'].str.contains('Stevens')]"
   ]
  },
  {
   "cell_type": "markdown",
   "metadata": {},
   "source": [
    "## sweet. I now have the url I actually want, now to generate the list of urls for the month of January"
   ]
  },
  {
   "cell_type": "code",
   "execution_count": null,
   "metadata": {},
   "outputs": [],
   "source": []
  },
  {
   "cell_type": "code",
   "execution_count": null,
   "metadata": {},
   "outputs": [],
   "source": []
  },
  {
   "cell_type": "code",
   "execution_count": null,
   "metadata": {},
   "outputs": [],
   "source": []
  },
  {
   "cell_type": "code",
   "execution_count": null,
   "metadata": {},
   "outputs": [],
   "source": []
  },
  {
   "cell_type": "code",
   "execution_count": null,
   "metadata": {},
   "outputs": [],
   "source": []
  },
  {
   "cell_type": "code",
   "execution_count": 102,
   "metadata": {},
   "outputs": [],
   "source": [
    "divs_with_stevens = [div for div in browser.find_elements_by_css_selector('div')]"
   ]
  },
  {
   "cell_type": "code",
   "execution_count": 110,
   "metadata": {},
   "outputs": [
    {
     "data": {
      "text/plain": [
       "'Jan. 19, 2019 (Olympics, Cascade East - South)'"
      ]
     },
     "execution_count": 110,
     "metadata": {},
     "output_type": "execute_result"
    }
   ],
   "source": [
    "divs_with_stevens[101].text"
   ]
  },
  {
   "cell_type": "code",
   "execution_count": null,
   "metadata": {},
   "outputs": [],
   "source": []
  },
  {
   "cell_type": "code",
   "execution_count": 58,
   "metadata": {},
   "outputs": [],
   "source": [
    "def scrape_url(url, browser=browser, delay=5):\n",
    "    \"\"\"Returns the HTML source from a URL.\"\"\"\n",
    "    browser.get(url)\n",
    "    time.sleep(delay)\n",
    "    html = browser.page_source\n",
    "    return html"
   ]
  },
  {
   "cell_type": "code",
   "execution_count": 59,
   "metadata": {},
   "outputs": [],
   "source": [
    "list_page =scrape_url(url)"
   ]
  },
  {
   "cell_type": "code",
   "execution_count": 60,
   "metadata": {},
   "outputs": [],
   "source": [
    "soup = BeautifulSoup(list_page,'lxml')"
   ]
  },
  {
   "cell_type": "code",
   "execution_count": 74,
   "metadata": {},
   "outputs": [],
   "source": [
    "links = soup.select('a')"
   ]
  },
  {
   "cell_type": "code",
   "execution_count": 82,
   "metadata": {},
   "outputs": [
    {
     "data": {
      "text/plain": [
       "{'href': '/data-portal/graph/17/', 'class': ['station-link']}"
      ]
     },
     "execution_count": 82,
     "metadata": {},
     "output_type": "execute_result"
    }
   ],
   "source": [
    "links[260].attrs\n"
   ]
  },
  {
   "cell_type": "code",
   "execution_count": 73,
   "metadata": {},
   "outputs": [
    {
     "ename": "AttributeError",
     "evalue": "'list' object has no attribute 'href'",
     "output_type": "error",
     "traceback": [
      "\u001b[0;31m---------------------------------------------------------------------------\u001b[0m",
      "\u001b[0;31mAttributeError\u001b[0m                            Traceback (most recent call last)",
      "\u001b[0;32m<ipython-input-73-6a129930f1c1>\u001b[0m in \u001b[0;36m<module>\u001b[0;34m\u001b[0m\n\u001b[0;32m----> 1\u001b[0;31m \u001b[0mlinks\u001b[0m\u001b[0;34m.\u001b[0m\u001b[0mhref\u001b[0m\u001b[0;34m\u001b[0m\u001b[0;34m\u001b[0m\u001b[0m\n\u001b[0m",
      "\u001b[0;31mAttributeError\u001b[0m: 'list' object has no attribute 'href'"
     ]
    }
   ],
   "source": [
    "links['href"
   ]
  },
  {
   "cell_type": "code",
   "execution_count": 63,
   "metadata": {},
   "outputs": [],
   "source": [
    "link_names = [link for link in links]\n",
    "link_text = [link.text for link in links]\n",
    "link_tuples = zip(link_names,link_text)"
   ]
  },
  {
   "cell_type": "code",
   "execution_count": 64,
   "metadata": {},
   "outputs": [
    {
     "data": {
      "text/html": [
       "<div>\n",
       "<style scoped>\n",
       "    .dataframe tbody tr th:only-of-type {\n",
       "        vertical-align: middle;\n",
       "    }\n",
       "\n",
       "    .dataframe tbody tr th {\n",
       "        vertical-align: top;\n",
       "    }\n",
       "\n",
       "    .dataframe thead th {\n",
       "        text-align: right;\n",
       "    }\n",
       "</style>\n",
       "<table border=\"1\" class=\"dataframe\">\n",
       "  <thead>\n",
       "    <tr style=\"text-align: right;\">\n",
       "      <th></th>\n",
       "      <th>link_name</th>\n",
       "      <th>link_text</th>\n",
       "    </tr>\n",
       "  </thead>\n",
       "  <tbody>\n",
       "    <tr>\n",
       "      <th>0</th>\n",
       "      <td>&lt;a href=\"/\"&gt;\n",
       "&lt;img alt=\"Northwest Avalanche Cen...</td>\n",
       "      <td>\\n\\nNorthwest Avalanche Center\\n</td>\n",
       "    </tr>\n",
       "    <tr>\n",
       "      <th>1</th>\n",
       "      <td>&lt;a class=\"socicon facebook\" data-original-titl...</td>\n",
       "      <td></td>\n",
       "    </tr>\n",
       "    <tr>\n",
       "      <th>2</th>\n",
       "      <td>&lt;a class=\"socicon instagram\" data-original-tit...</td>\n",
       "      <td></td>\n",
       "    </tr>\n",
       "    <tr>\n",
       "      <th>3</th>\n",
       "      <td>&lt;a class=\"socicon twitterbird\" data-original-t...</td>\n",
       "      <td></td>\n",
       "    </tr>\n",
       "    <tr>\n",
       "      <th>4</th>\n",
       "      <td>&lt;a class=\"socicon youtube\" data-original-title...</td>\n",
       "      <td></td>\n",
       "    </tr>\n",
       "    <tr>\n",
       "      <th>5</th>\n",
       "      <td>&lt;a class=\"\" href=\"#\"&gt;&lt;span&gt;&lt;/span&gt;menu&lt;/a&gt;</td>\n",
       "      <td>menu</td>\n",
       "    </tr>\n",
       "    <tr>\n",
       "      <th>6</th>\n",
       "      <td>&lt;a class=\"dcjq-parent\" href=\"#\"&gt;Forecasts&lt;i&gt;&lt;/...</td>\n",
       "      <td>Forecasts</td>\n",
       "    </tr>\n",
       "    <tr>\n",
       "      <th>7</th>\n",
       "      <td>&lt;a href=\"/mountain-weather-forecast/current/\"&gt;...</td>\n",
       "      <td>Mountain Weather</td>\n",
       "    </tr>\n",
       "    <tr>\n",
       "      <th>8</th>\n",
       "      <td>&lt;a href=\"/avalanche-forecast/current/\"&gt;Avalanc...</td>\n",
       "      <td>Avalanche</td>\n",
       "    </tr>\n",
       "    <tr>\n",
       "      <th>9</th>\n",
       "      <td>&lt;a href=\"/mountain-weather-forecast/archives/\"...</td>\n",
       "      <td>Archived Weather</td>\n",
       "    </tr>\n",
       "    <tr>\n",
       "      <th>10</th>\n",
       "      <td>&lt;a href=\"/avalanche-forecast/archives/\"&gt;Archiv...</td>\n",
       "      <td>Archived Avalanches</td>\n",
       "    </tr>\n",
       "    <tr>\n",
       "      <th>11</th>\n",
       "      <td>&lt;a href=\"/about-forecasts/\"&gt;About the Forecast...</td>\n",
       "      <td>About the Forecasts</td>\n",
       "    </tr>\n",
       "    <tr>\n",
       "      <th>12</th>\n",
       "      <td>&lt;a class=\"dcjq-parent\" href=\"#\"&gt;Observations&lt;i...</td>\n",
       "      <td>Observations</td>\n",
       "    </tr>\n",
       "    <tr>\n",
       "      <th>13</th>\n",
       "      <td>&lt;a href=\"/weatherdata/map/\"&gt;Weather Station Ma...</td>\n",
       "      <td>Weather Station Map</td>\n",
       "    </tr>\n",
       "    <tr>\n",
       "      <th>14</th>\n",
       "      <td>&lt;a href=\"/weatherdata/\"&gt;Weather Station List&lt;/a&gt;</td>\n",
       "      <td>Weather Station List</td>\n",
       "    </tr>\n",
       "    <tr>\n",
       "      <th>15</th>\n",
       "      <td>&lt;a class=\"dcjq-parent\" href=\"#\"&gt;Weather Statio...</td>\n",
       "      <td>Weather Station Graphs</td>\n",
       "    </tr>\n",
       "    <tr>\n",
       "      <th>16</th>\n",
       "      <td>&lt;a class=\"dcjq-parent\" href=\"#\"&gt;Olympics&lt;i&gt;&lt;/i...</td>\n",
       "      <td>Olympics</td>\n",
       "    </tr>\n",
       "    <tr>\n",
       "      <th>17</th>\n",
       "      <td>&lt;a class=\"station-link\" href=\"/data-portal/gra...</td>\n",
       "      <td>Hurricane Ridge</td>\n",
       "    </tr>\n",
       "    <tr>\n",
       "      <th>18</th>\n",
       "      <td>&lt;a class=\"dcjq-parent\" href=\"#\"&gt;Mt Baker&lt;i&gt;&lt;/i...</td>\n",
       "      <td>Mt Baker</td>\n",
       "    </tr>\n",
       "    <tr>\n",
       "      <th>19</th>\n",
       "      <td>&lt;a class=\"station-link\" href=\"/data-portal/gra...</td>\n",
       "      <td>Mt. Baker - Heather Meadows</td>\n",
       "    </tr>\n",
       "    <tr>\n",
       "      <th>20</th>\n",
       "      <td>&lt;a class=\"station-link\" href=\"/data-portal/gra...</td>\n",
       "      <td>Mt. Baker - Pan Dome</td>\n",
       "    </tr>\n",
       "    <tr>\n",
       "      <th>21</th>\n",
       "      <td>&lt;a class=\"dcjq-parent\" href=\"#\"&gt;Stevens Pass&lt;i...</td>\n",
       "      <td>Stevens Pass</td>\n",
       "    </tr>\n",
       "    <tr>\n",
       "      <th>22</th>\n",
       "      <td>&lt;a class=\"station-link\" href=\"/data-portal/gra...</td>\n",
       "      <td>Stevens Pass - Schmidt Haus</td>\n",
       "    </tr>\n",
       "    <tr>\n",
       "      <th>23</th>\n",
       "      <td>&lt;a class=\"station-link\" href=\"/data-portal/gra...</td>\n",
       "      <td>Stevens Pass - Grace Lakes</td>\n",
       "    </tr>\n",
       "    <tr>\n",
       "      <th>24</th>\n",
       "      <td>&lt;a class=\"station-link\" href=\"/data-portal/gra...</td>\n",
       "      <td>Stevens Pass - Old Faithful</td>\n",
       "    </tr>\n",
       "    <tr>\n",
       "      <th>25</th>\n",
       "      <td>&lt;a class=\"station-link\" href=\"/data-portal/gra...</td>\n",
       "      <td>Stevens Pass - Brooks Precipitation</td>\n",
       "    </tr>\n",
       "    <tr>\n",
       "      <th>26</th>\n",
       "      <td>&lt;a class=\"station-link\" href=\"/data-portal/gra...</td>\n",
       "      <td>Stevens Pass - Brooks Wind (Retired 2019)</td>\n",
       "    </tr>\n",
       "    <tr>\n",
       "      <th>27</th>\n",
       "      <td>&lt;a class=\"station-link\" href=\"/data-portal/gra...</td>\n",
       "      <td>Stevens Pass - Skyline</td>\n",
       "    </tr>\n",
       "    <tr>\n",
       "      <th>28</th>\n",
       "      <td>&lt;a class=\"station-link\" href=\"/data-portal/gra...</td>\n",
       "      <td>Stevens Pass - Tye Mill</td>\n",
       "    </tr>\n",
       "    <tr>\n",
       "      <th>29</th>\n",
       "      <td>&lt;a class=\"station-link\" href=\"/data-portal/gra...</td>\n",
       "      <td>Berne</td>\n",
       "    </tr>\n",
       "    <tr>\n",
       "      <th>...</th>\n",
       "      <td>...</td>\n",
       "      <td>...</td>\n",
       "    </tr>\n",
       "    <tr>\n",
       "      <th>530</th>\n",
       "      <td>&lt;a href=\"/avalanche-forecast/avalanche-forecas...</td>\n",
       "      <td>Jan. 4, 2019</td>\n",
       "    </tr>\n",
       "    <tr>\n",
       "      <th>531</th>\n",
       "      <td>&lt;a href=\"/avalanche-forecast/avalanche-forecas...</td>\n",
       "      <td>Jan. 4, 2019</td>\n",
       "    </tr>\n",
       "    <tr>\n",
       "      <th>532</th>\n",
       "      <td>&lt;a href=\"/avalanche-forecast/avalanche-forecas...</td>\n",
       "      <td>Jan. 4, 2019</td>\n",
       "    </tr>\n",
       "    <tr>\n",
       "      <th>533</th>\n",
       "      <td>&lt;a href=\"/avalanche-forecast/avalanche-forecas...</td>\n",
       "      <td>Jan. 4, 2019</td>\n",
       "    </tr>\n",
       "    <tr>\n",
       "      <th>534</th>\n",
       "      <td>&lt;a href=\"/avalanche-forecast/avalanche-forecas...</td>\n",
       "      <td>Jan. 4, 2019</td>\n",
       "    </tr>\n",
       "    <tr>\n",
       "      <th>535</th>\n",
       "      <td>&lt;a href=\"/avalanche-forecast/avalanche-forecas...</td>\n",
       "      <td>Jan. 3, 2019</td>\n",
       "    </tr>\n",
       "    <tr>\n",
       "      <th>536</th>\n",
       "      <td>&lt;a href=\"/avalanche-forecast/avalanche-forecas...</td>\n",
       "      <td>Jan. 3, 2019</td>\n",
       "    </tr>\n",
       "    <tr>\n",
       "      <th>537</th>\n",
       "      <td>&lt;a href=\"/avalanche-forecast/avalanche-forecas...</td>\n",
       "      <td>Jan. 3, 2019</td>\n",
       "    </tr>\n",
       "    <tr>\n",
       "      <th>538</th>\n",
       "      <td>&lt;a href=\"/avalanche-forecast/avalanche-forecas...</td>\n",
       "      <td>Jan. 3, 2019</td>\n",
       "    </tr>\n",
       "    <tr>\n",
       "      <th>539</th>\n",
       "      <td>&lt;a href=\"/avalanche-forecast/avalanche-forecas...</td>\n",
       "      <td>Jan. 3, 2019</td>\n",
       "    </tr>\n",
       "    <tr>\n",
       "      <th>540</th>\n",
       "      <td>&lt;a href=\"/avalanche-forecast/avalanche-forecas...</td>\n",
       "      <td>Jan. 2, 2019</td>\n",
       "    </tr>\n",
       "    <tr>\n",
       "      <th>541</th>\n",
       "      <td>&lt;a href=\"/avalanche-forecast/avalanche-forecas...</td>\n",
       "      <td>Jan. 2, 2019</td>\n",
       "    </tr>\n",
       "    <tr>\n",
       "      <th>542</th>\n",
       "      <td>&lt;a href=\"/avalanche-forecast/avalanche-forecas...</td>\n",
       "      <td>Jan. 2, 2019</td>\n",
       "    </tr>\n",
       "    <tr>\n",
       "      <th>543</th>\n",
       "      <td>&lt;a href=\"/avalanche-forecast/avalanche-forecas...</td>\n",
       "      <td>Jan. 2, 2019</td>\n",
       "    </tr>\n",
       "    <tr>\n",
       "      <th>544</th>\n",
       "      <td>&lt;a href=\"/avalanche-forecast/avalanche-forecas...</td>\n",
       "      <td>Jan. 2, 2019</td>\n",
       "    </tr>\n",
       "    <tr>\n",
       "      <th>545</th>\n",
       "      <td>&lt;a href=\"/avalanche-forecast/avalanche-forecas...</td>\n",
       "      <td>Jan. 2, 2019</td>\n",
       "    </tr>\n",
       "    <tr>\n",
       "      <th>546</th>\n",
       "      <td>&lt;a href=\"/avalanche-forecast/avalanche-forecas...</td>\n",
       "      <td>Jan. 2, 2019</td>\n",
       "    </tr>\n",
       "    <tr>\n",
       "      <th>547</th>\n",
       "      <td>&lt;a href=\"/avalanche-forecast/avalanche-forecas...</td>\n",
       "      <td>Jan. 2, 2019</td>\n",
       "    </tr>\n",
       "    <tr>\n",
       "      <th>548</th>\n",
       "      <td>&lt;a href=\"/avalanche-forecast/avalanche-forecas...</td>\n",
       "      <td>Jan. 1, 2019</td>\n",
       "    </tr>\n",
       "    <tr>\n",
       "      <th>549</th>\n",
       "      <td>&lt;a href=\"/avalanche-forecast/avalanche-forecas...</td>\n",
       "      <td>Jan. 1, 2019</td>\n",
       "    </tr>\n",
       "    <tr>\n",
       "      <th>550</th>\n",
       "      <td>&lt;a href=\"/avalanche-forecast/avalanche-forecas...</td>\n",
       "      <td>Jan. 1, 2019</td>\n",
       "    </tr>\n",
       "    <tr>\n",
       "      <th>551</th>\n",
       "      <td>&lt;a href=\"/about/contact-us/\"&gt;Contact Informati...</td>\n",
       "      <td>Contact Information</td>\n",
       "    </tr>\n",
       "    <tr>\n",
       "      <th>552</th>\n",
       "      <td>&lt;a class=\"socicon facebook\" data-original-titl...</td>\n",
       "      <td></td>\n",
       "    </tr>\n",
       "    <tr>\n",
       "      <th>553</th>\n",
       "      <td>&lt;a class=\"socicon instagram\" data-original-tit...</td>\n",
       "      <td></td>\n",
       "    </tr>\n",
       "    <tr>\n",
       "      <th>554</th>\n",
       "      <td>&lt;a class=\"socicon twitterbird\" data-original-t...</td>\n",
       "      <td></td>\n",
       "    </tr>\n",
       "    <tr>\n",
       "      <th>555</th>\n",
       "      <td>&lt;a class=\"socicon youtube\" data-original-title...</td>\n",
       "      <td></td>\n",
       "    </tr>\n",
       "    <tr>\n",
       "      <th>556</th>\n",
       "      <td>&lt;a href=\"http://www.fs.fed.us/\" target=\"_blank...</td>\n",
       "      <td></td>\n",
       "    </tr>\n",
       "    <tr>\n",
       "      <th>557</th>\n",
       "      <td>&lt;a href=\"/admin/\"&gt;Admin Log In&lt;/a&gt;</td>\n",
       "      <td>Admin Log In</td>\n",
       "    </tr>\n",
       "    <tr>\n",
       "      <th>558</th>\n",
       "      <td>&lt;a href=\"/privacy-policy/\"&gt;NWAC Privacy Policy...</td>\n",
       "      <td>NWAC Privacy Policy</td>\n",
       "    </tr>\n",
       "    <tr>\n",
       "      <th>559</th>\n",
       "      <td>&lt;a href=\"/terms-of-use/\"&gt;NWAC Terms of Use&lt;/a&gt;</td>\n",
       "      <td>NWAC Terms of Use</td>\n",
       "    </tr>\n",
       "  </tbody>\n",
       "</table>\n",
       "<p>560 rows × 2 columns</p>\n",
       "</div>"
      ],
      "text/plain": [
       "                                             link_name  \\\n",
       "0    <a href=\"/\">\n",
       "<img alt=\"Northwest Avalanche Cen...   \n",
       "1    <a class=\"socicon facebook\" data-original-titl...   \n",
       "2    <a class=\"socicon instagram\" data-original-tit...   \n",
       "3    <a class=\"socicon twitterbird\" data-original-t...   \n",
       "4    <a class=\"socicon youtube\" data-original-title...   \n",
       "5           <a class=\"\" href=\"#\"><span></span>menu</a>   \n",
       "6    <a class=\"dcjq-parent\" href=\"#\">Forecasts<i></...   \n",
       "7    <a href=\"/mountain-weather-forecast/current/\">...   \n",
       "8    <a href=\"/avalanche-forecast/current/\">Avalanc...   \n",
       "9    <a href=\"/mountain-weather-forecast/archives/\"...   \n",
       "10   <a href=\"/avalanche-forecast/archives/\">Archiv...   \n",
       "11   <a href=\"/about-forecasts/\">About the Forecast...   \n",
       "12   <a class=\"dcjq-parent\" href=\"#\">Observations<i...   \n",
       "13   <a href=\"/weatherdata/map/\">Weather Station Ma...   \n",
       "14    <a href=\"/weatherdata/\">Weather Station List</a>   \n",
       "15   <a class=\"dcjq-parent\" href=\"#\">Weather Statio...   \n",
       "16   <a class=\"dcjq-parent\" href=\"#\">Olympics<i></i...   \n",
       "17   <a class=\"station-link\" href=\"/data-portal/gra...   \n",
       "18   <a class=\"dcjq-parent\" href=\"#\">Mt Baker<i></i...   \n",
       "19   <a class=\"station-link\" href=\"/data-portal/gra...   \n",
       "20   <a class=\"station-link\" href=\"/data-portal/gra...   \n",
       "21   <a class=\"dcjq-parent\" href=\"#\">Stevens Pass<i...   \n",
       "22   <a class=\"station-link\" href=\"/data-portal/gra...   \n",
       "23   <a class=\"station-link\" href=\"/data-portal/gra...   \n",
       "24   <a class=\"station-link\" href=\"/data-portal/gra...   \n",
       "25   <a class=\"station-link\" href=\"/data-portal/gra...   \n",
       "26   <a class=\"station-link\" href=\"/data-portal/gra...   \n",
       "27   <a class=\"station-link\" href=\"/data-portal/gra...   \n",
       "28   <a class=\"station-link\" href=\"/data-portal/gra...   \n",
       "29   <a class=\"station-link\" href=\"/data-portal/gra...   \n",
       "..                                                 ...   \n",
       "530  <a href=\"/avalanche-forecast/avalanche-forecas...   \n",
       "531  <a href=\"/avalanche-forecast/avalanche-forecas...   \n",
       "532  <a href=\"/avalanche-forecast/avalanche-forecas...   \n",
       "533  <a href=\"/avalanche-forecast/avalanche-forecas...   \n",
       "534  <a href=\"/avalanche-forecast/avalanche-forecas...   \n",
       "535  <a href=\"/avalanche-forecast/avalanche-forecas...   \n",
       "536  <a href=\"/avalanche-forecast/avalanche-forecas...   \n",
       "537  <a href=\"/avalanche-forecast/avalanche-forecas...   \n",
       "538  <a href=\"/avalanche-forecast/avalanche-forecas...   \n",
       "539  <a href=\"/avalanche-forecast/avalanche-forecas...   \n",
       "540  <a href=\"/avalanche-forecast/avalanche-forecas...   \n",
       "541  <a href=\"/avalanche-forecast/avalanche-forecas...   \n",
       "542  <a href=\"/avalanche-forecast/avalanche-forecas...   \n",
       "543  <a href=\"/avalanche-forecast/avalanche-forecas...   \n",
       "544  <a href=\"/avalanche-forecast/avalanche-forecas...   \n",
       "545  <a href=\"/avalanche-forecast/avalanche-forecas...   \n",
       "546  <a href=\"/avalanche-forecast/avalanche-forecas...   \n",
       "547  <a href=\"/avalanche-forecast/avalanche-forecas...   \n",
       "548  <a href=\"/avalanche-forecast/avalanche-forecas...   \n",
       "549  <a href=\"/avalanche-forecast/avalanche-forecas...   \n",
       "550  <a href=\"/avalanche-forecast/avalanche-forecas...   \n",
       "551  <a href=\"/about/contact-us/\">Contact Informati...   \n",
       "552  <a class=\"socicon facebook\" data-original-titl...   \n",
       "553  <a class=\"socicon instagram\" data-original-tit...   \n",
       "554  <a class=\"socicon twitterbird\" data-original-t...   \n",
       "555  <a class=\"socicon youtube\" data-original-title...   \n",
       "556  <a href=\"http://www.fs.fed.us/\" target=\"_blank...   \n",
       "557                 <a href=\"/admin/\">Admin Log In</a>   \n",
       "558  <a href=\"/privacy-policy/\">NWAC Privacy Policy...   \n",
       "559     <a href=\"/terms-of-use/\">NWAC Terms of Use</a>   \n",
       "\n",
       "                                     link_text  \n",
       "0             \\n\\nNorthwest Avalanche Center\\n  \n",
       "1                                               \n",
       "2                                               \n",
       "3                                               \n",
       "4                                               \n",
       "5                                         menu  \n",
       "6                                    Forecasts  \n",
       "7                             Mountain Weather  \n",
       "8                                    Avalanche  \n",
       "9                             Archived Weather  \n",
       "10                         Archived Avalanches  \n",
       "11                         About the Forecasts  \n",
       "12                                Observations  \n",
       "13                         Weather Station Map  \n",
       "14                        Weather Station List  \n",
       "15                      Weather Station Graphs  \n",
       "16                                    Olympics  \n",
       "17                             Hurricane Ridge  \n",
       "18                                    Mt Baker  \n",
       "19                 Mt. Baker - Heather Meadows  \n",
       "20                        Mt. Baker - Pan Dome  \n",
       "21                                Stevens Pass  \n",
       "22                 Stevens Pass - Schmidt Haus  \n",
       "23                  Stevens Pass - Grace Lakes  \n",
       "24                 Stevens Pass - Old Faithful  \n",
       "25         Stevens Pass - Brooks Precipitation  \n",
       "26   Stevens Pass - Brooks Wind (Retired 2019)  \n",
       "27                      Stevens Pass - Skyline  \n",
       "28                     Stevens Pass - Tye Mill  \n",
       "29                                       Berne  \n",
       "..                                         ...  \n",
       "530                               Jan. 4, 2019  \n",
       "531                               Jan. 4, 2019  \n",
       "532                               Jan. 4, 2019  \n",
       "533                               Jan. 4, 2019  \n",
       "534                               Jan. 4, 2019  \n",
       "535                               Jan. 3, 2019  \n",
       "536                               Jan. 3, 2019  \n",
       "537                               Jan. 3, 2019  \n",
       "538                               Jan. 3, 2019  \n",
       "539                               Jan. 3, 2019  \n",
       "540                               Jan. 2, 2019  \n",
       "541                               Jan. 2, 2019  \n",
       "542                               Jan. 2, 2019  \n",
       "543                               Jan. 2, 2019  \n",
       "544                               Jan. 2, 2019  \n",
       "545                               Jan. 2, 2019  \n",
       "546                               Jan. 2, 2019  \n",
       "547                               Jan. 2, 2019  \n",
       "548                               Jan. 1, 2019  \n",
       "549                               Jan. 1, 2019  \n",
       "550                               Jan. 1, 2019  \n",
       "551                        Contact Information  \n",
       "552                                             \n",
       "553                                             \n",
       "554                                             \n",
       "555                                             \n",
       "556                                             \n",
       "557                               Admin Log In  \n",
       "558                        NWAC Privacy Policy  \n",
       "559                          NWAC Terms of Use  \n",
       "\n",
       "[560 rows x 2 columns]"
      ]
     },
     "execution_count": 64,
     "metadata": {},
     "output_type": "execute_result"
    }
   ],
   "source": [
    "pd.DataFrame({\n",
    "    'link_name':link_names,\n",
    "    'link_text':link_text,\n",
    "})"
   ]
  },
  {
   "cell_type": "code",
   "execution_count": null,
   "metadata": {},
   "outputs": [],
   "source": []
  }
 ],
 "metadata": {
  "kernelspec": {
   "display_name": "learn-env",
   "language": "python",
   "name": "learn-env"
  },
  "language_info": {
   "codemirror_mode": {
    "name": "ipython",
    "version": 3
   },
   "file_extension": ".py",
   "mimetype": "text/x-python",
   "name": "python",
   "nbconvert_exporter": "python",
   "pygments_lexer": "ipython3",
   "version": "3.7.1"
  }
 },
 "nbformat": 4,
 "nbformat_minor": 2
}
