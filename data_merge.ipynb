{
 "cells": [
  {
   "cell_type": "markdown",
   "metadata": {},
   "source": [
    "### I now have tables of precip, snowfall, snowpack, weather, and avy dangers. now to finally put it all together, hopefully!"
   ]
  },
  {
   "cell_type": "code",
   "execution_count": 22,
   "metadata": {},
   "outputs": [],
   "source": [
    "import pandas as pd\n",
    "import numpy as np\n",
    "import datetime as dt"
   ]
  },
  {
   "cell_type": "markdown",
   "metadata": {},
   "source": [
    "## There are many weather stations across the Steven Pass area. \n",
    "### I will choose the tye-mill station for it is the closest to the Brooks elevation for the precipitaion data from the Brooks station\n",
    "### Therefore, I will be predicting the near treeline avalanche danger"
   ]
  },
  {
   "cell_type": "code",
   "execution_count": 119,
   "metadata": {},
   "outputs": [],
   "source": [
    "tyemill = pd.read_csv(\"csv_files/StevensPass-TyeMill_5180_feet_2019.csv\")"
   ]
  },
  {
   "cell_type": "code",
   "execution_count": 120,
   "metadata": {},
   "outputs": [
    {
     "data": {
      "text/html": [
       "<div>\n",
       "<style scoped>\n",
       "    .dataframe tbody tr th:only-of-type {\n",
       "        vertical-align: middle;\n",
       "    }\n",
       "\n",
       "    .dataframe tbody tr th {\n",
       "        vertical-align: top;\n",
       "    }\n",
       "\n",
       "    .dataframe thead th {\n",
       "        text-align: right;\n",
       "    }\n",
       "</style>\n",
       "<table border=\"1\" class=\"dataframe\">\n",
       "  <thead>\n",
       "    <tr style=\"text-align: right;\">\n",
       "      <th></th>\n",
       "      <th>Date/Time (PST)</th>\n",
       "      <th>Battery Voltage (v)</th>\n",
       "      <th>Temperature (deg F)</th>\n",
       "      <th>Wind Speed Minimum (mph)</th>\n",
       "      <th>Wind Speed Average (mph)</th>\n",
       "      <th>Wind Speed Maximum (mph)</th>\n",
       "      <th>Wind Direction (deg.)</th>\n",
       "    </tr>\n",
       "  </thead>\n",
       "  <tbody>\n",
       "    <tr>\n",
       "      <th>0</th>\n",
       "      <td>2019-05-14 07:00</td>\n",
       "      <td>12.80</td>\n",
       "      <td>37.21</td>\n",
       "      <td>0.000</td>\n",
       "      <td>4.660</td>\n",
       "      <td>20.34</td>\n",
       "      <td>250.3</td>\n",
       "    </tr>\n",
       "    <tr>\n",
       "      <th>1</th>\n",
       "      <td>2019-05-14 06:00</td>\n",
       "      <td>12.84</td>\n",
       "      <td>44.51</td>\n",
       "      <td>0.000</td>\n",
       "      <td>4.046</td>\n",
       "      <td>10.11</td>\n",
       "      <td>278.6</td>\n",
       "    </tr>\n",
       "    <tr>\n",
       "      <th>2</th>\n",
       "      <td>2019-05-14 05:00</td>\n",
       "      <td>12.94</td>\n",
       "      <td>43.41</td>\n",
       "      <td>0.723</td>\n",
       "      <td>7.701</td>\n",
       "      <td>15.02</td>\n",
       "      <td>272.7</td>\n",
       "    </tr>\n",
       "    <tr>\n",
       "      <th>3</th>\n",
       "      <td>2019-05-14 04:00</td>\n",
       "      <td>13.57</td>\n",
       "      <td>43.25</td>\n",
       "      <td>4.340</td>\n",
       "      <td>10.050</td>\n",
       "      <td>18.87</td>\n",
       "      <td>271.9</td>\n",
       "    </tr>\n",
       "    <tr>\n",
       "      <th>4</th>\n",
       "      <td>2019-05-14 03:00</td>\n",
       "      <td>12.64</td>\n",
       "      <td>42.71</td>\n",
       "      <td>3.288</td>\n",
       "      <td>9.440</td>\n",
       "      <td>17.34</td>\n",
       "      <td>275.2</td>\n",
       "    </tr>\n",
       "  </tbody>\n",
       "</table>\n",
       "</div>"
      ],
      "text/plain": [
       "    Date/Time (PST)  Battery Voltage (v)  Temperature (deg F)  \\\n",
       "0  2019-05-14 07:00                12.80                37.21   \n",
       "1  2019-05-14 06:00                12.84                44.51   \n",
       "2  2019-05-14 05:00                12.94                43.41   \n",
       "3  2019-05-14 04:00                13.57                43.25   \n",
       "4  2019-05-14 03:00                12.64                42.71   \n",
       "\n",
       "   Wind Speed Minimum (mph)  Wind Speed Average (mph)  \\\n",
       "0                     0.000                     4.660   \n",
       "1                     0.000                     4.046   \n",
       "2                     0.723                     7.701   \n",
       "3                     4.340                    10.050   \n",
       "4                     3.288                     9.440   \n",
       "\n",
       "   Wind Speed Maximum (mph)  Wind Direction (deg.)  \n",
       "0                     20.34                  250.3  \n",
       "1                     10.11                  278.6  \n",
       "2                     15.02                  272.7  \n",
       "3                     18.87                  271.9  \n",
       "4                     17.34                  275.2  "
      ]
     },
     "execution_count": 120,
     "metadata": {},
     "output_type": "execute_result"
    }
   ],
   "source": [
    "tyemill.head()"
   ]
  },
  {
   "cell_type": "markdown",
   "metadata": {},
   "source": [
    "## I want to extract the date without the time of day so i can match this to my avalanche table"
   ]
  },
  {
   "cell_type": "code",
   "execution_count": 121,
   "metadata": {},
   "outputs": [
    {
     "data": {
      "text/plain": [
       "str"
      ]
     },
     "execution_count": 121,
     "metadata": {},
     "output_type": "execute_result"
    }
   ],
   "source": [
    "type(tyemill['Date/Time (PST)'][0])"
   ]
  },
  {
   "cell_type": "code",
   "execution_count": 122,
   "metadata": {},
   "outputs": [],
   "source": [
    "tyemill['date'] = tyemill['Date/Time (PST)'].apply(lambda x: x.split(' ')[0])"
   ]
  },
  {
   "cell_type": "code",
   "execution_count": 166,
   "metadata": {},
   "outputs": [
    {
     "data": {
      "text/html": [
       "<div>\n",
       "<style scoped>\n",
       "    .dataframe tbody tr th:only-of-type {\n",
       "        vertical-align: middle;\n",
       "    }\n",
       "\n",
       "    .dataframe tbody tr th {\n",
       "        vertical-align: top;\n",
       "    }\n",
       "\n",
       "    .dataframe thead th {\n",
       "        text-align: right;\n",
       "    }\n",
       "</style>\n",
       "<table border=\"1\" class=\"dataframe\">\n",
       "  <thead>\n",
       "    <tr style=\"text-align: right;\">\n",
       "      <th></th>\n",
       "      <th>Date/Time (PST)</th>\n",
       "      <th>Battery Voltage (v)</th>\n",
       "      <th>Temperature (deg F)</th>\n",
       "      <th>Wind Speed Minimum (mph)</th>\n",
       "      <th>Wind Speed Average (mph)</th>\n",
       "      <th>Wind Speed Maximum (mph)</th>\n",
       "      <th>Wind Direction (deg.)</th>\n",
       "      <th>date</th>\n",
       "    </tr>\n",
       "  </thead>\n",
       "  <tbody>\n",
       "    <tr>\n",
       "      <th>0</th>\n",
       "      <td>2019-05-14 07:00:00</td>\n",
       "      <td>12.80</td>\n",
       "      <td>37.21</td>\n",
       "      <td>0.000</td>\n",
       "      <td>4.660</td>\n",
       "      <td>20.34</td>\n",
       "      <td>250.3</td>\n",
       "      <td>2019-05-14</td>\n",
       "    </tr>\n",
       "    <tr>\n",
       "      <th>1</th>\n",
       "      <td>2019-05-14 06:00:00</td>\n",
       "      <td>12.84</td>\n",
       "      <td>44.51</td>\n",
       "      <td>0.000</td>\n",
       "      <td>4.046</td>\n",
       "      <td>10.11</td>\n",
       "      <td>278.6</td>\n",
       "      <td>2019-05-14</td>\n",
       "    </tr>\n",
       "    <tr>\n",
       "      <th>2</th>\n",
       "      <td>2019-05-14 05:00:00</td>\n",
       "      <td>12.94</td>\n",
       "      <td>43.41</td>\n",
       "      <td>0.723</td>\n",
       "      <td>7.701</td>\n",
       "      <td>15.02</td>\n",
       "      <td>272.7</td>\n",
       "      <td>2019-05-14</td>\n",
       "    </tr>\n",
       "    <tr>\n",
       "      <th>3</th>\n",
       "      <td>2019-05-14 04:00:00</td>\n",
       "      <td>13.57</td>\n",
       "      <td>43.25</td>\n",
       "      <td>4.340</td>\n",
       "      <td>10.050</td>\n",
       "      <td>18.87</td>\n",
       "      <td>271.9</td>\n",
       "      <td>2019-05-14</td>\n",
       "    </tr>\n",
       "    <tr>\n",
       "      <th>4</th>\n",
       "      <td>2019-05-14 03:00:00</td>\n",
       "      <td>12.64</td>\n",
       "      <td>42.71</td>\n",
       "      <td>3.288</td>\n",
       "      <td>9.440</td>\n",
       "      <td>17.34</td>\n",
       "      <td>275.2</td>\n",
       "      <td>2019-05-14</td>\n",
       "    </tr>\n",
       "  </tbody>\n",
       "</table>\n",
       "</div>"
      ],
      "text/plain": [
       "      Date/Time (PST)  Battery Voltage (v)  Temperature (deg F)  \\\n",
       "0 2019-05-14 07:00:00                12.80                37.21   \n",
       "1 2019-05-14 06:00:00                12.84                44.51   \n",
       "2 2019-05-14 05:00:00                12.94                43.41   \n",
       "3 2019-05-14 04:00:00                13.57                43.25   \n",
       "4 2019-05-14 03:00:00                12.64                42.71   \n",
       "\n",
       "   Wind Speed Minimum (mph)  Wind Speed Average (mph)  \\\n",
       "0                     0.000                     4.660   \n",
       "1                     0.000                     4.046   \n",
       "2                     0.723                     7.701   \n",
       "3                     4.340                    10.050   \n",
       "4                     3.288                     9.440   \n",
       "\n",
       "   Wind Speed Maximum (mph)  Wind Direction (deg.)       date  \n",
       "0                     20.34                  250.3 2019-05-14  \n",
       "1                     10.11                  278.6 2019-05-14  \n",
       "2                     15.02                  272.7 2019-05-14  \n",
       "3                     18.87                  271.9 2019-05-14  \n",
       "4                     17.34                  275.2 2019-05-14  "
      ]
     },
     "execution_count": 166,
     "metadata": {},
     "output_type": "execute_result"
    }
   ],
   "source": [
    "tyemill.head()"
   ]
  },
  {
   "cell_type": "code",
   "execution_count": 124,
   "metadata": {},
   "outputs": [
    {
     "data": {
      "text/plain": [
       "(3200, 8)"
      ]
     },
     "execution_count": 124,
     "metadata": {},
     "output_type": "execute_result"
    }
   ],
   "source": [
    "tyemill.shape"
   ]
  },
  {
   "cell_type": "code",
   "execution_count": 125,
   "metadata": {},
   "outputs": [],
   "source": [
    "tyemill['Date/Time (PST)'] = pd.to_datetime(tyemill['Date/Time (PST)'])\n",
    "tyemill['date'] = pd.to_datetime(tyemill['date'])"
   ]
  },
  {
   "cell_type": "code",
   "execution_count": 69,
   "metadata": {},
   "outputs": [],
   "source": [
    "# pd.to_datetime(skyline_df['Date/Time (PST)'], '%Y-%m-%d %H:%m') # this could work but it recognized it anyhow"
   ]
  },
  {
   "cell_type": "code",
   "execution_count": 127,
   "metadata": {},
   "outputs": [
    {
     "data": {
      "text/plain": [
       "Date/Time (PST)             0\n",
       "Battery Voltage (v)         0\n",
       "Temperature (deg F)         0\n",
       "Wind Speed Minimum (mph)    0\n",
       "Wind Speed Average (mph)    0\n",
       "Wind Speed Maximum (mph)    0\n",
       "Wind Direction (deg.)       0\n",
       "date                        0\n",
       "dtype: int64"
      ]
     },
     "execution_count": 127,
     "metadata": {},
     "output_type": "execute_result"
    }
   ],
   "source": [
    "tyemill.isna().sum() #yay, no missing values"
   ]
  },
  {
   "cell_type": "code",
   "execution_count": 128,
   "metadata": {},
   "outputs": [
    {
     "name": "stdout",
     "output_type": "stream",
     "text": [
      "<class 'pandas.core.frame.DataFrame'>\n",
      "RangeIndex: 3200 entries, 0 to 3199\n",
      "Data columns (total 8 columns):\n",
      "Date/Time (PST)             3200 non-null datetime64[ns]\n",
      "Battery Voltage (v)         3200 non-null float64\n",
      "Temperature (deg F)         3200 non-null float64\n",
      "Wind Speed Minimum (mph)    3200 non-null float64\n",
      "Wind Speed Average (mph)    3200 non-null float64\n",
      "Wind Speed Maximum (mph)    3200 non-null float64\n",
      "Wind Direction (deg.)       3200 non-null float64\n",
      "date                        3200 non-null datetime64[ns]\n",
      "dtypes: datetime64[ns](2), float64(6)\n",
      "memory usage: 200.1 KB\n"
     ]
    }
   ],
   "source": [
    "tyemill.info()"
   ]
  },
  {
   "cell_type": "code",
   "execution_count": 129,
   "metadata": {},
   "outputs": [
    {
     "data": {
      "text/plain": [
       "pandas._libs.tslibs.timestamps.Timestamp"
      ]
     },
     "execution_count": 129,
     "metadata": {},
     "output_type": "execute_result"
    }
   ],
   "source": [
    "type(tyemill[\"Date/Time (PST)\"][0])"
   ]
  },
  {
   "cell_type": "code",
   "execution_count": 130,
   "metadata": {},
   "outputs": [
    {
     "data": {
      "text/html": [
       "<div>\n",
       "<style scoped>\n",
       "    .dataframe tbody tr th:only-of-type {\n",
       "        vertical-align: middle;\n",
       "    }\n",
       "\n",
       "    .dataframe tbody tr th {\n",
       "        vertical-align: top;\n",
       "    }\n",
       "\n",
       "    .dataframe thead th {\n",
       "        text-align: right;\n",
       "    }\n",
       "</style>\n",
       "<table border=\"1\" class=\"dataframe\">\n",
       "  <thead>\n",
       "    <tr style=\"text-align: right;\">\n",
       "      <th></th>\n",
       "      <th>Battery Voltage (v)</th>\n",
       "      <th>Temperature (deg F)</th>\n",
       "      <th>Wind Speed Minimum (mph)</th>\n",
       "      <th>Wind Speed Average (mph)</th>\n",
       "      <th>Wind Speed Maximum (mph)</th>\n",
       "      <th>Wind Direction (deg.)</th>\n",
       "    </tr>\n",
       "  </thead>\n",
       "  <tbody>\n",
       "    <tr>\n",
       "      <th>count</th>\n",
       "      <td>3200.000000</td>\n",
       "      <td>3200.000000</td>\n",
       "      <td>3200.000000</td>\n",
       "      <td>3200.000000</td>\n",
       "      <td>3200.000000</td>\n",
       "      <td>3200.000000</td>\n",
       "    </tr>\n",
       "    <tr>\n",
       "      <th>mean</th>\n",
       "      <td>12.738959</td>\n",
       "      <td>29.232920</td>\n",
       "      <td>1.554205</td>\n",
       "      <td>6.020345</td>\n",
       "      <td>12.275843</td>\n",
       "      <td>197.364617</td>\n",
       "    </tr>\n",
       "    <tr>\n",
       "      <th>std</th>\n",
       "      <td>0.225137</td>\n",
       "      <td>10.940916</td>\n",
       "      <td>2.358804</td>\n",
       "      <td>4.425962</td>\n",
       "      <td>7.453986</td>\n",
       "      <td>95.194453</td>\n",
       "    </tr>\n",
       "    <tr>\n",
       "      <th>min</th>\n",
       "      <td>12.490000</td>\n",
       "      <td>2.800000</td>\n",
       "      <td>0.000000</td>\n",
       "      <td>0.000000</td>\n",
       "      <td>0.000000</td>\n",
       "      <td>0.000000</td>\n",
       "    </tr>\n",
       "    <tr>\n",
       "      <th>25%</th>\n",
       "      <td>12.600000</td>\n",
       "      <td>21.267500</td>\n",
       "      <td>0.000000</td>\n",
       "      <td>3.072750</td>\n",
       "      <td>7.277000</td>\n",
       "      <td>96.775000</td>\n",
       "    </tr>\n",
       "    <tr>\n",
       "      <th>50%</th>\n",
       "      <td>12.670000</td>\n",
       "      <td>29.025000</td>\n",
       "      <td>0.219000</td>\n",
       "      <td>4.684000</td>\n",
       "      <td>10.370000</td>\n",
       "      <td>262.100000</td>\n",
       "    </tr>\n",
       "    <tr>\n",
       "      <th>75%</th>\n",
       "      <td>12.780000</td>\n",
       "      <td>36.145000</td>\n",
       "      <td>2.455000</td>\n",
       "      <td>7.751750</td>\n",
       "      <td>15.210000</td>\n",
       "      <td>278.000000</td>\n",
       "    </tr>\n",
       "    <tr>\n",
       "      <th>max</th>\n",
       "      <td>13.610000</td>\n",
       "      <td>65.950000</td>\n",
       "      <td>17.820000</td>\n",
       "      <td>28.250000</td>\n",
       "      <td>51.990000</td>\n",
       "      <td>358.400000</td>\n",
       "    </tr>\n",
       "  </tbody>\n",
       "</table>\n",
       "</div>"
      ],
      "text/plain": [
       "       Battery Voltage (v)  Temperature (deg F)  Wind Speed Minimum (mph)  \\\n",
       "count          3200.000000          3200.000000               3200.000000   \n",
       "mean             12.738959            29.232920                  1.554205   \n",
       "std               0.225137            10.940916                  2.358804   \n",
       "min              12.490000             2.800000                  0.000000   \n",
       "25%              12.600000            21.267500                  0.000000   \n",
       "50%              12.670000            29.025000                  0.219000   \n",
       "75%              12.780000            36.145000                  2.455000   \n",
       "max              13.610000            65.950000                 17.820000   \n",
       "\n",
       "       Wind Speed Average (mph)  Wind Speed Maximum (mph)  \\\n",
       "count               3200.000000               3200.000000   \n",
       "mean                   6.020345                 12.275843   \n",
       "std                    4.425962                  7.453986   \n",
       "min                    0.000000                  0.000000   \n",
       "25%                    3.072750                  7.277000   \n",
       "50%                    4.684000                 10.370000   \n",
       "75%                    7.751750                 15.210000   \n",
       "max                   28.250000                 51.990000   \n",
       "\n",
       "       Wind Direction (deg.)  \n",
       "count            3200.000000  \n",
       "mean              197.364617  \n",
       "std                95.194453  \n",
       "min                 0.000000  \n",
       "25%                96.775000  \n",
       "50%               262.100000  \n",
       "75%               278.000000  \n",
       "max               358.400000  "
      ]
     },
     "execution_count": 130,
     "metadata": {},
     "output_type": "execute_result"
    }
   ],
   "source": [
    "tyemill.describe()"
   ]
  },
  {
   "cell_type": "markdown",
   "metadata": {},
   "source": [
    "## Looks like there are negative values for the 24' snow reading, lets explore this after the merge to the avalance-danger table"
   ]
  },
  {
   "cell_type": "code",
   "execution_count": 155,
   "metadata": {},
   "outputs": [],
   "source": [
    "brooks_precip = pd.read_csv('csv_files/StevensPass-BrooksPrecipitation_4800_feet_2019.csv'\n",
    "                           )"
   ]
  },
  {
   "cell_type": "code",
   "execution_count": 156,
   "metadata": {},
   "outputs": [
    {
     "data": {
      "text/plain": [
       "Index(['Date/Time (PST)', 'Battery Voltage (v)', 'Precipitation (\")',\n",
       "       '24 Hour Snow (\")', 'Total Snow Depth (\")', 'Temperature (deg F)',\n",
       "       'Relative Humidity (%)'],\n",
       "      dtype='object')"
      ]
     },
     "execution_count": 156,
     "metadata": {},
     "output_type": "execute_result"
    }
   ],
   "source": [
    "brooks_precip.columns #need to get rid of the quotes for inches, rename columns"
   ]
  },
  {
   "cell_type": "code",
   "execution_count": 157,
   "metadata": {},
   "outputs": [
    {
     "data": {
      "text/html": [
       "<div>\n",
       "<style scoped>\n",
       "    .dataframe tbody tr th:only-of-type {\n",
       "        vertical-align: middle;\n",
       "    }\n",
       "\n",
       "    .dataframe tbody tr th {\n",
       "        vertical-align: top;\n",
       "    }\n",
       "\n",
       "    .dataframe thead th {\n",
       "        text-align: right;\n",
       "    }\n",
       "</style>\n",
       "<table border=\"1\" class=\"dataframe\">\n",
       "  <thead>\n",
       "    <tr style=\"text-align: right;\">\n",
       "      <th></th>\n",
       "      <th>Date/Time (PST)</th>\n",
       "      <th>Battery Voltage (v)</th>\n",
       "      <th>Precipitation (in)</th>\n",
       "      <th>24 Hour Snow (in)</th>\n",
       "      <th>Total Snow Depth (in)</th>\n",
       "      <th>Temperature (deg F)</th>\n",
       "      <th>Relative Humidity (%)</th>\n",
       "    </tr>\n",
       "  </thead>\n",
       "  <tbody>\n",
       "    <tr>\n",
       "      <th>3838</th>\n",
       "      <td>2019-01-01 04:00</td>\n",
       "      <td>12.99</td>\n",
       "      <td>0.0</td>\n",
       "      <td>0.459</td>\n",
       "      <td>78.13</td>\n",
       "      <td>NaN</td>\n",
       "      <td>NaN</td>\n",
       "    </tr>\n",
       "    <tr>\n",
       "      <th>3839</th>\n",
       "      <td>2019-01-01 03:00</td>\n",
       "      <td>13.00</td>\n",
       "      <td>0.0</td>\n",
       "      <td>0.392</td>\n",
       "      <td>77.73</td>\n",
       "      <td>NaN</td>\n",
       "      <td>NaN</td>\n",
       "    </tr>\n",
       "    <tr>\n",
       "      <th>3840</th>\n",
       "      <td>2019-01-01 02:00</td>\n",
       "      <td>13.03</td>\n",
       "      <td>0.0</td>\n",
       "      <td>0.459</td>\n",
       "      <td>77.73</td>\n",
       "      <td>NaN</td>\n",
       "      <td>NaN</td>\n",
       "    </tr>\n",
       "    <tr>\n",
       "      <th>3841</th>\n",
       "      <td>2019-01-01 01:00</td>\n",
       "      <td>13.09</td>\n",
       "      <td>0.0</td>\n",
       "      <td>0.459</td>\n",
       "      <td>77.73</td>\n",
       "      <td>NaN</td>\n",
       "      <td>NaN</td>\n",
       "    </tr>\n",
       "    <tr>\n",
       "      <th>3842</th>\n",
       "      <td>2019-01-01 00:00</td>\n",
       "      <td>13.02</td>\n",
       "      <td>0.0</td>\n",
       "      <td>0.459</td>\n",
       "      <td>77.46</td>\n",
       "      <td>NaN</td>\n",
       "      <td>NaN</td>\n",
       "    </tr>\n",
       "  </tbody>\n",
       "</table>\n",
       "</div>"
      ],
      "text/plain": [
       "       Date/Time (PST)  Battery Voltage (v)  Precipitation (in)  \\\n",
       "3838  2019-01-01 04:00                12.99                 0.0   \n",
       "3839  2019-01-01 03:00                13.00                 0.0   \n",
       "3840  2019-01-01 02:00                13.03                 0.0   \n",
       "3841  2019-01-01 01:00                13.09                 0.0   \n",
       "3842  2019-01-01 00:00                13.02                 0.0   \n",
       "\n",
       "      24 Hour Snow (in)  Total Snow Depth (in)  Temperature (deg F)  \\\n",
       "3838              0.459                  78.13                  NaN   \n",
       "3839              0.392                  77.73                  NaN   \n",
       "3840              0.459                  77.73                  NaN   \n",
       "3841              0.459                  77.73                  NaN   \n",
       "3842              0.459                  77.46                  NaN   \n",
       "\n",
       "      Relative Humidity (%)  \n",
       "3838                    NaN  \n",
       "3839                    NaN  \n",
       "3840                    NaN  \n",
       "3841                    NaN  \n",
       "3842                    NaN  "
      ]
     },
     "execution_count": 157,
     "metadata": {},
     "output_type": "execute_result"
    }
   ],
   "source": [
    "brooks_precip.columns=['Date/Time (PST)', 'Battery Voltage (v)', 'Precipitation (in)',\n",
    "       '24 Hour Snow (in)', 'Total Snow Depth (in)', 'Temperature (deg F)',\n",
    "       'Relative Humidity (%)']\n",
    "brooks_precip.tail()"
   ]
  },
  {
   "cell_type": "code",
   "execution_count": 168,
   "metadata": {},
   "outputs": [],
   "source": [
    "brooks_precip['Date/Time (PST)'] = pd.to_datetime(brooks_precip['Date/Time (PST)'])"
   ]
  },
  {
   "cell_type": "code",
   "execution_count": 170,
   "metadata": {},
   "outputs": [
    {
     "data": {
      "text/plain": [
       "(Timestamp('2019-06-10 06:00:00'), Timestamp('2019-05-14 07:00:00'))"
      ]
     },
     "execution_count": 170,
     "metadata": {},
     "output_type": "execute_result"
    }
   ],
   "source": [
    "brooks_precip['Date/Time (PST)'][0], tyemill['Date/Time (PST)'][0]"
   ]
  },
  {
   "cell_type": "code",
   "execution_count": 159,
   "metadata": {},
   "outputs": [
    {
     "data": {
      "text/html": [
       "<div>\n",
       "<style scoped>\n",
       "    .dataframe tbody tr th:only-of-type {\n",
       "        vertical-align: middle;\n",
       "    }\n",
       "\n",
       "    .dataframe tbody tr th {\n",
       "        vertical-align: top;\n",
       "    }\n",
       "\n",
       "    .dataframe thead th {\n",
       "        text-align: right;\n",
       "    }\n",
       "</style>\n",
       "<table border=\"1\" class=\"dataframe\">\n",
       "  <thead>\n",
       "    <tr style=\"text-align: right;\">\n",
       "      <th></th>\n",
       "      <th>Date/Time (PST)</th>\n",
       "      <th>Battery Voltage (v)</th>\n",
       "      <th>Precipitation (in)</th>\n",
       "      <th>24 Hour Snow (in)</th>\n",
       "      <th>Total Snow Depth (in)</th>\n",
       "      <th>Temperature (deg F)</th>\n",
       "      <th>Relative Humidity (%)</th>\n",
       "    </tr>\n",
       "  </thead>\n",
       "  <tbody>\n",
       "    <tr>\n",
       "      <th>0</th>\n",
       "      <td>2019-06-10 06:00:00</td>\n",
       "      <td>9.07</td>\n",
       "      <td>0.0</td>\n",
       "      <td>65.14</td>\n",
       "      <td>7.095</td>\n",
       "      <td>50.43</td>\n",
       "      <td>65.03</td>\n",
       "    </tr>\n",
       "    <tr>\n",
       "      <th>1</th>\n",
       "      <td>2019-06-10 05:00:00</td>\n",
       "      <td>9.10</td>\n",
       "      <td>0.0</td>\n",
       "      <td>61.92</td>\n",
       "      <td>6.186</td>\n",
       "      <td>48.48</td>\n",
       "      <td>64.53</td>\n",
       "    </tr>\n",
       "    <tr>\n",
       "      <th>2</th>\n",
       "      <td>2019-06-10 04:00:00</td>\n",
       "      <td>9.39</td>\n",
       "      <td>0.0</td>\n",
       "      <td>61.19</td>\n",
       "      <td>4.693</td>\n",
       "      <td>46.83</td>\n",
       "      <td>65.80</td>\n",
       "    </tr>\n",
       "    <tr>\n",
       "      <th>3</th>\n",
       "      <td>2019-06-10 03:00:00</td>\n",
       "      <td>9.45</td>\n",
       "      <td>0.0</td>\n",
       "      <td>62.06</td>\n",
       "      <td>5.506</td>\n",
       "      <td>47.01</td>\n",
       "      <td>61.67</td>\n",
       "    </tr>\n",
       "    <tr>\n",
       "      <th>4</th>\n",
       "      <td>2019-06-10 02:00:00</td>\n",
       "      <td>9.66</td>\n",
       "      <td>0.0</td>\n",
       "      <td>61.93</td>\n",
       "      <td>5.490</td>\n",
       "      <td>46.15</td>\n",
       "      <td>56.45</td>\n",
       "    </tr>\n",
       "  </tbody>\n",
       "</table>\n",
       "</div>"
      ],
      "text/plain": [
       "      Date/Time (PST)  Battery Voltage (v)  Precipitation (in)  \\\n",
       "0 2019-06-10 06:00:00                 9.07                 0.0   \n",
       "1 2019-06-10 05:00:00                 9.10                 0.0   \n",
       "2 2019-06-10 04:00:00                 9.39                 0.0   \n",
       "3 2019-06-10 03:00:00                 9.45                 0.0   \n",
       "4 2019-06-10 02:00:00                 9.66                 0.0   \n",
       "\n",
       "   24 Hour Snow (in)  Total Snow Depth (in)  Temperature (deg F)  \\\n",
       "0              65.14                  7.095                50.43   \n",
       "1              61.92                  6.186                48.48   \n",
       "2              61.19                  4.693                46.83   \n",
       "3              62.06                  5.506                47.01   \n",
       "4              61.93                  5.490                46.15   \n",
       "\n",
       "   Relative Humidity (%)  \n",
       "0                  65.03  \n",
       "1                  64.53  \n",
       "2                  65.80  \n",
       "3                  61.67  \n",
       "4                  56.45  "
      ]
     },
     "execution_count": 159,
     "metadata": {},
     "output_type": "execute_result"
    }
   ],
   "source": [
    "brooks_precip.head()"
   ]
  },
  {
   "cell_type": "markdown",
   "metadata": {},
   "source": [
    "## I only want the 24 snow, snow depth, and rel humidity"
   ]
  },
  {
   "cell_type": "code",
   "execution_count": 167,
   "metadata": {},
   "outputs": [
    {
     "data": {
      "text/plain": [
       "(Index(['Date/Time (PST)', '24 Hour Snow (in)', 'Total Snow Depth (in)',\n",
       "        'Relative Humidity (%)'],\n",
       "       dtype='object'),\n",
       " Index(['Date/Time (PST)', 'Battery Voltage (v)', 'Temperature (deg F)',\n",
       "        'Wind Speed Minimum (mph)', 'Wind Speed Average (mph)',\n",
       "        'Wind Speed Maximum (mph)', 'Wind Direction (deg.)', 'date'],\n",
       "       dtype='object'))"
      ]
     },
     "execution_count": 167,
     "metadata": {},
     "output_type": "execute_result"
    }
   ],
   "source": [
    "brooks_snow_hum.columns, tyemill.columns"
   ]
  },
  {
   "cell_type": "code",
   "execution_count": 197,
   "metadata": {},
   "outputs": [],
   "source": [
    "brooks_snow_hum = brooks_precip[['Date/Time (PST)','24 Hour Snow (in)','Total Snow Depth (in)',]]"
   ]
  },
  {
   "cell_type": "code",
   "execution_count": 198,
   "metadata": {},
   "outputs": [
    {
     "data": {
      "text/html": [
       "<div>\n",
       "<style scoped>\n",
       "    .dataframe tbody tr th:only-of-type {\n",
       "        vertical-align: middle;\n",
       "    }\n",
       "\n",
       "    .dataframe tbody tr th {\n",
       "        vertical-align: top;\n",
       "    }\n",
       "\n",
       "    .dataframe thead th {\n",
       "        text-align: right;\n",
       "    }\n",
       "</style>\n",
       "<table border=\"1\" class=\"dataframe\">\n",
       "  <thead>\n",
       "    <tr style=\"text-align: right;\">\n",
       "      <th></th>\n",
       "      <th>Date/Time (PST)</th>\n",
       "      <th>Battery Voltage (v)</th>\n",
       "      <th>Temperature (deg F)</th>\n",
       "      <th>Wind Speed Minimum (mph)</th>\n",
       "      <th>Wind Speed Average (mph)</th>\n",
       "      <th>Wind Speed Maximum (mph)</th>\n",
       "      <th>Wind Direction (deg.)</th>\n",
       "      <th>date</th>\n",
       "      <th>24 Hour Snow (in)</th>\n",
       "      <th>Total Snow Depth (in)</th>\n",
       "    </tr>\n",
       "  </thead>\n",
       "  <tbody>\n",
       "    <tr>\n",
       "      <th>0</th>\n",
       "      <td>2019-05-14 07:00:00</td>\n",
       "      <td>12.80</td>\n",
       "      <td>37.21</td>\n",
       "      <td>0.000</td>\n",
       "      <td>4.660</td>\n",
       "      <td>20.34</td>\n",
       "      <td>250.3</td>\n",
       "      <td>2019-05-14</td>\n",
       "      <td>11.73</td>\n",
       "      <td>40.14</td>\n",
       "    </tr>\n",
       "    <tr>\n",
       "      <th>1</th>\n",
       "      <td>2019-05-14 06:00:00</td>\n",
       "      <td>12.84</td>\n",
       "      <td>44.51</td>\n",
       "      <td>0.000</td>\n",
       "      <td>4.046</td>\n",
       "      <td>10.11</td>\n",
       "      <td>278.6</td>\n",
       "      <td>2019-05-14</td>\n",
       "      <td>13.34</td>\n",
       "      <td>39.53</td>\n",
       "    </tr>\n",
       "    <tr>\n",
       "      <th>2</th>\n",
       "      <td>2019-05-14 05:00:00</td>\n",
       "      <td>12.94</td>\n",
       "      <td>43.41</td>\n",
       "      <td>0.723</td>\n",
       "      <td>7.701</td>\n",
       "      <td>15.02</td>\n",
       "      <td>272.7</td>\n",
       "      <td>2019-05-14</td>\n",
       "      <td>13.34</td>\n",
       "      <td>39.27</td>\n",
       "    </tr>\n",
       "    <tr>\n",
       "      <th>3</th>\n",
       "      <td>2019-05-14 04:00:00</td>\n",
       "      <td>13.57</td>\n",
       "      <td>43.25</td>\n",
       "      <td>4.340</td>\n",
       "      <td>10.050</td>\n",
       "      <td>18.87</td>\n",
       "      <td>271.9</td>\n",
       "      <td>2019-05-14</td>\n",
       "      <td>14.68</td>\n",
       "      <td>40.21</td>\n",
       "    </tr>\n",
       "    <tr>\n",
       "      <th>4</th>\n",
       "      <td>2019-05-14 03:00:00</td>\n",
       "      <td>12.64</td>\n",
       "      <td>42.71</td>\n",
       "      <td>3.288</td>\n",
       "      <td>9.440</td>\n",
       "      <td>17.34</td>\n",
       "      <td>275.2</td>\n",
       "      <td>2019-05-14</td>\n",
       "      <td>13.95</td>\n",
       "      <td>40.47</td>\n",
       "    </tr>\n",
       "  </tbody>\n",
       "</table>\n",
       "</div>"
      ],
      "text/plain": [
       "      Date/Time (PST)  Battery Voltage (v)  Temperature (deg F)  \\\n",
       "0 2019-05-14 07:00:00                12.80                37.21   \n",
       "1 2019-05-14 06:00:00                12.84                44.51   \n",
       "2 2019-05-14 05:00:00                12.94                43.41   \n",
       "3 2019-05-14 04:00:00                13.57                43.25   \n",
       "4 2019-05-14 03:00:00                12.64                42.71   \n",
       "\n",
       "   Wind Speed Minimum (mph)  Wind Speed Average (mph)  \\\n",
       "0                     0.000                     4.660   \n",
       "1                     0.000                     4.046   \n",
       "2                     0.723                     7.701   \n",
       "3                     4.340                    10.050   \n",
       "4                     3.288                     9.440   \n",
       "\n",
       "   Wind Speed Maximum (mph)  Wind Direction (deg.)       date  \\\n",
       "0                     20.34                  250.3 2019-05-14   \n",
       "1                     10.11                  278.6 2019-05-14   \n",
       "2                     15.02                  272.7 2019-05-14   \n",
       "3                     18.87                  271.9 2019-05-14   \n",
       "4                     17.34                  275.2 2019-05-14   \n",
       "\n",
       "   24 Hour Snow (in)  Total Snow Depth (in)  \n",
       "0              11.73                  40.14  \n",
       "1              13.34                  39.53  \n",
       "2              13.34                  39.27  \n",
       "3              14.68                  40.21  \n",
       "4              13.95                  40.47  "
      ]
     },
     "execution_count": 198,
     "metadata": {},
     "output_type": "execute_result"
    }
   ],
   "source": [
    "tyemill_brooks= pd.merge(tyemill,brooks_snow_hum,how='left',on = 'Date/Time (PST)')\n",
    "tyemill_brooks.head()"
   ]
  },
  {
   "cell_type": "code",
   "execution_count": 199,
   "metadata": {},
   "outputs": [],
   "source": [
    "# Now to add in the avalanche stuff"
   ]
  },
  {
   "cell_type": "code",
   "execution_count": 200,
   "metadata": {},
   "outputs": [],
   "source": [
    "stevens_avalanches = pd.read_json('stevens_avalanches.json')"
   ]
  },
  {
   "cell_type": "code",
   "execution_count": 201,
   "metadata": {},
   "outputs": [
    {
     "data": {
      "text/html": [
       "<div>\n",
       "<style scoped>\n",
       "    .dataframe tbody tr th:only-of-type {\n",
       "        vertical-align: middle;\n",
       "    }\n",
       "\n",
       "    .dataframe tbody tr th {\n",
       "        vertical-align: top;\n",
       "    }\n",
       "\n",
       "    .dataframe thead th {\n",
       "        text-align: right;\n",
       "    }\n",
       "</style>\n",
       "<table border=\"1\" class=\"dataframe\">\n",
       "  <thead>\n",
       "    <tr style=\"text-align: right;\">\n",
       "      <th></th>\n",
       "      <th>area</th>\n",
       "      <th>danger_above_treeline</th>\n",
       "      <th>danger_below_treeline</th>\n",
       "      <th>danger_near_treeline</th>\n",
       "      <th>date</th>\n",
       "    </tr>\n",
       "  </thead>\n",
       "  <tbody>\n",
       "    <tr>\n",
       "      <th>0</th>\n",
       "      <td>Stevens Pass</td>\n",
       "      <td>Moderate</td>\n",
       "      <td>Moderate</td>\n",
       "      <td>Moderate</td>\n",
       "      <td>2018-12-31</td>\n",
       "    </tr>\n",
       "    <tr>\n",
       "      <th>1</th>\n",
       "      <td>Stevens Pass</td>\n",
       "      <td>Considerable</td>\n",
       "      <td>Moderate</td>\n",
       "      <td>Considerable</td>\n",
       "      <td>2019-01-22</td>\n",
       "    </tr>\n",
       "    <tr>\n",
       "      <th>11</th>\n",
       "      <td>Stevens Pass</td>\n",
       "      <td>Low</td>\n",
       "      <td>Low</td>\n",
       "      <td>Low</td>\n",
       "      <td>2019-01-16</td>\n",
       "    </tr>\n",
       "    <tr>\n",
       "      <th>12</th>\n",
       "      <td>Stevens Pass</td>\n",
       "      <td>Low</td>\n",
       "      <td>Low</td>\n",
       "      <td>Low</td>\n",
       "      <td>2019-01-15</td>\n",
       "    </tr>\n",
       "    <tr>\n",
       "      <th>13</th>\n",
       "      <td>Stevens Pass</td>\n",
       "      <td>Moderate</td>\n",
       "      <td>Low</td>\n",
       "      <td>Moderate</td>\n",
       "      <td>2019-01-14</td>\n",
       "    </tr>\n",
       "  </tbody>\n",
       "</table>\n",
       "</div>"
      ],
      "text/plain": [
       "            area danger_above_treeline danger_below_treeline  \\\n",
       "0   Stevens Pass              Moderate              Moderate   \n",
       "1   Stevens Pass          Considerable              Moderate   \n",
       "11  Stevens Pass                   Low                   Low   \n",
       "12  Stevens Pass                   Low                   Low   \n",
       "13  Stevens Pass              Moderate                   Low   \n",
       "\n",
       "   danger_near_treeline       date  \n",
       "0              Moderate 2018-12-31  \n",
       "1          Considerable 2019-01-22  \n",
       "11                  Low 2019-01-16  \n",
       "12                  Low 2019-01-15  \n",
       "13             Moderate 2019-01-14  "
      ]
     },
     "execution_count": 201,
     "metadata": {},
     "output_type": "execute_result"
    }
   ],
   "source": [
    "stevens_avalanches.head()"
   ]
  },
  {
   "cell_type": "code",
   "execution_count": 202,
   "metadata": {},
   "outputs": [
    {
     "data": {
      "text/html": [
       "<div>\n",
       "<style scoped>\n",
       "    .dataframe tbody tr th:only-of-type {\n",
       "        vertical-align: middle;\n",
       "    }\n",
       "\n",
       "    .dataframe tbody tr th {\n",
       "        vertical-align: top;\n",
       "    }\n",
       "\n",
       "    .dataframe thead th {\n",
       "        text-align: right;\n",
       "    }\n",
       "</style>\n",
       "<table border=\"1\" class=\"dataframe\">\n",
       "  <thead>\n",
       "    <tr style=\"text-align: right;\">\n",
       "      <th></th>\n",
       "      <th>Date/Time (PST)</th>\n",
       "      <th>Battery Voltage (v)</th>\n",
       "      <th>Temperature (deg F)</th>\n",
       "      <th>Wind Speed Minimum (mph)</th>\n",
       "      <th>Wind Speed Average (mph)</th>\n",
       "      <th>Wind Speed Maximum (mph)</th>\n",
       "      <th>Wind Direction (deg.)</th>\n",
       "      <th>date</th>\n",
       "      <th>24 Hour Snow (in)</th>\n",
       "      <th>Total Snow Depth (in)</th>\n",
       "      <th>area</th>\n",
       "      <th>danger_above_treeline</th>\n",
       "      <th>danger_below_treeline</th>\n",
       "      <th>danger_near_treeline</th>\n",
       "    </tr>\n",
       "  </thead>\n",
       "  <tbody>\n",
       "    <tr>\n",
       "      <th>0</th>\n",
       "      <td>2019-05-14 07:00:00</td>\n",
       "      <td>12.80</td>\n",
       "      <td>37.21</td>\n",
       "      <td>0.000</td>\n",
       "      <td>4.660</td>\n",
       "      <td>20.34</td>\n",
       "      <td>250.3</td>\n",
       "      <td>2019-05-14</td>\n",
       "      <td>11.73</td>\n",
       "      <td>40.14</td>\n",
       "      <td>NaN</td>\n",
       "      <td>NaN</td>\n",
       "      <td>NaN</td>\n",
       "      <td>NaN</td>\n",
       "    </tr>\n",
       "    <tr>\n",
       "      <th>1</th>\n",
       "      <td>2019-05-14 06:00:00</td>\n",
       "      <td>12.84</td>\n",
       "      <td>44.51</td>\n",
       "      <td>0.000</td>\n",
       "      <td>4.046</td>\n",
       "      <td>10.11</td>\n",
       "      <td>278.6</td>\n",
       "      <td>2019-05-14</td>\n",
       "      <td>13.34</td>\n",
       "      <td>39.53</td>\n",
       "      <td>NaN</td>\n",
       "      <td>NaN</td>\n",
       "      <td>NaN</td>\n",
       "      <td>NaN</td>\n",
       "    </tr>\n",
       "    <tr>\n",
       "      <th>2</th>\n",
       "      <td>2019-05-14 05:00:00</td>\n",
       "      <td>12.94</td>\n",
       "      <td>43.41</td>\n",
       "      <td>0.723</td>\n",
       "      <td>7.701</td>\n",
       "      <td>15.02</td>\n",
       "      <td>272.7</td>\n",
       "      <td>2019-05-14</td>\n",
       "      <td>13.34</td>\n",
       "      <td>39.27</td>\n",
       "      <td>NaN</td>\n",
       "      <td>NaN</td>\n",
       "      <td>NaN</td>\n",
       "      <td>NaN</td>\n",
       "    </tr>\n",
       "    <tr>\n",
       "      <th>3</th>\n",
       "      <td>2019-05-14 04:00:00</td>\n",
       "      <td>13.57</td>\n",
       "      <td>43.25</td>\n",
       "      <td>4.340</td>\n",
       "      <td>10.050</td>\n",
       "      <td>18.87</td>\n",
       "      <td>271.9</td>\n",
       "      <td>2019-05-14</td>\n",
       "      <td>14.68</td>\n",
       "      <td>40.21</td>\n",
       "      <td>NaN</td>\n",
       "      <td>NaN</td>\n",
       "      <td>NaN</td>\n",
       "      <td>NaN</td>\n",
       "    </tr>\n",
       "    <tr>\n",
       "      <th>4</th>\n",
       "      <td>2019-05-14 03:00:00</td>\n",
       "      <td>12.64</td>\n",
       "      <td>42.71</td>\n",
       "      <td>3.288</td>\n",
       "      <td>9.440</td>\n",
       "      <td>17.34</td>\n",
       "      <td>275.2</td>\n",
       "      <td>2019-05-14</td>\n",
       "      <td>13.95</td>\n",
       "      <td>40.47</td>\n",
       "      <td>NaN</td>\n",
       "      <td>NaN</td>\n",
       "      <td>NaN</td>\n",
       "      <td>NaN</td>\n",
       "    </tr>\n",
       "  </tbody>\n",
       "</table>\n",
       "</div>"
      ],
      "text/plain": [
       "      Date/Time (PST)  Battery Voltage (v)  Temperature (deg F)  \\\n",
       "0 2019-05-14 07:00:00                12.80                37.21   \n",
       "1 2019-05-14 06:00:00                12.84                44.51   \n",
       "2 2019-05-14 05:00:00                12.94                43.41   \n",
       "3 2019-05-14 04:00:00                13.57                43.25   \n",
       "4 2019-05-14 03:00:00                12.64                42.71   \n",
       "\n",
       "   Wind Speed Minimum (mph)  Wind Speed Average (mph)  \\\n",
       "0                     0.000                     4.660   \n",
       "1                     0.000                     4.046   \n",
       "2                     0.723                     7.701   \n",
       "3                     4.340                    10.050   \n",
       "4                     3.288                     9.440   \n",
       "\n",
       "   Wind Speed Maximum (mph)  Wind Direction (deg.)       date  \\\n",
       "0                     20.34                  250.3 2019-05-14   \n",
       "1                     10.11                  278.6 2019-05-14   \n",
       "2                     15.02                  272.7 2019-05-14   \n",
       "3                     18.87                  271.9 2019-05-14   \n",
       "4                     17.34                  275.2 2019-05-14   \n",
       "\n",
       "   24 Hour Snow (in)  Total Snow Depth (in) area danger_above_treeline  \\\n",
       "0              11.73                  40.14  NaN                   NaN   \n",
       "1              13.34                  39.53  NaN                   NaN   \n",
       "2              13.34                  39.27  NaN                   NaN   \n",
       "3              14.68                  40.21  NaN                   NaN   \n",
       "4              13.95                  40.47  NaN                   NaN   \n",
       "\n",
       "  danger_below_treeline danger_near_treeline  \n",
       "0                   NaN                  NaN  \n",
       "1                   NaN                  NaN  \n",
       "2                   NaN                  NaN  \n",
       "3                   NaN                  NaN  \n",
       "4                   NaN                  NaN  "
      ]
     },
     "execution_count": 202,
     "metadata": {},
     "output_type": "execute_result"
    }
   ],
   "source": [
    "merged_df =pd.merge(tyemill_brooks,stevens_avalanches,how='left',on='date')\n",
    "merged_df.head()"
   ]
  },
  {
   "cell_type": "code",
   "execution_count": 215,
   "metadata": {},
   "outputs": [
    {
     "data": {
      "text/html": [
       "<div>\n",
       "<style scoped>\n",
       "    .dataframe tbody tr th:only-of-type {\n",
       "        vertical-align: middle;\n",
       "    }\n",
       "\n",
       "    .dataframe tbody tr th {\n",
       "        vertical-align: top;\n",
       "    }\n",
       "\n",
       "    .dataframe thead th {\n",
       "        text-align: right;\n",
       "    }\n",
       "</style>\n",
       "<table border=\"1\" class=\"dataframe\">\n",
       "  <thead>\n",
       "    <tr style=\"text-align: right;\">\n",
       "      <th></th>\n",
       "      <th>Date/Time (PST)</th>\n",
       "      <th>Battery Voltage (v)</th>\n",
       "      <th>Temperature (deg F)</th>\n",
       "      <th>Wind Speed Minimum (mph)</th>\n",
       "      <th>Wind Speed Average (mph)</th>\n",
       "      <th>Wind Speed Maximum (mph)</th>\n",
       "      <th>Wind Direction (deg.)</th>\n",
       "      <th>date</th>\n",
       "      <th>24 Hour Snow (in)</th>\n",
       "      <th>Total Snow Depth (in)</th>\n",
       "      <th>area</th>\n",
       "      <th>danger_above_treeline</th>\n",
       "      <th>danger_below_treeline</th>\n",
       "      <th>danger_near_treeline</th>\n",
       "    </tr>\n",
       "  </thead>\n",
       "  <tbody>\n",
       "    <tr>\n",
       "      <th>3219</th>\n",
       "      <td>2019-01-01 04:00:00</td>\n",
       "      <td>13.51</td>\n",
       "      <td>21.48</td>\n",
       "      <td>2.872</td>\n",
       "      <td>10.020</td>\n",
       "      <td>21.13</td>\n",
       "      <td>258.7</td>\n",
       "      <td>2019-01-01</td>\n",
       "      <td>0.459</td>\n",
       "      <td>78.13</td>\n",
       "      <td>Stevens Pass</td>\n",
       "      <td>Moderate</td>\n",
       "      <td>Low</td>\n",
       "      <td>Moderate</td>\n",
       "    </tr>\n",
       "    <tr>\n",
       "      <th>3220</th>\n",
       "      <td>2019-01-01 03:00:00</td>\n",
       "      <td>12.54</td>\n",
       "      <td>20.71</td>\n",
       "      <td>3.946</td>\n",
       "      <td>9.600</td>\n",
       "      <td>17.80</td>\n",
       "      <td>262.4</td>\n",
       "      <td>2019-01-01</td>\n",
       "      <td>0.392</td>\n",
       "      <td>77.73</td>\n",
       "      <td>Stevens Pass</td>\n",
       "      <td>Moderate</td>\n",
       "      <td>Low</td>\n",
       "      <td>Moderate</td>\n",
       "    </tr>\n",
       "    <tr>\n",
       "      <th>3221</th>\n",
       "      <td>2019-01-01 02:00:00</td>\n",
       "      <td>12.55</td>\n",
       "      <td>21.19</td>\n",
       "      <td>1.644</td>\n",
       "      <td>9.110</td>\n",
       "      <td>14.71</td>\n",
       "      <td>270.7</td>\n",
       "      <td>2019-01-01</td>\n",
       "      <td>0.459</td>\n",
       "      <td>77.73</td>\n",
       "      <td>Stevens Pass</td>\n",
       "      <td>Moderate</td>\n",
       "      <td>Low</td>\n",
       "      <td>Moderate</td>\n",
       "    </tr>\n",
       "    <tr>\n",
       "      <th>3222</th>\n",
       "      <td>2019-01-01 01:00:00</td>\n",
       "      <td>12.56</td>\n",
       "      <td>22.40</td>\n",
       "      <td>2.214</td>\n",
       "      <td>7.054</td>\n",
       "      <td>11.49</td>\n",
       "      <td>262.1</td>\n",
       "      <td>2019-01-01</td>\n",
       "      <td>0.459</td>\n",
       "      <td>77.73</td>\n",
       "      <td>Stevens Pass</td>\n",
       "      <td>Moderate</td>\n",
       "      <td>Low</td>\n",
       "      <td>Moderate</td>\n",
       "    </tr>\n",
       "    <tr>\n",
       "      <th>3223</th>\n",
       "      <td>2019-01-01 00:00:00</td>\n",
       "      <td>12.56</td>\n",
       "      <td>22.31</td>\n",
       "      <td>1.688</td>\n",
       "      <td>5.976</td>\n",
       "      <td>14.45</td>\n",
       "      <td>235.4</td>\n",
       "      <td>2019-01-01</td>\n",
       "      <td>0.459</td>\n",
       "      <td>77.46</td>\n",
       "      <td>Stevens Pass</td>\n",
       "      <td>Moderate</td>\n",
       "      <td>Low</td>\n",
       "      <td>Moderate</td>\n",
       "    </tr>\n",
       "  </tbody>\n",
       "</table>\n",
       "</div>"
      ],
      "text/plain": [
       "         Date/Time (PST)  Battery Voltage (v)  Temperature (deg F)  \\\n",
       "3219 2019-01-01 04:00:00                13.51                21.48   \n",
       "3220 2019-01-01 03:00:00                12.54                20.71   \n",
       "3221 2019-01-01 02:00:00                12.55                21.19   \n",
       "3222 2019-01-01 01:00:00                12.56                22.40   \n",
       "3223 2019-01-01 00:00:00                12.56                22.31   \n",
       "\n",
       "      Wind Speed Minimum (mph)  Wind Speed Average (mph)  \\\n",
       "3219                     2.872                    10.020   \n",
       "3220                     3.946                     9.600   \n",
       "3221                     1.644                     9.110   \n",
       "3222                     2.214                     7.054   \n",
       "3223                     1.688                     5.976   \n",
       "\n",
       "      Wind Speed Maximum (mph)  Wind Direction (deg.)       date  \\\n",
       "3219                     21.13                  258.7 2019-01-01   \n",
       "3220                     17.80                  262.4 2019-01-01   \n",
       "3221                     14.71                  270.7 2019-01-01   \n",
       "3222                     11.49                  262.1 2019-01-01   \n",
       "3223                     14.45                  235.4 2019-01-01   \n",
       "\n",
       "      24 Hour Snow (in)  Total Snow Depth (in)          area  \\\n",
       "3219              0.459                  78.13  Stevens Pass   \n",
       "3220              0.392                  77.73  Stevens Pass   \n",
       "3221              0.459                  77.73  Stevens Pass   \n",
       "3222              0.459                  77.73  Stevens Pass   \n",
       "3223              0.459                  77.46  Stevens Pass   \n",
       "\n",
       "     danger_above_treeline danger_below_treeline danger_near_treeline  \n",
       "3219              Moderate                   Low             Moderate  \n",
       "3220              Moderate                   Low             Moderate  \n",
       "3221              Moderate                   Low             Moderate  \n",
       "3222              Moderate                   Low             Moderate  \n",
       "3223              Moderate                   Low             Moderate  "
      ]
     },
     "execution_count": 215,
     "metadata": {},
     "output_type": "execute_result"
    }
   ],
   "source": [
    "merged_df.tail()"
   ]
  },
  {
   "cell_type": "code",
   "execution_count": 234,
   "metadata": {},
   "outputs": [
    {
     "data": {
      "text/plain": [
       "'Moderate'"
      ]
     },
     "execution_count": 234,
     "metadata": {},
     "output_type": "execute_result"
    }
   ],
   "source": [
    "merged_df['danger_above_treeline'][3219]"
   ]
  },
  {
   "cell_type": "code",
   "execution_count": 217,
   "metadata": {},
   "outputs": [
    {
     "name": "stdout",
     "output_type": "stream",
     "text": [
      "<class 'pandas.core.frame.DataFrame'>\n",
      "Int64Index: 3224 entries, 0 to 3223\n",
      "Data columns (total 14 columns):\n",
      "Date/Time (PST)             3224 non-null datetime64[ns]\n",
      "Battery Voltage (v)         3224 non-null float64\n",
      "Temperature (deg F)         3224 non-null float64\n",
      "Wind Speed Minimum (mph)    3224 non-null float64\n",
      "Wind Speed Average (mph)    3224 non-null float64\n",
      "Wind Speed Maximum (mph)    3224 non-null float64\n",
      "Wind Direction (deg.)       3224 non-null float64\n",
      "date                        3224 non-null datetime64[ns]\n",
      "24 Hour Snow (in)           3223 non-null float64\n",
      "Total Snow Depth (in)       3223 non-null float64\n",
      "area                        768 non-null object\n",
      "danger_above_treeline       768 non-null object\n",
      "danger_below_treeline       768 non-null object\n",
      "danger_near_treeline        768 non-null object\n",
      "dtypes: datetime64[ns](2), float64(8), object(4)\n",
      "memory usage: 537.8+ KB\n"
     ]
    }
   ],
   "source": [
    "merged_df.info()"
   ]
  },
  {
   "cell_type": "markdown",
   "metadata": {},
   "source": [
    "### now, to just grab the month of january"
   ]
  },
  {
   "cell_type": "code",
   "execution_count": 218,
   "metadata": {},
   "outputs": [],
   "source": [
    "mask = (merged_df['date'] < ('2019-02-01'))"
   ]
  },
  {
   "cell_type": "code",
   "execution_count": 219,
   "metadata": {},
   "outputs": [],
   "source": [
    "january = merged_df.loc[mask]"
   ]
  },
  {
   "cell_type": "code",
   "execution_count": 222,
   "metadata": {},
   "outputs": [
    {
     "name": "stdout",
     "output_type": "stream",
     "text": [
      "<class 'pandas.core.frame.DataFrame'>\n",
      "Int64Index: 768 entries, 2456 to 3223\n",
      "Data columns (total 14 columns):\n",
      "Date/Time (PST)             768 non-null datetime64[ns]\n",
      "Battery Voltage (v)         768 non-null float64\n",
      "Temperature (deg F)         768 non-null float64\n",
      "Wind Speed Minimum (mph)    768 non-null float64\n",
      "Wind Speed Average (mph)    768 non-null float64\n",
      "Wind Speed Maximum (mph)    768 non-null float64\n",
      "Wind Direction (deg.)       768 non-null float64\n",
      "date                        768 non-null datetime64[ns]\n",
      "24 Hour Snow (in)           768 non-null float64\n",
      "Total Snow Depth (in)       768 non-null float64\n",
      "area                        768 non-null object\n",
      "danger_above_treeline       768 non-null object\n",
      "danger_below_treeline       768 non-null object\n",
      "danger_near_treeline        768 non-null object\n",
      "dtypes: datetime64[ns](2), float64(8), object(4)\n",
      "memory usage: 90.0+ KB\n"
     ]
    }
   ],
   "source": [
    "january.info() \n"
   ]
  },
  {
   "cell_type": "markdown",
   "metadata": {},
   "source": [
    "## I need to convert the string avalanche levels to numbers, lets make a dictionary and then map it to the columns"
   ]
  },
  {
   "cell_type": "code",
   "execution_count": 255,
   "metadata": {},
   "outputs": [
    {
     "data": {
      "text/plain": [
       "str"
      ]
     },
     "execution_count": 255,
     "metadata": {},
     "output_type": "execute_result"
    }
   ],
   "source": [
    "type(january['danger_above_treeline'][2456])"
   ]
  },
  {
   "cell_type": "code",
   "execution_count": 238,
   "metadata": {},
   "outputs": [],
   "source": [
    "avy_dict = {'Low':1,'Moderate':2,'Considerable':3,'High':4, 'Extreme':5}"
   ]
  },
  {
   "cell_type": "code",
   "execution_count": 256,
   "metadata": {},
   "outputs": [],
   "source": [
    "def convert_avy_str_to_num(word):\n",
    "    if word == 'Low':\n",
    "        return 1\n",
    "    elif word == 'Moderate':\n",
    "        return 2\n",
    "    elif word == 'Considerable':\n",
    "        return 3\n",
    "    elif word == 'High':\n",
    "        return 4\n",
    "    elif word == 'Extreme':\n",
    "        return 5"
   ]
  },
  {
   "cell_type": "code",
   "execution_count": 261,
   "metadata": {},
   "outputs": [
    {
     "data": {
      "text/plain": [
       "Index(['Date/Time (PST)', 'Battery Voltage (v)', 'Temperature (deg F)',\n",
       "       'Wind Speed Minimum (mph)', 'Wind Speed Average (mph)',\n",
       "       'Wind Speed Maximum (mph)', 'Wind Direction (deg.)', 'date',\n",
       "       '24 Hour Snow (in)', 'Total Snow Depth (in)', 'area',\n",
       "       'danger_above_treeline', 'danger_below_treeline',\n",
       "       'danger_near_treeline'],\n",
       "      dtype='object')"
      ]
     },
     "execution_count": 261,
     "metadata": {},
     "output_type": "execute_result"
    }
   ],
   "source": [
    "january.columns"
   ]
  },
  {
   "cell_type": "code",
   "execution_count": 260,
   "metadata": {},
   "outputs": [
    {
     "ename": "ValueError",
     "evalue": "('The truth value of a Series is ambiguous. Use a.empty, a.bool(), a.item(), a.any() or a.all().', 'occurred at index danger_above_treeline')",
     "output_type": "error",
     "traceback": [
      "\u001b[0;31m---------------------------------------------------------------------------\u001b[0m",
      "\u001b[0;31mValueError\u001b[0m                                Traceback (most recent call last)",
      "\u001b[0;32m<ipython-input-260-e1a3b29b7255>\u001b[0m in \u001b[0;36m<module>\u001b[0;34m\u001b[0m\n\u001b[0;32m----> 1\u001b[0;31m \u001b[0mjanuary\u001b[0m\u001b[0;34m[\u001b[0m\u001b[0;34m[\u001b[0m\u001b[0;34m'danger_above_treeline'\u001b[0m\u001b[0;34m,\u001b[0m\u001b[0;34m'danger_below_treeline'\u001b[0m\u001b[0;34m,\u001b[0m\u001b[0;34m'danger_below_treeline'\u001b[0m\u001b[0;34m]\u001b[0m\u001b[0;34m]\u001b[0m\u001b[0;34m.\u001b[0m\u001b[0mapply\u001b[0m\u001b[0;34m(\u001b[0m\u001b[0mconvert_avy_str_to_num\u001b[0m\u001b[0;34m)\u001b[0m\u001b[0;34m\u001b[0m\u001b[0;34m\u001b[0m\u001b[0m\n\u001b[0m",
      "\u001b[0;32m~/anaconda3/lib/python3.7/site-packages/pandas/core/frame.py\u001b[0m in \u001b[0;36mapply\u001b[0;34m(self, func, axis, broadcast, raw, reduce, result_type, args, **kwds)\u001b[0m\n\u001b[1;32m   6012\u001b[0m                          \u001b[0margs\u001b[0m\u001b[0;34m=\u001b[0m\u001b[0margs\u001b[0m\u001b[0;34m,\u001b[0m\u001b[0;34m\u001b[0m\u001b[0;34m\u001b[0m\u001b[0m\n\u001b[1;32m   6013\u001b[0m                          kwds=kwds)\n\u001b[0;32m-> 6014\u001b[0;31m         \u001b[0;32mreturn\u001b[0m \u001b[0mop\u001b[0m\u001b[0;34m.\u001b[0m\u001b[0mget_result\u001b[0m\u001b[0;34m(\u001b[0m\u001b[0;34m)\u001b[0m\u001b[0;34m\u001b[0m\u001b[0;34m\u001b[0m\u001b[0m\n\u001b[0m\u001b[1;32m   6015\u001b[0m \u001b[0;34m\u001b[0m\u001b[0m\n\u001b[1;32m   6016\u001b[0m     \u001b[0;32mdef\u001b[0m \u001b[0mapplymap\u001b[0m\u001b[0;34m(\u001b[0m\u001b[0mself\u001b[0m\u001b[0;34m,\u001b[0m \u001b[0mfunc\u001b[0m\u001b[0;34m)\u001b[0m\u001b[0;34m:\u001b[0m\u001b[0;34m\u001b[0m\u001b[0;34m\u001b[0m\u001b[0m\n",
      "\u001b[0;32m~/anaconda3/lib/python3.7/site-packages/pandas/core/apply.py\u001b[0m in \u001b[0;36mget_result\u001b[0;34m(self)\u001b[0m\n\u001b[1;32m    316\u001b[0m                                       *self.args, **self.kwds)\n\u001b[1;32m    317\u001b[0m \u001b[0;34m\u001b[0m\u001b[0m\n\u001b[0;32m--> 318\u001b[0;31m         \u001b[0;32mreturn\u001b[0m \u001b[0msuper\u001b[0m\u001b[0;34m(\u001b[0m\u001b[0mFrameRowApply\u001b[0m\u001b[0;34m,\u001b[0m \u001b[0mself\u001b[0m\u001b[0;34m)\u001b[0m\u001b[0;34m.\u001b[0m\u001b[0mget_result\u001b[0m\u001b[0;34m(\u001b[0m\u001b[0;34m)\u001b[0m\u001b[0;34m\u001b[0m\u001b[0;34m\u001b[0m\u001b[0m\n\u001b[0m\u001b[1;32m    319\u001b[0m \u001b[0;34m\u001b[0m\u001b[0m\n\u001b[1;32m    320\u001b[0m     \u001b[0;32mdef\u001b[0m \u001b[0mapply_broadcast\u001b[0m\u001b[0;34m(\u001b[0m\u001b[0mself\u001b[0m\u001b[0;34m)\u001b[0m\u001b[0;34m:\u001b[0m\u001b[0;34m\u001b[0m\u001b[0;34m\u001b[0m\u001b[0m\n",
      "\u001b[0;32m~/anaconda3/lib/python3.7/site-packages/pandas/core/apply.py\u001b[0m in \u001b[0;36mget_result\u001b[0;34m(self)\u001b[0m\n\u001b[1;32m    140\u001b[0m             \u001b[0;32mreturn\u001b[0m \u001b[0mself\u001b[0m\u001b[0;34m.\u001b[0m\u001b[0mapply_raw\u001b[0m\u001b[0;34m(\u001b[0m\u001b[0;34m)\u001b[0m\u001b[0;34m\u001b[0m\u001b[0;34m\u001b[0m\u001b[0m\n\u001b[1;32m    141\u001b[0m \u001b[0;34m\u001b[0m\u001b[0m\n\u001b[0;32m--> 142\u001b[0;31m         \u001b[0;32mreturn\u001b[0m \u001b[0mself\u001b[0m\u001b[0;34m.\u001b[0m\u001b[0mapply_standard\u001b[0m\u001b[0;34m(\u001b[0m\u001b[0;34m)\u001b[0m\u001b[0;34m\u001b[0m\u001b[0;34m\u001b[0m\u001b[0m\n\u001b[0m\u001b[1;32m    143\u001b[0m \u001b[0;34m\u001b[0m\u001b[0m\n\u001b[1;32m    144\u001b[0m     \u001b[0;32mdef\u001b[0m \u001b[0mapply_empty_result\u001b[0m\u001b[0;34m(\u001b[0m\u001b[0mself\u001b[0m\u001b[0;34m)\u001b[0m\u001b[0;34m:\u001b[0m\u001b[0;34m\u001b[0m\u001b[0;34m\u001b[0m\u001b[0m\n",
      "\u001b[0;32m~/anaconda3/lib/python3.7/site-packages/pandas/core/apply.py\u001b[0m in \u001b[0;36mapply_standard\u001b[0;34m(self)\u001b[0m\n\u001b[1;32m    246\u001b[0m \u001b[0;34m\u001b[0m\u001b[0m\n\u001b[1;32m    247\u001b[0m         \u001b[0;31m# compute the result using the series generator\u001b[0m\u001b[0;34m\u001b[0m\u001b[0;34m\u001b[0m\u001b[0;34m\u001b[0m\u001b[0m\n\u001b[0;32m--> 248\u001b[0;31m         \u001b[0mself\u001b[0m\u001b[0;34m.\u001b[0m\u001b[0mapply_series_generator\u001b[0m\u001b[0;34m(\u001b[0m\u001b[0;34m)\u001b[0m\u001b[0;34m\u001b[0m\u001b[0;34m\u001b[0m\u001b[0m\n\u001b[0m\u001b[1;32m    249\u001b[0m \u001b[0;34m\u001b[0m\u001b[0m\n\u001b[1;32m    250\u001b[0m         \u001b[0;31m# wrap results\u001b[0m\u001b[0;34m\u001b[0m\u001b[0;34m\u001b[0m\u001b[0;34m\u001b[0m\u001b[0m\n",
      "\u001b[0;32m~/anaconda3/lib/python3.7/site-packages/pandas/core/apply.py\u001b[0m in \u001b[0;36mapply_series_generator\u001b[0;34m(self)\u001b[0m\n\u001b[1;32m    275\u001b[0m             \u001b[0;32mtry\u001b[0m\u001b[0;34m:\u001b[0m\u001b[0;34m\u001b[0m\u001b[0;34m\u001b[0m\u001b[0m\n\u001b[1;32m    276\u001b[0m                 \u001b[0;32mfor\u001b[0m \u001b[0mi\u001b[0m\u001b[0;34m,\u001b[0m \u001b[0mv\u001b[0m \u001b[0;32min\u001b[0m \u001b[0menumerate\u001b[0m\u001b[0;34m(\u001b[0m\u001b[0mseries_gen\u001b[0m\u001b[0;34m)\u001b[0m\u001b[0;34m:\u001b[0m\u001b[0;34m\u001b[0m\u001b[0;34m\u001b[0m\u001b[0m\n\u001b[0;32m--> 277\u001b[0;31m                     \u001b[0mresults\u001b[0m\u001b[0;34m[\u001b[0m\u001b[0mi\u001b[0m\u001b[0;34m]\u001b[0m \u001b[0;34m=\u001b[0m \u001b[0mself\u001b[0m\u001b[0;34m.\u001b[0m\u001b[0mf\u001b[0m\u001b[0;34m(\u001b[0m\u001b[0mv\u001b[0m\u001b[0;34m)\u001b[0m\u001b[0;34m\u001b[0m\u001b[0;34m\u001b[0m\u001b[0m\n\u001b[0m\u001b[1;32m    278\u001b[0m                     \u001b[0mkeys\u001b[0m\u001b[0;34m.\u001b[0m\u001b[0mappend\u001b[0m\u001b[0;34m(\u001b[0m\u001b[0mv\u001b[0m\u001b[0;34m.\u001b[0m\u001b[0mname\u001b[0m\u001b[0;34m)\u001b[0m\u001b[0;34m\u001b[0m\u001b[0;34m\u001b[0m\u001b[0m\n\u001b[1;32m    279\u001b[0m             \u001b[0;32mexcept\u001b[0m \u001b[0mException\u001b[0m \u001b[0;32mas\u001b[0m \u001b[0me\u001b[0m\u001b[0;34m:\u001b[0m\u001b[0;34m\u001b[0m\u001b[0;34m\u001b[0m\u001b[0m\n",
      "\u001b[0;32m<ipython-input-256-92678362f1be>\u001b[0m in \u001b[0;36mconvert_avy_str_to_num\u001b[0;34m(word)\u001b[0m\n\u001b[1;32m      1\u001b[0m \u001b[0;32mdef\u001b[0m \u001b[0mconvert_avy_str_to_num\u001b[0m\u001b[0;34m(\u001b[0m\u001b[0mword\u001b[0m\u001b[0;34m)\u001b[0m\u001b[0;34m:\u001b[0m\u001b[0;34m\u001b[0m\u001b[0;34m\u001b[0m\u001b[0m\n\u001b[0;32m----> 2\u001b[0;31m     \u001b[0;32mif\u001b[0m \u001b[0mword\u001b[0m \u001b[0;34m==\u001b[0m \u001b[0;34m'Low'\u001b[0m\u001b[0;34m:\u001b[0m\u001b[0;34m\u001b[0m\u001b[0;34m\u001b[0m\u001b[0m\n\u001b[0m\u001b[1;32m      3\u001b[0m         \u001b[0;32mreturn\u001b[0m \u001b[0;36m1\u001b[0m\u001b[0;34m\u001b[0m\u001b[0;34m\u001b[0m\u001b[0m\n\u001b[1;32m      4\u001b[0m     \u001b[0;32melif\u001b[0m \u001b[0mword\u001b[0m \u001b[0;34m==\u001b[0m \u001b[0;34m'Moderate'\u001b[0m\u001b[0;34m:\u001b[0m\u001b[0;34m\u001b[0m\u001b[0;34m\u001b[0m\u001b[0m\n\u001b[1;32m      5\u001b[0m         \u001b[0;32mreturn\u001b[0m \u001b[0;36m2\u001b[0m\u001b[0;34m\u001b[0m\u001b[0;34m\u001b[0m\u001b[0m\n",
      "\u001b[0;32m~/anaconda3/lib/python3.7/site-packages/pandas/core/generic.py\u001b[0m in \u001b[0;36m__nonzero__\u001b[0;34m(self)\u001b[0m\n\u001b[1;32m   1574\u001b[0m         raise ValueError(\"The truth value of a {0} is ambiguous. \"\n\u001b[1;32m   1575\u001b[0m                          \u001b[0;34m\"Use a.empty, a.bool(), a.item(), a.any() or a.all().\"\u001b[0m\u001b[0;34m\u001b[0m\u001b[0;34m\u001b[0m\u001b[0m\n\u001b[0;32m-> 1576\u001b[0;31m                          .format(self.__class__.__name__))\n\u001b[0m\u001b[1;32m   1577\u001b[0m \u001b[0;34m\u001b[0m\u001b[0m\n\u001b[1;32m   1578\u001b[0m     \u001b[0m__bool__\u001b[0m \u001b[0;34m=\u001b[0m \u001b[0m__nonzero__\u001b[0m\u001b[0;34m\u001b[0m\u001b[0;34m\u001b[0m\u001b[0m\n",
      "\u001b[0;31mValueError\u001b[0m: ('The truth value of a Series is ambiguous. Use a.empty, a.bool(), a.item(), a.any() or a.all().', 'occurred at index danger_above_treeline')"
     ]
    }
   ],
   "source": [
    "january[['danger_above_treeline', 'danger_below_treeline','danger_near_treeline']] = january[['danger_above_treeline', 'danger_below_treeline','danger_near_treeline']] "
   ]
  },
  {
   "cell_type": "code",
   "execution_count": null,
   "metadata": {},
   "outputs": [],
   "source": [
    "january['danger_above_treeline'].map(convert_avy_str_to_num)"
   ]
  },
  {
   "cell_type": "code",
   "execution_count": 221,
   "metadata": {},
   "outputs": [
    {
     "data": {
      "text/html": [
       "<div>\n",
       "<style scoped>\n",
       "    .dataframe tbody tr th:only-of-type {\n",
       "        vertical-align: middle;\n",
       "    }\n",
       "\n",
       "    .dataframe tbody tr th {\n",
       "        vertical-align: top;\n",
       "    }\n",
       "\n",
       "    .dataframe thead th {\n",
       "        text-align: right;\n",
       "    }\n",
       "</style>\n",
       "<table border=\"1\" class=\"dataframe\">\n",
       "  <thead>\n",
       "    <tr style=\"text-align: right;\">\n",
       "      <th></th>\n",
       "      <th>Battery Voltage (v)</th>\n",
       "      <th>Temperature (deg F)</th>\n",
       "      <th>Wind Speed Minimum (mph)</th>\n",
       "      <th>Wind Speed Average (mph)</th>\n",
       "      <th>Wind Speed Maximum (mph)</th>\n",
       "      <th>Wind Direction (deg.)</th>\n",
       "      <th>24 Hour Snow (in)</th>\n",
       "      <th>Total Snow Depth (in)</th>\n",
       "    </tr>\n",
       "  </thead>\n",
       "  <tbody>\n",
       "    <tr>\n",
       "      <th>count</th>\n",
       "      <td>768.000000</td>\n",
       "      <td>768.000000</td>\n",
       "      <td>768.000000</td>\n",
       "      <td>768.000000</td>\n",
       "      <td>768.000000</td>\n",
       "      <td>768.000000</td>\n",
       "      <td>768.000000</td>\n",
       "      <td>768.000000</td>\n",
       "    </tr>\n",
       "    <tr>\n",
       "      <th>mean</th>\n",
       "      <td>12.747096</td>\n",
       "      <td>27.758099</td>\n",
       "      <td>2.193491</td>\n",
       "      <td>6.345531</td>\n",
       "      <td>12.237727</td>\n",
       "      <td>180.079362</td>\n",
       "      <td>1.638430</td>\n",
       "      <td>83.524857</td>\n",
       "    </tr>\n",
       "    <tr>\n",
       "      <th>std</th>\n",
       "      <td>0.226518</td>\n",
       "      <td>6.491934</td>\n",
       "      <td>2.780953</td>\n",
       "      <td>4.162471</td>\n",
       "      <td>6.816254</td>\n",
       "      <td>93.162920</td>\n",
       "      <td>4.578625</td>\n",
       "      <td>7.632468</td>\n",
       "    </tr>\n",
       "    <tr>\n",
       "      <th>min</th>\n",
       "      <td>12.530000</td>\n",
       "      <td>15.450000</td>\n",
       "      <td>0.000000</td>\n",
       "      <td>0.000000</td>\n",
       "      <td>0.000000</td>\n",
       "      <td>0.000000</td>\n",
       "      <td>0.071000</td>\n",
       "      <td>68.590000</td>\n",
       "    </tr>\n",
       "    <tr>\n",
       "      <th>25%</th>\n",
       "      <td>12.610000</td>\n",
       "      <td>23.130000</td>\n",
       "      <td>0.000000</td>\n",
       "      <td>3.547250</td>\n",
       "      <td>8.062500</td>\n",
       "      <td>96.850000</td>\n",
       "      <td>0.341000</td>\n",
       "      <td>79.240000</td>\n",
       "    </tr>\n",
       "    <tr>\n",
       "      <th>50%</th>\n",
       "      <td>12.680000</td>\n",
       "      <td>27.290000</td>\n",
       "      <td>1.085000</td>\n",
       "      <td>5.412500</td>\n",
       "      <td>11.030000</td>\n",
       "      <td>186.750000</td>\n",
       "      <td>0.459000</td>\n",
       "      <td>83.800000</td>\n",
       "    </tr>\n",
       "    <tr>\n",
       "      <th>75%</th>\n",
       "      <td>12.790000</td>\n",
       "      <td>30.797500</td>\n",
       "      <td>3.595000</td>\n",
       "      <td>8.305000</td>\n",
       "      <td>14.585000</td>\n",
       "      <td>270.600000</td>\n",
       "      <td>1.259750</td>\n",
       "      <td>88.300000</td>\n",
       "    </tr>\n",
       "    <tr>\n",
       "      <th>max</th>\n",
       "      <td>13.610000</td>\n",
       "      <td>46.230000</td>\n",
       "      <td>17.820000</td>\n",
       "      <td>26.230000</td>\n",
       "      <td>51.990000</td>\n",
       "      <td>334.100000</td>\n",
       "      <td>46.760000</td>\n",
       "      <td>204.500000</td>\n",
       "    </tr>\n",
       "  </tbody>\n",
       "</table>\n",
       "</div>"
      ],
      "text/plain": [
       "       Battery Voltage (v)  Temperature (deg F)  Wind Speed Minimum (mph)  \\\n",
       "count           768.000000           768.000000                768.000000   \n",
       "mean             12.747096            27.758099                  2.193491   \n",
       "std               0.226518             6.491934                  2.780953   \n",
       "min              12.530000            15.450000                  0.000000   \n",
       "25%              12.610000            23.130000                  0.000000   \n",
       "50%              12.680000            27.290000                  1.085000   \n",
       "75%              12.790000            30.797500                  3.595000   \n",
       "max              13.610000            46.230000                 17.820000   \n",
       "\n",
       "       Wind Speed Average (mph)  Wind Speed Maximum (mph)  \\\n",
       "count                768.000000                768.000000   \n",
       "mean                   6.345531                 12.237727   \n",
       "std                    4.162471                  6.816254   \n",
       "min                    0.000000                  0.000000   \n",
       "25%                    3.547250                  8.062500   \n",
       "50%                    5.412500                 11.030000   \n",
       "75%                    8.305000                 14.585000   \n",
       "max                   26.230000                 51.990000   \n",
       "\n",
       "       Wind Direction (deg.)  24 Hour Snow (in)  Total Snow Depth (in)  \n",
       "count             768.000000         768.000000             768.000000  \n",
       "mean              180.079362           1.638430              83.524857  \n",
       "std                93.162920           4.578625               7.632468  \n",
       "min                 0.000000           0.071000              68.590000  \n",
       "25%                96.850000           0.341000              79.240000  \n",
       "50%               186.750000           0.459000              83.800000  \n",
       "75%               270.600000           1.259750              88.300000  \n",
       "max               334.100000          46.760000             204.500000  "
      ]
     },
     "execution_count": 221,
     "metadata": {},
     "output_type": "execute_result"
    }
   ],
   "source": [
    "january.describe() \n",
    "# no negative values, looks like we can just train test split"
   ]
  },
  {
   "cell_type": "code",
   "execution_count": null,
   "metadata": {},
   "outputs": [],
   "source": []
  }
 ],
 "metadata": {
  "kernelspec": {
   "display_name": "learn-env",
   "language": "python",
   "name": "learn-env"
  },
  "language_info": {
   "codemirror_mode": {
    "name": "ipython",
    "version": 3
   },
   "file_extension": ".py",
   "mimetype": "text/x-python",
   "name": "python",
   "nbconvert_exporter": "python",
   "pygments_lexer": "ipython3",
   "version": "3.7.1"
  }
 },
 "nbformat": 4,
 "nbformat_minor": 2
}
